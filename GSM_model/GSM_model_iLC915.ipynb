{
 "cells": [
  {
   "cell_type": "code",
   "execution_count": 54,
   "id": "ddbd667e",
   "metadata": {},
   "outputs": [],
   "source": [
    "# load model\n",
    "\n",
    "import cobra\n",
    "import numpy as np\n",
    "import matplotlib.pyplot as plt\n",
    "\n",
    "# model originally from:\n",
    "# Caspeta L, Shoaie S, Agren R, et al (2012) Genome-scale metabolic reconstructions of Pichia stipitis and Pichia pastoris and in silico evaluation of their potentials. BMC Syst Biol 6:24. doi: 10.1186/1752-0509-6-24.\n",
    "\n",
    "# model with heterologous protein production was used as starting point for our simulation:\n",
    "# Irani ZA, Kerkhoven EJ, Shojaosadati SA, Nielsen J (2016) Genome-scale metabolic model of Pichia pastoris with native and humanized glycosylation of recombinant proteins. Biotechnol Bioeng 113:961–969. doi: 10.1002/bit.25863.\n",
    "\n",
    "# it is common for these models to give some warnings when uploaded for the first time, so in order to avoid them, it is just required to rewrite the model as follows\n",
    "\n",
    "#pheast = cobra.io.read_sbml_model(\"./data/iLC915.xml\")\n",
    "#cobra.io.write_sbml_model(pheast,\"./data/iLC915_rewritten.xml\")\n",
    "\n",
    "pheast = cobra.io.read_sbml_model(\"./data/iLC915_rewritten.xml\")"
   ]
  },
  {
   "cell_type": "code",
   "execution_count": 56,
   "id": "d282bfd4",
   "metadata": {},
   "outputs": [
    {
     "name": "stderr",
     "output_type": "stream",
     "text": [
      "C:\\Users\\s202562\\AppData\\Roaming\\Python\\Python37\\site-packages\\cobra\\core\\group.py:107: UserWarning: need to pass in a list\n",
      "  warn(\"need to pass in a list\")\n"
     ]
    }
   ],
   "source": [
    "# first remove the heterologous protein production reactions from the paper\n",
    "\n",
    "pheast.remove_reactions([pheast.reactions.r1337,\n",
    "                        pheast.reactions.r1338,\n",
    "                        pheast.reactions.r1100,\n",
    "                        pheast.reactions.r1101,\n",
    "                        pheast.reactions.r1102,\n",
    "                        pheast.reactions.r1103,\n",
    "                        pheast.reactions.EX_m1365])\n",
    "\n",
    "pheast.remove_metabolites([pheast.metabolites.m1360,\n",
    "                          pheast.metabolites.m1361,\n",
    "                          pheast.metabolites.m1362,\n",
    "                          pheast.metabolites.m1363,\n",
    "                          pheast.metabolites.m1364,\n",
    "                          pheast.metabolites.m1365])"
   ]
  },
  {
   "cell_type": "code",
   "execution_count": 57,
   "id": "83c4c3f5",
   "metadata": {
    "scrolled": true
   },
   "outputs": [
    {
     "data": {
      "text/html": [
       "<h3>Objective</h3><p>1.0 r1339 = 0.08029587589529992</p><h4>Uptake</h4><table border=\"1\" class=\"dataframe\">\n",
       "  <thead>\n",
       "    <tr style=\"text-align: right;\">\n",
       "      <th>Metabolite</th>\n",
       "      <th>Reaction</th>\n",
       "      <th>Flux</th>\n",
       "      <th>C-Number</th>\n",
       "      <th>C-Flux</th>\n",
       "    </tr>\n",
       "  </thead>\n",
       "  <tbody>\n",
       "    <tr>\n",
       "      <td>m1293</td>\n",
       "      <td>EX_m1293</td>\n",
       "      <td>1</td>\n",
       "      <td>0</td>\n",
       "      <td>0.00%</td>\n",
       "    </tr>\n",
       "    <tr>\n",
       "      <td>m1298</td>\n",
       "      <td>EX_m1298</td>\n",
       "      <td>0.7968</td>\n",
       "      <td>0</td>\n",
       "      <td>0.00%</td>\n",
       "    </tr>\n",
       "    <tr>\n",
       "      <td>m1300</td>\n",
       "      <td>EX_m1300</td>\n",
       "      <td>0.4628</td>\n",
       "      <td>0</td>\n",
       "      <td>0.00%</td>\n",
       "    </tr>\n",
       "    <tr>\n",
       "      <td>m1301</td>\n",
       "      <td>EX_m1301</td>\n",
       "      <td>0.03308</td>\n",
       "      <td>0</td>\n",
       "      <td>0.00%</td>\n",
       "    </tr>\n",
       "    <tr>\n",
       "      <td>m1304</td>\n",
       "      <td>EX_m1304</td>\n",
       "      <td>0.00246</td>\n",
       "      <td>0</td>\n",
       "      <td>0.00%</td>\n",
       "    </tr>\n",
       "  </tbody>\n",
       "</table><h4>Secretion</h4><table border=\"1\" class=\"dataframe\">\n",
       "  <thead>\n",
       "    <tr style=\"text-align: right;\">\n",
       "      <th>Metabolite</th>\n",
       "      <th>Reaction</th>\n",
       "      <th>Flux</th>\n",
       "      <th>C-Number</th>\n",
       "      <th>C-Flux</th>\n",
       "    </tr>\n",
       "  </thead>\n",
       "  <tbody>\n",
       "    <tr>\n",
       "      <td>m1287</td>\n",
       "      <td>EX_m1287</td>\n",
       "      <td>-0.0803</td>\n",
       "      <td>0</td>\n",
       "      <td>0.00%</td>\n",
       "    </tr>\n",
       "    <tr>\n",
       "      <td>m1291</td>\n",
       "      <td>EX_m1291</td>\n",
       "      <td>-1.597</td>\n",
       "      <td>0</td>\n",
       "      <td>0.00%</td>\n",
       "    </tr>\n",
       "    <tr>\n",
       "      <td>m1349</td>\n",
       "      <td>EX_m1349</td>\n",
       "      <td>-3.432</td>\n",
       "      <td>0</td>\n",
       "      <td>0.00%</td>\n",
       "    </tr>\n",
       "  </tbody>\n",
       "</table>"
      ],
      "text/plain": [
       "<cobra.summary.model_summary.ModelSummary at 0x216c690af88>"
      ]
     },
     "execution_count": 57,
     "metadata": {},
     "output_type": "execute_result"
    }
   ],
   "source": [
    "# run the model/optimizes for cell growth\n",
    "\n",
    "pheast.summary()"
   ]
  },
  {
   "cell_type": "code",
   "execution_count": 108,
   "id": "4def7af4",
   "metadata": {},
   "outputs": [
    {
     "data": {
      "text/plain": [
       "frozenset({<Reaction EX_m1293 at 0x7fef9948da30>,\n",
       "           <Reaction r1145 at 0x7fef90a7adc0>})"
      ]
     },
     "execution_count": 108,
     "metadata": {},
     "output_type": "execute_result"
    }
   ],
   "source": [
    "# find glucose reactions (it can be seen that it is the carbon source being taken up at 1 mmol gDW^-1 h^-1)\n",
    "\n",
    "pheast.metabolites.m1293.reactions"
   ]
  },
  {
   "cell_type": "code",
   "execution_count": 109,
   "id": "dcbedbb7",
   "metadata": {},
   "outputs": [
    {
     "data": {
      "text/html": [
       "\n",
       "        <table>\n",
       "            <tr>\n",
       "                <td><strong>Reaction identifier</strong></td><td>EX_m1293</td>\n",
       "            </tr><tr>\n",
       "                <td><strong>Name</strong></td><td>EX_m1293</td>\n",
       "            </tr><tr>\n",
       "                <td><strong>Memory address</strong></td>\n",
       "                <td>0x07fef9948da30</td>\n",
       "            </tr><tr>\n",
       "                <td><strong>Stoichiometry</strong></td>\n",
       "                <td>\n",
       "                    <p style='text-align:right'>m1293 <=></p>\n",
       "                    <p style='text-align:right'>alpha-D-Glucose_C6H12O6 <=></p>\n",
       "                </td>\n",
       "            </tr><tr>\n",
       "                <td><strong>GPR</strong></td><td></td>\n",
       "            </tr><tr>\n",
       "                <td><strong>Lower bound</strong></td><td>-1000.0</td>\n",
       "            </tr><tr>\n",
       "                <td><strong>Upper bound</strong></td><td>1000.0</td>\n",
       "            </tr>\n",
       "        </table>\n",
       "        "
      ],
      "text/plain": [
       "<Reaction EX_m1293 at 0x7fef9948da30>"
      ]
     },
     "execution_count": 109,
     "metadata": {},
     "output_type": "execute_result"
    }
   ],
   "source": [
    "# exchange reaction in general\n",
    "\n",
    "pheast.reactions.EX_m1293\n"
   ]
  },
  {
   "cell_type": "code",
   "execution_count": 110,
   "id": "920697ca",
   "metadata": {},
   "outputs": [
    {
     "data": {
      "text/html": [
       "\n",
       "        <table>\n",
       "            <tr>\n",
       "                <td><strong>Reaction identifier</strong></td><td>r1145</td>\n",
       "            </tr><tr>\n",
       "                <td><strong>Name</strong></td><td>Uptake of alpha-D-Glucose</td>\n",
       "            </tr><tr>\n",
       "                <td><strong>Memory address</strong></td>\n",
       "                <td>0x07fef90a7adc0</td>\n",
       "            </tr><tr>\n",
       "                <td><strong>Stoichiometry</strong></td>\n",
       "                <td>\n",
       "                    <p style='text-align:right'>m1293 --> m2</p>\n",
       "                    <p style='text-align:right'>alpha-D-Glucose_C6H12O6 --> alpha-D-Glucose_C6H12O6</p>\n",
       "                </td>\n",
       "            </tr><tr>\n",
       "                <td><strong>GPR</strong></td><td></td>\n",
       "            </tr><tr>\n",
       "                <td><strong>Lower bound</strong></td><td>0.0</td>\n",
       "            </tr><tr>\n",
       "                <td><strong>Upper bound</strong></td><td>1.0</td>\n",
       "            </tr>\n",
       "        </table>\n",
       "        "
      ],
      "text/plain": [
       "<Reaction r1145 at 0x7fef90a7adc0>"
      ]
     },
     "execution_count": 110,
     "metadata": {},
     "output_type": "execute_result"
    }
   ],
   "source": [
    "# this reaction seems to be the uptake from medium (it is defined in this model as boundary metabolites -> extracellular --> cytosolic\n",
    "# and we have to define the medium boudary at reaction from boundary to extracellular)\n",
    "\n",
    "pheast.reactions.r1145\n"
   ]
  },
  {
   "cell_type": "code",
   "execution_count": 111,
   "id": "e9c99b48",
   "metadata": {
    "scrolled": true
   },
   "outputs": [
    {
     "data": {
      "text/plain": [
       "[<Reaction r1158 at 0x7fef90a0e940>]"
      ]
     },
     "execution_count": 111,
     "metadata": {},
     "output_type": "execute_result"
    }
   ],
   "source": [
    "# look for methanol\n",
    "\n",
    "pheast.reactions.query(\"methanol\", \"name\")"
   ]
  },
  {
   "cell_type": "code",
   "execution_count": 112,
   "id": "0b0eb727",
   "metadata": {},
   "outputs": [
    {
     "data": {
      "text/html": [
       "\n",
       "        <table>\n",
       "            <tr>\n",
       "                <td><strong>Reaction identifier</strong></td><td>r1158</td>\n",
       "            </tr><tr>\n",
       "                <td><strong>Name</strong></td><td>uptake of methanol</td>\n",
       "            </tr><tr>\n",
       "                <td><strong>Memory address</strong></td>\n",
       "                <td>0x07fef90a0e940</td>\n",
       "            </tr><tr>\n",
       "                <td><strong>Stoichiometry</strong></td>\n",
       "                <td>\n",
       "                    <p style='text-align:right'>m1297 --> m1219</p>\n",
       "                    <p style='text-align:right'>Methanol_CH4O --> Methanol_CH4O</p>\n",
       "                </td>\n",
       "            </tr><tr>\n",
       "                <td><strong>GPR</strong></td><td></td>\n",
       "            </tr><tr>\n",
       "                <td><strong>Lower bound</strong></td><td>0.0</td>\n",
       "            </tr><tr>\n",
       "                <td><strong>Upper bound</strong></td><td>0.0</td>\n",
       "            </tr>\n",
       "        </table>\n",
       "        "
      ],
      "text/plain": [
       "<Reaction r1158 at 0x7fef90a0e940>"
      ]
     },
     "execution_count": 112,
     "metadata": {},
     "output_type": "execute_result"
    }
   ],
   "source": [
    "# this is methanol uptake\n",
    "\n",
    "pheast.reactions.r1158"
   ]
  },
  {
   "cell_type": "code",
   "execution_count": 58,
   "id": "d611590b",
   "metadata": {},
   "outputs": [],
   "source": [
    "pheast.reactions.r1145.bounds = 0, 0  # no glucose \n",
    "pheast.reactions.r1158.bounds = 0, 1  # methanol at 1 mmol gDW^-1 h^-1"
   ]
  },
  {
   "cell_type": "code",
   "execution_count": 114,
   "id": "be4c2cb2",
   "metadata": {},
   "outputs": [
    {
     "data": {
      "text/html": [
       "<h3>Objective</h3><p>1.0 r1339 = 0.011453366468220413</p><h4>Uptake</h4><table border=\"1\" class=\"dataframe\">\n",
       "  <thead>\n",
       "    <tr style=\"text-align: right;\">\n",
       "      <th>Metabolite</th>\n",
       "      <th>Reaction</th>\n",
       "      <th>Flux</th>\n",
       "      <th>C-Number</th>\n",
       "      <th>C-Flux</th>\n",
       "    </tr>\n",
       "  </thead>\n",
       "  <tbody>\n",
       "    <tr>\n",
       "      <td>m1297</td>\n",
       "      <td>EX_m1297</td>\n",
       "      <td>1</td>\n",
       "      <td>0</td>\n",
       "      <td>0.00%</td>\n",
       "    </tr>\n",
       "    <tr>\n",
       "      <td>m1298</td>\n",
       "      <td>EX_m1298</td>\n",
       "      <td>1.258</td>\n",
       "      <td>0</td>\n",
       "      <td>0.00%</td>\n",
       "    </tr>\n",
       "    <tr>\n",
       "      <td>m1300</td>\n",
       "      <td>EX_m1300</td>\n",
       "      <td>0.06602</td>\n",
       "      <td>0</td>\n",
       "      <td>0.00%</td>\n",
       "    </tr>\n",
       "    <tr>\n",
       "      <td>m1301</td>\n",
       "      <td>EX_m1301</td>\n",
       "      <td>0.004719</td>\n",
       "      <td>0</td>\n",
       "      <td>0.00%</td>\n",
       "    </tr>\n",
       "    <tr>\n",
       "      <td>m1304</td>\n",
       "      <td>EX_m1304</td>\n",
       "      <td>0.0003508</td>\n",
       "      <td>0</td>\n",
       "      <td>0.00%</td>\n",
       "    </tr>\n",
       "  </tbody>\n",
       "</table><h4>Secretion</h4><table border=\"1\" class=\"dataframe\">\n",
       "  <thead>\n",
       "    <tr style=\"text-align: right;\">\n",
       "      <th>Metabolite</th>\n",
       "      <th>Reaction</th>\n",
       "      <th>Flux</th>\n",
       "      <th>C-Number</th>\n",
       "      <th>C-Flux</th>\n",
       "    </tr>\n",
       "  </thead>\n",
       "  <tbody>\n",
       "    <tr>\n",
       "      <td>m1287</td>\n",
       "      <td>EX_m1287</td>\n",
       "      <td>-0.01145</td>\n",
       "      <td>0</td>\n",
       "      <td>0.00%</td>\n",
       "    </tr>\n",
       "    <tr>\n",
       "      <td>m1291</td>\n",
       "      <td>EX_m1291</td>\n",
       "      <td>-0.372</td>\n",
       "      <td>0</td>\n",
       "      <td>0.00%</td>\n",
       "    </tr>\n",
       "    <tr>\n",
       "      <td>m1349</td>\n",
       "      <td>EX_m1349</td>\n",
       "      <td>-1.643</td>\n",
       "      <td>0</td>\n",
       "      <td>0.00%</td>\n",
       "    </tr>\n",
       "  </tbody>\n",
       "</table>"
      ],
      "text/plain": [
       "<cobra.summary.model_summary.ModelSummary at 0x7fef991b5c10>"
      ]
     },
     "execution_count": 114,
     "metadata": {},
     "output_type": "execute_result"
    }
   ],
   "source": [
    "# it grows on methanol\n",
    "pheast.summary()"
   ]
  },
  {
   "cell_type": "code",
   "execution_count": 115,
   "id": "5c806a96",
   "metadata": {},
   "outputs": [
    {
     "data": {
      "text/plain": [
       "[]"
      ]
     },
     "execution_count": 115,
     "metadata": {},
     "output_type": "execute_result"
    }
   ],
   "source": [
    "# no methane yet\n",
    "\n",
    "pheast.metabolites.query(\"methane\", \"name\")"
   ]
  },
  {
   "cell_type": "code",
   "execution_count": 59,
   "id": "335cc809",
   "metadata": {},
   "outputs": [],
   "source": [
    "# we add methane\n",
    "\n",
    "b_methane = cobra.Metabolite(\n",
    "    'b_methane',\n",
    "    formula='CH4',\n",
    "    name='boundary_methane',\n",
    "    compartment='C_b')\n",
    "e_methane = cobra.Metabolite(\n",
    "    'e_methane',\n",
    "    formula='CH4',\n",
    "    name='extracellular_methane',\n",
    "    compartment='C_e')\n",
    "\n",
    "pheast.add_metabolites([b_methane,e_methane])"
   ]
  },
  {
   "cell_type": "code",
   "execution_count": 60,
   "id": "606432d9",
   "metadata": {},
   "outputs": [],
   "source": [
    "# make reactions\n",
    "\n",
    "EX_methane = cobra.Reaction(\n",
    "            'EX_methane',\n",
    "            name = 'Exchange Reaction Methane',\n",
    "            lower_bound = -1000,\n",
    "            upper_bound = 1000,\n",
    "        )\n",
    "\n",
    "uptake_methane = cobra.Reaction(\n",
    "            'uptake_methane',\n",
    "            name = 'Methane Uptake from Environent',\n",
    "            lower_bound = 0,\n",
    "            upper_bound = 1.0 # for now we allow a max uptake of methane of 1 mmol gDW^-1 h^-1\n",
    "        )\n",
    "\n",
    "methane_oxidation = cobra.Reaction(\n",
    "            'methane_oxidation',\n",
    "            name = 'methane oxidation',\n",
    "            lower_bound = 0.0,\n",
    "            upper_bound = 1000.0\n",
    "    )\n",
    "\n",
    "# add involved metabolites and stoichiometry\n",
    "\n",
    "EX_methane.add_metabolites(\n",
    "    {\n",
    "        pheast.metabolites.b_methane: -1.0,\n",
    "    }\n",
    ")\n",
    "\n",
    "uptake_methane.add_metabolites(\n",
    "    {\n",
    "        pheast.metabolites.b_methane: -1.0,\n",
    "        pheast.metabolites.e_methane: 1.0\n",
    "    }\n",
    ")\n",
    "\n",
    "# pMMO reaction without redox coenzyme (in literature mostly ubiquinol is mentioned but neither is there\n",
    "# cytosolic ubiqunol in this model (only in mitochondria), nor does the literature agree on what its role may be exactly )\n",
    "\n",
    "methane_oxidation.add_metabolites(\n",
    "    {\n",
    "        pheast.metabolites.e_methane: -1.0,\n",
    "        pheast.metabolites.m1232: -1.0,\n",
    "        pheast.metabolites.m1215: 1.0,\n",
    "        pheast.metabolites.m139: 1.0,\n",
    "    }\n",
    ")\n",
    "\n",
    "# add gene dependency for pMMO\n",
    "\n",
    "methane_oxidation.gene_reaction_rule = 'AOX_pMMO'\n",
    "\n",
    "# add reactions to pheast\n",
    "\n",
    "pheast.add_reactions([EX_methane,uptake_methane,methane_oxidation])"
   ]
  },
  {
   "cell_type": "code",
   "execution_count": 61,
   "id": "e5d74f7c",
   "metadata": {},
   "outputs": [],
   "source": [
    "# set methanol uptake to 0 and try if it grows on methane\n",
    "\n",
    "pheast.reactions.r1158.bounds = 0, 0"
   ]
  },
  {
   "cell_type": "code",
   "execution_count": 62,
   "id": "5c04d349",
   "metadata": {},
   "outputs": [
    {
     "data": {
      "text/html": [
       "<h3>Objective</h3><p>1.0 r1339 = 0.005726683234110115</p><h4>Uptake</h4><table border=\"1\" class=\"dataframe\">\n",
       "  <thead>\n",
       "    <tr style=\"text-align: right;\">\n",
       "      <th>Metabolite</th>\n",
       "      <th>Reaction</th>\n",
       "      <th>Flux</th>\n",
       "      <th>C-Number</th>\n",
       "      <th>C-Flux</th>\n",
       "    </tr>\n",
       "  </thead>\n",
       "  <tbody>\n",
       "    <tr>\n",
       "      <td>m1298</td>\n",
       "      <td>EX_m1298</td>\n",
       "      <td>1.815</td>\n",
       "      <td>0</td>\n",
       "      <td>0.00%</td>\n",
       "    </tr>\n",
       "    <tr>\n",
       "      <td>m1300</td>\n",
       "      <td>EX_m1300</td>\n",
       "      <td>0.03301</td>\n",
       "      <td>0</td>\n",
       "      <td>0.00%</td>\n",
       "    </tr>\n",
       "    <tr>\n",
       "      <td>m1301</td>\n",
       "      <td>EX_m1301</td>\n",
       "      <td>0.002359</td>\n",
       "      <td>0</td>\n",
       "      <td>0.00%</td>\n",
       "    </tr>\n",
       "    <tr>\n",
       "      <td>m1304</td>\n",
       "      <td>EX_m1304</td>\n",
       "      <td>0.0001754</td>\n",
       "      <td>0</td>\n",
       "      <td>0.00%</td>\n",
       "    </tr>\n",
       "    <tr>\n",
       "      <td>b_methane</td>\n",
       "      <td>EX_methane</td>\n",
       "      <td>1</td>\n",
       "      <td>1</td>\n",
       "      <td>100.00%</td>\n",
       "    </tr>\n",
       "  </tbody>\n",
       "</table><h4>Secretion</h4><table border=\"1\" class=\"dataframe\">\n",
       "  <thead>\n",
       "    <tr style=\"text-align: right;\">\n",
       "      <th>Metabolite</th>\n",
       "      <th>Reaction</th>\n",
       "      <th>Flux</th>\n",
       "      <th>C-Number</th>\n",
       "      <th>C-Flux</th>\n",
       "    </tr>\n",
       "  </thead>\n",
       "  <tbody>\n",
       "    <tr>\n",
       "      <td>m1287</td>\n",
       "      <td>EX_m1287</td>\n",
       "      <td>-0.005727</td>\n",
       "      <td>0</td>\n",
       "      <td>0.00%</td>\n",
       "    </tr>\n",
       "    <tr>\n",
       "      <td>m1291</td>\n",
       "      <td>EX_m1291</td>\n",
       "      <td>-0.686</td>\n",
       "      <td>0</td>\n",
       "      <td>0.00%</td>\n",
       "    </tr>\n",
       "    <tr>\n",
       "      <td>m1349</td>\n",
       "      <td>EX_m1349</td>\n",
       "      <td>-2.194</td>\n",
       "      <td>0</td>\n",
       "      <td>0.00%</td>\n",
       "    </tr>\n",
       "  </tbody>\n",
       "</table>"
      ],
      "text/plain": [
       "<cobra.summary.model_summary.ModelSummary at 0x216c6980c48>"
      ]
     },
     "execution_count": 62,
     "metadata": {},
     "output_type": "execute_result"
    }
   ],
   "source": [
    "# it grows on methane\n",
    "\n",
    "pheast.summary()"
   ]
  },
  {
   "cell_type": "code",
   "execution_count": 120,
   "id": "d0133a6a",
   "metadata": {
    "scrolled": true
   },
   "outputs": [
    {
     "data": {
      "text/plain": [
       "[<Metabolite m118 at 0x7fef92e62af0>,\n",
       " <Metabolite m139 at 0x7fef92e62ee0>,\n",
       " <Metabolite m140 at 0x7fef92e62f10>,\n",
       " <Metabolite m713 at 0x7fef9107ea60>,\n",
       " <Metabolite m1179 at 0x7fef911032e0>]"
      ]
     },
     "execution_count": 120,
     "metadata": {},
     "output_type": "execute_result"
    }
   ],
   "source": [
    "# we will now introduce our heterologous protein: leghemoglobin\n",
    "# we look at the detoxification pathway as there is a heme group in both catalase and hemoglobin which could\n",
    "# influence our system in general and reaction we introduce for production of (leg)hemoglobin\n",
    "\n",
    "pheast.metabolites.query(\"H2O2\",\"name\")"
   ]
  },
  {
   "cell_type": "code",
   "execution_count": 121,
   "id": "dc84e8b6",
   "metadata": {},
   "outputs": [
    {
     "data": {
      "text/html": [
       "\n",
       "        <table>\n",
       "            <tr>\n",
       "                <td><strong>Metabolite identifier</strong></td><td>m713</td>\n",
       "            </tr><tr>\n",
       "                <td><strong>Name</strong></td><td>H2O2_H2O2</td>\n",
       "            </tr><tr>\n",
       "                <td><strong>Memory address</strong></td>\n",
       "                <td>0x07fef9107ea60</td>\n",
       "            </tr><tr>\n",
       "                <td><strong>Formula</strong></td><td></td>\n",
       "            </tr><tr>\n",
       "                <td><strong>Compartment</strong></td><td>C_p</td>\n",
       "            </tr><tr>\n",
       "                <td><strong>In 16 reaction(s)</strong></td><td>\n",
       "                    r218, r134, r224, r215, r217, r225, r91, r226, r216, r1088, r219, r221, r223, r220, r222, r99</td>\n",
       "            </tr>\n",
       "        </table>"
      ],
      "text/plain": [
       "<Metabolite m713 at 0x7fef9107ea60>"
      ]
     },
     "execution_count": 121,
     "metadata": {},
     "output_type": "execute_result"
    }
   ],
   "source": [
    "# this is the peroxisomal H2O2\n",
    "\n",
    "pheast.metabolites.m713"
   ]
  },
  {
   "cell_type": "code",
   "execution_count": 122,
   "id": "31433fad",
   "metadata": {},
   "outputs": [
    {
     "data": {
      "text/html": [
       "\n",
       "        <table>\n",
       "            <tr>\n",
       "                <td><strong>Reaction identifier</strong></td><td>r99</td>\n",
       "            </tr><tr>\n",
       "                <td><strong>Name</strong></td><td>hydrogen-peroxide:hydrogen-peroxide oxidoreductase</td>\n",
       "            </tr><tr>\n",
       "                <td><strong>Memory address</strong></td>\n",
       "                <td>0x07fef90b65fd0</td>\n",
       "            </tr><tr>\n",
       "                <td><strong>Stoichiometry</strong></td>\n",
       "                <td>\n",
       "                    <p style='text-align:right'>2.0 m713 --> 2.0 m65</p>\n",
       "                    <p style='text-align:right'>2.0 H2O2_H2O2 --> 2.0 H2O_H2O</p>\n",
       "                </td>\n",
       "            </tr><tr>\n",
       "                <td><strong>GPR</strong></td><td>PAS_chr2-2_0131</td>\n",
       "            </tr><tr>\n",
       "                <td><strong>Lower bound</strong></td><td>0.0</td>\n",
       "            </tr><tr>\n",
       "                <td><strong>Upper bound</strong></td><td>1000.0</td>\n",
       "            </tr>\n",
       "        </table>\n",
       "        "
      ],
      "text/plain": [
       "<Reaction r99 at 0x7fef90b65fd0>"
      ]
     },
     "execution_count": 122,
     "metadata": {},
     "output_type": "execute_result"
    }
   ],
   "source": [
    "# this is the catalase reaction, heme is not considered\n",
    "\n",
    "pheast.reactions.r99"
   ]
  },
  {
   "cell_type": "code",
   "execution_count": 123,
   "id": "15bd9bfc",
   "metadata": {},
   "outputs": [
    {
     "data": {
      "text/plain": [
       "[<Metabolite m1053 at 0x7fef99406b20>]"
      ]
     },
     "execution_count": 123,
     "metadata": {},
     "output_type": "execute_result"
    }
   ],
   "source": [
    "# we find there is a heme metabolite\n",
    "\n",
    "pheast.metabolites.query(\"heme\",\"name\")"
   ]
  },
  {
   "cell_type": "code",
   "execution_count": 124,
   "id": "5de08d16",
   "metadata": {},
   "outputs": [
    {
     "data": {
      "text/html": [
       "\n",
       "        <table>\n",
       "            <tr>\n",
       "                <td><strong>Metabolite identifier</strong></td><td>m1056</td>\n",
       "            </tr><tr>\n",
       "                <td><strong>Name</strong></td><td>Coproporphyrinogen I_C36H44N4O8</td>\n",
       "            </tr><tr>\n",
       "                <td><strong>Memory address</strong></td>\n",
       "                <td>0x07fef99406bb0</td>\n",
       "            </tr><tr>\n",
       "                <td><strong>Formula</strong></td><td></td>\n",
       "            </tr><tr>\n",
       "                <td><strong>Compartment</strong></td><td>C_c</td>\n",
       "            </tr><tr>\n",
       "                <td><strong>In 1 reaction(s)</strong></td><td>\n",
       "                    r860</td>\n",
       "            </tr>\n",
       "        </table>"
      ],
      "text/plain": [
       "<Metabolite m1056 at 0x7fef99406bb0>"
      ]
     },
     "execution_count": 124,
     "metadata": {},
     "output_type": "execute_result"
    }
   ],
   "source": [
    "# it is siroheme\n",
    "\n",
    "pheast.metabolites.m1056"
   ]
  },
  {
   "cell_type": "code",
   "execution_count": 125,
   "id": "e48fad6d",
   "metadata": {},
   "outputs": [
    {
     "data": {
      "text/html": [
       "\n",
       "        <table>\n",
       "            <tr>\n",
       "                <td><strong>Reaction identifier</strong></td><td>r973</td>\n",
       "            </tr><tr>\n",
       "                <td><strong>Name</strong></td><td>S-Adenosyl-L-methionine:uroporphyrin-III C-methyltransferase</td>\n",
       "            </tr><tr>\n",
       "                <td><strong>Memory address</strong></td>\n",
       "                <td>0x07fef90d42be0</td>\n",
       "            </tr><tr>\n",
       "                <td><strong>Stoichiometry</strong></td>\n",
       "                <td>\n",
       "                    <p style='text-align:right'>m1052 + m564 --> m1053 + 2.0 m16</p>\n",
       "                    <p style='text-align:right'>Sirohydrochlorin_C42H46N4O16 + Fe2+_Fe --> Siroheme_C42H44FeN4O16 + 2.0 H+_H</p>\n",
       "                </td>\n",
       "            </tr><tr>\n",
       "                <td><strong>GPR</strong></td><td>PAS_chr1-4_0222</td>\n",
       "            </tr><tr>\n",
       "                <td><strong>Lower bound</strong></td><td>0.0</td>\n",
       "            </tr><tr>\n",
       "                <td><strong>Upper bound</strong></td><td>1000.0</td>\n",
       "            </tr>\n",
       "        </table>\n",
       "        "
      ],
      "text/plain": [
       "<Reaction r973 at 0x7fef90d42be0>"
      ]
     },
     "execution_count": 125,
     "metadata": {},
     "output_type": "execute_result"
    }
   ],
   "source": [
    "# only involved in this reaction; it is also specifically a species of heme different from the one in catalse\n",
    "# and hemoglobin, so we should not take this one\n",
    "pheast.reactions.r973"
   ]
  },
  {
   "cell_type": "code",
   "execution_count": 126,
   "id": "5ee0f558",
   "metadata": {},
   "outputs": [
    {
     "data": {
      "text/plain": [
       "[<Metabolite m1045 at 0x7fef994069a0>,\n",
       " <Metabolite m1046 at 0x7fef994069d0>,\n",
       " <Metabolite m1047 at 0x7fef99406a00>,\n",
       " <Metabolite m1048 at 0x7fef99406a30>,\n",
       " <Metabolite m1049 at 0x7fef99406a60>,\n",
       " <Metabolite m1055 at 0x7fef99406b80>,\n",
       " <Metabolite m1056 at 0x7fef99406bb0>,\n",
       " <Metabolite m1185 at 0x7fef91103400>]"
      ]
     },
     "execution_count": 126,
     "metadata": {},
     "output_type": "execute_result"
    }
   ],
   "source": [
    "# there are also a bunch of porypherin metabolites which are similar to the hemoglobin\n",
    "\n",
    "pheast.metabolites.query(\"porphyrin\",\"name\")\n",
    "\n",
    "#    A. Díaz, P.C. Loewen, I. Fita, X. Carpena\n",
    "#    Thirty years of heme catalases structural biology\n",
    "#    Arch. Biochem. Biophys., 525 (2012), pp. 102-110\n",
    "\n",
    "# According to the source above C34-heme b is the most abundant, so we could go for that (there are some C34\n",
    "# poryphyrins) and introduce it in the catalase and later hemoglobin reaction but none are in the peroxisome"
   ]
  },
  {
   "cell_type": "code",
   "execution_count": 63,
   "id": "99198c4c",
   "metadata": {},
   "outputs": [],
   "source": [
    "# now we will introduce the heterologous proteins, pMMO and leghemoglobin, with reactions for dna replication,\n",
    "# transcription and translation\n",
    "# as the sequences are long, we calculate the stoichiometry with a script which is on the github repo and imported here\n",
    "# based on the logic behind introduction of heterologous protein production in the paper:\n",
    "# Irani ZA, Kerkhoven EJ, Shojaosadati SA, Nielsen J (2016) Genome-scale metabolic model of Pichia pastoris with native and humanized glycosylation of recombinant proteins. Biotechnol Bioeng 113:961–969. doi: 10.1002/bit.25863.\n",
    "# for that we define the following function\n",
    "\n",
    "import stoichiometry_gsm\n",
    "\n",
    "def add_protein_reaction(model, reaction, lb, ub, seq, seq_type, protein_name):\n",
    "    \n",
    "    stoichiometry = stoichiometry_gsm.get_stoichiometry(seq, seq_type, protein_name)\n",
    "    \n",
    "    reaction = cobra.Reaction(\n",
    "                reaction,\n",
    "                name = reaction,\n",
    "                lower_bound = lb,\n",
    "                upper_bound = ub\n",
    "        )\n",
    "    \n",
    "    for molecule in stoichiometry:\n",
    "        reaction.add_metabolites(\n",
    "            {\n",
    "                getattr(model.metabolites, molecule): stoichiometry[molecule] \n",
    "            }\n",
    "        )\n",
    "    \n",
    "    model.add_reactions([reaction])"
   ]
  },
  {
   "cell_type": "code",
   "execution_count": 64,
   "id": "2c430fb1",
   "metadata": {},
   "outputs": [],
   "source": [
    "# and get the sequences for our two recombinant proteins, pMMO and leghemoglobin. defined before in another file\n",
    "from sequences import *"
   ]
  },
  {
   "cell_type": "code",
   "execution_count": 65,
   "id": "77d43503",
   "metadata": {},
   "outputs": [],
   "source": [
    "# add the metabolites to be produced by these reactions\n",
    "\n",
    "pMMO_DNA = cobra.Metabolite(\n",
    "    'pMMO_DNA',\n",
    "    name='pMMO_DNA',\n",
    "    compartment='C_c')\n",
    "\n",
    "pMMO_RNA = cobra.Metabolite(\n",
    "    'pMMO_RNA',\n",
    "    name='pMMO_RNA',\n",
    "    compartment='C_c')\n",
    "\n",
    "pMMO_AA = cobra.Metabolite(\n",
    "    'pMMO_AA',\n",
    "    name='pMMO_AA',\n",
    "    compartment='C_c')\n",
    "\n",
    "hemo_DNA = cobra.Metabolite(\n",
    "    'hemo_DNA',\n",
    "    name='Hemo_DNA',\n",
    "    compartment='C_c')\n",
    "\n",
    "hemo_RNA = cobra.Metabolite(\n",
    "    'hemo_RNA',\n",
    "    name='Hemo_RNA',\n",
    "    compartment='C_c')\n",
    "\n",
    "hemo_AA = cobra.Metabolite(\n",
    "    'hemo_AA',\n",
    "    name='Leghemoglobin',\n",
    "    compartment='C_c')\n",
    "\n",
    "\n",
    "pheast.add_metabolites([pMMO_DNA,\n",
    "                       pMMO_RNA,\n",
    "                       pMMO_AA,\n",
    "                       hemo_DNA,\n",
    "                       hemo_RNA,\n",
    "                       hemo_AA])"
   ]
  },
  {
   "cell_type": "code",
   "execution_count": 66,
   "id": "5612acee",
   "metadata": {},
   "outputs": [],
   "source": [
    "# make new reactions\n",
    "# !! make sure the protein name is the same as you defined the metabolites, otherwise it will fail\n",
    "add_protein_reaction(pheast, 'pMMO_DNA_reaction', 0, 1000, pMMO_dna_seq, 'dna', 'pMMO')\n",
    "add_protein_reaction(pheast, 'pMMO_RNA_reaction', 0, 1000, pMMO_rna_seq, 'rna', 'pMMO')\n",
    "add_protein_reaction(pheast, 'pMMO_AA_reaction', 0, 1000, pMMO_aa_seq, 'aa', 'pMMO')\n",
    "add_protein_reaction(pheast, 'hemo_DNA_reaction', 0, 1000, hemo_dna_seq, 'dna', 'hemo')\n",
    "add_protein_reaction(pheast, 'hemo_RNA_reaction', 0, 1000, hemo_rna_seq, 'rna', 'hemo')\n",
    "add_protein_reaction(pheast, 'hemo_AA_reaction', 0, 1000, hemo_aa_seq, 'aa', 'hemo')"
   ]
  },
  {
   "cell_type": "code",
   "execution_count": 67,
   "id": "2aab2d29",
   "metadata": {},
   "outputs": [],
   "source": [
    "# also add transport to extracellular and boundary proteins as well as \"Biosynthesis\" reactions and the exchange reaction\n",
    "# this was all done in the paper\n",
    "\n",
    "pMMO_c = cobra.Metabolite(\n",
    "    'pMMO_c',\n",
    "    formula='',\n",
    "    name='pMMO_c',\n",
    "    compartment='C_c')\n",
    "\n",
    "pMMO_e = cobra.Metabolite(\n",
    "    'pMMO_e',\n",
    "    formula='',\n",
    "    name='pMMO_e',\n",
    "    compartment='C_e')\n",
    "\n",
    "pMMO_b = cobra.Metabolite(\n",
    "    'pMMO_b',\n",
    "    formula='',\n",
    "    name='pMMO_b',\n",
    "    compartment='C_b')\n",
    "\n",
    "hemo_c = cobra.Metabolite(\n",
    "    'hemo_c',\n",
    "    formula='',\n",
    "    name='hemo_c',\n",
    "    compartment='C_c')\n",
    "\n",
    "hemo_e = cobra.Metabolite(\n",
    "    'hemo_e',\n",
    "    formula='',\n",
    "    name='hemo_e',\n",
    "    compartment='C_e')\n",
    "\n",
    "hemo_b = cobra.Metabolite(\n",
    "    'hemo_b',\n",
    "    formula='',\n",
    "    name='hemo_b',\n",
    "    compartment='C_b')\n",
    "\n",
    "pheast.add_metabolites([pMMO_c,pMMO_e,pMMO_b,\n",
    "                      hemo_c,hemo_e,hemo_b])\n",
    "\n",
    "\n",
    "pMMO_Biosynthesis = cobra.Reaction(\n",
    "            'pMMO_Biosynthesis',\n",
    "            name = 'pMMO Biosynthesis',\n",
    "            lower_bound = 0.0,\n",
    "            upper_bound = 1000.0\n",
    ")\n",
    "\n",
    "hemo_Biosynthesis = cobra.Reaction(\n",
    "            'hemo_Biosynthesis',\n",
    "            name = 'Leghemoglobin Biosynthesis',\n",
    "            lower_bound = 0.0,\n",
    "            upper_bound = 1000.0\n",
    ")\n",
    "\n",
    "extrac_pMMO = cobra.Reaction(\n",
    "            'c_pMMO_e',\n",
    "            name = 'extracellular transport pMMO',\n",
    "            lower_bound = 0.0,\n",
    "            upper_bound = 1000.0\n",
    ")\n",
    "\n",
    "extrac_Hemo = cobra.Reaction(\n",
    "            'c_Hemo_e',\n",
    "            name = 'extracellular transport Leghemoglobin',\n",
    "            lower_bound = 0.0,\n",
    "            upper_bound = 1000.0\n",
    ")\n",
    "\n",
    "Take_Out_Hemo = cobra.Reaction(\n",
    "            'e_Hemo_b',\n",
    "            name = 'Take_Out_Hemo',\n",
    "            lower_bound = 0.0,\n",
    "            upper_bound = 1000.0\n",
    ")\n",
    "\n",
    "Take_Out_pMMO = cobra.Reaction(\n",
    "            'e_pMMO_b',\n",
    "            name = 'Take_Out_pMMO',\n",
    "            lower_bound = 0.0,\n",
    "            upper_bound = 1000.0\n",
    ")\n",
    "\n",
    "EX_hemo = cobra.Reaction(\n",
    "            'EX_hemo',\n",
    "            name = 'Leghemoglobin exchange reaction',\n",
    "            lower_bound = -1000.0,\n",
    "            upper_bound = 1000.0\n",
    ")\n",
    "\n",
    "EX_pMMO = cobra.Reaction(\n",
    "            'EX_pMMO',\n",
    "            name = 'pMMO exchange reaction',\n",
    "            lower_bound = -1000.0,\n",
    "            upper_bound = 1000.0\n",
    ")\n",
    "\n",
    "hemo_Biosynthesis.add_metabolites(\n",
    "    {\n",
    "        pheast.metabolites.hemo_DNA: -2.8e-05,\n",
    "        \n",
    "        pheast.metabolites.hemo_RNA: -0.0029,\n",
    "        \n",
    "        pheast.metabolites.hemo_AA: -0.997,\n",
    "\n",
    "        pheast.metabolites.hemo_c: 1.0,\n",
    "    }\n",
    ")\n",
    "\n",
    "pMMO_Biosynthesis.add_metabolites(\n",
    "    {       \n",
    "        pheast.metabolites.pMMO_DNA: -2.8e-05,\n",
    "        \n",
    "        pheast.metabolites.pMMO_RNA: -0.0029,\n",
    "        \n",
    "        pheast.metabolites.pMMO_AA: -0.997,\n",
    "\n",
    "        pheast.metabolites.pMMO_c: 1.0,\n",
    "    }\n",
    ")\n",
    "\n",
    "extrac_pMMO.add_metabolites(\n",
    "    {\n",
    "        pheast.metabolites.pMMO_c: -1.0,   \n",
    "        \n",
    "        pheast.metabolites.pMMO_e: 1.0\n",
    "    }\n",
    ")\n",
    "\n",
    "extrac_Hemo.add_metabolites(\n",
    "    {\n",
    "        pheast.metabolites.hemo_c: -1.0,   \n",
    "        \n",
    "        pheast.metabolites.hemo_e: 1.0\n",
    "    }\n",
    ")\n",
    "\n",
    "Take_Out_pMMO.add_metabolites(\n",
    "    {\n",
    "        pheast.metabolites.pMMO_e: -1.0,   \n",
    "        \n",
    "        pheast.metabolites.pMMO_b: 1.0\n",
    "        \n",
    "    }\n",
    ")\n",
    "\n",
    "Take_Out_Hemo.add_metabolites(\n",
    "    {\n",
    "        pheast.metabolites.hemo_e: -1.0,   \n",
    "        \n",
    "        pheast.metabolites.hemo_b: 1.0\n",
    "    }\n",
    ")\n",
    "\n",
    "EX_pMMO.add_metabolites(\n",
    "    {\n",
    "        pheast.metabolites.pMMO_b: -1.0\n",
    "    }\n",
    ")\n",
    "\n",
    "EX_hemo.add_metabolites(\n",
    "    {\n",
    "        pheast.metabolites.hemo_b: -1.0\n",
    "    }\n",
    ")\n",
    "\n",
    "pheast.add_reactions([Take_Out_Hemo,\n",
    "                    Take_Out_pMMO,\n",
    "                    extrac_pMMO,\n",
    "                    extrac_Hemo,\n",
    "                    pMMO_Biosynthesis,\n",
    "                    hemo_Biosynthesis,\n",
    "                    EX_hemo,\n",
    "                    EX_pMMO])"
   ]
  },
  {
   "cell_type": "code",
   "execution_count": 68,
   "id": "fdbc097d",
   "metadata": {
    "scrolled": true
   },
   "outputs": [
    {
     "data": {
      "text/html": [
       "<h3>Objective</h3><p>1.0 r1339 = 0.005726683234110151</p><h4>Uptake</h4><table border=\"1\" class=\"dataframe\">\n",
       "  <thead>\n",
       "    <tr style=\"text-align: right;\">\n",
       "      <th>Metabolite</th>\n",
       "      <th>Reaction</th>\n",
       "      <th>Flux</th>\n",
       "      <th>C-Number</th>\n",
       "      <th>C-Flux</th>\n",
       "    </tr>\n",
       "  </thead>\n",
       "  <tbody>\n",
       "    <tr>\n",
       "      <td>m1298</td>\n",
       "      <td>EX_m1298</td>\n",
       "      <td>1.815</td>\n",
       "      <td>0</td>\n",
       "      <td>0.00%</td>\n",
       "    </tr>\n",
       "    <tr>\n",
       "      <td>m1300</td>\n",
       "      <td>EX_m1300</td>\n",
       "      <td>0.03301</td>\n",
       "      <td>0</td>\n",
       "      <td>0.00%</td>\n",
       "    </tr>\n",
       "    <tr>\n",
       "      <td>m1301</td>\n",
       "      <td>EX_m1301</td>\n",
       "      <td>0.002359</td>\n",
       "      <td>0</td>\n",
       "      <td>0.00%</td>\n",
       "    </tr>\n",
       "    <tr>\n",
       "      <td>m1304</td>\n",
       "      <td>EX_m1304</td>\n",
       "      <td>0.0001754</td>\n",
       "      <td>0</td>\n",
       "      <td>0.00%</td>\n",
       "    </tr>\n",
       "    <tr>\n",
       "      <td>b_methane</td>\n",
       "      <td>EX_methane</td>\n",
       "      <td>1</td>\n",
       "      <td>1</td>\n",
       "      <td>100.00%</td>\n",
       "    </tr>\n",
       "  </tbody>\n",
       "</table><h4>Secretion</h4><table border=\"1\" class=\"dataframe\">\n",
       "  <thead>\n",
       "    <tr style=\"text-align: right;\">\n",
       "      <th>Metabolite</th>\n",
       "      <th>Reaction</th>\n",
       "      <th>Flux</th>\n",
       "      <th>C-Number</th>\n",
       "      <th>C-Flux</th>\n",
       "    </tr>\n",
       "  </thead>\n",
       "  <tbody>\n",
       "    <tr>\n",
       "      <td>m1287</td>\n",
       "      <td>EX_m1287</td>\n",
       "      <td>-0.005727</td>\n",
       "      <td>0</td>\n",
       "      <td>0.00%</td>\n",
       "    </tr>\n",
       "    <tr>\n",
       "      <td>m1291</td>\n",
       "      <td>EX_m1291</td>\n",
       "      <td>-0.686</td>\n",
       "      <td>0</td>\n",
       "      <td>0.00%</td>\n",
       "    </tr>\n",
       "    <tr>\n",
       "      <td>m1349</td>\n",
       "      <td>EX_m1349</td>\n",
       "      <td>-2.194</td>\n",
       "      <td>0</td>\n",
       "      <td>0.00%</td>\n",
       "    </tr>\n",
       "  </tbody>\n",
       "</table>"
      ],
      "text/plain": [
       "<cobra.summary.model_summary.ModelSummary at 0x216c6916108>"
      ]
     },
     "execution_count": 68,
     "metadata": {},
     "output_type": "execute_result"
    }
   ],
   "source": [
    "# final biomass production of pheast\n",
    "\n",
    "pheast.summary()"
   ]
  },
  {
   "cell_type": "code",
   "execution_count": 130,
   "id": "77ed2977",
   "metadata": {},
   "outputs": [],
   "source": [
    "# set Biomass reaction to the optimized value and optimize for protein production\n",
    "\n",
    "# pheast.reactions.r1339.bounds = 0,0"
   ]
  },
  {
   "cell_type": "code",
   "execution_count": 69,
   "id": "d90285be",
   "metadata": {
    "scrolled": true
   },
   "outputs": [
    {
     "data": {
      "text/html": [
       "<h3>Objective</h3><p>1.0 hemo_Biosynthesis = 0.00895268062363707</p><h4>Uptake</h4><table border=\"1\" class=\"dataframe\">\n",
       "  <thead>\n",
       "    <tr style=\"text-align: right;\">\n",
       "      <th>Metabolite</th>\n",
       "      <th>Reaction</th>\n",
       "      <th>Flux</th>\n",
       "      <th>C-Number</th>\n",
       "      <th>C-Flux</th>\n",
       "    </tr>\n",
       "  </thead>\n",
       "  <tbody>\n",
       "    <tr>\n",
       "      <td>m1298</td>\n",
       "      <td>EX_m1298</td>\n",
       "      <td>1.742</td>\n",
       "      <td>0</td>\n",
       "      <td>0.00%</td>\n",
       "    </tr>\n",
       "    <tr>\n",
       "      <td>m1300</td>\n",
       "      <td>EX_m1300</td>\n",
       "      <td>0.08749</td>\n",
       "      <td>0</td>\n",
       "      <td>0.00%</td>\n",
       "    </tr>\n",
       "    <tr>\n",
       "      <td>m1301</td>\n",
       "      <td>EX_m1301</td>\n",
       "      <td>7.672E-05</td>\n",
       "      <td>0</td>\n",
       "      <td>0.00%</td>\n",
       "    </tr>\n",
       "    <tr>\n",
       "      <td>m1304</td>\n",
       "      <td>EX_m1304</td>\n",
       "      <td>0.0004926</td>\n",
       "      <td>0</td>\n",
       "      <td>0.00%</td>\n",
       "    </tr>\n",
       "    <tr>\n",
       "      <td>b_methane</td>\n",
       "      <td>EX_methane</td>\n",
       "      <td>1</td>\n",
       "      <td>1</td>\n",
       "      <td>100.00%</td>\n",
       "    </tr>\n",
       "  </tbody>\n",
       "</table><h4>Secretion</h4><table border=\"1\" class=\"dataframe\">\n",
       "  <thead>\n",
       "    <tr style=\"text-align: right;\">\n",
       "      <th>Metabolite</th>\n",
       "      <th>Reaction</th>\n",
       "      <th>Flux</th>\n",
       "      <th>C-Number</th>\n",
       "      <th>C-Flux</th>\n",
       "    </tr>\n",
       "  </thead>\n",
       "  <tbody>\n",
       "    <tr>\n",
       "      <td>hemo_b</td>\n",
       "      <td>EX_hemo</td>\n",
       "      <td>-0.008953</td>\n",
       "      <td>0</td>\n",
       "      <td>0.00%</td>\n",
       "    </tr>\n",
       "    <tr>\n",
       "      <td>m1291</td>\n",
       "      <td>EX_m1291</td>\n",
       "      <td>-0.651</td>\n",
       "      <td>0</td>\n",
       "      <td>0.00%</td>\n",
       "    </tr>\n",
       "    <tr>\n",
       "      <td>m1349</td>\n",
       "      <td>EX_m1349</td>\n",
       "      <td>-2.009</td>\n",
       "      <td>0</td>\n",
       "      <td>0.00%</td>\n",
       "    </tr>\n",
       "  </tbody>\n",
       "</table>"
      ],
      "text/plain": [
       "<cobra.summary.model_summary.ModelSummary at 0x216c6910e08>"
      ]
     },
     "execution_count": 69,
     "metadata": {},
     "output_type": "execute_result"
    }
   ],
   "source": [
    "pheast.objective = pheast.problem.Objective(pheast.reactions.hemo_Biosynthesis.flux_expression)\n",
    "pheast_final = pheast.copy()\n",
    "pheast.summary()"
   ]
  },
  {
   "cell_type": "code",
   "execution_count": 132,
   "id": "90c480bd",
   "metadata": {},
   "outputs": [
    {
     "data": {
      "text/html": [
       "<h3>hemo_c</h3><p></p><h4>Producing Reactions</h4><table border=\"1\" class=\"dataframe\">\n",
       "  <thead>\n",
       "    <tr style=\"text-align: right;\">\n",
       "      <th>Percent</th>\n",
       "      <th>Flux</th>\n",
       "      <th>Reaction</th>\n",
       "      <th>Definition</th>\n",
       "    </tr>\n",
       "  </thead>\n",
       "  <tbody>\n",
       "    <tr>\n",
       "      <td>100.00%</td>\n",
       "      <td>0.007661</td>\n",
       "      <td>hemo_Biosynthesis</td>\n",
       "      <td>0.997 hemo_AA + 2.8e-05 hemo_DNA + 0.0029 hemo_RNA --&gt; hemo_c</td>\n",
       "    </tr>\n",
       "  </tbody>\n",
       "</table><h4>Consuming Reactions</h4><table border=\"1\" class=\"dataframe\">\n",
       "  <thead>\n",
       "    <tr style=\"text-align: right;\">\n",
       "      <th>Percent</th>\n",
       "      <th>Flux</th>\n",
       "      <th>Reaction</th>\n",
       "      <th>Definition</th>\n",
       "    </tr>\n",
       "  </thead>\n",
       "  <tbody>\n",
       "    <tr>\n",
       "      <td>100.00%</td>\n",
       "      <td>-0.007661</td>\n",
       "      <td>c_Hemo_e</td>\n",
       "      <td>hemo_c --&gt; hemo_e</td>\n",
       "    </tr>\n",
       "  </tbody>\n",
       "</table>"
      ],
      "text/plain": [
       "<cobra.summary.metabolite_summary.MetaboliteSummary at 0x7fef98fe4790>"
      ]
     },
     "execution_count": 132,
     "metadata": {},
     "output_type": "execute_result"
    }
   ],
   "source": [
    "cobra.summary.MetaboliteSummary(metabolite = pheast.metabolites.hemo_c, model = pheast)"
   ]
  },
  {
   "cell_type": "code",
   "execution_count": 133,
   "id": "ba02a88a",
   "metadata": {},
   "outputs": [
    {
     "data": {
      "text/html": [
       "<h3>uptake_methane</h3><p>b_methane --> e_methane</p><p>Bounds: 0, 1.0</p><p>Flux: 1</p>"
      ],
      "text/plain": [
       "<cobra.summary.reaction_summary.ReactionSummary at 0x7fef99564370>"
      ]
     },
     "execution_count": 133,
     "metadata": {},
     "output_type": "execute_result"
    }
   ],
   "source": [
    "cobra.summary.reaction_summary.ReactionSummary(reaction = pheast.reactions.uptake_methane, model = pheast)"
   ]
  },
  {
   "cell_type": "code",
   "execution_count": 134,
   "id": "6826d0b3",
   "metadata": {},
   "outputs": [],
   "source": [
    "# we can try different scenarios of the methane oxidation reaction:\n",
    "\n",
    "# amount of protein in yeast cell is about 50% of the gDW\n",
    "# https://bionumbers.hms.harvard.edu/bionumber.aspx?&id=102328\n",
    "\n",
    "# AOX expression accounts for 5-30% --> thus we take 3 scenarios in which pMMO makes up (1)5, (2)10 and (3)20% of\n",
    "# total protein per gram DW\n",
    "# Couderc, R., & Baratti, J. (1980). Oxidation of methanol by the yeast, Pichia pastoris. Purification and properties of the alcohol oxidase. Agricultural and biological chemistry, 44(10), 2279-2289.\n",
    "# Vogl, T., & Glieder, A. (2013). Regulation of Pichia pastoris promoters and its consequences for protein production. New biotechnology, 30(4), 385-404.\n",
    "# expression under GAP in glucose medium can reach even higher ones compared to AOX in methanol :\n",
    "# Karaoglan, M., Karaoglan, F. E., & Inan, M. (2016). Comparison of ADH3 promoter with commonly used promoters for recombinant protein production in Pichia pastoris. Protein expression and purification, 121, 112-117.\n",
    "# Waterham, H. R., Digan, M. E., Koutz, P. J., Lair, S. V., & Cregg, J. M. (1997). Isolation of the Pichia pastoris glyceraldehyde-3-phosphate dehydrogenase gene and regulation and use of its promoter. Gene, 186(1), 37-44.\n",
    "# We leave that question open as there are no good absolute numbers and we cannot simulate switching media which we will do in vitro/vivo.\n",
    "\n",
    "\n",
    "# as the turnover rate for the pMMO is estimated/measured at about 0.5-2.5 s^-1, we choose 1 s^-1 as a conservative parameter\n",
    "# for our pMMO (also corresponds to a conservative estimate from measured specific activities as can be compared below)\n",
    "# Hakemian, A. S., & Rosenzweig, A. C. (2007). The biochemistry of methane oxidation. Annu. Rev. Biochem., 76, 223-241. : spec. activ. 10-200 nmol/min/mg-total-prot === 0.3-6 mmol/h/gDW\n",
    "# Sirajuddin, S., & Rosenzweig, A. C. (2015). Enzymatic oxidation of methane. Biochemistry, 54(14), 2283-2294. : specific activities of 17-160 === 0.51-4.8 mmol/h/gDW\n",
    "# Nguyen, H. H., Shiemke, A. K., Jacobs, S. J., Hales, B. J., Lidstrom, M. E., & Chan, S. I. (1994). The nature of the copper ions in the membranes containing the particulate methane monooxygenase from Methylococcus capsulatus (Bath). Journal of Biological Chemistry, 269(21), 14995-15005. : specific activities dependent on copper but in range 10-50 ==== 0.3-1.5\n",
    "\n",
    "\n",
    "# mass of pMMO is about 300 kDA\n",
    "# Ross, M. O., & Rosenzweig, A. C. (2017). A tale of two methane monooxygenases. JBIC Journal of Biological Inorganic Chemistry, 22(2-3), 307-319.\n",
    "# one pMMO has a weight of about 4.981620599999999e-19 g\n",
    "\n",
    "# --> in one gDW there will be (calculations showed below)\n",
    "# (1) 0.025g/gDW pMMO --> 5.0184472e+16 molecules of pMMO/gDW --> 0.29999978778 mmol of CH4/gDW -> CH3OH mmol/gDW h\n",
    "# (2) 0.05g/gDW pMMO --> 1.0036894e+17 molecules of pMMO/gDW --> 0.59999955165 mmol of CH4/gDW -> CH3OH mmol/gDW h\n",
    "# (3) 0.1g/gDW pMMO --> 2.0073789e+17 molecules of pMMO/gDw --> 1.19999916309 mmol of CH4/gDW -> CH3OH mmol/gDW h\n",
    "\n",
    "# e.g. pheast.reactions.methane_oxidation.bounds = -1000,0.59999955165\n",
    "# or at the uptake level: pheast.reactions.uptake_methane = 0,1.19999916309\n",
    "\n",
    "# --> pheast will metabolize as much methane as possible due to constraints of pMMO and methane availability\n",
    "# --> In a good scenario in which 20% of the total cell protein is pMMO, about 1.2 mmol/gDW/h corresponding to\n",
    "# about 0.02 g / 0.03 ml of methane per gDW/h (at a temperature of 37 degrees C with a CH4 density of 0.623 kg/m3) \n",
    "# (https://www.engineeringtoolbox.com/methane-density-specific-weight-temperature-pressure-d_2020.html)\n",
    "# are needed to reach maximal efficiency (limited by pMMO activity)\n",
    "# thus the process will have a bottleneck at the fermentation technology level\n",
    "\n",
    "# --> on the other hand if we expect to have at least 5% of the total cell protein to be functional pMMO with the\n",
    "# given turnover rate as 1, per gDW/h the culture would need 0.00772391 ml of methane to use it optimally"
   ]
  },
  {
   "cell_type": "code",
   "execution_count": 179,
   "id": "03db1b6d",
   "metadata": {},
   "outputs": [
    {
     "data": {
      "image/png": "[encoded data removed]",
      "text/plain": [
       "<Figure size 432x288 with 2 Axes>"
      ]
     },
     "metadata": {
      "needs_background": "light"
     },
     "output_type": "display_data"
    }
   ],
   "source": [
    "def methane_ml_to_mmol_at_37(ml):\n",
    "    molar_mass_methane = 0.01604 # g/mmol\n",
    "    methane_density = 0.623 # g/ml\n",
    "    return(ml*methane_density/molar_mass_methane)\n",
    "\n",
    "def make_plot(model, precision, max_pMMO_percent):\n",
    "    \n",
    "    pMMO_weight = 4.981620599999999E-19 # g/molecule\n",
    "    Avogadro = 6.0221409E+23 # molecules/mol\n",
    "    turnover = 1 # 1/s\n",
    "\n",
    "    # vector for pMMO percentage\n",
    "    pMMO_percentages = list(np.arange(0,max_pMMO_percent+precision,precision))\n",
    "\n",
    "    # from best case scenario we can say that 0.03ml is max methane uptake /gDW/h; we set it to 0.05 as we also\n",
    "    # simulate 30% protein here and it is good to have some margin in any case\n",
    "    \n",
    "    \n",
    "    methane_concentrations = list(np.arange(0,0.05,0.0001))\n",
    "\n",
    "    # results matrix\n",
    "    plot = np.zeros([len(methane_concentrations),len(pMMO_percentages)])\n",
    "    \n",
    "    xticks = []\n",
    "    yticks = set()\n",
    "    \n",
    "    for index1,pMMO in enumerate(pMMO_percentages):\n",
    "        xticks.append(index1)\n",
    "        for index2,methane in enumerate(methane_concentrations):\n",
    "            yticks.add(index2)\n",
    "            # calculate potential methane consumption\n",
    "            # 1. convert g/gDW of pMMO to molecules to mmol/gDW h\n",
    "            # weight of pMMO = 4.981620599999999e-19 g, 0.5 as 50% protein in cell, 6E+23 avogadro's number,\n",
    "            # 1000 because of mmol <-> mol, turonver to get mmol/ gDW s, 3600 s <-> h\n",
    "            mmol = ((pMMO/100)*0.5) / pMMO_weight / Avogadro * 1000 * turnover * 3600\n",
    "        \n",
    "            # set uptake and optimise\n",
    "            pheast.reactions.uptake_methane.bounds = 0,methane_ml_to_mmol_at_37(methane)\n",
    "            pheast.reactions.methane_oxidation.bounds = 0,mmol\n",
    "            plot[index2,index1] = pheast.optimize().objective_value            \n",
    "    \n",
    "    yticks = list(yticks)\n",
    "    imgplot = plt.imshow(plot,extent=[0,len(pMMO_percentages),len(methane_concentrations),0])\n",
    "    plt.colorbar()\n",
    "    plt.title(\"Predicted Hemoglobin Production\")\n",
    "    plt.xlabel(\"% of active pMMO of total cell protein\")\n",
    "    plt.ylabel(\"ml of methane uptake/gDW/h\")\n",
    "    plt.gca().invert_yaxis()\n",
    "    label_meth = methane_concentrations\n",
    "    label_pMMO = pMMO_percentages\n",
    "    plt.xticks([round(xticks[i],3) for i in range(0,len(xticks),50)], [round(label_pMMO[i],3) for i in range(0,len(label_pMMO),50)])\n",
    "    plt.yticks([round(yticks[i],3) for i in range(0,len(yticks),50)], [round(label_meth[i],3) for i in range(0,len(label_meth),50)])\n",
    "\n",
    "\n",
    "make_plot(pheast,0.1,30)"
   ]
  },
  {
   "cell_type": "code",
   "execution_count": 178,
   "id": "854bce4b",
   "metadata": {},
   "outputs": [
    {
     "data": {
      "text/html": [
       "<h3>Objective</h3><p>1.0 hemo_Biosynthesis = 0.01378901237526459</p><h4>Uptake</h4><table border=\"1\" class=\"dataframe\">\n",
       "  <thead>\n",
       "    <tr style=\"text-align: right;\">\n",
       "      <th>Metabolite</th>\n",
       "      <th>Reaction</th>\n",
       "      <th>Flux</th>\n",
       "      <th>C-Number</th>\n",
       "      <th>C-Flux</th>\n",
       "    </tr>\n",
       "  </thead>\n",
       "  <tbody>\n",
       "    <tr>\n",
       "      <td>m1298</td>\n",
       "      <td>EX_m1298</td>\n",
       "      <td>3.166</td>\n",
       "      <td>0</td>\n",
       "      <td>0.00%</td>\n",
       "    </tr>\n",
       "    <tr>\n",
       "      <td>m1300</td>\n",
       "      <td>EX_m1300</td>\n",
       "      <td>0.1575</td>\n",
       "      <td>0</td>\n",
       "      <td>0.00%</td>\n",
       "    </tr>\n",
       "    <tr>\n",
       "      <td>m1301</td>\n",
       "      <td>EX_m1301</td>\n",
       "      <td>0.000126</td>\n",
       "      <td>0</td>\n",
       "      <td>0.00%</td>\n",
       "    </tr>\n",
       "    <tr>\n",
       "      <td>m1304</td>\n",
       "      <td>EX_m1304</td>\n",
       "      <td>0.0008869</td>\n",
       "      <td>0</td>\n",
       "      <td>0.00%</td>\n",
       "    </tr>\n",
       "    <tr>\n",
       "      <td>b_methane</td>\n",
       "      <td>EX_methane</td>\n",
       "      <td>1.8</td>\n",
       "      <td>1</td>\n",
       "      <td>100.00%</td>\n",
       "    </tr>\n",
       "  </tbody>\n",
       "</table><h4>Secretion</h4><table border=\"1\" class=\"dataframe\">\n",
       "  <thead>\n",
       "    <tr style=\"text-align: right;\">\n",
       "      <th>Metabolite</th>\n",
       "      <th>Reaction</th>\n",
       "      <th>Flux</th>\n",
       "      <th>C-Number</th>\n",
       "      <th>C-Flux</th>\n",
       "    </tr>\n",
       "  </thead>\n",
       "  <tbody>\n",
       "    <tr>\n",
       "      <td>hemo_b</td>\n",
       "      <td>EX_hemo</td>\n",
       "      <td>-0.01379</td>\n",
       "      <td>0</td>\n",
       "      <td>0.00%</td>\n",
       "    </tr>\n",
       "    <tr>\n",
       "      <td>m1291</td>\n",
       "      <td>EX_m1291</td>\n",
       "      <td>-1.172</td>\n",
       "      <td>0</td>\n",
       "      <td>0.00%</td>\n",
       "    </tr>\n",
       "    <tr>\n",
       "      <td>m1349</td>\n",
       "      <td>EX_m1349</td>\n",
       "      <td>-3.676</td>\n",
       "      <td>0</td>\n",
       "      <td>0.00%</td>\n",
       "    </tr>\n",
       "  </tbody>\n",
       "</table>"
      ],
      "text/plain": [
       "<cobra.summary.model_summary.ModelSummary at 0x7fef98335bb0>"
      ]
     },
     "execution_count": 178,
     "metadata": {},
     "output_type": "execute_result"
    }
   ],
   "source": [
    "# thus the max yield of hemoglobin at a methane uptake at about 1.8 mmol/gDW/h wit 30% of total cellular\n",
    "# protein being functional pMMO would be (in a scenario knocking out the AOX)\n",
    "\n",
    "pheast.reactions.uptake_methane.bounds = 0,1.8\n",
    "pheast.summary()"
   ]
  },
  {
   "cell_type": "markdown",
   "id": "b854d09c",
   "metadata": {},
   "source": [
    "## Plotting image plots\n",
    "\n",
    "Now, we want to use our new model that simulates our K. phaffii status to analyze the optimal environmental conditions for the maximal protein production. First of all, we will focus on oxygen and methane, as the unique carbon source considered."
   ]
  },
  {
   "cell_type": "code",
   "execution_count": 138,
   "id": "6f0e3259",
   "metadata": {},
   "outputs": [
    {
     "ename": "NameError",
     "evalue": "name 'pheast_final' is not defined",
     "output_type": "error",
     "traceback": [
      "\u001b[0;31m---------------------------------------------------------------------------\u001b[0m",
      "\u001b[0;31mNameError\u001b[0m                                 Traceback (most recent call last)",
      "\u001b[0;32m<ipython-input-138-aee95d0688dc>\u001b[0m in \u001b[0;36m<module>\u001b[0;34m\u001b[0m\n\u001b[1;32m     29\u001b[0m \u001b[0;34m\u001b[0m\u001b[0m\n\u001b[1;32m     30\u001b[0m \u001b[0mmax_met\u001b[0m \u001b[0;34m=\u001b[0m \u001b[0;36m5\u001b[0m\u001b[0;34m;\u001b[0m \u001b[0mmax_ox\u001b[0m \u001b[0;34m=\u001b[0m \u001b[0;36m20\u001b[0m\u001b[0;34m;\u001b[0m \u001b[0mprecision\u001b[0m \u001b[0;34m=\u001b[0m \u001b[0;36m100\u001b[0m\u001b[0;34m\u001b[0m\u001b[0;34m\u001b[0m\u001b[0m\n\u001b[0;32m---> 31\u001b[0;31m \u001b[0mplot\u001b[0m \u001b[0;34m=\u001b[0m \u001b[0mimage_plot\u001b[0m\u001b[0;34m(\u001b[0m\u001b[0mpheast_final\u001b[0m\u001b[0;34m,\u001b[0m \u001b[0mprecision\u001b[0m\u001b[0;34m,\u001b[0m \u001b[0mmax_met\u001b[0m\u001b[0;34m,\u001b[0m \u001b[0mmax_ox\u001b[0m\u001b[0;34m)\u001b[0m\u001b[0;34m\u001b[0m\u001b[0;34m\u001b[0m\u001b[0m\n\u001b[0m",
      "\u001b[0;31mNameError\u001b[0m: name 'pheast_final' is not defined"
     ]
    }
   ],
   "source": [
    "# plotting of the potential protein production as a function of methane and oxygen uptake\n",
    "\n",
    "# we create a function to see how our protein production is optimize on different environments\n",
    "def image_plot(model, precision, max_met, max_ox):\n",
    "    plot = np.zeros([precision, precision])\n",
    "    methane_vec = np.linspace(0,max_met,precision); oxygen_vec = np.linspace(0,max_ox,precision)\n",
    "    for count_ox, oxygen in enumerate(oxygen_vec):\n",
    "        for count_met, met in enumerate(methane_vec):\n",
    "            #print(met, oxygen)\n",
    "            model.reactions.r1160.bounds = oxygen, oxygen\n",
    "            model.reactions.uptake_methane.bounds = met, met \n",
    "            result = model.optimize().objective_value\n",
    "            if result < 0: \n",
    "                result = 0\n",
    "            plot[(precision-1 - count_ox), count_met] = result\n",
    "    label_met = np.round(np.linspace(0, max_met, 6),1)\n",
    "    label_ox = np.round(np.linspace(max_ox, 0,6),1)\n",
    "    ticks = np.linspace(0, precision - 1,6)\n",
    "    imgplot = plt.imshow(plot)\n",
    "    plt.colorbar()\n",
    "    #plt.gca().invert_yaxis()\n",
    "    plt.title(\"Optimization of protein production on different environment uptake\")\n",
    "    plt.xlabel(\"Methane uptake\")\n",
    "    plt.ylabel(\"Oxygen uptake\")\n",
    "    plt.xticks(ticks, label_met)\n",
    "    plt.yticks(ticks, label_ox)\n",
    "    plt.grid()\n",
    "    return plot\n",
    "\n",
    "max_met = 5; max_ox = 20; precision = 100\n",
    "plot = image_plot(pheast_final, precision, max_met, max_ox)"
   ]
  },
  {
   "cell_type": "code",
   "execution_count": null,
   "id": "f6e329d5",
   "metadata": {},
   "outputs": [],
   "source": []
  }
 ],
 "metadata": {
  "kernelspec": {
   "display_name": "Python 3",
   "language": "python",
   "name": "python3"
  },
  "language_info": {
   "codemirror_mode": {
    "name": "ipython",
    "version": 3
   },
   "file_extension": ".py",
   "mimetype": "text/x-python",
   "name": "python",
   "nbconvert_exporter": "python",
   "pygments_lexer": "ipython3",
   "version": "3.9.6"
  }
 },
 "nbformat": 4,
 "nbformat_minor": 5
}
