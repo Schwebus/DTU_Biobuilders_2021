{
 "cells": [
  {
   "cell_type": "code",
   "execution_count": 30,
   "id": "ddbd667e",
   "metadata": {},
   "outputs": [],
   "source": [
    "# load model\n",
    "\n",
    "import cobra\n",
    "import numpy as np\n",
    "import matplotlib.pyplot as plt\n",
    "\n",
    "# model originally from:\n",
    "# Caspeta L, Shoaie S, Agren R, et al (2012) Genome-scale metabolic reconstructions of Pichia stipitis and Pichia pastoris and in silico evaluation of their potentials. BMC Syst Biol 6:24. doi: 10.1186/1752-0509-6-24.\n",
    "\n",
    "# model with heterologous protein production was used as starting point for our simulation:\n",
    "# Irani ZA, Kerkhoven EJ, Shojaosadati SA, Nielsen J (2016) Genome-scale metabolic model of Pichia pastoris with native and humanized glycosylation of recombinant proteins. Biotechnol Bioeng 113:961–969. doi: 10.1002/bit.25863.\n",
    "\n",
    "# it is common for these models to give some warnings when uploaded for the first time, so in order to avoid them, it is just required to rewrite the model as follows\n",
    "\n",
    "#pheast = cobra.io.read_sbml_model(\"./data/iLC915.xml\")\n",
    "#cobra.io.write_sbml_model(pheast,\"./data/iLC915_rewritten.xml\")\n",
    "\n",
    "pheast = cobra.io.read_sbml_model(\"./data/iLC915_rewritten.xml\")"
   ]
  },
  {
   "cell_type": "code",
   "execution_count": 31,
   "id": "d282bfd4",
   "metadata": {},
   "outputs": [
    {
     "name": "stderr",
     "output_type": "stream",
     "text": [
      "/home/schmackeroodle/.local/lib/python3.9/site-packages/cobra/core/group.py:107: UserWarning: need to pass in a list\n",
      "  warn(\"need to pass in a list\")\n"
     ]
    }
   ],
   "source": [
    "# first remove the heterologous protein production reactions from the paper\n",
    "\n",
    "pheast.remove_reactions([pheast.reactions.r1337,\n",
    "                        pheast.reactions.r1338,\n",
    "                        pheast.reactions.r1100,\n",
    "                        pheast.reactions.r1101,\n",
    "                        pheast.reactions.r1102,\n",
    "                        pheast.reactions.r1103,\n",
    "                        pheast.reactions.EX_m1365])\n",
    "\n",
    "pheast.remove_metabolites([pheast.metabolites.m1360,\n",
    "                          pheast.metabolites.m1361,\n",
    "                          pheast.metabolites.m1362,\n",
    "                          pheast.metabolites.m1363,\n",
    "                          pheast.metabolites.m1364,\n",
    "                          pheast.metabolites.m1365])"
   ]
  },
  {
   "cell_type": "code",
   "execution_count": 32,
   "id": "83c4c3f5",
   "metadata": {
    "scrolled": true
   },
   "outputs": [
    {
     "data": {
      "text/html": [
       "<h3>Objective</h3><p>1.0 r1339 = 0.08029587589529992</p><h4>Uptake</h4><table border=\"1\" class=\"dataframe\">\n",
       "  <thead>\n",
       "    <tr style=\"text-align: right;\">\n",
       "      <th>Metabolite</th>\n",
       "      <th>Reaction</th>\n",
       "      <th>Flux</th>\n",
       "      <th>C-Number</th>\n",
       "      <th>C-Flux</th>\n",
       "    </tr>\n",
       "  </thead>\n",
       "  <tbody>\n",
       "    <tr>\n",
       "      <td>m1293</td>\n",
       "      <td>EX_m1293</td>\n",
       "      <td>1</td>\n",
       "      <td>0</td>\n",
       "      <td>0.00%</td>\n",
       "    </tr>\n",
       "    <tr>\n",
       "      <td>m1298</td>\n",
       "      <td>EX_m1298</td>\n",
       "      <td>0.7968</td>\n",
       "      <td>0</td>\n",
       "      <td>0.00%</td>\n",
       "    </tr>\n",
       "    <tr>\n",
       "      <td>m1300</td>\n",
       "      <td>EX_m1300</td>\n",
       "      <td>0.4628</td>\n",
       "      <td>0</td>\n",
       "      <td>0.00%</td>\n",
       "    </tr>\n",
       "    <tr>\n",
       "      <td>m1301</td>\n",
       "      <td>EX_m1301</td>\n",
       "      <td>0.03308</td>\n",
       "      <td>0</td>\n",
       "      <td>0.00%</td>\n",
       "    </tr>\n",
       "    <tr>\n",
       "      <td>m1304</td>\n",
       "      <td>EX_m1304</td>\n",
       "      <td>0.00246</td>\n",
       "      <td>0</td>\n",
       "      <td>0.00%</td>\n",
       "    </tr>\n",
       "  </tbody>\n",
       "</table><h4>Secretion</h4><table border=\"1\" class=\"dataframe\">\n",
       "  <thead>\n",
       "    <tr style=\"text-align: right;\">\n",
       "      <th>Metabolite</th>\n",
       "      <th>Reaction</th>\n",
       "      <th>Flux</th>\n",
       "      <th>C-Number</th>\n",
       "      <th>C-Flux</th>\n",
       "    </tr>\n",
       "  </thead>\n",
       "  <tbody>\n",
       "    <tr>\n",
       "      <td>m1287</td>\n",
       "      <td>EX_m1287</td>\n",
       "      <td>-0.0803</td>\n",
       "      <td>0</td>\n",
       "      <td>0.00%</td>\n",
       "    </tr>\n",
       "    <tr>\n",
       "      <td>m1291</td>\n",
       "      <td>EX_m1291</td>\n",
       "      <td>-1.597</td>\n",
       "      <td>0</td>\n",
       "      <td>0.00%</td>\n",
       "    </tr>\n",
       "    <tr>\n",
       "      <td>m1349</td>\n",
       "      <td>EX_m1349</td>\n",
       "      <td>-3.432</td>\n",
       "      <td>0</td>\n",
       "      <td>0.00%</td>\n",
       "    </tr>\n",
       "  </tbody>\n",
       "</table>"
      ],
      "text/plain": [
       "<cobra.summary.model_summary.ModelSummary at 0x7f6896f278e0>"
      ]
     },
     "execution_count": 32,
     "metadata": {},
     "output_type": "execute_result"
    }
   ],
   "source": [
    "# run the model/optimizes for cell growth\n",
    "\n",
    "pheast.summary()"
   ]
  },
  {
   "cell_type": "code",
   "execution_count": 33,
   "id": "4def7af4",
   "metadata": {},
   "outputs": [
    {
     "data": {
      "text/plain": [
       "frozenset({<Reaction EX_m1293 at 0x7f6896ea6880>,\n",
       "           <Reaction r1145 at 0x7f68968e3c70>})"
      ]
     },
     "execution_count": 33,
     "metadata": {},
     "output_type": "execute_result"
    }
   ],
   "source": [
    "# find glucose reactions (it can be seen that it is the carbon source being taken up at 1 mmol gDW^-1 h^-1)\n",
    "\n",
    "pheast.metabolites.m1293.reactions"
   ]
  },
  {
   "cell_type": "code",
   "execution_count": 34,
   "id": "dcbedbb7",
   "metadata": {},
   "outputs": [
    {
     "data": {
      "text/html": [
       "\n",
       "        <table>\n",
       "            <tr>\n",
       "                <td><strong>Reaction identifier</strong></td><td>EX_m1293</td>\n",
       "            </tr><tr>\n",
       "                <td><strong>Name</strong></td><td>EX_m1293</td>\n",
       "            </tr><tr>\n",
       "                <td><strong>Memory address</strong></td>\n",
       "                <td>0x07f6896ea6880</td>\n",
       "            </tr><tr>\n",
       "                <td><strong>Stoichiometry</strong></td>\n",
       "                <td>\n",
       "                    <p style='text-align:right'>m1293 <=></p>\n",
       "                    <p style='text-align:right'>alpha-D-Glucose_C6H12O6 <=></p>\n",
       "                </td>\n",
       "            </tr><tr>\n",
       "                <td><strong>GPR</strong></td><td></td>\n",
       "            </tr><tr>\n",
       "                <td><strong>Lower bound</strong></td><td>-1000.0</td>\n",
       "            </tr><tr>\n",
       "                <td><strong>Upper bound</strong></td><td>1000.0</td>\n",
       "            </tr>\n",
       "        </table>\n",
       "        "
      ],
      "text/plain": [
       "<Reaction EX_m1293 at 0x7f6896ea6880>"
      ]
     },
     "execution_count": 34,
     "metadata": {},
     "output_type": "execute_result"
    }
   ],
   "source": [
    "# exchange reaction in general\n",
    "\n",
    "pheast.reactions.EX_m1293\n"
   ]
  },
  {
   "cell_type": "code",
   "execution_count": 35,
   "id": "920697ca",
   "metadata": {},
   "outputs": [
    {
     "data": {
      "text/html": [
       "\n",
       "        <table>\n",
       "            <tr>\n",
       "                <td><strong>Reaction identifier</strong></td><td>r1145</td>\n",
       "            </tr><tr>\n",
       "                <td><strong>Name</strong></td><td>Uptake of alpha-D-Glucose</td>\n",
       "            </tr><tr>\n",
       "                <td><strong>Memory address</strong></td>\n",
       "                <td>0x07f68968e3c70</td>\n",
       "            </tr><tr>\n",
       "                <td><strong>Stoichiometry</strong></td>\n",
       "                <td>\n",
       "                    <p style='text-align:right'>m1293 --> m2</p>\n",
       "                    <p style='text-align:right'>alpha-D-Glucose_C6H12O6 --> alpha-D-Glucose_C6H12O6</p>\n",
       "                </td>\n",
       "            </tr><tr>\n",
       "                <td><strong>GPR</strong></td><td></td>\n",
       "            </tr><tr>\n",
       "                <td><strong>Lower bound</strong></td><td>0.0</td>\n",
       "            </tr><tr>\n",
       "                <td><strong>Upper bound</strong></td><td>1.0</td>\n",
       "            </tr>\n",
       "        </table>\n",
       "        "
      ],
      "text/plain": [
       "<Reaction r1145 at 0x7f68968e3c70>"
      ]
     },
     "execution_count": 35,
     "metadata": {},
     "output_type": "execute_result"
    }
   ],
   "source": [
    "# this reaction seems to be the uptake from medium (it is defined in this model as boundary metabolites -> extracellular --> cytosolic\n",
    "# and we have to define the medium boudary at reaction from boundary to extracellular)\n",
    "\n",
    "pheast.reactions.r1145\n"
   ]
  },
  {
   "cell_type": "code",
   "execution_count": 36,
   "id": "e9c99b48",
   "metadata": {
    "scrolled": true
   },
   "outputs": [
    {
     "data": {
      "text/plain": [
       "[<Reaction r1158 at 0x7f68968e3f70>]"
      ]
     },
     "execution_count": 36,
     "metadata": {},
     "output_type": "execute_result"
    }
   ],
   "source": [
    "# look for methanol\n",
    "\n",
    "pheast.reactions.query(\"methanol\", \"name\")"
   ]
  },
  {
   "cell_type": "code",
   "execution_count": 37,
   "id": "0b0eb727",
   "metadata": {},
   "outputs": [
    {
     "data": {
      "text/html": [
       "\n",
       "        <table>\n",
       "            <tr>\n",
       "                <td><strong>Reaction identifier</strong></td><td>r1158</td>\n",
       "            </tr><tr>\n",
       "                <td><strong>Name</strong></td><td>uptake of methanol</td>\n",
       "            </tr><tr>\n",
       "                <td><strong>Memory address</strong></td>\n",
       "                <td>0x07f68968e3f70</td>\n",
       "            </tr><tr>\n",
       "                <td><strong>Stoichiometry</strong></td>\n",
       "                <td>\n",
       "                    <p style='text-align:right'>m1297 --> m1219</p>\n",
       "                    <p style='text-align:right'>Methanol_CH4O --> Methanol_CH4O</p>\n",
       "                </td>\n",
       "            </tr><tr>\n",
       "                <td><strong>GPR</strong></td><td></td>\n",
       "            </tr><tr>\n",
       "                <td><strong>Lower bound</strong></td><td>0.0</td>\n",
       "            </tr><tr>\n",
       "                <td><strong>Upper bound</strong></td><td>0.0</td>\n",
       "            </tr>\n",
       "        </table>\n",
       "        "
      ],
      "text/plain": [
       "<Reaction r1158 at 0x7f68968e3f70>"
      ]
     },
     "execution_count": 37,
     "metadata": {},
     "output_type": "execute_result"
    }
   ],
   "source": [
    "# this is methanol uptake\n",
    "\n",
    "pheast.reactions.r1158"
   ]
  },
  {
   "cell_type": "code",
   "execution_count": 38,
   "id": "d611590b",
   "metadata": {},
   "outputs": [],
   "source": [
    "pheast.reactions.r1145.bounds = 0, 0  # no glucose \n",
    "pheast.reactions.r1158.bounds = 0, 1  # methanol at 1 mmol gDW^-1 h^-1"
   ]
  },
  {
   "cell_type": "code",
   "execution_count": 39,
   "id": "be4c2cb2",
   "metadata": {},
   "outputs": [
    {
     "data": {
      "text/html": [
       "<h3>Objective</h3><p>1.0 r1339 = 0.011453366468220413</p><h4>Uptake</h4><table border=\"1\" class=\"dataframe\">\n",
       "  <thead>\n",
       "    <tr style=\"text-align: right;\">\n",
       "      <th>Metabolite</th>\n",
       "      <th>Reaction</th>\n",
       "      <th>Flux</th>\n",
       "      <th>C-Number</th>\n",
       "      <th>C-Flux</th>\n",
       "    </tr>\n",
       "  </thead>\n",
       "  <tbody>\n",
       "    <tr>\n",
       "      <td>m1297</td>\n",
       "      <td>EX_m1297</td>\n",
       "      <td>1</td>\n",
       "      <td>0</td>\n",
       "      <td>0.00%</td>\n",
       "    </tr>\n",
       "    <tr>\n",
       "      <td>m1298</td>\n",
       "      <td>EX_m1298</td>\n",
       "      <td>1.258</td>\n",
       "      <td>0</td>\n",
       "      <td>0.00%</td>\n",
       "    </tr>\n",
       "    <tr>\n",
       "      <td>m1300</td>\n",
       "      <td>EX_m1300</td>\n",
       "      <td>0.06602</td>\n",
       "      <td>0</td>\n",
       "      <td>0.00%</td>\n",
       "    </tr>\n",
       "    <tr>\n",
       "      <td>m1301</td>\n",
       "      <td>EX_m1301</td>\n",
       "      <td>0.004719</td>\n",
       "      <td>0</td>\n",
       "      <td>0.00%</td>\n",
       "    </tr>\n",
       "    <tr>\n",
       "      <td>m1304</td>\n",
       "      <td>EX_m1304</td>\n",
       "      <td>0.0003508</td>\n",
       "      <td>0</td>\n",
       "      <td>0.00%</td>\n",
       "    </tr>\n",
       "  </tbody>\n",
       "</table><h4>Secretion</h4><table border=\"1\" class=\"dataframe\">\n",
       "  <thead>\n",
       "    <tr style=\"text-align: right;\">\n",
       "      <th>Metabolite</th>\n",
       "      <th>Reaction</th>\n",
       "      <th>Flux</th>\n",
       "      <th>C-Number</th>\n",
       "      <th>C-Flux</th>\n",
       "    </tr>\n",
       "  </thead>\n",
       "  <tbody>\n",
       "    <tr>\n",
       "      <td>m1287</td>\n",
       "      <td>EX_m1287</td>\n",
       "      <td>-0.01145</td>\n",
       "      <td>0</td>\n",
       "      <td>0.00%</td>\n",
       "    </tr>\n",
       "    <tr>\n",
       "      <td>m1291</td>\n",
       "      <td>EX_m1291</td>\n",
       "      <td>-0.372</td>\n",
       "      <td>0</td>\n",
       "      <td>0.00%</td>\n",
       "    </tr>\n",
       "    <tr>\n",
       "      <td>m1349</td>\n",
       "      <td>EX_m1349</td>\n",
       "      <td>-1.643</td>\n",
       "      <td>0</td>\n",
       "      <td>0.00%</td>\n",
       "    </tr>\n",
       "  </tbody>\n",
       "</table>"
      ],
      "text/plain": [
       "<cobra.summary.model_summary.ModelSummary at 0x7f6896f27bb0>"
      ]
     },
     "execution_count": 39,
     "metadata": {},
     "output_type": "execute_result"
    }
   ],
   "source": [
    "# it grows on methanol\n",
    "pheast.summary()"
   ]
  },
  {
   "cell_type": "code",
   "execution_count": 40,
   "id": "5c806a96",
   "metadata": {},
   "outputs": [
    {
     "data": {
      "text/plain": [
       "[]"
      ]
     },
     "execution_count": 40,
     "metadata": {},
     "output_type": "execute_result"
    }
   ],
   "source": [
    "# no methane yet\n",
    "\n",
    "pheast.metabolites.query(\"methane\", \"name\")"
   ]
  },
  {
   "cell_type": "code",
   "execution_count": 41,
   "id": "335cc809",
   "metadata": {},
   "outputs": [],
   "source": [
    "# we add methane\n",
    "\n",
    "b_methane = cobra.Metabolite(\n",
    "    'b_methane',\n",
    "    formula='CH4',\n",
    "    name='boundary_methane',\n",
    "    compartment='C_b')\n",
    "e_methane = cobra.Metabolite(\n",
    "    'e_methane',\n",
    "    formula='CH4',\n",
    "    name='extracellular_methane',\n",
    "    compartment='C_e')\n",
    "\n",
    "pheast.add_metabolites([b_methane,e_methane])"
   ]
  },
  {
   "cell_type": "code",
   "execution_count": 42,
   "id": "606432d9",
   "metadata": {},
   "outputs": [],
   "source": [
    "# make reactions\n",
    "\n",
    "EX_methane = cobra.Reaction(\n",
    "            'EX_methane',\n",
    "            name = 'Exchange Reaction Methane',\n",
    "            lower_bound = -1000,\n",
    "            upper_bound = 1000,\n",
    "        )\n",
    "\n",
    "uptake_methane = cobra.Reaction(\n",
    "            'uptake_methane',\n",
    "            name = 'Methane Uptake from Environent',\n",
    "            lower_bound = 0,\n",
    "            upper_bound = 1.0 # for now we allow a max uptake of methane of 1 mmol gDW^-1 h^-1\n",
    "        )\n",
    "\n",
    "methane_oxidation = cobra.Reaction(\n",
    "            'methane_oxidation',\n",
    "            name = 'methane oxidation',\n",
    "            lower_bound = 0.0,\n",
    "            upper_bound = 1000.0\n",
    "    )\n",
    "\n",
    "# add involved metabolites and stoichiometry\n",
    "\n",
    "EX_methane.add_metabolites(\n",
    "    {\n",
    "        pheast.metabolites.b_methane: -1.0,\n",
    "    }\n",
    ")\n",
    "\n",
    "uptake_methane.add_metabolites(\n",
    "    {\n",
    "        pheast.metabolites.b_methane: -1.0,\n",
    "        pheast.metabolites.e_methane: 1.0\n",
    "    }\n",
    ")\n",
    "\n",
    "# pMMO reaction without redox coenzyme (in literature mostly ubiquinol is mentioned but neither is there\n",
    "# cytosolic ubiqunol in this model (only in mitochondria), nor does the literature agree on what its role may be exactly )\n",
    "\n",
    "methane_oxidation.add_metabolites(\n",
    "    {\n",
    "        pheast.metabolites.e_methane: -1.0,\n",
    "        pheast.metabolites.m1232: -1.0,\n",
    "        pheast.metabolites.m1215: 1.0,\n",
    "        pheast.metabolites.m139: 1.0,\n",
    "    }\n",
    ")\n",
    "\n",
    "# add gene dependency for pMMO\n",
    "\n",
    "methane_oxidation.gene_reaction_rule = 'AOX_pMMO'\n",
    "\n",
    "# add reactions to pheast\n",
    "\n",
    "pheast.add_reactions([EX_methane,uptake_methane,methane_oxidation])"
   ]
  },
  {
   "cell_type": "code",
   "execution_count": 43,
   "id": "e5d74f7c",
   "metadata": {},
   "outputs": [],
   "source": [
    "# set methanol uptake to 0 and try if it grows on methane\n",
    "# set methane uptake to 10 as we set it to the same in the capsulatus model\n",
    "pheast.reactions.r1158.bounds = 0, 0\n",
    "pheast.reactions.uptake_methane.bounds = 0,10"
   ]
  },
  {
   "cell_type": "code",
   "execution_count": 44,
   "id": "5c04d349",
   "metadata": {
    "scrolled": false
   },
   "outputs": [
    {
     "data": {
      "text/html": [
       "<h3>Objective</h3><p>1.0 r1339 = 0.05726683234110108</p><h4>Uptake</h4><table border=\"1\" class=\"dataframe\">\n",
       "  <thead>\n",
       "    <tr style=\"text-align: right;\">\n",
       "      <th>Metabolite</th>\n",
       "      <th>Reaction</th>\n",
       "      <th>Flux</th>\n",
       "      <th>C-Number</th>\n",
       "      <th>C-Flux</th>\n",
       "    </tr>\n",
       "  </thead>\n",
       "  <tbody>\n",
       "    <tr>\n",
       "      <td>m1298</td>\n",
       "      <td>EX_m1298</td>\n",
       "      <td>18.15</td>\n",
       "      <td>0</td>\n",
       "      <td>0.00%</td>\n",
       "    </tr>\n",
       "    <tr>\n",
       "      <td>m1300</td>\n",
       "      <td>EX_m1300</td>\n",
       "      <td>0.3301</td>\n",
       "      <td>0</td>\n",
       "      <td>0.00%</td>\n",
       "    </tr>\n",
       "    <tr>\n",
       "      <td>m1301</td>\n",
       "      <td>EX_m1301</td>\n",
       "      <td>0.02359</td>\n",
       "      <td>0</td>\n",
       "      <td>0.00%</td>\n",
       "    </tr>\n",
       "    <tr>\n",
       "      <td>m1304</td>\n",
       "      <td>EX_m1304</td>\n",
       "      <td>0.001754</td>\n",
       "      <td>0</td>\n",
       "      <td>0.00%</td>\n",
       "    </tr>\n",
       "    <tr>\n",
       "      <td>b_methane</td>\n",
       "      <td>EX_methane</td>\n",
       "      <td>10</td>\n",
       "      <td>1</td>\n",
       "      <td>100.00%</td>\n",
       "    </tr>\n",
       "  </tbody>\n",
       "</table><h4>Secretion</h4><table border=\"1\" class=\"dataframe\">\n",
       "  <thead>\n",
       "    <tr style=\"text-align: right;\">\n",
       "      <th>Metabolite</th>\n",
       "      <th>Reaction</th>\n",
       "      <th>Flux</th>\n",
       "      <th>C-Number</th>\n",
       "      <th>C-Flux</th>\n",
       "    </tr>\n",
       "  </thead>\n",
       "  <tbody>\n",
       "    <tr>\n",
       "      <td>m1287</td>\n",
       "      <td>EX_m1287</td>\n",
       "      <td>-0.05727</td>\n",
       "      <td>0</td>\n",
       "      <td>0.00%</td>\n",
       "    </tr>\n",
       "    <tr>\n",
       "      <td>m1291</td>\n",
       "      <td>EX_m1291</td>\n",
       "      <td>-6.86</td>\n",
       "      <td>0</td>\n",
       "      <td>0.00%</td>\n",
       "    </tr>\n",
       "    <tr>\n",
       "      <td>m1349</td>\n",
       "      <td>EX_m1349</td>\n",
       "      <td>-21.94</td>\n",
       "      <td>0</td>\n",
       "      <td>0.00%</td>\n",
       "    </tr>\n",
       "  </tbody>\n",
       "</table>"
      ],
      "text/plain": [
       "<cobra.summary.model_summary.ModelSummary at 0x7f68970cd9d0>"
      ]
     },
     "execution_count": 44,
     "metadata": {},
     "output_type": "execute_result"
    }
   ],
   "source": [
    "# it grows on methane\n",
    "\n",
    "pheast.summary()"
   ]
  },
  {
   "cell_type": "code",
   "execution_count": 45,
   "id": "d0133a6a",
   "metadata": {
    "scrolled": true
   },
   "outputs": [
    {
     "data": {
      "text/plain": [
       "[<Metabolite m118 at 0x7f68974630a0>,\n",
       " <Metabolite m139 at 0x7f689745f520>,\n",
       " <Metabolite m140 at 0x7f689745f4f0>,\n",
       " <Metabolite m713 at 0x7f6897439f40>,\n",
       " <Metabolite m1179 at 0x7f68974fb760>]"
      ]
     },
     "execution_count": 45,
     "metadata": {},
     "output_type": "execute_result"
    }
   ],
   "source": [
    "# we will now introduce our heterologous protein: leghemoglobin\n",
    "# we look at the detoxification pathway as there is a heme group in both catalase and hemoglobin which could\n",
    "# influence our system in general and reaction we introduce for production of (leg)hemoglobin\n",
    "\n",
    "pheast.metabolites.query(\"H2O2\",\"name\")"
   ]
  },
  {
   "cell_type": "code",
   "execution_count": 46,
   "id": "dc84e8b6",
   "metadata": {},
   "outputs": [
    {
     "data": {
      "text/html": [
       "\n",
       "        <table>\n",
       "            <tr>\n",
       "                <td><strong>Metabolite identifier</strong></td><td>m713</td>\n",
       "            </tr><tr>\n",
       "                <td><strong>Name</strong></td><td>H2O2_H2O2</td>\n",
       "            </tr><tr>\n",
       "                <td><strong>Memory address</strong></td>\n",
       "                <td>0x07f6897439f40</td>\n",
       "            </tr><tr>\n",
       "                <td><strong>Formula</strong></td><td></td>\n",
       "            </tr><tr>\n",
       "                <td><strong>Compartment</strong></td><td>C_p</td>\n",
       "            </tr><tr>\n",
       "                <td><strong>In 16 reaction(s)</strong></td><td>\n",
       "                    r218, r91, r219, r1088, r225, r216, r134, r224, r222, r99, r220, r217, r215, r221, r223, r226</td>\n",
       "            </tr>\n",
       "        </table>"
      ],
      "text/plain": [
       "<Metabolite m713 at 0x7f6897439f40>"
      ]
     },
     "execution_count": 46,
     "metadata": {},
     "output_type": "execute_result"
    }
   ],
   "source": [
    "# this is the peroxisomal H2O2\n",
    "\n",
    "pheast.metabolites.m713"
   ]
  },
  {
   "cell_type": "code",
   "execution_count": 47,
   "id": "31433fad",
   "metadata": {},
   "outputs": [
    {
     "data": {
      "text/html": [
       "\n",
       "        <table>\n",
       "            <tr>\n",
       "                <td><strong>Reaction identifier</strong></td><td>r99</td>\n",
       "            </tr><tr>\n",
       "                <td><strong>Name</strong></td><td>hydrogen-peroxide:hydrogen-peroxide oxidoreductase</td>\n",
       "            </tr><tr>\n",
       "                <td><strong>Memory address</strong></td>\n",
       "                <td>0x07f6896a4dac0</td>\n",
       "            </tr><tr>\n",
       "                <td><strong>Stoichiometry</strong></td>\n",
       "                <td>\n",
       "                    <p style='text-align:right'>2.0 m713 --> 2.0 m65</p>\n",
       "                    <p style='text-align:right'>2.0 H2O2_H2O2 --> 2.0 H2O_H2O</p>\n",
       "                </td>\n",
       "            </tr><tr>\n",
       "                <td><strong>GPR</strong></td><td>PAS_chr2-2_0131</td>\n",
       "            </tr><tr>\n",
       "                <td><strong>Lower bound</strong></td><td>0.0</td>\n",
       "            </tr><tr>\n",
       "                <td><strong>Upper bound</strong></td><td>1000.0</td>\n",
       "            </tr>\n",
       "        </table>\n",
       "        "
      ],
      "text/plain": [
       "<Reaction r99 at 0x7f6896a4dac0>"
      ]
     },
     "execution_count": 47,
     "metadata": {},
     "output_type": "execute_result"
    }
   ],
   "source": [
    "# this is the catalase reaction, heme is not considered\n",
    "\n",
    "pheast.reactions.r99"
   ]
  },
  {
   "cell_type": "code",
   "execution_count": 48,
   "id": "15bd9bfc",
   "metadata": {},
   "outputs": [
    {
     "data": {
      "text/plain": [
       "[<Metabolite m1053 at 0x7f68974ef070>]"
      ]
     },
     "execution_count": 48,
     "metadata": {},
     "output_type": "execute_result"
    }
   ],
   "source": [
    "# we find there is a heme metabolite\n",
    "\n",
    "pheast.metabolites.query(\"heme\",\"name\")"
   ]
  },
  {
   "cell_type": "code",
   "execution_count": 49,
   "id": "5de08d16",
   "metadata": {},
   "outputs": [
    {
     "data": {
      "text/html": [
       "\n",
       "        <table>\n",
       "            <tr>\n",
       "                <td><strong>Metabolite identifier</strong></td><td>m1056</td>\n",
       "            </tr><tr>\n",
       "                <td><strong>Name</strong></td><td>Coproporphyrinogen I_C36H44N4O8</td>\n",
       "            </tr><tr>\n",
       "                <td><strong>Memory address</strong></td>\n",
       "                <td>0x07f68974ef880</td>\n",
       "            </tr><tr>\n",
       "                <td><strong>Formula</strong></td><td></td>\n",
       "            </tr><tr>\n",
       "                <td><strong>Compartment</strong></td><td>C_c</td>\n",
       "            </tr><tr>\n",
       "                <td><strong>In 1 reaction(s)</strong></td><td>\n",
       "                    r860</td>\n",
       "            </tr>\n",
       "        </table>"
      ],
      "text/plain": [
       "<Metabolite m1056 at 0x7f68974ef880>"
      ]
     },
     "execution_count": 49,
     "metadata": {},
     "output_type": "execute_result"
    }
   ],
   "source": [
    "# it is siroheme\n",
    "\n",
    "pheast.metabolites.m1056"
   ]
  },
  {
   "cell_type": "code",
   "execution_count": 50,
   "id": "e48fad6d",
   "metadata": {},
   "outputs": [
    {
     "data": {
      "text/html": [
       "\n",
       "        <table>\n",
       "            <tr>\n",
       "                <td><strong>Reaction identifier</strong></td><td>r973</td>\n",
       "            </tr><tr>\n",
       "                <td><strong>Name</strong></td><td>S-Adenosyl-L-methionine:uroporphyrin-III C-methyltransferase</td>\n",
       "            </tr><tr>\n",
       "                <td><strong>Memory address</strong></td>\n",
       "                <td>0x07f6896c95f10</td>\n",
       "            </tr><tr>\n",
       "                <td><strong>Stoichiometry</strong></td>\n",
       "                <td>\n",
       "                    <p style='text-align:right'>m1052 + m564 --> m1053 + 2.0 m16</p>\n",
       "                    <p style='text-align:right'>Sirohydrochlorin_C42H46N4O16 + Fe2+_Fe --> Siroheme_C42H44FeN4O16 + 2.0 H+_H</p>\n",
       "                </td>\n",
       "            </tr><tr>\n",
       "                <td><strong>GPR</strong></td><td>PAS_chr1-4_0222</td>\n",
       "            </tr><tr>\n",
       "                <td><strong>Lower bound</strong></td><td>0.0</td>\n",
       "            </tr><tr>\n",
       "                <td><strong>Upper bound</strong></td><td>1000.0</td>\n",
       "            </tr>\n",
       "        </table>\n",
       "        "
      ],
      "text/plain": [
       "<Reaction r973 at 0x7f6896c95f10>"
      ]
     },
     "execution_count": 50,
     "metadata": {},
     "output_type": "execute_result"
    }
   ],
   "source": [
    "# only involved in this reaction; it is also specifically a species of heme different from the one in catalse\n",
    "# and hemoglobin, so we should not take this one\n",
    "pheast.reactions.r973"
   ]
  },
  {
   "cell_type": "code",
   "execution_count": 51,
   "id": "5ee0f558",
   "metadata": {},
   "outputs": [
    {
     "data": {
      "text/plain": [
       "[<Metabolite m1045 at 0x7f68974efcd0>,\n",
       " <Metabolite m1046 at 0x7f68974efd30>,\n",
       " <Metabolite m1047 at 0x7f68974efd90>,\n",
       " <Metabolite m1048 at 0x7f68974efdf0>,\n",
       " <Metabolite m1049 at 0x7f68974efe50>,\n",
       " <Metabolite m1055 at 0x7f68974ef820>,\n",
       " <Metabolite m1056 at 0x7f68974ef880>,\n",
       " <Metabolite m1185 at 0x7f68974fb880>]"
      ]
     },
     "execution_count": 51,
     "metadata": {},
     "output_type": "execute_result"
    }
   ],
   "source": [
    "# there are also a bunch of porypherin metabolites which are similar to the hemoglobin\n",
    "\n",
    "pheast.metabolites.query(\"porphyrin\",\"name\")\n",
    "\n",
    "#    A. Díaz, P.C. Loewen, I. Fita, X. Carpena\n",
    "#    Thirty years of heme catalases structural biology\n",
    "#    Arch. Biochem. Biophys., 525 (2012), pp. 102-110\n",
    "\n",
    "# According to the source above C34-heme b is the most abundant, so we could go for that (there are some C34\n",
    "# poryphyrins) and introduce it in the catalase and later hemoglobin reaction but none are in the peroxisome"
   ]
  },
  {
   "cell_type": "code",
   "execution_count": 52,
   "id": "99198c4c",
   "metadata": {},
   "outputs": [],
   "source": [
    "# now we will introduce the heterologous proteins, pMMO and leghemoglobin, with reactions for dna replication,\n",
    "# transcription and translation\n",
    "# as the sequences are long, we calculate the stoichiometry with a script which is on the github repo and imported here\n",
    "# based on the logic behind introduction of heterologous protein production in the paper:\n",
    "# Irani ZA, Kerkhoven EJ, Shojaosadati SA, Nielsen J (2016) Genome-scale metabolic model of Pichia pastoris with native and humanized glycosylation of recombinant proteins. Biotechnol Bioeng 113:961–969. doi: 10.1002/bit.25863.\n",
    "# for that we define the following function\n",
    "\n",
    "import stoichiometry_gsm\n",
    "\n",
    "def add_protein_reaction(model, reaction, lb, ub, seq, seq_type, protein_name):\n",
    "    \n",
    "    stoichiometry = stoichiometry_gsm.get_stoichiometry(seq, seq_type, protein_name)\n",
    "    \n",
    "    reaction = cobra.Reaction(\n",
    "                reaction,\n",
    "                name = reaction,\n",
    "                lower_bound = lb,\n",
    "                upper_bound = ub\n",
    "        )\n",
    "    \n",
    "    for molecule in stoichiometry:\n",
    "        reaction.add_metabolites(\n",
    "            {\n",
    "                getattr(model.metabolites, molecule): stoichiometry[molecule] \n",
    "            }\n",
    "        )\n",
    "    \n",
    "    model.add_reactions([reaction])"
   ]
  },
  {
   "cell_type": "code",
   "execution_count": 53,
   "id": "2c430fb1",
   "metadata": {},
   "outputs": [],
   "source": [
    "# and get the sequences for our two recombinant proteins, pMMO and leghemoglobin. defined before in another file\n",
    "from sequences import *"
   ]
  },
  {
   "cell_type": "code",
   "execution_count": 54,
   "id": "77d43503",
   "metadata": {},
   "outputs": [],
   "source": [
    "# add the metabolites to be produced by these reactions\n",
    "\n",
    "pMMO_DNA = cobra.Metabolite(\n",
    "    'pMMO_DNA',\n",
    "    name='pMMO_DNA',\n",
    "    compartment='C_c')\n",
    "\n",
    "pMMO_RNA = cobra.Metabolite(\n",
    "    'pMMO_RNA',\n",
    "    name='pMMO_RNA',\n",
    "    compartment='C_c')\n",
    "\n",
    "pMMO_AA = cobra.Metabolite(\n",
    "    'pMMO_AA',\n",
    "    name='pMMO_AA',\n",
    "    compartment='C_c')\n",
    "\n",
    "hemo_DNA = cobra.Metabolite(\n",
    "    'hemo_DNA',\n",
    "    name='Hemo_DNA',\n",
    "    compartment='C_c')\n",
    "\n",
    "hemo_RNA = cobra.Metabolite(\n",
    "    'hemo_RNA',\n",
    "    name='Hemo_RNA',\n",
    "    compartment='C_c')\n",
    "\n",
    "hemo_AA = cobra.Metabolite(\n",
    "    'hemo_AA',\n",
    "    name='Leghemoglobin',\n",
    "    compartment='C_c')\n",
    "\n",
    "\n",
    "pheast.add_metabolites([pMMO_DNA,\n",
    "                       pMMO_RNA,\n",
    "                       pMMO_AA,\n",
    "                       hemo_DNA,\n",
    "                       hemo_RNA,\n",
    "                       hemo_AA])"
   ]
  },
  {
   "cell_type": "code",
   "execution_count": 55,
   "id": "5612acee",
   "metadata": {},
   "outputs": [],
   "source": [
    "# make new reactions\n",
    "# !! make sure the protein name is the same as you defined the metabolites, otherwise it will fail\n",
    "add_protein_reaction(pheast, 'pMMO_DNA_reaction', 0, 1000, pMMO_dna_seq, 'dna', 'pMMO')\n",
    "add_protein_reaction(pheast, 'pMMO_RNA_reaction', 0, 1000, pMMO_rna_seq, 'rna', 'pMMO')\n",
    "add_protein_reaction(pheast, 'pMMO_AA_reaction', 0, 1000, pMMO_aa_seq, 'aa', 'pMMO')\n",
    "add_protein_reaction(pheast, 'hemo_DNA_reaction', 0, 1000, hemo_dna_seq, 'dna', 'hemo')\n",
    "add_protein_reaction(pheast, 'hemo_RNA_reaction', 0, 1000, hemo_rna_seq, 'rna', 'hemo')\n",
    "add_protein_reaction(pheast, 'hemo_AA_reaction', 0, 1000, hemo_aa_seq, 'aa', 'hemo')"
   ]
  },
  {
   "cell_type": "code",
   "execution_count": 58,
   "id": "2aab2d29",
   "metadata": {},
   "outputs": [
    {
     "name": "stderr",
     "output_type": "stream",
     "text": [
      "Ignoring reaction 'e_Hemo_b' since it already exists.\n",
      "Ignoring reaction 'e_pMMO_b' since it already exists.\n",
      "Ignoring reaction 'c_pMMO_e' since it already exists.\n",
      "Ignoring reaction 'c_Hemo_e' since it already exists.\n",
      "Ignoring reaction 'pMMO_Biosynthesis' since it already exists.\n",
      "Ignoring reaction 'hemo_Biosynthesis' since it already exists.\n",
      "Ignoring reaction 'EX_hemo' since it already exists.\n",
      "Ignoring reaction 'EX_pMMO' since it already exists.\n"
     ]
    }
   ],
   "source": [
    "# also add transport to extracellular and boundary proteins as well as \"Biosynthesis\" reactions and the exchange reaction\n",
    "# this was all done in the paper\n",
    "\n",
    "pMMO_c = cobra.Metabolite(\n",
    "    'pMMO_c',\n",
    "    formula='',\n",
    "    name='pMMO_c',\n",
    "    compartment='C_c')\n",
    "\n",
    "pMMO_e = cobra.Metabolite(\n",
    "    'pMMO_e',\n",
    "    formula='',\n",
    "    name='pMMO_e',\n",
    "    compartment='C_e')\n",
    "\n",
    "pMMO_b = cobra.Metabolite(\n",
    "    'pMMO_b',\n",
    "    formula='',\n",
    "    name='pMMO_b',\n",
    "    compartment='C_b')\n",
    "\n",
    "hemo_c = cobra.Metabolite(\n",
    "    'hemo_c',\n",
    "    formula='',\n",
    "    name='hemo_c',\n",
    "    compartment='C_c')\n",
    "\n",
    "hemo_e = cobra.Metabolite(\n",
    "    'hemo_e',\n",
    "    formula='',\n",
    "    name='hemo_e',\n",
    "    compartment='C_e')\n",
    "\n",
    "hemo_b = cobra.Metabolite(\n",
    "    'hemo_b',\n",
    "    formula='',\n",
    "    name='hemo_b',\n",
    "    compartment='C_b')\n",
    "\n",
    "pheast.add_metabolites([pMMO_c,pMMO_e,pMMO_b,\n",
    "                      hemo_c,hemo_e,hemo_b])\n",
    "\n",
    "# force the pMMO biosynthesis to the level taken as a basis for methane concentration calculation, see below\n",
    "# there we simulate assuming pMMO could be 5, 10 and 20% of protein \n",
    "# which corresponds to x-(x*(1-0.5)^(1/5)) taking a protein half life of 5 hours and where x is g/gDW of which\n",
    "# we assume 50% to be protein\n",
    "#  5% - 0.003\n",
    "# 10% - 0.0065\n",
    "# 20% - 0.013\n",
    "\n",
    "pMMO_Biosynthesis = cobra.Reaction(\n",
    "            'pMMO_Biosynthesis',\n",
    "            name = 'pMMO Biosynthesis',\n",
    "            lower_bound = 0.0065,\n",
    "            upper_bound = 0.0065\n",
    ")\n",
    "\n",
    "hemo_Biosynthesis = cobra.Reaction(\n",
    "            'hemo_Biosynthesis',\n",
    "            name = 'Leghemoglobin Biosynthesis',\n",
    "            lower_bound = 0.0,\n",
    "            upper_bound = 1000.0\n",
    ")\n",
    "\n",
    "extrac_pMMO = cobra.Reaction(\n",
    "            'c_pMMO_e',\n",
    "            name = 'extracellular transport pMMO',\n",
    "            lower_bound = 0.0,\n",
    "            upper_bound = 1000.0\n",
    ")\n",
    "\n",
    "extrac_Hemo = cobra.Reaction(\n",
    "            'c_Hemo_e',\n",
    "            name = 'extracellular transport Leghemoglobin',\n",
    "            lower_bound = 0.0,\n",
    "            upper_bound = 1000.0\n",
    ")\n",
    "\n",
    "Take_Out_Hemo = cobra.Reaction(\n",
    "            'e_Hemo_b',\n",
    "            name = 'Take_Out_Hemo',\n",
    "            lower_bound = 0.0,\n",
    "            upper_bound = 1000.0\n",
    ")\n",
    "\n",
    "Take_Out_pMMO = cobra.Reaction(\n",
    "            'e_pMMO_b',\n",
    "            name = 'Take_Out_pMMO',\n",
    "            lower_bound = 0.0,\n",
    "            upper_bound = 1000.0\n",
    ")\n",
    "\n",
    "EX_hemo = cobra.Reaction(\n",
    "            'EX_hemo',\n",
    "            name = 'Leghemoglobin exchange reaction',\n",
    "            lower_bound = -1000.0,\n",
    "            upper_bound = 1000.0\n",
    ")\n",
    "\n",
    "EX_pMMO = cobra.Reaction(\n",
    "            'EX_pMMO',\n",
    "            name = 'pMMO exchange reaction',\n",
    "            lower_bound = -1000.0,\n",
    "            upper_bound = 1000.0\n",
    ")\n",
    "\n",
    "hemo_Biosynthesis.add_metabolites(\n",
    "    {\n",
    "        pheast.metabolites.hemo_DNA: -2.8e-05,\n",
    "        \n",
    "        pheast.metabolites.hemo_RNA: -0.0029,\n",
    "        \n",
    "        pheast.metabolites.hemo_AA: -0.997,\n",
    "\n",
    "        pheast.metabolites.hemo_c: 1.0,\n",
    "    }\n",
    ")\n",
    "\n",
    "pMMO_Biosynthesis.add_metabolites(\n",
    "    {       \n",
    "        pheast.metabolites.pMMO_DNA: -2.8e-05,\n",
    "        \n",
    "        pheast.metabolites.pMMO_RNA: -0.0029,\n",
    "        \n",
    "        pheast.metabolites.pMMO_AA: -0.997,\n",
    "\n",
    "        pheast.metabolites.pMMO_c: 1.0,\n",
    "    }\n",
    ")\n",
    "\n",
    "extrac_pMMO.add_metabolites(\n",
    "    {\n",
    "        pheast.metabolites.pMMO_c: -1.0,   \n",
    "        \n",
    "        pheast.metabolites.pMMO_e: 1.0\n",
    "    }\n",
    ")\n",
    "\n",
    "extrac_Hemo.add_metabolites(\n",
    "    {\n",
    "        pheast.metabolites.hemo_c: -1.0,   \n",
    "        \n",
    "        pheast.metabolites.hemo_e: 1.0\n",
    "    }\n",
    ")\n",
    "\n",
    "Take_Out_pMMO.add_metabolites(\n",
    "    {\n",
    "        pheast.metabolites.pMMO_e: -1.0,   \n",
    "        \n",
    "        pheast.metabolites.pMMO_b: 1.0\n",
    "        \n",
    "    }\n",
    ")\n",
    "\n",
    "Take_Out_Hemo.add_metabolites(\n",
    "    {\n",
    "        pheast.metabolites.hemo_e: -1.0,   \n",
    "        \n",
    "        pheast.metabolites.hemo_b: 1.0\n",
    "    }\n",
    ")\n",
    "\n",
    "EX_pMMO.add_metabolites(\n",
    "    {\n",
    "        pheast.metabolites.pMMO_b: -1.0\n",
    "    }\n",
    ")\n",
    "\n",
    "EX_hemo.add_metabolites(\n",
    "    {\n",
    "        pheast.metabolites.hemo_b: -1.0\n",
    "    }\n",
    ")\n",
    "\n",
    "pheast.add_reactions([Take_Out_Hemo,\n",
    "                    Take_Out_pMMO,\n",
    "                    extrac_pMMO,\n",
    "                    extrac_Hemo,\n",
    "                    pMMO_Biosynthesis,\n",
    "                    hemo_Biosynthesis,\n",
    "                    EX_hemo,\n",
    "                    EX_pMMO])"
   ]
  },
  {
   "cell_type": "code",
   "execution_count": 59,
   "id": "fdbc097d",
   "metadata": {
    "scrolled": true
   },
   "outputs": [
    {
     "data": {
      "text/html": [
       "<h3>Objective</h3><p>1.0 r1339 = 0.048592547969389194</p><h4>Uptake</h4><table border=\"1\" class=\"dataframe\">\n",
       "  <thead>\n",
       "    <tr style=\"text-align: right;\">\n",
       "      <th>Metabolite</th>\n",
       "      <th>Reaction</th>\n",
       "      <th>Flux</th>\n",
       "      <th>C-Number</th>\n",
       "      <th>C-Flux</th>\n",
       "    </tr>\n",
       "  </thead>\n",
       "  <tbody>\n",
       "    <tr>\n",
       "      <td>m1298</td>\n",
       "      <td>EX_m1298</td>\n",
       "      <td>18.26</td>\n",
       "      <td>0</td>\n",
       "      <td>0.00%</td>\n",
       "    </tr>\n",
       "    <tr>\n",
       "      <td>m1300</td>\n",
       "      <td>EX_m1300</td>\n",
       "      <td>0.4098</td>\n",
       "      <td>0</td>\n",
       "      <td>0.00%</td>\n",
       "    </tr>\n",
       "    <tr>\n",
       "      <td>m1301</td>\n",
       "      <td>EX_m1301</td>\n",
       "      <td>0.02013</td>\n",
       "      <td>0</td>\n",
       "      <td>0.00%</td>\n",
       "    </tr>\n",
       "    <tr>\n",
       "      <td>m1304</td>\n",
       "      <td>EX_m1304</td>\n",
       "      <td>0.005061</td>\n",
       "      <td>0</td>\n",
       "      <td>0.00%</td>\n",
       "    </tr>\n",
       "    <tr>\n",
       "      <td>b_methane</td>\n",
       "      <td>EX_methane</td>\n",
       "      <td>10</td>\n",
       "      <td>1</td>\n",
       "      <td>100.00%</td>\n",
       "    </tr>\n",
       "  </tbody>\n",
       "</table><h4>Secretion</h4><table border=\"1\" class=\"dataframe\">\n",
       "  <thead>\n",
       "    <tr style=\"text-align: right;\">\n",
       "      <th>Metabolite</th>\n",
       "      <th>Reaction</th>\n",
       "      <th>Flux</th>\n",
       "      <th>C-Number</th>\n",
       "      <th>C-Flux</th>\n",
       "    </tr>\n",
       "  </thead>\n",
       "  <tbody>\n",
       "    <tr>\n",
       "      <td>m1287</td>\n",
       "      <td>EX_m1287</td>\n",
       "      <td>-0.04859</td>\n",
       "      <td>0</td>\n",
       "      <td>0.00%</td>\n",
       "    </tr>\n",
       "    <tr>\n",
       "      <td>m1291</td>\n",
       "      <td>EX_m1291</td>\n",
       "      <td>-6.816</td>\n",
       "      <td>0</td>\n",
       "      <td>0.00%</td>\n",
       "    </tr>\n",
       "    <tr>\n",
       "      <td>m1349</td>\n",
       "      <td>EX_m1349</td>\n",
       "      <td>-22.11</td>\n",
       "      <td>0</td>\n",
       "      <td>0.00%</td>\n",
       "    </tr>\n",
       "    <tr>\n",
       "      <td>pMMO_b</td>\n",
       "      <td>EX_pMMO</td>\n",
       "      <td>-0.013</td>\n",
       "      <td>0</td>\n",
       "      <td>0.00%</td>\n",
       "    </tr>\n",
       "  </tbody>\n",
       "</table>"
      ],
      "text/plain": [
       "<cobra.summary.model_summary.ModelSummary at 0x7f689674e460>"
      ]
     },
     "execution_count": 59,
     "metadata": {},
     "output_type": "execute_result"
    }
   ],
   "source": [
    "# final biomass production of pheast\n",
    "\n",
    "pheast.summary()"
   ]
  },
  {
   "cell_type": "code",
   "execution_count": 60,
   "id": "a12c3f56",
   "metadata": {},
   "outputs": [],
   "source": [
    "# according to Garrigós-Martínez, J., Nieto-Taype, M. A., Gasset-Franch, A., Montesinos-Seguí, J. L., Garcia-Ortega, X., & Valero, F. (2019). Specific growth rate governs AOX1 gene expression, affecting the production kinetics of Pichia pastoris (Komagataella phaffii) P AOX1-driven recombinant producer strains with different target gene dosage. Microbial cell factories, 18(1), 1-15.\n",
    "# a specific growth rate of 0.03 was showed the highest product-to-biomass yield.\n",
    "# we fix the growth rate and optimize for protein production subsequently\n",
    "pheast.reactions.r1339.bounds = 0.02,0.03"
   ]
  },
  {
   "cell_type": "code",
   "execution_count": 61,
   "id": "d90285be",
   "metadata": {
    "scrolled": true
   },
   "outputs": [
    {
     "data": {
      "text/html": [
       "<h3>Objective</h3><p>1.0 hemo_Biosynthesis = 0.04469911795065724</p><h4>Uptake</h4><table border=\"1\" class=\"dataframe\">\n",
       "  <thead>\n",
       "    <tr style=\"text-align: right;\">\n",
       "      <th>Metabolite</th>\n",
       "      <th>Reaction</th>\n",
       "      <th>Flux</th>\n",
       "      <th>C-Number</th>\n",
       "      <th>C-Flux</th>\n",
       "    </tr>\n",
       "  </thead>\n",
       "  <tbody>\n",
       "    <tr>\n",
       "      <td>m1298</td>\n",
       "      <td>EX_m1298</td>\n",
       "      <td>17.86</td>\n",
       "      <td>0</td>\n",
       "      <td>0.00%</td>\n",
       "    </tr>\n",
       "    <tr>\n",
       "      <td>m1300</td>\n",
       "      <td>EX_m1300</td>\n",
       "      <td>0.6818</td>\n",
       "      <td>0</td>\n",
       "      <td>0.00%</td>\n",
       "    </tr>\n",
       "    <tr>\n",
       "      <td>m1301</td>\n",
       "      <td>EX_m1301</td>\n",
       "      <td>0.008739</td>\n",
       "      <td>0</td>\n",
       "      <td>0.00%</td>\n",
       "    </tr>\n",
       "    <tr>\n",
       "      <td>m1304</td>\n",
       "      <td>EX_m1304</td>\n",
       "      <td>0.006645</td>\n",
       "      <td>0</td>\n",
       "      <td>0.00%</td>\n",
       "    </tr>\n",
       "    <tr>\n",
       "      <td>b_methane</td>\n",
       "      <td>EX_methane</td>\n",
       "      <td>10</td>\n",
       "      <td>1</td>\n",
       "      <td>100.00%</td>\n",
       "    </tr>\n",
       "  </tbody>\n",
       "</table><h4>Secretion</h4><table border=\"1\" class=\"dataframe\">\n",
       "  <thead>\n",
       "    <tr style=\"text-align: right;\">\n",
       "      <th>Metabolite</th>\n",
       "      <th>Reaction</th>\n",
       "      <th>Flux</th>\n",
       "      <th>C-Number</th>\n",
       "      <th>C-Flux</th>\n",
       "    </tr>\n",
       "  </thead>\n",
       "  <tbody>\n",
       "    <tr>\n",
       "      <td>hemo_b</td>\n",
       "      <td>EX_hemo</td>\n",
       "      <td>-0.0447</td>\n",
       "      <td>0</td>\n",
       "      <td>0.00%</td>\n",
       "    </tr>\n",
       "    <tr>\n",
       "      <td>m1287</td>\n",
       "      <td>EX_m1287</td>\n",
       "      <td>-0.02</td>\n",
       "      <td>0</td>\n",
       "      <td>0.00%</td>\n",
       "    </tr>\n",
       "    <tr>\n",
       "      <td>m1291</td>\n",
       "      <td>EX_m1291</td>\n",
       "      <td>-6.641</td>\n",
       "      <td>0</td>\n",
       "      <td>0.00%</td>\n",
       "    </tr>\n",
       "    <tr>\n",
       "      <td>m1349</td>\n",
       "      <td>EX_m1349</td>\n",
       "      <td>-21.13</td>\n",
       "      <td>0</td>\n",
       "      <td>0.00%</td>\n",
       "    </tr>\n",
       "    <tr>\n",
       "      <td>pMMO_b</td>\n",
       "      <td>EX_pMMO</td>\n",
       "      <td>-0.013</td>\n",
       "      <td>0</td>\n",
       "      <td>0.00%</td>\n",
       "    </tr>\n",
       "  </tbody>\n",
       "</table>"
      ],
      "text/plain": [
       "<cobra.summary.model_summary.ModelSummary at 0x7f689674e4f0>"
      ]
     },
     "execution_count": 61,
     "metadata": {},
     "output_type": "execute_result"
    }
   ],
   "source": [
    "pheast.objective = pheast.problem.Objective(pheast.reactions.hemo_Biosynthesis.flux_expression)\n",
    "pheast_final = pheast.copy()\n",
    "pheast.summary()"
   ]
  },
  {
   "cell_type": "code",
   "execution_count": 62,
   "id": "90c480bd",
   "metadata": {},
   "outputs": [
    {
     "data": {
      "text/html": [
       "<h3>hemo_c</h3><p></p><h4>Producing Reactions</h4><table border=\"1\" class=\"dataframe\">\n",
       "  <thead>\n",
       "    <tr style=\"text-align: right;\">\n",
       "      <th>Percent</th>\n",
       "      <th>Flux</th>\n",
       "      <th>Reaction</th>\n",
       "      <th>Definition</th>\n",
       "    </tr>\n",
       "  </thead>\n",
       "  <tbody>\n",
       "    <tr>\n",
       "      <td>100.00%</td>\n",
       "      <td>0.0447</td>\n",
       "      <td>hemo_Biosynthesis</td>\n",
       "      <td>0.997 hemo_AA + 2.8e-05 hemo_DNA + 0.0029 hemo_RNA --&gt; hemo_c</td>\n",
       "    </tr>\n",
       "  </tbody>\n",
       "</table><h4>Consuming Reactions</h4><table border=\"1\" class=\"dataframe\">\n",
       "  <thead>\n",
       "    <tr style=\"text-align: right;\">\n",
       "      <th>Percent</th>\n",
       "      <th>Flux</th>\n",
       "      <th>Reaction</th>\n",
       "      <th>Definition</th>\n",
       "    </tr>\n",
       "  </thead>\n",
       "  <tbody>\n",
       "    <tr>\n",
       "      <td>100.00%</td>\n",
       "      <td>-0.0447</td>\n",
       "      <td>c_Hemo_e</td>\n",
       "      <td>hemo_c --&gt; hemo_e</td>\n",
       "    </tr>\n",
       "  </tbody>\n",
       "</table>"
      ],
      "text/plain": [
       "<cobra.summary.metabolite_summary.MetaboliteSummary at 0x7f689674e040>"
      ]
     },
     "execution_count": 62,
     "metadata": {},
     "output_type": "execute_result"
    }
   ],
   "source": [
    "cobra.summary.MetaboliteSummary(metabolite = pheast.metabolites.hemo_c, model = pheast)"
   ]
  },
  {
   "cell_type": "code",
   "execution_count": 63,
   "id": "ba02a88a",
   "metadata": {},
   "outputs": [
    {
     "data": {
      "text/html": [
       "<h3>hemo_Biosynthesis</h3><p>0.997 hemo_AA + 2.8e-05 hemo_DNA + 0.0029 hemo_RNA --> hemo_c</p><p>Bounds: 0.0, 1000.0</p><p>Flux: 0.0447</p>"
      ],
      "text/plain": [
       "<cobra.summary.reaction_summary.ReactionSummary at 0x7f689613bf70>"
      ]
     },
     "execution_count": 63,
     "metadata": {},
     "output_type": "execute_result"
    }
   ],
   "source": [
    "cobra.summary.reaction_summary.ReactionSummary(reaction = pheast.reactions.hemo_Biosynthesis, model = pheast)"
   ]
  },
  {
   "cell_type": "code",
   "execution_count": 55,
   "id": "5293a0bb",
   "metadata": {},
   "outputs": [
    {
     "data": {
      "text/html": [
       "<h3>r1339</h3><p>m1225 --> m1226</p><p>Bounds: 0.02, 0.03</p><p>Flux: 0.02</p>"
      ],
      "text/plain": [
       "<cobra.summary.reaction_summary.ReactionSummary at 0x7f310f4c4070>"
      ]
     },
     "execution_count": 55,
     "metadata": {},
     "output_type": "execute_result"
    }
   ],
   "source": [
    "# double check growth rate\n",
    "\n",
    "cobra.summary.reaction_summary.ReactionSummary(reaction = pheast.reactions.r1339, model = pheast)"
   ]
  },
  {
   "cell_type": "code",
   "execution_count": 55,
   "id": "6826d0b3",
   "metadata": {},
   "outputs": [],
   "source": [
    "# we can try different scenarios of the methane oxidation reaction:\n",
    "\n",
    "# amount of protein in yeast cell is about 50% of the gDW\n",
    "# https://bionumbers.hms.harvard.edu/bionumber.aspx?&id=102328\n",
    "\n",
    "# AOX expression accounts for 5-30% --> thus we take 3 scenarios in which pMMO makes up (1)5, (2)10 and (3)20% of\n",
    "# total protein per gram DW\n",
    "# Couderc, R., & Baratti, J. (1980). Oxidation of methanol by the yeast, Pichia pastoris. Purification and properties of the alcohol oxidase. Agricultural and biological chemistry, 44(10), 2279-2289.\n",
    "# Vogl, T., & Glieder, A. (2013). Regulation of Pichia pastoris promoters and its consequences for protein production. New biotechnology, 30(4), 385-404.\n",
    "# expression under GAP in glucose medium can reach even higher ones compared to AOX in methanol :\n",
    "# Karaoglan, M., Karaoglan, F. E., & Inan, M. (2016). Comparison of ADH3 promoter with commonly used promoters for recombinant protein production in Pichia pastoris. Protein expression and purification, 121, 112-117.\n",
    "# Waterham, H. R., Digan, M. E., Koutz, P. J., Lair, S. V., & Cregg, J. M. (1997). Isolation of the Pichia pastoris glyceraldehyde-3-phosphate dehydrogenase gene and regulation and use of its promoter. Gene, 186(1), 37-44.\n",
    "# We leave that question open as there are no good absolute numbers and we cannot simulate switching media which we will do in vitro/vivo.\n",
    "\n",
    "\n",
    "# as the turnover rate for the pMMO is estimated/measured at about 0.5-2.5 s^-1, we choose 1 s^-1 as a conservative parameter\n",
    "# for our pMMO (also corresponds to a conservative estimate from measured specific activities as can be compared below)\n",
    "# Hakemian, A. S., & Rosenzweig, A. C. (2007). The biochemistry of methane oxidation. Annu. Rev. Biochem., 76, 223-241. : spec. activ. 10-200 nmol/min/mg-total-prot === 0.3-6 mmol/h/gDW\n",
    "# Sirajuddin, S., & Rosenzweig, A. C. (2015). Enzymatic oxidation of methane. Biochemistry, 54(14), 2283-2294. : specific activities of 17-160 === 0.51-4.8 mmol/h/gDW\n",
    "# Nguyen, H. H., Shiemke, A. K., Jacobs, S. J., Hales, B. J., Lidstrom, M. E., & Chan, S. I. (1994). The nature of the copper ions in the membranes containing the particulate methane monooxygenase from Methylococcus capsulatus (Bath). Journal of Biological Chemistry, 269(21), 14995-15005. : specific activities dependent on copper but in range 10-50 ==== 0.3-1.5\n",
    "\n",
    "\n",
    "# mass of pMMO is about 300 kDA\n",
    "# Ross, M. O., & Rosenzweig, A. C. (2017). A tale of two methane monooxygenases. JBIC Journal of Biological Inorganic Chemistry, 22(2-3), 307-319.\n",
    "# one pMMO has a weight of about 4.981620599999999e-19 g\n",
    "\n",
    "# --> in one gDW there will be (calculations showed below)\n",
    "# (1) 0.025g/gDW pMMO --> 5.0184472e+16 molecules of pMMO/gDW --> 0.29999978778 mmol of CH4/gDW -> CH3OH mmol/gDW h\n",
    "# (2) 0.05g/gDW pMMO --> 1.0036894e+17 molecules of pMMO/gDW --> 0.59999955165 mmol of CH4/gDW -> CH3OH mmol/gDW h\n",
    "# (3) 0.1g/gDW pMMO --> 2.0073789e+17 molecules of pMMO/gDw --> 1.19999916309 mmol of CH4/gDW -> CH3OH mmol/gDW h\n",
    "\n",
    "# e.g. pheast.reactions.methane_oxidation.bounds = -1000,0.59999955165\n",
    "# or at the uptake level: pheast.reactions.uptake_methane = 0,1.19999916309\n",
    "\n",
    "# --> pheast will metabolize as much methane as possible due to constraints of pMMO and methane availability\n",
    "# --> In a good scenario in which 20% of the total cell protein is pMMO, about 1.2 mmol/gDW/h corresponding to\n",
    "# about 0.02 g / 0.03 ml of methane per gDW/h (at a temperature of 37 degrees C with a CH4 density of 0.623 kg/m3) \n",
    "# (https://www.engineeringtoolbox.com/methane-density-specific-weight-temperature-pressure-d_2020.html)\n",
    "# are needed to reach maximal efficiency (limited by pMMO activity)\n",
    "# thus the process will have a bottleneck at the fermentation technology level\n",
    "\n",
    "# --> on the other hand if we expect to have at least 5% of the total cell protein to be functional pMMO with the\n",
    "# given turnover rate as 1, per gDW/h the culture would need 0.00772391 ml of methane to use it optimally"
   ]
  },
  {
   "cell_type": "code",
   "execution_count": 56,
   "id": "03db1b6d",
   "metadata": {},
   "outputs": [
    {
     "ename": "KeyboardInterrupt",
     "evalue": "",
     "output_type": "error",
     "traceback": [
      "\u001b[0;31m---------------------------------------------------------------------------\u001b[0m",
      "\u001b[0;31mKeyboardInterrupt\u001b[0m                         Traceback (most recent call last)",
      "\u001b[0;32m<ipython-input-56-9fb5adc110d5>\u001b[0m in \u001b[0;36m<module>\u001b[0;34m\u001b[0m\n\u001b[1;32m     53\u001b[0m \u001b[0;34m\u001b[0m\u001b[0m\n\u001b[1;32m     54\u001b[0m \u001b[0;34m\u001b[0m\u001b[0m\n\u001b[0;32m---> 55\u001b[0;31m \u001b[0mmake_plot\u001b[0m\u001b[0;34m(\u001b[0m\u001b[0mpheast\u001b[0m\u001b[0;34m,\u001b[0m\u001b[0;36m0.1\u001b[0m\u001b[0;34m,\u001b[0m\u001b[0;36m30\u001b[0m\u001b[0;34m)\u001b[0m\u001b[0;34m\u001b[0m\u001b[0;34m\u001b[0m\u001b[0m\n\u001b[0m",
      "\u001b[0;32m<ipython-input-56-9fb5adc110d5>\u001b[0m in \u001b[0;36mmake_plot\u001b[0;34m(model, precision, max_pMMO_percent)\u001b[0m\n\u001b[1;32m     38\u001b[0m             \u001b[0mpheast\u001b[0m\u001b[0;34m.\u001b[0m\u001b[0mreactions\u001b[0m\u001b[0;34m.\u001b[0m\u001b[0muptake_methane\u001b[0m\u001b[0;34m.\u001b[0m\u001b[0mbounds\u001b[0m \u001b[0;34m=\u001b[0m \u001b[0;36m0\u001b[0m\u001b[0;34m,\u001b[0m\u001b[0mmethane_ml_to_mmol_at_37\u001b[0m\u001b[0;34m(\u001b[0m\u001b[0mmethane\u001b[0m\u001b[0;34m)\u001b[0m\u001b[0;34m\u001b[0m\u001b[0;34m\u001b[0m\u001b[0m\n\u001b[1;32m     39\u001b[0m             \u001b[0mpheast\u001b[0m\u001b[0;34m.\u001b[0m\u001b[0mreactions\u001b[0m\u001b[0;34m.\u001b[0m\u001b[0mmethane_oxidation\u001b[0m\u001b[0;34m.\u001b[0m\u001b[0mbounds\u001b[0m \u001b[0;34m=\u001b[0m \u001b[0;36m0\u001b[0m\u001b[0;34m,\u001b[0m\u001b[0mmmol\u001b[0m\u001b[0;34m\u001b[0m\u001b[0;34m\u001b[0m\u001b[0m\n\u001b[0;32m---> 40\u001b[0;31m             \u001b[0mplot\u001b[0m\u001b[0;34m[\u001b[0m\u001b[0mindex2\u001b[0m\u001b[0;34m,\u001b[0m\u001b[0mindex1\u001b[0m\u001b[0;34m]\u001b[0m \u001b[0;34m=\u001b[0m \u001b[0mpheast\u001b[0m\u001b[0;34m.\u001b[0m\u001b[0moptimize\u001b[0m\u001b[0;34m(\u001b[0m\u001b[0;34m)\u001b[0m\u001b[0;34m.\u001b[0m\u001b[0mobjective_value\u001b[0m\u001b[0;34m\u001b[0m\u001b[0;34m\u001b[0m\u001b[0m\n\u001b[0m\u001b[1;32m     41\u001b[0m \u001b[0;34m\u001b[0m\u001b[0m\n\u001b[1;32m     42\u001b[0m     \u001b[0myticks\u001b[0m \u001b[0;34m=\u001b[0m \u001b[0mlist\u001b[0m\u001b[0;34m(\u001b[0m\u001b[0myticks\u001b[0m\u001b[0;34m)\u001b[0m\u001b[0;34m\u001b[0m\u001b[0;34m\u001b[0m\u001b[0m\n",
      "\u001b[0;32m~/.local/lib/python3.9/site-packages/cobra/core/model.py\u001b[0m in \u001b[0;36moptimize\u001b[0;34m(self, objective_sense, raise_error)\u001b[0m\n\u001b[1;32m   1089\u001b[0m         )\n\u001b[1;32m   1090\u001b[0m         \u001b[0mself\u001b[0m\u001b[0;34m.\u001b[0m\u001b[0mslim_optimize\u001b[0m\u001b[0;34m(\u001b[0m\u001b[0;34m)\u001b[0m\u001b[0;34m\u001b[0m\u001b[0;34m\u001b[0m\u001b[0m\n\u001b[0;32m-> 1091\u001b[0;31m         \u001b[0msolution\u001b[0m \u001b[0;34m=\u001b[0m \u001b[0mget_solution\u001b[0m\u001b[0;34m(\u001b[0m\u001b[0mself\u001b[0m\u001b[0;34m,\u001b[0m \u001b[0mraise_error\u001b[0m\u001b[0;34m=\u001b[0m\u001b[0mraise_error\u001b[0m\u001b[0;34m)\u001b[0m\u001b[0;34m\u001b[0m\u001b[0;34m\u001b[0m\u001b[0m\n\u001b[0m\u001b[1;32m   1092\u001b[0m         \u001b[0mself\u001b[0m\u001b[0;34m.\u001b[0m\u001b[0mobjective\u001b[0m\u001b[0;34m.\u001b[0m\u001b[0mdirection\u001b[0m \u001b[0;34m=\u001b[0m \u001b[0moriginal_direction\u001b[0m\u001b[0;34m\u001b[0m\u001b[0;34m\u001b[0m\u001b[0m\n\u001b[1;32m   1093\u001b[0m         \u001b[0;32mreturn\u001b[0m \u001b[0msolution\u001b[0m\u001b[0;34m\u001b[0m\u001b[0;34m\u001b[0m\u001b[0m\n",
      "\u001b[0;32m~/.local/lib/python3.9/site-packages/cobra/core/solution.py\u001b[0m in \u001b[0;36mget_solution\u001b[0;34m(model, reactions, metabolites, raise_error)\u001b[0m\n\u001b[1;32m    243\u001b[0m     \u001b[0mfluxes\u001b[0m \u001b[0;34m=\u001b[0m \u001b[0mempty\u001b[0m\u001b[0;34m(\u001b[0m\u001b[0mlen\u001b[0m\u001b[0;34m(\u001b[0m\u001b[0mreactions\u001b[0m\u001b[0;34m)\u001b[0m\u001b[0;34m)\u001b[0m\u001b[0;34m\u001b[0m\u001b[0;34m\u001b[0m\u001b[0m\n\u001b[1;32m    244\u001b[0m     \u001b[0mreduced\u001b[0m \u001b[0;34m=\u001b[0m \u001b[0mempty\u001b[0m\u001b[0;34m(\u001b[0m\u001b[0mlen\u001b[0m\u001b[0;34m(\u001b[0m\u001b[0mreactions\u001b[0m\u001b[0;34m)\u001b[0m\u001b[0;34m)\u001b[0m\u001b[0;34m\u001b[0m\u001b[0;34m\u001b[0m\u001b[0m\n\u001b[0;32m--> 245\u001b[0;31m     \u001b[0mvar_primals\u001b[0m \u001b[0;34m=\u001b[0m \u001b[0mmodel\u001b[0m\u001b[0;34m.\u001b[0m\u001b[0msolver\u001b[0m\u001b[0;34m.\u001b[0m\u001b[0mprimal_values\u001b[0m\u001b[0;34m\u001b[0m\u001b[0;34m\u001b[0m\u001b[0m\n\u001b[0m\u001b[1;32m    246\u001b[0m     \u001b[0mshadow\u001b[0m \u001b[0;34m=\u001b[0m \u001b[0mempty\u001b[0m\u001b[0;34m(\u001b[0m\u001b[0mlen\u001b[0m\u001b[0;34m(\u001b[0m\u001b[0mmetabolites\u001b[0m\u001b[0;34m)\u001b[0m\u001b[0;34m)\u001b[0m\u001b[0;34m\u001b[0m\u001b[0;34m\u001b[0m\u001b[0m\n\u001b[1;32m    247\u001b[0m     \u001b[0;32mif\u001b[0m \u001b[0mmodel\u001b[0m\u001b[0;34m.\u001b[0m\u001b[0msolver\u001b[0m\u001b[0;34m.\u001b[0m\u001b[0mis_integer\u001b[0m\u001b[0;34m:\u001b[0m\u001b[0;34m\u001b[0m\u001b[0;34m\u001b[0m\u001b[0m\n",
      "\u001b[0;32m~/.local/lib/python3.9/site-packages/optlang/interface.py\u001b[0m in \u001b[0;36mprimal_values\u001b[0;34m(self)\u001b[0m\n\u001b[1;32m   1279\u001b[0m         \u001b[0mcollections\u001b[0m\u001b[0;34m.\u001b[0m\u001b[0mOrderedDict\u001b[0m\u001b[0;34m\u001b[0m\u001b[0;34m\u001b[0m\u001b[0m\n\u001b[1;32m   1280\u001b[0m         \"\"\"\n\u001b[0;32m-> 1281\u001b[0;31m         return OrderedDict(\n\u001b[0m\u001b[1;32m   1282\u001b[0m             \u001b[0mzip\u001b[0m\u001b[0;34m(\u001b[0m\u001b[0mself\u001b[0m\u001b[0;34m.\u001b[0m\u001b[0m_get_variables_names\u001b[0m\u001b[0;34m(\u001b[0m\u001b[0;34m)\u001b[0m\u001b[0;34m,\u001b[0m \u001b[0mself\u001b[0m\u001b[0;34m.\u001b[0m\u001b[0m_get_primal_values\u001b[0m\u001b[0;34m(\u001b[0m\u001b[0;34m)\u001b[0m\u001b[0;34m)\u001b[0m\u001b[0;34m\u001b[0m\u001b[0;34m\u001b[0m\u001b[0m\n\u001b[1;32m   1283\u001b[0m         )\n",
      "\u001b[0;31mKeyboardInterrupt\u001b[0m: "
     ]
    }
   ],
   "source": [
    "def methane_ml_to_mmol_at_37(ml):\n",
    "    molar_mass_methane = 0.01604 # g/mmol\n",
    "    methane_density = 0.623 # g/ml\n",
    "    return(ml*methane_density/molar_mass_methane)\n",
    "\n",
    "def make_plot(model, precision, max_pMMO_percent):\n",
    "    \n",
    "    pMMO_weight = 4.981620599999999E-19 # g/molecule\n",
    "    Avogadro = 6.0221409E+23 # molecules/mol\n",
    "    turnover = 1 # 1/s\n",
    "\n",
    "    # vector for pMMO percentage\n",
    "    pMMO_percentages = list(np.arange(0,max_pMMO_percent+precision,precision))\n",
    "\n",
    "    # from best case scenario we can say that 0.03ml is max methane uptake /gDW/h; we set it to 0.05 as we also\n",
    "    # simulate 30% protein here and it is good to have some margin in any case\n",
    "    \n",
    "    \n",
    "    methane_concentrations = list(np.arange(0,0.05,0.0001))\n",
    "\n",
    "    # results matrix\n",
    "    plot = np.zeros([len(methane_concentrations),len(pMMO_percentages)])\n",
    "    \n",
    "    xticks = []\n",
    "    yticks = set()\n",
    "    \n",
    "    for index1,pMMO in enumerate(pMMO_percentages):\n",
    "        xticks.append(index1)\n",
    "        for index2,methane in enumerate(methane_concentrations):\n",
    "            yticks.add(index2)\n",
    "            # calculate potential methane consumption\n",
    "            # 1. convert g/gDW of pMMO to molecules to mmol/gDW h\n",
    "            # weight of pMMO = 4.981620599999999e-19 g, 0.5 as 50% protein in cell, 6E+23 avogadro's number,\n",
    "            # 1000 because of mmol <-> mol, turonver to get mmol/ gDW s, 3600 s <-> h\n",
    "            mmol = ((pMMO/100)*0.5) / pMMO_weight / Avogadro * 1000 * turnover * 3600\n",
    "        \n",
    "            # set uptake and optimise\n",
    "            pheast.reactions.uptake_methane.bounds = 0,methane_ml_to_mmol_at_37(methane)\n",
    "            pheast.reactions.methane_oxidation.bounds = 0,mmol\n",
    "            plot[index2,index1] = pheast.optimize().objective_value            \n",
    "    \n",
    "    yticks = list(yticks)\n",
    "    imgplot = plt.imshow(plot,extent=[0,len(pMMO_percentages),len(methane_concentrations),0])\n",
    "    plt.colorbar()\n",
    "    plt.title(\"Predicted Hemoglobin Production\")\n",
    "    plt.xlabel(\"% of active pMMO of total cell protein\")\n",
    "    plt.ylabel(\"ml of methane uptake/gDW/h\")\n",
    "    plt.gca().invert_yaxis()\n",
    "    label_meth = methane_concentrations\n",
    "    label_pMMO = pMMO_percentages\n",
    "    plt.xticks([round(xticks[i],0) for i in range(0,len(xticks),50)], [round(label_pMMO[i],3) for i in range(0,len(label_pMMO),50)])\n",
    "    plt.yticks([round(yticks[i],3) for i in range(0,len(yticks),50)], [round(label_meth[i],3) for i in range(0,len(label_meth),50)])\n",
    "\n",
    "\n",
    "make_plot(pheast,0.1,30)"
   ]
  },
  {
   "cell_type": "code",
   "execution_count": null,
   "id": "854bce4b",
   "metadata": {},
   "outputs": [],
   "source": [
    "# thus the max yield of hemoglobin at a methane uptake at about 1.8 mmol/gDW/h wit 30% of total cellular\n",
    "# protein being functional pMMO would be (in a scenario knocking out the AOX)\n",
    "\n",
    "pheast.reactions.uptake_methane.bounds = 0,1.8\n",
    "pheast.summary()"
   ]
  }
 ],
 "metadata": {
  "kernelspec": {
   "display_name": "Python 3",
   "language": "python",
   "name": "python3"
  },
  "language_info": {
   "codemirror_mode": {
    "name": "ipython",
    "version": 3
   },
   "file_extension": ".py",
   "mimetype": "text/x-python",
   "name": "python",
   "nbconvert_exporter": "python",
   "pygments_lexer": "ipython3",
   "version": "3.9.6"
  }
 },
 "nbformat": 4,
 "nbformat_minor": 5
}
