{
 "cells": [
  {
   "cell_type": "code",
   "execution_count": 7,
   "id": "3d5ff014",
   "metadata": {},
   "outputs": [],
   "source": [
    "# load model\n",
    "\n",
    "import cobra\n",
    "\n",
    "pheast = cobra.io.read_sbml_model(\"./data/iLC915_rewritten.xml\")"
   ]
  },
  {
   "cell_type": "code",
   "execution_count": 16,
   "id": "8fb28d60",
   "metadata": {},
   "outputs": [
    {
     "data": {
      "text/html": [
       "<h3>Objective</h3><p>1.0 r1339 = 0.08029587589529964</p><h4>Uptake</h4><table border=\"1\" class=\"dataframe\">\n",
       "  <thead>\n",
       "    <tr style=\"text-align: right;\">\n",
       "      <th>Metabolite</th>\n",
       "      <th>Reaction</th>\n",
       "      <th>Flux</th>\n",
       "      <th>C-Number</th>\n",
       "      <th>C-Flux</th>\n",
       "    </tr>\n",
       "  </thead>\n",
       "  <tbody>\n",
       "    <tr>\n",
       "      <td>m1293</td>\n",
       "      <td>EX_m1293</td>\n",
       "      <td>1</td>\n",
       "      <td>0</td>\n",
       "      <td>0.00%</td>\n",
       "    </tr>\n",
       "    <tr>\n",
       "      <td>m1298</td>\n",
       "      <td>EX_m1298</td>\n",
       "      <td>0.7968</td>\n",
       "      <td>0</td>\n",
       "      <td>0.00%</td>\n",
       "    </tr>\n",
       "    <tr>\n",
       "      <td>m1300</td>\n",
       "      <td>EX_m1300</td>\n",
       "      <td>0.4628</td>\n",
       "      <td>0</td>\n",
       "      <td>0.00%</td>\n",
       "    </tr>\n",
       "    <tr>\n",
       "      <td>m1301</td>\n",
       "      <td>EX_m1301</td>\n",
       "      <td>0.03308</td>\n",
       "      <td>0</td>\n",
       "      <td>0.00%</td>\n",
       "    </tr>\n",
       "    <tr>\n",
       "      <td>m1304</td>\n",
       "      <td>EX_m1304</td>\n",
       "      <td>0.00246</td>\n",
       "      <td>0</td>\n",
       "      <td>0.00%</td>\n",
       "    </tr>\n",
       "  </tbody>\n",
       "</table><h4>Secretion</h4><table border=\"1\" class=\"dataframe\">\n",
       "  <thead>\n",
       "    <tr style=\"text-align: right;\">\n",
       "      <th>Metabolite</th>\n",
       "      <th>Reaction</th>\n",
       "      <th>Flux</th>\n",
       "      <th>C-Number</th>\n",
       "      <th>C-Flux</th>\n",
       "    </tr>\n",
       "  </thead>\n",
       "  <tbody>\n",
       "    <tr>\n",
       "      <td>m1287</td>\n",
       "      <td>EX_m1287</td>\n",
       "      <td>-0.0803</td>\n",
       "      <td>0</td>\n",
       "      <td>0.00%</td>\n",
       "    </tr>\n",
       "    <tr>\n",
       "      <td>m1291</td>\n",
       "      <td>EX_m1291</td>\n",
       "      <td>-1.597</td>\n",
       "      <td>0</td>\n",
       "      <td>0.00%</td>\n",
       "    </tr>\n",
       "    <tr>\n",
       "      <td>m1349</td>\n",
       "      <td>EX_m1349</td>\n",
       "      <td>-3.432</td>\n",
       "      <td>0</td>\n",
       "      <td>0.00%</td>\n",
       "    </tr>\n",
       "  </tbody>\n",
       "</table>"
      ],
      "text/plain": [
       "<cobra.summary.model_summary.ModelSummary at 0x7f4664e41dc0>"
      ]
     },
     "execution_count": 16,
     "metadata": {},
     "output_type": "execute_result"
    }
   ],
   "source": [
    "# run the model/optimizes for cell growth\n",
    "\n",
    "pheast.optimize()\n",
    "pheast.summary()"
   ]
  },
  {
   "cell_type": "code",
   "execution_count": 18,
   "id": "84a55717",
   "metadata": {},
   "outputs": [
    {
     "data": {
      "text/plain": [
       "frozenset({<Reaction EX_m1293 at 0x7f4664e51850>,\n",
       "           <Reaction r1145 at 0x7f46647c6430>})"
      ]
     },
     "execution_count": 18,
     "metadata": {},
     "output_type": "execute_result"
    }
   ],
   "source": [
    "# find glucose reactions (it can be seen that it is the carbon source being taken up at 1 mmol gDW^-1 h^-1)\n",
    "pheast.metabolites.m1293.reactions"
   ]
  },
  {
   "cell_type": "code",
   "execution_count": 53,
   "id": "839fcbe3",
   "metadata": {},
   "outputs": [
    {
     "data": {
      "text/html": [
       "\n",
       "        <table>\n",
       "            <tr>\n",
       "                <td><strong>Reaction identifier</strong></td><td>EX_m1293</td>\n",
       "            </tr><tr>\n",
       "                <td><strong>Name</strong></td><td>EX_m1293</td>\n",
       "            </tr><tr>\n",
       "                <td><strong>Memory address</strong></td>\n",
       "                <td>0x07f4664e51850</td>\n",
       "            </tr><tr>\n",
       "                <td><strong>Stoichiometry</strong></td>\n",
       "                <td>\n",
       "                    <p style='text-align:right'>m1293 <=></p>\n",
       "                    <p style='text-align:right'>alpha-D-Glucose_C6H12O6 <=></p>\n",
       "                </td>\n",
       "            </tr><tr>\n",
       "                <td><strong>GPR</strong></td><td></td>\n",
       "            </tr><tr>\n",
       "                <td><strong>Lower bound</strong></td><td>-1000.0</td>\n",
       "            </tr><tr>\n",
       "                <td><strong>Upper bound</strong></td><td>1000.0</td>\n",
       "            </tr>\n",
       "        </table>\n",
       "        "
      ],
      "text/plain": [
       "<Reaction EX_m1293 at 0x7f4664e51850>"
      ]
     },
     "execution_count": 53,
     "metadata": {},
     "output_type": "execute_result"
    }
   ],
   "source": [
    "# exchange reaction in general\n",
    "\n",
    "pheast.reactions.EX_m1293\n"
   ]
  },
  {
   "cell_type": "code",
   "execution_count": 52,
   "id": "f0562f37",
   "metadata": {},
   "outputs": [
    {
     "data": {
      "text/html": [
       "\n",
       "        <table>\n",
       "            <tr>\n",
       "                <td><strong>Reaction identifier</strong></td><td>r1145</td>\n",
       "            </tr><tr>\n",
       "                <td><strong>Name</strong></td><td>Uptake of alpha-D-Glucose</td>\n",
       "            </tr><tr>\n",
       "                <td><strong>Memory address</strong></td>\n",
       "                <td>0x07f46647c6430</td>\n",
       "            </tr><tr>\n",
       "                <td><strong>Stoichiometry</strong></td>\n",
       "                <td>\n",
       "                    <p style='text-align:right'>m1293 --> m2</p>\n",
       "                    <p style='text-align:right'>alpha-D-Glucose_C6H12O6 --> alpha-D-Glucose_C6H12O6</p>\n",
       "                </td>\n",
       "            </tr><tr>\n",
       "                <td><strong>GPR</strong></td><td></td>\n",
       "            </tr><tr>\n",
       "                <td><strong>Lower bound</strong></td><td>0</td>\n",
       "            </tr><tr>\n",
       "                <td><strong>Upper bound</strong></td><td>0</td>\n",
       "            </tr>\n",
       "        </table>\n",
       "        "
      ],
      "text/plain": [
       "<Reaction r1145 at 0x7f46647c6430>"
      ]
     },
     "execution_count": 52,
     "metadata": {},
     "output_type": "execute_result"
    }
   ],
   "source": [
    "# this reaction seems to be the uptake from medium (it is defined in this model as boundary metabolites -> extracellular --> cytosolic\n",
    "# and we have to define the medium boudary at reaction from boundary to extracellular)\n",
    "\n",
    "pheast.reactions.r1145\n"
   ]
  },
  {
   "cell_type": "code",
   "execution_count": 43,
   "id": "6fa8ce72",
   "metadata": {
    "scrolled": true
   },
   "outputs": [
    {
     "data": {
      "text/plain": [
       "[<Reaction r1158 at 0x7f46647d7d30>]"
      ]
     },
     "execution_count": 43,
     "metadata": {},
     "output_type": "execute_result"
    }
   ],
   "source": [
    "# look for methanol\n",
    "\n",
    "pheast.reactions.query(\"methanol\", \"name\")"
   ]
  },
  {
   "cell_type": "code",
   "execution_count": 21,
   "id": "113aa11d",
   "metadata": {},
   "outputs": [
    {
     "data": {
      "text/html": [
       "\n",
       "        <table>\n",
       "            <tr>\n",
       "                <td><strong>Reaction identifier</strong></td><td>r1145</td>\n",
       "            </tr><tr>\n",
       "                <td><strong>Name</strong></td><td>Uptake of alpha-D-Glucose</td>\n",
       "            </tr><tr>\n",
       "                <td><strong>Memory address</strong></td>\n",
       "                <td>0x07f46647c6430</td>\n",
       "            </tr><tr>\n",
       "                <td><strong>Stoichiometry</strong></td>\n",
       "                <td>\n",
       "                    <p style='text-align:right'>m1293 --> m2</p>\n",
       "                    <p style='text-align:right'>alpha-D-Glucose_C6H12O6 --> alpha-D-Glucose_C6H12O6</p>\n",
       "                </td>\n",
       "            </tr><tr>\n",
       "                <td><strong>GPR</strong></td><td></td>\n",
       "            </tr><tr>\n",
       "                <td><strong>Lower bound</strong></td><td>0.0</td>\n",
       "            </tr><tr>\n",
       "                <td><strong>Upper bound</strong></td><td>1.0</td>\n",
       "            </tr>\n",
       "        </table>\n",
       "        "
      ],
      "text/plain": [
       "<Reaction r1145 at 0x7f46647c6430>"
      ]
     },
     "execution_count": 21,
     "metadata": {},
     "output_type": "execute_result"
    }
   ],
   "source": [
    "# this is methanol uptake\n",
    "\n",
    "pheast.reactions.r1145"
   ]
  },
  {
   "cell_type": "code",
   "execution_count": 22,
   "id": "23b836ee",
   "metadata": {},
   "outputs": [],
   "source": [
    "pheast.reactions.r1145.bounds = 0, 0  # no glucose \n",
    "pheast.reactions.r1158.bounds = 0, 1  # methanol at mmol gDW^-1 h^-1"
   ]
  },
  {
   "cell_type": "code",
   "execution_count": 23,
   "id": "c5ed052b",
   "metadata": {},
   "outputs": [
    {
     "data": {
      "text/html": [
       "<h3>Objective</h3><p>1.0 r1339 = 0.011453366468220297</p><h4>Uptake</h4><table border=\"1\" class=\"dataframe\">\n",
       "  <thead>\n",
       "    <tr style=\"text-align: right;\">\n",
       "      <th>Metabolite</th>\n",
       "      <th>Reaction</th>\n",
       "      <th>Flux</th>\n",
       "      <th>C-Number</th>\n",
       "      <th>C-Flux</th>\n",
       "    </tr>\n",
       "  </thead>\n",
       "  <tbody>\n",
       "    <tr>\n",
       "      <td>m1297</td>\n",
       "      <td>EX_m1297</td>\n",
       "      <td>1</td>\n",
       "      <td>0</td>\n",
       "      <td>0.00%</td>\n",
       "    </tr>\n",
       "    <tr>\n",
       "      <td>m1298</td>\n",
       "      <td>EX_m1298</td>\n",
       "      <td>1.258</td>\n",
       "      <td>0</td>\n",
       "      <td>0.00%</td>\n",
       "    </tr>\n",
       "    <tr>\n",
       "      <td>m1300</td>\n",
       "      <td>EX_m1300</td>\n",
       "      <td>0.06602</td>\n",
       "      <td>0</td>\n",
       "      <td>0.00%</td>\n",
       "    </tr>\n",
       "    <tr>\n",
       "      <td>m1301</td>\n",
       "      <td>EX_m1301</td>\n",
       "      <td>0.004719</td>\n",
       "      <td>0</td>\n",
       "      <td>0.00%</td>\n",
       "    </tr>\n",
       "    <tr>\n",
       "      <td>m1304</td>\n",
       "      <td>EX_m1304</td>\n",
       "      <td>0.0003508</td>\n",
       "      <td>0</td>\n",
       "      <td>0.00%</td>\n",
       "    </tr>\n",
       "  </tbody>\n",
       "</table><h4>Secretion</h4><table border=\"1\" class=\"dataframe\">\n",
       "  <thead>\n",
       "    <tr style=\"text-align: right;\">\n",
       "      <th>Metabolite</th>\n",
       "      <th>Reaction</th>\n",
       "      <th>Flux</th>\n",
       "      <th>C-Number</th>\n",
       "      <th>C-Flux</th>\n",
       "    </tr>\n",
       "  </thead>\n",
       "  <tbody>\n",
       "    <tr>\n",
       "      <td>m1287</td>\n",
       "      <td>EX_m1287</td>\n",
       "      <td>-0.01145</td>\n",
       "      <td>0</td>\n",
       "      <td>0.00%</td>\n",
       "    </tr>\n",
       "    <tr>\n",
       "      <td>m1291</td>\n",
       "      <td>EX_m1291</td>\n",
       "      <td>-0.372</td>\n",
       "      <td>0</td>\n",
       "      <td>0.00%</td>\n",
       "    </tr>\n",
       "    <tr>\n",
       "      <td>m1349</td>\n",
       "      <td>EX_m1349</td>\n",
       "      <td>-1.643</td>\n",
       "      <td>0</td>\n",
       "      <td>0.00%</td>\n",
       "    </tr>\n",
       "  </tbody>\n",
       "</table>"
      ],
      "text/plain": [
       "<cobra.summary.model_summary.ModelSummary at 0x7f46640d5f10>"
      ]
     },
     "execution_count": 23,
     "metadata": {},
     "output_type": "execute_result"
    }
   ],
   "source": [
    "# it grows on methanol\n",
    "\n",
    "pheast.optimize()\n",
    "pheast.summary()"
   ]
  },
  {
   "cell_type": "code",
   "execution_count": 25,
   "id": "af6afacf",
   "metadata": {},
   "outputs": [
    {
     "data": {
      "text/plain": [
       "[]"
      ]
     },
     "execution_count": 25,
     "metadata": {},
     "output_type": "execute_result"
    }
   ],
   "source": [
    "pheast.reactions.query(\"methane\", \"name\")"
   ]
  },
  {
   "cell_type": "code",
   "execution_count": 56,
   "id": "13505edc",
   "metadata": {},
   "outputs": [
    {
     "ename": "AttributeError",
     "evalue": "'Model' object has no attribute 'add_metabolite'",
     "output_type": "error",
     "traceback": [
      "\u001b[0;31m---------------------------------------------------------------------------\u001b[0m",
      "\u001b[0;31mAttributeError\u001b[0m                            Traceback (most recent call last)",
      "\u001b[0;32m<ipython-input-56-046b04334143>\u001b[0m in \u001b[0;36m<module>\u001b[0;34m\u001b[0m\n\u001b[0;32m----> 1\u001b[0;31m methane = pheast.add_metabolite(\n\u001b[0m\u001b[1;32m      2\u001b[0m     \u001b[0;34m'boundary_methane'\u001b[0m\u001b[0;34m,\u001b[0m\u001b[0;34m\u001b[0m\u001b[0;34m\u001b[0m\u001b[0m\n\u001b[1;32m      3\u001b[0m     \u001b[0mformula\u001b[0m\u001b[0;34m=\u001b[0m\u001b[0;34m'C1H4'\u001b[0m\u001b[0;34m,\u001b[0m\u001b[0;34m\u001b[0m\u001b[0;34m\u001b[0m\u001b[0m\n\u001b[1;32m      4\u001b[0m     \u001b[0mname\u001b[0m\u001b[0;34m=\u001b[0m\u001b[0;34m'methane'\u001b[0m\u001b[0;34m,\u001b[0m\u001b[0;34m\u001b[0m\u001b[0;34m\u001b[0m\u001b[0m\n\u001b[1;32m      5\u001b[0m     compartment='C_b')\n",
      "\u001b[0;31mAttributeError\u001b[0m: 'Model' object has no attribute 'add_metabolite'"
     ]
    }
   ],
   "source": [
    "methane = pheast.add_metabolite(\n",
    "    'boundary_methane',\n",
    "    formula='C1H4',\n",
    "    name='methane',\n",
    "    compartment='C_b')"
   ]
  },
  {
   "cell_type": "code",
   "execution_count": 26,
   "id": "229da722",
   "metadata": {},
   "outputs": [
    {
     "data": {
      "text/plain": [
       "{'C_c': 'cytosol',\n",
       " 'C_e': 'extracellular',\n",
       " 'C_m': 'mitochondrion',\n",
       " 'C_p': 'peroxisome',\n",
       " 'C_v': 'vacuole',\n",
       " 'C_g': 'golgi',\n",
       " 'C_r': 'ER',\n",
       " 'C_b': 'boundary'}"
      ]
     },
     "execution_count": 26,
     "metadata": {},
     "output_type": "execute_result"
    }
   ],
   "source": [
    "pheast.compartments"
   ]
  },
  {
   "cell_type": "code",
   "execution_count": 63,
   "id": "b25cbed4",
   "metadata": {},
   "outputs": [
    {
     "name": "stdout",
     "output_type": "stream",
     "text": [
      "['_annotation', '_compartments', '_contexts', '_id', '_populate_solver', '_repr_html_', '_sbml', '_set_id_with_model', '_solver', '_tolerance', '_trimmed', '_trimmed_genes', '_trimmed_reactions', 'add_boundary', 'add_cons_vars', 'add_groups', 'add_metabolites', 'add_reaction', 'add_reactions', 'annotation', 'boundary', 'compartments', 'constraints', 'copy', 'demands', 'description', 'exchanges', 'genes', 'get_associated_groups', 'get_metabolite_compartments', 'groups', 'id', 'medium', 'merge', 'metabolites', 'name', 'notes', 'objective', 'objective_direction', 'optimize', 'problem', 'reactions', 'remove_cons_vars', 'remove_groups', 'remove_metabolites', 'remove_reactions', 'repair', 'sinks', 'slim_optimize', 'solver', 'summary', 'tolerance', 'variables']\n"
     ]
    }
   ],
   "source": [
    "method_list = [method for method in dir(pheast) if method.startswith('__') is False]\n",
    "print(method_list)"
   ]
  },
  {
   "cell_type": "code",
   "execution_count": null,
   "id": "62538c51",
   "metadata": {},
   "outputs": [],
   "source": []
  }
 ],
 "metadata": {
  "kernelspec": {
   "display_name": "Python 3",
   "language": "python",
   "name": "python3"
  },
  "language_info": {
   "codemirror_mode": {
    "name": "ipython",
    "version": 3
   },
   "file_extension": ".py",
   "mimetype": "text/x-python",
   "name": "python",
   "nbconvert_exporter": "python",
   "pygments_lexer": "ipython3",
   "version": "3.9.5"
  }
 },
 "nbformat": 4,
 "nbformat_minor": 5
}
