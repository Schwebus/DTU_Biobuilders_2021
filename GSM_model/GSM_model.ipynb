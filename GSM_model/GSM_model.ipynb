{
 "cells": [
  {
   "cell_type": "code",
   "execution_count": 184,
   "id": "0a983fc4",
   "metadata": {},
   "outputs": [],
   "source": [
    "# load model\n",
    "\n",
    "import cobra\n",
    "\n",
    "# model from:\n",
    "# Caspeta L, Shoaie S, Agren R, et al (2012) Genome-scale metabolic reconstructions of Pichia stipitis and Pichia pastoris and in silico evaluation of their potentials. BMC Syst Biol 6:24. doi: 10.1186/1752-0509-6-24.\n",
    "# we tweaked some xml (did we?) to avoid warning popping up\n",
    "\n",
    "pheast = cobra.io.read_sbml_model(\"./data/iLC915_rewritten.xml\")"
   ]
  },
  {
   "cell_type": "code",
   "execution_count": 98,
   "id": "55996075",
   "metadata": {
    "scrolled": true
   },
   "outputs": [
    {
     "data": {
      "text/html": [
       "<h3>Objective</h3><p>1.0 r1339 = 0.08029587589529964</p><h4>Uptake</h4><table border=\"1\" class=\"dataframe\">\n",
       "  <thead>\n",
       "    <tr style=\"text-align: right;\">\n",
       "      <th>Metabolite</th>\n",
       "      <th>Reaction</th>\n",
       "      <th>Flux</th>\n",
       "      <th>C-Number</th>\n",
       "      <th>C-Flux</th>\n",
       "    </tr>\n",
       "  </thead>\n",
       "  <tbody>\n",
       "    <tr>\n",
       "      <td>m1293</td>\n",
       "      <td>EX_m1293</td>\n",
       "      <td>1</td>\n",
       "      <td>0</td>\n",
       "      <td>0.00%</td>\n",
       "    </tr>\n",
       "    <tr>\n",
       "      <td>m1298</td>\n",
       "      <td>EX_m1298</td>\n",
       "      <td>0.7968</td>\n",
       "      <td>0</td>\n",
       "      <td>0.00%</td>\n",
       "    </tr>\n",
       "    <tr>\n",
       "      <td>m1300</td>\n",
       "      <td>EX_m1300</td>\n",
       "      <td>0.4628</td>\n",
       "      <td>0</td>\n",
       "      <td>0.00%</td>\n",
       "    </tr>\n",
       "    <tr>\n",
       "      <td>m1301</td>\n",
       "      <td>EX_m1301</td>\n",
       "      <td>0.03308</td>\n",
       "      <td>0</td>\n",
       "      <td>0.00%</td>\n",
       "    </tr>\n",
       "    <tr>\n",
       "      <td>m1304</td>\n",
       "      <td>EX_m1304</td>\n",
       "      <td>0.00246</td>\n",
       "      <td>0</td>\n",
       "      <td>0.00%</td>\n",
       "    </tr>\n",
       "  </tbody>\n",
       "</table><h4>Secretion</h4><table border=\"1\" class=\"dataframe\">\n",
       "  <thead>\n",
       "    <tr style=\"text-align: right;\">\n",
       "      <th>Metabolite</th>\n",
       "      <th>Reaction</th>\n",
       "      <th>Flux</th>\n",
       "      <th>C-Number</th>\n",
       "      <th>C-Flux</th>\n",
       "    </tr>\n",
       "  </thead>\n",
       "  <tbody>\n",
       "    <tr>\n",
       "      <td>m1287</td>\n",
       "      <td>EX_m1287</td>\n",
       "      <td>-0.0803</td>\n",
       "      <td>0</td>\n",
       "      <td>0.00%</td>\n",
       "    </tr>\n",
       "    <tr>\n",
       "      <td>m1291</td>\n",
       "      <td>EX_m1291</td>\n",
       "      <td>-1.597</td>\n",
       "      <td>0</td>\n",
       "      <td>0.00%</td>\n",
       "    </tr>\n",
       "    <tr>\n",
       "      <td>m1349</td>\n",
       "      <td>EX_m1349</td>\n",
       "      <td>-3.432</td>\n",
       "      <td>0</td>\n",
       "      <td>0.00%</td>\n",
       "    </tr>\n",
       "  </tbody>\n",
       "</table>"
      ],
      "text/plain": [
       "<cobra.summary.model_summary.ModelSummary at 0x7fb6aa32b550>"
      ]
     },
     "execution_count": 98,
     "metadata": {},
     "output_type": "execute_result"
    }
   ],
   "source": [
    "# run the model/optimizes for cell growth\n",
    "\n",
    "pheast.optimize()\n",
    "pheast.summary()"
   ]
  },
  {
   "cell_type": "code",
   "execution_count": 79,
   "id": "c139329d",
   "metadata": {},
   "outputs": [
    {
     "data": {
      "text/plain": [
       "frozenset({<Reaction EX_m1293 at 0x7fb6ab9ebd90>,\n",
       "           <Reaction r1145 at 0x7fb6aacf1970>})"
      ]
     },
     "execution_count": 79,
     "metadata": {},
     "output_type": "execute_result"
    }
   ],
   "source": [
    "# find glucose reactions (it can be seen that it is the carbon source being taken up at 1 mmol gDW^-1 h^-1)\n",
    "pheast.metabolites.m1293.reactions"
   ]
  },
  {
   "cell_type": "code",
   "execution_count": 80,
   "id": "45b3b29a",
   "metadata": {},
   "outputs": [
    {
     "data": {
      "text/html": [
       "\n",
       "        <table>\n",
       "            <tr>\n",
       "                <td><strong>Reaction identifier</strong></td><td>EX_m1293</td>\n",
       "            </tr><tr>\n",
       "                <td><strong>Name</strong></td><td>EX_m1293</td>\n",
       "            </tr><tr>\n",
       "                <td><strong>Memory address</strong></td>\n",
       "                <td>0x07fb6ab9ebd90</td>\n",
       "            </tr><tr>\n",
       "                <td><strong>Stoichiometry</strong></td>\n",
       "                <td>\n",
       "                    <p style='text-align:right'>m1293 <=></p>\n",
       "                    <p style='text-align:right'>alpha-D-Glucose_C6H12O6 <=></p>\n",
       "                </td>\n",
       "            </tr><tr>\n",
       "                <td><strong>GPR</strong></td><td></td>\n",
       "            </tr><tr>\n",
       "                <td><strong>Lower bound</strong></td><td>-1000.0</td>\n",
       "            </tr><tr>\n",
       "                <td><strong>Upper bound</strong></td><td>1000.0</td>\n",
       "            </tr>\n",
       "        </table>\n",
       "        "
      ],
      "text/plain": [
       "<Reaction EX_m1293 at 0x7fb6ab9ebd90>"
      ]
     },
     "execution_count": 80,
     "metadata": {},
     "output_type": "execute_result"
    }
   ],
   "source": [
    "# exchange reaction in general\n",
    "\n",
    "pheast.reactions.EX_m1293\n"
   ]
  },
  {
   "cell_type": "code",
   "execution_count": 81,
   "id": "7da152b5",
   "metadata": {},
   "outputs": [
    {
     "data": {
      "text/html": [
       "\n",
       "        <table>\n",
       "            <tr>\n",
       "                <td><strong>Reaction identifier</strong></td><td>r1145</td>\n",
       "            </tr><tr>\n",
       "                <td><strong>Name</strong></td><td>Uptake of alpha-D-Glucose</td>\n",
       "            </tr><tr>\n",
       "                <td><strong>Memory address</strong></td>\n",
       "                <td>0x07fb6aacf1970</td>\n",
       "            </tr><tr>\n",
       "                <td><strong>Stoichiometry</strong></td>\n",
       "                <td>\n",
       "                    <p style='text-align:right'>m1293 --> m2</p>\n",
       "                    <p style='text-align:right'>alpha-D-Glucose_C6H12O6 --> alpha-D-Glucose_C6H12O6</p>\n",
       "                </td>\n",
       "            </tr><tr>\n",
       "                <td><strong>GPR</strong></td><td></td>\n",
       "            </tr><tr>\n",
       "                <td><strong>Lower bound</strong></td><td>0.0</td>\n",
       "            </tr><tr>\n",
       "                <td><strong>Upper bound</strong></td><td>1.0</td>\n",
       "            </tr>\n",
       "        </table>\n",
       "        "
      ],
      "text/plain": [
       "<Reaction r1145 at 0x7fb6aacf1970>"
      ]
     },
     "execution_count": 81,
     "metadata": {},
     "output_type": "execute_result"
    }
   ],
   "source": [
    "# this reaction seems to be the uptake from medium (it is defined in this model as boundary metabolites -> extracellular --> cytosolic\n",
    "# and we have to define the medium boudary at reaction from boundary to extracellular)\n",
    "\n",
    "pheast.reactions.r1145\n"
   ]
  },
  {
   "cell_type": "code",
   "execution_count": 82,
   "id": "62306539",
   "metadata": {
    "scrolled": true
   },
   "outputs": [
    {
     "data": {
      "text/plain": [
       "[<Reaction r1158 at 0x7fb6aacf1370>]"
      ]
     },
     "execution_count": 82,
     "metadata": {},
     "output_type": "execute_result"
    }
   ],
   "source": [
    "# look for methanol\n",
    "\n",
    "pheast.reactions.query(\"methanol\", \"name\")"
   ]
  },
  {
   "cell_type": "code",
   "execution_count": 83,
   "id": "313f73ab",
   "metadata": {},
   "outputs": [
    {
     "data": {
      "text/html": [
       "\n",
       "        <table>\n",
       "            <tr>\n",
       "                <td><strong>Reaction identifier</strong></td><td>r1158</td>\n",
       "            </tr><tr>\n",
       "                <td><strong>Name</strong></td><td>uptake of methanol</td>\n",
       "            </tr><tr>\n",
       "                <td><strong>Memory address</strong></td>\n",
       "                <td>0x07fb6aacf1370</td>\n",
       "            </tr><tr>\n",
       "                <td><strong>Stoichiometry</strong></td>\n",
       "                <td>\n",
       "                    <p style='text-align:right'>m1297 --> m1219</p>\n",
       "                    <p style='text-align:right'>Methanol_CH4O --> Methanol_CH4O</p>\n",
       "                </td>\n",
       "            </tr><tr>\n",
       "                <td><strong>GPR</strong></td><td></td>\n",
       "            </tr><tr>\n",
       "                <td><strong>Lower bound</strong></td><td>0.0</td>\n",
       "            </tr><tr>\n",
       "                <td><strong>Upper bound</strong></td><td>0.0</td>\n",
       "            </tr>\n",
       "        </table>\n",
       "        "
      ],
      "text/plain": [
       "<Reaction r1158 at 0x7fb6aacf1370>"
      ]
     },
     "execution_count": 83,
     "metadata": {},
     "output_type": "execute_result"
    }
   ],
   "source": [
    "# this is methanol uptake\n",
    "\n",
    "pheast.reactions.r1158"
   ]
  },
  {
   "cell_type": "code",
   "execution_count": 117,
   "id": "8840057c",
   "metadata": {},
   "outputs": [],
   "source": [
    "pheast.reactions.r1145.bounds = 0, 0  # no glucose \n",
    "pheast.reactions.r1158.bounds = 0, 1  # methanol at 1 mmol gDW^-1 h^-1"
   ]
  },
  {
   "cell_type": "code",
   "execution_count": 118,
   "id": "757f94b1",
   "metadata": {},
   "outputs": [
    {
     "data": {
      "text/html": [
       "<h3>Objective</h3><p>1.0 r1339 = 0.011453366468219692</p><h4>Uptake</h4><table border=\"1\" class=\"dataframe\">\n",
       "  <thead>\n",
       "    <tr style=\"text-align: right;\">\n",
       "      <th>Metabolite</th>\n",
       "      <th>Reaction</th>\n",
       "      <th>Flux</th>\n",
       "      <th>C-Number</th>\n",
       "      <th>C-Flux</th>\n",
       "    </tr>\n",
       "  </thead>\n",
       "  <tbody>\n",
       "    <tr>\n",
       "      <td>m1297</td>\n",
       "      <td>EX_m1297</td>\n",
       "      <td>1</td>\n",
       "      <td>0</td>\n",
       "      <td>0.00%</td>\n",
       "    </tr>\n",
       "    <tr>\n",
       "      <td>m1298</td>\n",
       "      <td>EX_m1298</td>\n",
       "      <td>1.258</td>\n",
       "      <td>0</td>\n",
       "      <td>0.00%</td>\n",
       "    </tr>\n",
       "    <tr>\n",
       "      <td>m1300</td>\n",
       "      <td>EX_m1300</td>\n",
       "      <td>0.06602</td>\n",
       "      <td>0</td>\n",
       "      <td>0.00%</td>\n",
       "    </tr>\n",
       "    <tr>\n",
       "      <td>m1301</td>\n",
       "      <td>EX_m1301</td>\n",
       "      <td>0.004719</td>\n",
       "      <td>0</td>\n",
       "      <td>0.00%</td>\n",
       "    </tr>\n",
       "    <tr>\n",
       "      <td>m1304</td>\n",
       "      <td>EX_m1304</td>\n",
       "      <td>0.0003508</td>\n",
       "      <td>0</td>\n",
       "      <td>0.00%</td>\n",
       "    </tr>\n",
       "  </tbody>\n",
       "</table><h4>Secretion</h4><table border=\"1\" class=\"dataframe\">\n",
       "  <thead>\n",
       "    <tr style=\"text-align: right;\">\n",
       "      <th>Metabolite</th>\n",
       "      <th>Reaction</th>\n",
       "      <th>Flux</th>\n",
       "      <th>C-Number</th>\n",
       "      <th>C-Flux</th>\n",
       "    </tr>\n",
       "  </thead>\n",
       "  <tbody>\n",
       "    <tr>\n",
       "      <td>m1287</td>\n",
       "      <td>EX_m1287</td>\n",
       "      <td>-0.01145</td>\n",
       "      <td>0</td>\n",
       "      <td>0.00%</td>\n",
       "    </tr>\n",
       "    <tr>\n",
       "      <td>m1291</td>\n",
       "      <td>EX_m1291</td>\n",
       "      <td>-0.372</td>\n",
       "      <td>0</td>\n",
       "      <td>0.00%</td>\n",
       "    </tr>\n",
       "    <tr>\n",
       "      <td>m1349</td>\n",
       "      <td>EX_m1349</td>\n",
       "      <td>-1.643</td>\n",
       "      <td>0</td>\n",
       "      <td>0.00%</td>\n",
       "    </tr>\n",
       "  </tbody>\n",
       "</table>"
      ],
      "text/plain": [
       "<cobra.summary.model_summary.ModelSummary at 0x7fb6a97763a0>"
      ]
     },
     "execution_count": 118,
     "metadata": {},
     "output_type": "execute_result"
    }
   ],
   "source": [
    "# it grows on methanol\n",
    "\n",
    "pheast.optimize()\n",
    "pheast.summary()"
   ]
  },
  {
   "cell_type": "code",
   "execution_count": 259,
   "id": "32cf5ca6",
   "metadata": {},
   "outputs": [
    {
     "data": {
      "text/plain": [
       "[<Metabolite boundary_methane at 0x7fb6a58de220>,\n",
       " <Metabolite extracellular_methane at 0x7fb6a58de310>,\n",
       " <Metabolite cytosolic_methane at 0x7fb6a6ba7d00>]"
      ]
     },
     "execution_count": 259,
     "metadata": {},
     "output_type": "execute_result"
    }
   ],
   "source": [
    "# no methane yet\n",
    "\n",
    "pheast.metabolites.query(\"methane\", \"name\")"
   ]
  },
  {
   "cell_type": "code",
   "execution_count": 243,
   "id": "b555ca89",
   "metadata": {},
   "outputs": [],
   "source": [
    "# we add methane\n",
    "\n",
    "b_methane = cobra.Metabolite(\n",
    "    'boundary_methane',\n",
    "    formula='C1H4',\n",
    "    name='bou_methane',\n",
    "    compartment='C_b')\n",
    "e_methane = cobra.Metabolite(\n",
    "    'extracellular_methane',\n",
    "    formula='C1H4',\n",
    "    name='ex_methane',\n",
    "    compartment='C_e')\n",
    "#c_methane = cobra.Metabolite(\n",
    "#    'cytosolic_methane',\n",
    "#    formula='C1H4',\n",
    "#    name='cyt_methane',\n",
    "#    compartment='C_c')\n",
    "\n",
    "pheast.add_metabolites([b_methane,e_methane,c_methane])"
   ]
  },
  {
   "cell_type": "code",
   "execution_count": 244,
   "id": "387e915c",
   "metadata": {},
   "outputs": [
    {
     "name": "stderr",
     "output_type": "stream",
     "text": [
      "Ignoring reaction 'EX_methane' since it already exists.\n",
      "Ignoring reaction 'uptake_methane' since it already exists.\n",
      "Ignoring reaction 'methane_oxidation' since it already exists.\n"
     ]
    }
   ],
   "source": [
    "# make reactions\n",
    "\n",
    "EX_methane = cobra.Reaction(\n",
    "            'EX_methane',\n",
    "            name = 'Exchange Reaction Methane',\n",
    "            lower_bound = -1000,\n",
    "            upper_bound = 1000,\n",
    "        )\n",
    "\n",
    "uptake_methane = cobra.Reaction(\n",
    "            'uptake_methane',\n",
    "            name = 'Methane Uptake from Environent',\n",
    "            lower_bound = 0,\n",
    "            upper_bound = 1.0\n",
    "        )\n",
    "\n",
    "methane_oxidation = cobra.Reaction(\n",
    "            'methane_oxidation',\n",
    "            name = 'methane oxidation',\n",
    "            lower_bound = 0.0,\n",
    "            upper_bound = 1000.0\n",
    "    )\n",
    "\n",
    "# add involved metabolites and stoichiometry\n",
    "\n",
    "EX_methane.add_metabolites(\n",
    "    {\n",
    "        b_methane: -1.0,\n",
    "    }\n",
    ")\n",
    "\n",
    "uptake_methane.add_metabolites(\n",
    "    {\n",
    "        b_methane: -1.0,\n",
    "        e_methane: 1.0\n",
    "    }\n",
    ")\n",
    "\n",
    "# pMMO reaction without redox coenzyme (in literature mostly ubiquinol is mentioned but neither is there\n",
    "# cytosolic ubiqunol in this model (only in mitochondria), nor does the literature agree on what its role may be exactly )\n",
    "\n",
    "methane_oxidation.add_metabolites(\n",
    "    {\n",
    "        e_methane: -1.0,\n",
    "        pheast.metabolites.m1232: -1.0,\n",
    "        pheast.metabolites.m1215: 1.0,\n",
    "        pheast.metabolites.m139: 1.0,\n",
    "    }\n",
    ")\n",
    "\n",
    "# add gene dependency for pMMO\n",
    "\n",
    "methane_oxidation.gene_reaction_rule = 'AOX_pMMO'\n",
    "\n",
    "# add reactions to pheast\n",
    "\n",
    "pheast.add_reactions([EX_methane,uptake_methane,methane_oxidation])"
   ]
  },
  {
   "cell_type": "code",
   "execution_count": 187,
   "id": "240a605d",
   "metadata": {},
   "outputs": [],
   "source": [
    "pheast.reactions.r1158.bounds = 0, 0  # set methanol uptake to 0 and try if it grows on methane"
   ]
  },
  {
   "cell_type": "code",
   "execution_count": 188,
   "id": "50d6314f",
   "metadata": {},
   "outputs": [
    {
     "data": {
      "text/html": [
       "<h3>Objective</h3><p>1.0 r1339 = 0.0</p><h4>Uptake</h4><table border=\"1\" class=\"dataframe\">\n",
       "  <thead>\n",
       "    <tr style=\"text-align: right;\">\n",
       "      <th>Metabolite</th>\n",
       "      <th>Reaction</th>\n",
       "      <th>Flux</th>\n",
       "      <th>C-Number</th>\n",
       "      <th>C-Flux</th>\n",
       "    </tr>\n",
       "  </thead>\n",
       "  <tbody>\n",
       "  </tbody>\n",
       "</table><h4>Secretion</h4><table border=\"1\" class=\"dataframe\">\n",
       "  <thead>\n",
       "    <tr style=\"text-align: right;\">\n",
       "      <th>Metabolite</th>\n",
       "      <th>Reaction</th>\n",
       "      <th>Flux</th>\n",
       "      <th>C-Number</th>\n",
       "      <th>C-Flux</th>\n",
       "    </tr>\n",
       "  </thead>\n",
       "  <tbody>\n",
       "  </tbody>\n",
       "</table>"
      ],
      "text/plain": [
       "<cobra.summary.model_summary.ModelSummary at 0x7fb6a5a0da00>"
      ]
     },
     "execution_count": 188,
     "metadata": {},
     "output_type": "execute_result"
    }
   ],
   "source": [
    "# it grows on methane\n",
    "\n",
    "pheast.optimize()\n",
    "pheast.summary()"
   ]
  },
  {
   "cell_type": "code",
   "execution_count": null,
   "id": "03897f71",
   "metadata": {},
   "outputs": [],
   "source": []
  },
  {
   "cell_type": "code",
   "execution_count": 252,
   "id": "11846df6",
   "metadata": {
    "scrolled": true
   },
   "outputs": [
    {
     "data": {
      "text/plain": [
       "[<Metabolite m118 at 0x7fb6a648d880>,\n",
       " <Metabolite m139 at 0x7fb6a648d460>,\n",
       " <Metabolite m140 at 0x7fb6a648d430>,\n",
       " <Metabolite m713 at 0x7fb6a65b26a0>,\n",
       " <Metabolite m1179 at 0x7fb6a65daee0>]"
      ]
     },
     "execution_count": 252,
     "metadata": {},
     "output_type": "execute_result"
    }
   ],
   "source": [
    "# we will now introduce our heterologous protein: leghemoglobin\n",
    "# we look at the detoxification pathway as there is a heme group in both catalase and hemoglobin which could\n",
    "# influence our system in general and reaction we introduce for production of (leg)hemoglobin\n",
    "\n",
    "pheast.metabolites.query(\"H2O2\",\"name\")"
   ]
  },
  {
   "cell_type": "code",
   "execution_count": 230,
   "id": "9af03820",
   "metadata": {},
   "outputs": [
    {
     "data": {
      "text/html": [
       "\n",
       "        <table>\n",
       "            <tr>\n",
       "                <td><strong>Metabolite identifier</strong></td><td>m713</td>\n",
       "            </tr><tr>\n",
       "                <td><strong>Name</strong></td><td>H2O2_H2O2</td>\n",
       "            </tr><tr>\n",
       "                <td><strong>Memory address</strong></td>\n",
       "                <td>0x07fb6a65b26a0</td>\n",
       "            </tr><tr>\n",
       "                <td><strong>Formula</strong></td><td></td>\n",
       "            </tr><tr>\n",
       "                <td><strong>Compartment</strong></td><td>C_p</td>\n",
       "            </tr><tr>\n",
       "                <td><strong>In 16 reaction(s)</strong></td><td>\n",
       "                    r225, r91, r216, r222, r221, r220, r217, r99, r226, r224, r223, r218, r1088, r134, r219, r215</td>\n",
       "            </tr>\n",
       "        </table>"
      ],
      "text/plain": [
       "<Metabolite m713 at 0x7fb6a65b26a0>"
      ]
     },
     "execution_count": 230,
     "metadata": {},
     "output_type": "execute_result"
    }
   ],
   "source": [
    "# this is the peroxisomal H2O2\n",
    "\n",
    "pheast.metabolites.m713"
   ]
  },
  {
   "cell_type": "code",
   "execution_count": 254,
   "id": "3861fe66",
   "metadata": {},
   "outputs": [
    {
     "data": {
      "text/html": [
       "\n",
       "        <table>\n",
       "            <tr>\n",
       "                <td><strong>Reaction identifier</strong></td><td>r99</td>\n",
       "            </tr><tr>\n",
       "                <td><strong>Name</strong></td><td>hydrogen-peroxide:hydrogen-peroxide oxidoreductase</td>\n",
       "            </tr><tr>\n",
       "                <td><strong>Memory address</strong></td>\n",
       "                <td>0x07fb6a5c0fdf0</td>\n",
       "            </tr><tr>\n",
       "                <td><strong>Stoichiometry</strong></td>\n",
       "                <td>\n",
       "                    <p style='text-align:right'>2.0 m713 --> 2.0 m65</p>\n",
       "                    <p style='text-align:right'>2.0 H2O2_H2O2 --> 2.0 H2O_H2O</p>\n",
       "                </td>\n",
       "            </tr><tr>\n",
       "                <td><strong>GPR</strong></td><td>PAS_chr2-2_0131</td>\n",
       "            </tr><tr>\n",
       "                <td><strong>Lower bound</strong></td><td>0.0</td>\n",
       "            </tr><tr>\n",
       "                <td><strong>Upper bound</strong></td><td>1000.0</td>\n",
       "            </tr>\n",
       "        </table>\n",
       "        "
      ],
      "text/plain": [
       "<Reaction r99 at 0x7fb6a5c0fdf0>"
      ]
     },
     "execution_count": 254,
     "metadata": {},
     "output_type": "execute_result"
    }
   ],
   "source": [
    "# this is the catalase reaction, heme is not considered\n",
    "\n",
    "pheast.reactions.r99"
   ]
  },
  {
   "cell_type": "code",
   "execution_count": 260,
   "id": "a483d17b",
   "metadata": {},
   "outputs": [
    {
     "data": {
      "text/plain": [
       "[<Metabolite m1045 at 0x7fb6a65f85e0>,\n",
       " <Metabolite m1046 at 0x7fb6a65f8610>,\n",
       " <Metabolite m1047 at 0x7fb6a65f8640>,\n",
       " <Metabolite m1048 at 0x7fb6a65f8670>,\n",
       " <Metabolite m1049 at 0x7fb6a65f86a0>,\n",
       " <Metabolite m1055 at 0x7fb6a65f87c0>,\n",
       " <Metabolite m1056 at 0x7fb6a65f87f0>,\n",
       " <Metabolite m1185 at 0x7fb6a65da040>]"
      ]
     },
     "execution_count": 260,
     "metadata": {},
     "output_type": "execute_result"
    }
   ],
   "source": [
    "# we find there is a heme metabolite\n",
    "\n",
    "pheast.metabolites.query(\"heme\",\"name\")"
   ]
  },
  {
   "cell_type": "code",
   "execution_count": 289,
   "id": "1cb4f8b0",
   "metadata": {},
   "outputs": [
    {
     "data": {
      "text/html": [
       "\n",
       "        <table>\n",
       "            <tr>\n",
       "                <td><strong>Metabolite identifier</strong></td><td>m1056</td>\n",
       "            </tr><tr>\n",
       "                <td><strong>Name</strong></td><td>Coproporphyrinogen I_C36H44N4O8</td>\n",
       "            </tr><tr>\n",
       "                <td><strong>Memory address</strong></td>\n",
       "                <td>0x07fb6a65f87f0</td>\n",
       "            </tr><tr>\n",
       "                <td><strong>Formula</strong></td><td></td>\n",
       "            </tr><tr>\n",
       "                <td><strong>Compartment</strong></td><td>C_c</td>\n",
       "            </tr><tr>\n",
       "                <td><strong>In 1 reaction(s)</strong></td><td>\n",
       "                    r860</td>\n",
       "            </tr>\n",
       "        </table>"
      ],
      "text/plain": [
       "<Metabolite m1056 at 0x7fb6a65f87f0>"
      ]
     },
     "execution_count": 289,
     "metadata": {},
     "output_type": "execute_result"
    }
   ],
   "source": [
    "# it is siroheme\n",
    "\n",
    "pheast.metabolites.m1056"
   ]
  },
  {
   "cell_type": "code",
   "execution_count": 258,
   "id": "0bbf3426",
   "metadata": {},
   "outputs": [
    {
     "data": {
      "text/html": [
       "\n",
       "        <table>\n",
       "            <tr>\n",
       "                <td><strong>Reaction identifier</strong></td><td>r973</td>\n",
       "            </tr><tr>\n",
       "                <td><strong>Name</strong></td><td>S-Adenosyl-L-methionine:uroporphyrin-III C-methyltransferase</td>\n",
       "            </tr><tr>\n",
       "                <td><strong>Memory address</strong></td>\n",
       "                <td>0x07fb6a5e67a60</td>\n",
       "            </tr><tr>\n",
       "                <td><strong>Stoichiometry</strong></td>\n",
       "                <td>\n",
       "                    <p style='text-align:right'>m1052 + m564 --> m1053 + 2.0 m16</p>\n",
       "                    <p style='text-align:right'>Sirohydrochlorin_C42H46N4O16 + Fe2+_Fe --> Siroheme_C42H44FeN4O16 + 2.0 H+_H</p>\n",
       "                </td>\n",
       "            </tr><tr>\n",
       "                <td><strong>GPR</strong></td><td>PAS_chr1-4_0222</td>\n",
       "            </tr><tr>\n",
       "                <td><strong>Lower bound</strong></td><td>0.0</td>\n",
       "            </tr><tr>\n",
       "                <td><strong>Upper bound</strong></td><td>1000.0</td>\n",
       "            </tr>\n",
       "        </table>\n",
       "        "
      ],
      "text/plain": [
       "<Reaction r973 at 0x7fb6a5e67a60>"
      ]
     },
     "execution_count": 258,
     "metadata": {},
     "output_type": "execute_result"
    }
   ],
   "source": [
    "# only involved in this reaction; it is also specifically a species of heme different from the one in catalse\n",
    "# and hemoglobin, so we should not take this one\n",
    "pheast.reactions.r973"
   ]
  },
  {
   "cell_type": "code",
   "execution_count": 279,
   "id": "2552d9d4",
   "metadata": {},
   "outputs": [
    {
     "data": {
      "text/plain": [
       "[<Metabolite m1045 at 0x7fb6a65f85e0>,\n",
       " <Metabolite m1046 at 0x7fb6a65f8610>,\n",
       " <Metabolite m1047 at 0x7fb6a65f8640>,\n",
       " <Metabolite m1048 at 0x7fb6a65f8670>,\n",
       " <Metabolite m1049 at 0x7fb6a65f86a0>,\n",
       " <Metabolite m1055 at 0x7fb6a65f87c0>,\n",
       " <Metabolite m1056 at 0x7fb6a65f87f0>,\n",
       " <Metabolite m1185 at 0x7fb6a65da040>]"
      ]
     },
     "execution_count": 279,
     "metadata": {},
     "output_type": "execute_result"
    }
   ],
   "source": [
    "# there are also a bunch of porypherin metabolites which are similar to the hemoglobin\n",
    "\n",
    "pheast.metabolites.query(\"porphyrin\",\"name\")\n",
    "\n",
    "#     A. Díaz, P.C. Loewen, I. Fita, X. Carpena\n",
    "#    Thirty years of heme catalases structural biology\n",
    "#    Arch. Biochem. Biophys., 525 (2012), pp. 102-110\n",
    "\n",
    "# According to the source above C34-heme b is the most abundant, so we could go for that (there are some C34\n",
    "# poryphyrins) and introduce it in the catalase and later hemoglobin reaction but none are in the peroxisome"
   ]
  },
  {
   "cell_type": "code",
   "execution_count": null,
   "id": "7db7581a",
   "metadata": {},
   "outputs": [],
   "source": [
    "# now we will introduce the heterologous proteins, pMMO and leghemoglobin, with reactions for dna replication,\n",
    "# transcription and translation\n",
    "# as the sequences are long, we calculate the stoichiometry with a script which is on the github repo and\n",
    "# based on the logic behind introduction of heterologous protein production in the paper:\n",
    "# Irani ZA, Kerkhoven EJ, Shojaosadati SA, Nielsen J (2016) Genome-scale metabolic model of Pichia pastoris with native and humanized glycosylation of recombinant proteins. Biotechnol Bioeng 113:961–969. doi: 10.1002/bit.25863.\n",
    "\n",
    "# first remove the heterologous protein production reactions from the paper\n",
    "\n",
    "#..."
   ]
  },
  {
   "cell_type": "code",
   "execution_count": null,
   "id": "91669d4d",
   "metadata": {},
   "outputs": [],
   "source": [
    "# make new reactions\n",
    "\n",
    "pMMO_DNA = cobra.Reaction(\n",
    "            'pMMO_DNA',\n",
    "            name = 'pMMO DNA replication',\n",
    "            lower_bound = 0.0,\n",
    "            upper_bound = 1000,\n",
    "        )\n",
    "\n",
    "pMMO_RNA = cobra.Reaction(\n",
    "            'pMMO_RNA',\n",
    "            name = 'pMMO transcription',\n",
    "            lower_bound = 0.0,\n",
    "            upper_bound = 1000.0\n",
    "        )\n",
    "\n",
    "pMMO_AA = cobra.Reaction(\n",
    "            'pMMO_AA',\n",
    "            name = 'pMMO translation',\n",
    "            lower_bound = 0.0,\n",
    "            upper_bound = 1000.0\n",
    "    )\n",
    "\n",
    "hemo_DNA = cobra.Reaction(\n",
    "            'hemo_DNA',\n",
    "            name = 'hemoglobin DNA replication',\n",
    "            lower_bound = 0.0,\n",
    "            upper_bound = 1000.0\n",
    "        )\n",
    "\n",
    "hemo_RNA = cobra.Reaction(\n",
    "            'hemo_RNA',\n",
    "            name = 'hemoglobin transcription',\n",
    "            lower_bound = 0.0,\n",
    "            upper_bound = 1000.0\n",
    "        )\n",
    "\n",
    "hemo_AA = cobra.Reaction(\n",
    "            'hemo_AA',\n",
    "            name = 'hemoglobin translation',\n",
    "            lower_bound = 0.0,\n",
    "            upper_bound = 1000.0\n",
    ")\n",
    "\n",
    "\n",
    "# add involved metabolites and stoichiometry\n",
    "\n",
    "pMMO_DNA.add_metabolites(\n",
    "    {\n",
    "        ### deoxynucleotides\n",
    "        # A\n",
    "        pheast.metabolites.m404: -0.97513,\n",
    "        # T\n",
    "        pheast.metabolites.m437: -0.97513,\n",
    "        # C\n",
    "        pheast.metabolites.m431: -0.64352,\n",
    "        # G\n",
    "        pheast.metabolites.m389: -0.64352,\n",
    "        # ATP\n",
    "        pheast.metabolite.m1: -11.00682,\n",
    "    }\n",
    ")\n",
    "\n",
    "pMMO_RNA.add_metabolites(\n",
    "    {\n",
    "        ### RNA nucleotides\n",
    "        # A\n",
    "        pheast.metabolites.m94: -1.11694,\n",
    "        # U\n",
    "        pheast.metabolites.m418: -0.72523,\n",
    "        # C\n",
    "        pheast.metabolites.m423: -0.74,\n",
    "        # G\n",
    "        pheast.metabolites.m384: -0.53415,\n",
    "        # ATP\n",
    "        pheast.metabolite.m1: -7.47917,\n",
    "    }\n",
    ")\n",
    "\n",
    "pMMO_AA.add_metabolites(\n",
    "    {\n",
    "        ### Amino Acids\n",
    "        # A\n",
    "        pheast.metabolites.m153: -0.73616,\n",
    "        # C\n",
    "        pheast.metabolites.m331: -0.02974,\n",
    "        # H\n",
    "        pheast.metabolites.m490: -0.19333,\n",
    "        # M\n",
    "        pheast.metabolites.m343: -0.29,\n",
    "        # T\n",
    "        pheast.metabolites.m305: -0.59487,\n",
    "        # R\n",
    "        pheast.metabolites.m158: -0.38667,\n",
    "        # E\n",
    "        pheast.metabolites.m154: -0.43872,\n",
    "        # I\n",
    "        pheast.metabolites.m239: -0.54282,\n",
    "        # F\n",
    "        pheast.metabolites.m272: -0.53539,\n",
    "        # W\n",
    "        pheast.metabolites.m280: -0.29744,\n",
    "        # N\n",
    "        pheast.metabolites.m161: -0.28256,\n",
    "        # Q\n",
    "        pheast.metabolites.m163: -0.1859,\n",
    "        # L\n",
    "        pheast.metabolites.m227: -0.84769,\n",
    "        # P\n",
    "        pheast.metabolites.m185: -0.43872,\n",
    "        # Y\n",
    "        pheast.metabolites.m274: -0.40154,\n",
    "        # D\n",
    "        pheast.metabolites.m156: -0.42385,\n",
    "        # G\n",
    "        pheast.metabolites.m210: -0.69898,\n",
    "        # K\n",
    "        pheast.metabolites.m203: -0.3941,\n",
    "        # S\n",
    "        pheast.metabolites.m279: -0.43872,\n",
    "        # V\n",
    "        pheast.metabolites.m222: -0.70641,\n",
    "        # ATP\n",
    "        pheast.metabolite.m1: -38.11352,\n",
    "    }\n",
    ")\n",
    "\n",
    "hemo_DNA.add_metabolites(\n",
    "    {\n",
    "        ### deoxynucleotides\n",
    "        # A\n",
    "        pheast.metabolites.m404: -1.0424,\n",
    "        # T\n",
    "        pheast.metabolites.m437: -1.0424,\n",
    "        # C\n",
    "        pheast.metabolites.m431: -0.57636,\n",
    "        # G\n",
    "        pheast.metabolites.m389: -0.57636,\n",
    "        # ATP\n",
    "        pheast.metabolite.m1: -11.00757,\n",
    "    }\n",
    ")\n",
    "\n",
    "hemo_RNA.add_metabolites(\n",
    "    {\n",
    "        ### RNA nucleotides\n",
    "        # A\n",
    "        pheast.metabolites.m94: -1.2408,\n",
    "        # U\n",
    "        pheast.metabolites.m418: -0.80329,\n",
    "        # C\n",
    "        pheast.metabolites.m423: -0.6455,\n",
    "        # G\n",
    "        pheast.metabolites.m384: -0.43034,\n",
    "        # ATP\n",
    "        pheast.metabolite.m1: -7.48783,\n",
    "    }\n",
    ")\n",
    "\n",
    "hemo_AA.add_metabolites(\n",
    "    {\n",
    "        ### Amino Acids\n",
    "        # A\n",
    "        pheast.metabolites.m153: -1.48373,\n",
    "        # C, no Cystein in leghemoglobin\n",
    "        # pheast.metabolites.m331:,\n",
    "        # H\n",
    "        pheast.metabolites.m490: -0.12902,\n",
    "        # M\n",
    "        pheast.metabolites.m343: -0.06451,\n",
    "        # T\n",
    "        pheast.metabolites.m305: -0.38706,\n",
    "        # R\n",
    "        pheast.metabolites.m158: -0.06451,\n",
    "        # E\n",
    "        pheast.metabolites.m154: -0.6451,\n",
    "        # I\n",
    "        pheast.metabolites.m239: -0.38706,\n",
    "        # F\n",
    "        pheast.metabolites.m272: -0.58059,\n",
    "        # W\n",
    "        pheast.metabolites.m280: -0.12902,\n",
    "        # N\n",
    "        pheast.metabolites.m161: -0.25804,\n",
    "        # Q\n",
    "        pheast.metabolites.m163: -0.32255,\n",
    "        # L\n",
    "        pheast.metabolites.m227: -0.83863,\n",
    "        # P\n",
    "        pheast.metabolites.m185: -0.32255,\n",
    "        # Y\n",
    "        pheast.metabolites.m274: -0.19353,\n",
    "        # D\n",
    "        pheast.metabolites.m156: -0.51608,\n",
    "        # G\n",
    "        pheast.metabolites.m210: -0.51608,\n",
    "        # K\n",
    "        pheast.metabolites.m203: -0.90314,\n",
    "        # S\n",
    "        pheast.metabolites.m279: -0.83863,\n",
    "        # V\n",
    "        pheast.metabolites.m222: -0.77412,\n",
    "        # ATP\n",
    "        pheast.metabolite.m1: -40.22199,\n",
    "        # \n",
    "    }\n",
    ")\n",
    "\n",
    "\n",
    "# add reactions to pheast\n",
    "\n",
    "pheast.add_reactions([pMMO_DNA,\n",
    "                     pMMO_RNA,\n",
    "                     pMMO_AA,\n",
    "                     hemo_DNA,\n",
    "                     hemo_RNA,\n",
    "                     hemo_AA])"
   ]
  },
  {
   "cell_type": "code",
   "execution_count": 291,
   "id": "15c90632",
   "metadata": {},
   "outputs": [
    {
     "data": {
      "text/plain": [
       "[<Reaction r640 at 0x7fb6a5fabca0>,\n",
       " <Reaction r641 at 0x7fb6a5fabc70>,\n",
       " <Reaction r642 at 0x7fb6a5fab9d0>,\n",
       " <Reaction r649 at 0x7fb6a5fabb80>,\n",
       " <Reaction r650 at 0x7fb6a5fa3ca0>,\n",
       " <Reaction r651 at 0x7fb6a5fa3790>,\n",
       " <Reaction r652 at 0x7fb6a5fa3c10>,\n",
       " <Reaction r643 at 0x7fb6a5f6ebe0>,\n",
       " <Reaction r644 at 0x7fb6a5f6e970>,\n",
       " <Reaction r653 at 0x7fb6a5f7c730>,\n",
       " <Reaction r654 at 0x7fb6a5f7c490>,\n",
       " <Reaction r655 at 0x7fb6a5f6e9a0>,\n",
       " <Reaction r656 at 0x7fb6a5f6eac0>,\n",
       " <Reaction r1204 at 0x7fb6a5bd0d30>,\n",
       " <Reaction r1092 at 0x7fb6a5b47b80>]"
      ]
     },
     "execution_count": 291,
     "metadata": {},
     "output_type": "execute_result"
    }
   ],
   "source": [
    "pheast.reactions.query(\"DNA\",\"name\")"
   ]
  },
  {
   "cell_type": "code",
   "execution_count": 294,
   "id": "3e3a3ed8",
   "metadata": {},
   "outputs": [
    {
     "data": {
      "text/html": [
       "\n",
       "        <table>\n",
       "            <tr>\n",
       "                <td><strong>Reaction identifier</strong></td><td>r1101</td>\n",
       "            </tr><tr>\n",
       "                <td><strong>Name</strong></td><td>FAB, polymerization of deoxynucleotides</td>\n",
       "            </tr><tr>\n",
       "                <td><strong>Memory address</strong></td>\n",
       "                <td>0x07fb6a5b47370</td>\n",
       "            </tr><tr>\n",
       "                <td><strong>Stoichiometry</strong></td>\n",
       "                <td>\n",
       "                    <p style='text-align:right'>10.447 m1 + 0.569 m389 + 1.182 m404 + 0.584 m431 + 0.737 m437 + 10.447 m5 --> m1362 + 10.447 m3 + 10.447 m7</p>\n",
       "                    <p style='text-align:right'>10.447 ATP_C10H16N5O13P3 + 0.569 dGMP_C10H14N5O7P + 1.182 dAMP_C10H14N5O6P + 0.584 dCMP_C9H14N3O7P + 0.737 dTMP_C10H15N2O8P + 10.447 H2O_H2O --> FABdna_ + 10.447 ADP_C10H15N5O10P2 + 10.447...</p>\n",
       "                </td>\n",
       "            </tr><tr>\n",
       "                <td><strong>GPR</strong></td><td></td>\n",
       "            </tr><tr>\n",
       "                <td><strong>Lower bound</strong></td><td>0.0</td>\n",
       "            </tr><tr>\n",
       "                <td><strong>Upper bound</strong></td><td>1000.0</td>\n",
       "            </tr>\n",
       "        </table>\n",
       "        "
      ],
      "text/plain": [
       "<Reaction r1101 at 0x7fb6a5b47370>"
      ]
     },
     "execution_count": 294,
     "metadata": {},
     "output_type": "execute_result"
    }
   ],
   "source": [
    "pheast.reactions.r1101"
   ]
  },
  {
   "cell_type": "code",
   "execution_count": 297,
   "id": "9ade7c77",
   "metadata": {},
   "outputs": [
    {
     "data": {
      "text/html": [
       "\n",
       "        <table>\n",
       "            <tr>\n",
       "                <td><strong>Metabolite identifier</strong></td><td>m7</td>\n",
       "            </tr><tr>\n",
       "                <td><strong>Name</strong></td><td>Orthophosphate_H3PO4</td>\n",
       "            </tr><tr>\n",
       "                <td><strong>Memory address</strong></td>\n",
       "                <td>0x07fb6a6489190</td>\n",
       "            </tr><tr>\n",
       "                <td><strong>Formula</strong></td><td></td>\n",
       "            </tr><tr>\n",
       "                <td><strong>Compartment</strong></td><td>C_c</td>\n",
       "            </tr><tr>\n",
       "                <td><strong>In 114 reaction(s)</strong></td><td>\n",
       "                    r146, r638, r700, r473, r706, r701, r468, r705, r1101, r1303, r953, r857, r1058, r703, r469, r164, r1304, r713, r438, r1103, r467, r1053, r736, r725, r1074, r735, r1324, r1100, r727, r844, r145,...</td>\n",
       "            </tr>\n",
       "        </table>"
      ],
      "text/plain": [
       "<Metabolite m7 at 0x7fb6a6489190>"
      ]
     },
     "execution_count": 297,
     "metadata": {},
     "output_type": "execute_result"
    }
   ],
   "source": [
    "pheast.metabolites.m3"
   ]
  },
  {
   "cell_type": "code",
   "execution_count": 26,
   "id": "e13beede",
   "metadata": {},
   "outputs": [
    {
     "data": {
      "text/plain": [
       "{'C_c': 'cytosol',\n",
       " 'C_e': 'extracellular',\n",
       " 'C_m': 'mitochondrion',\n",
       " 'C_p': 'peroxisome',\n",
       " 'C_v': 'vacuole',\n",
       " 'C_g': 'golgi',\n",
       " 'C_r': 'ER',\n",
       " 'C_b': 'boundary'}"
      ]
     },
     "execution_count": 26,
     "metadata": {},
     "output_type": "execute_result"
    }
   ],
   "source": [
    "pheast.compartments"
   ]
  },
  {
   "cell_type": "code",
   "execution_count": 63,
   "id": "623c7322",
   "metadata": {},
   "outputs": [
    {
     "name": "stdout",
     "output_type": "stream",
     "text": [
      "['_annotation', '_compartments', '_contexts', '_id', '_populate_solver', '_repr_html_', '_sbml', '_set_id_with_model', '_solver', '_tolerance', '_trimmed', '_trimmed_genes', '_trimmed_reactions', 'add_boundary', 'add_cons_vars', 'add_groups', 'add_metabolites', 'add_reaction', 'add_reactions', 'annotation', 'boundary', 'compartments', 'constraints', 'copy', 'demands', 'description', 'exchanges', 'genes', 'get_associated_groups', 'get_metabolite_compartments', 'groups', 'id', 'medium', 'merge', 'metabolites', 'name', 'notes', 'objective', 'objective_direction', 'optimize', 'problem', 'reactions', 'remove_cons_vars', 'remove_groups', 'remove_metabolites', 'remove_reactions', 'repair', 'sinks', 'slim_optimize', 'solver', 'summary', 'tolerance', 'variables']\n"
     ]
    }
   ],
   "source": [
    "method_list = [method for method in dir(pheast) if method.startswith('__') is False]\n",
    "print(method_list)"
   ]
  },
  {
   "cell_type": "code",
   "execution_count": 87,
   "id": "a5b69a22",
   "metadata": {},
   "outputs": [
    {
     "data": {
      "text/plain": [
       "['__add__',\n",
       " '__class__',\n",
       " '__delattr__',\n",
       " '__dict__',\n",
       " '__dir__',\n",
       " '__doc__',\n",
       " '__enter__',\n",
       " '__eq__',\n",
       " '__exit__',\n",
       " '__format__',\n",
       " '__ge__',\n",
       " '__getattribute__',\n",
       " '__getstate__',\n",
       " '__gt__',\n",
       " '__hash__',\n",
       " '__iadd__',\n",
       " '__init__',\n",
       " '__init_subclass__',\n",
       " '__le__',\n",
       " '__lt__',\n",
       " '__module__',\n",
       " '__ne__',\n",
       " '__new__',\n",
       " '__reduce__',\n",
       " '__reduce_ex__',\n",
       " '__repr__',\n",
       " '__setattr__',\n",
       " '__setstate__',\n",
       " '__sizeof__',\n",
       " '__str__',\n",
       " '__subclasshook__',\n",
       " '__weakref__',\n",
       " '_annotation',\n",
       " '_compartments',\n",
       " '_contexts',\n",
       " '_id',\n",
       " '_populate_solver',\n",
       " '_repr_html_',\n",
       " '_sbml',\n",
       " '_set_id_with_model',\n",
       " '_solver',\n",
       " '_tolerance',\n",
       " '_trimmed',\n",
       " '_trimmed_genes',\n",
       " '_trimmed_reactions',\n",
       " 'add_boundary',\n",
       " 'add_cons_vars',\n",
       " 'add_groups',\n",
       " 'add_metabolites',\n",
       " 'add_reaction',\n",
       " 'add_reactions',\n",
       " 'annotation',\n",
       " 'boundary',\n",
       " 'compartments',\n",
       " 'constraints',\n",
       " 'copy',\n",
       " 'demands',\n",
       " 'description',\n",
       " 'exchanges',\n",
       " 'genes',\n",
       " 'get_associated_groups',\n",
       " 'get_metabolite_compartments',\n",
       " 'groups',\n",
       " 'id',\n",
       " 'medium',\n",
       " 'merge',\n",
       " 'metabolites',\n",
       " 'name',\n",
       " 'notes',\n",
       " 'objective',\n",
       " 'objective_direction',\n",
       " 'optimize',\n",
       " 'problem',\n",
       " 'reactions',\n",
       " 'remove_cons_vars',\n",
       " 'remove_groups',\n",
       " 'remove_metabolites',\n",
       " 'remove_reactions',\n",
       " 'repair',\n",
       " 'sinks',\n",
       " 'slim_optimize',\n",
       " 'solver',\n",
       " 'summary',\n",
       " 'tolerance',\n",
       " 'variables']"
      ]
     },
     "execution_count": 87,
     "metadata": {},
     "output_type": "execute_result"
    }
   ],
   "source": [
    "dir(pheast)"
   ]
  },
  {
   "cell_type": "code",
   "execution_count": null,
   "id": "72076cb3",
   "metadata": {},
   "outputs": [],
   "source": []
  }
 ],
 "metadata": {
  "kernelspec": {
   "display_name": "Python 3",
   "language": "python",
   "name": "python3"
  },
  "language_info": {
   "codemirror_mode": {
    "name": "ipython",
    "version": 3
   },
   "file_extension": ".py",
   "mimetype": "text/x-python",
   "name": "python",
   "nbconvert_exporter": "python",
   "pygments_lexer": "ipython3",
   "version": "3.9.5"
  }
 },
 "nbformat": 4,
 "nbformat_minor": 5
}
