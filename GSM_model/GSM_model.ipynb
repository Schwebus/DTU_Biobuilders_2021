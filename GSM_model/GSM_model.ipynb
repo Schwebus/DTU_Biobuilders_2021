{
 "cells": [
  {
   "cell_type": "markdown",
   "id": "0e163c88",
   "metadata": {},
   "source": [
    "## DTU BioBuilders 2021 GSM Model"
   ]
  },
  {
   "cell_type": "code",
   "execution_count": null,
   "id": "9ccc2cdc",
   "metadata": {},
   "outputs": [],
   "source": []
  }
 ],
 "metadata": {
  "kernelspec": {
   "display_name": "Python 3",
   "language": "python",
   "name": "python3"
  },
  "language_info": {
   "codemirror_mode": {
    "name": "ipython",
    "version": 3
   },
   "file_extension": ".py",
   "mimetype": "text/x-python",
   "name": "python",
   "nbconvert_exporter": "python",
   "pygments_lexer": "ipython3",
   "version": "3.7.0"
  }
 },
 "nbformat": 4,
 "nbformat_minor": 5
}
