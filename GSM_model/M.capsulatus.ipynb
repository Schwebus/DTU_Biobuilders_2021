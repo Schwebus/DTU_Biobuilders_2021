{
 "cells": [
  {
   "cell_type": "code",
   "execution_count": 254,
   "id": "7106242d",
   "metadata": {},
   "outputs": [],
   "source": [
    "import cobra"
   ]
  },
  {
   "cell_type": "code",
   "execution_count": 255,
   "id": "4f2fc4a1",
   "metadata": {},
   "outputs": [],
   "source": [
    "met = cobra.io.read_sbml_model(\"./data/iMcBath_rewritten.xml\")"
   ]
  },
  {
   "cell_type": "code",
   "execution_count": 257,
   "id": "e7340c2d",
   "metadata": {},
   "outputs": [
    {
     "data": {
      "text/html": [
       "<strong><em>Optimal</em> solution with objective value 0.178</strong><br><div>\n",
       "<style scoped>\n",
       "    .dataframe tbody tr th:only-of-type {\n",
       "        vertical-align: middle;\n",
       "    }\n",
       "\n",
       "    .dataframe tbody tr th {\n",
       "        vertical-align: top;\n",
       "    }\n",
       "\n",
       "    .dataframe thead th {\n",
       "        text-align: right;\n",
       "    }\n",
       "</style>\n",
       "<table border=\"1\" class=\"dataframe\">\n",
       "  <thead>\n",
       "    <tr style=\"text-align: right;\">\n",
       "      <th></th>\n",
       "      <th>fluxes</th>\n",
       "      <th>reduced_costs</th>\n",
       "    </tr>\n",
       "  </thead>\n",
       "  <tbody>\n",
       "    <tr>\n",
       "      <th>2OH3K5MPPISO</th>\n",
       "      <td>0.000000</td>\n",
       "      <td>0.000000e+00</td>\n",
       "    </tr>\n",
       "    <tr>\n",
       "      <th>34DHOXPEGOX</th>\n",
       "      <td>0.000000</td>\n",
       "      <td>-0.000000e+00</td>\n",
       "    </tr>\n",
       "    <tr>\n",
       "      <th>3HAD100</th>\n",
       "      <td>-0.005615</td>\n",
       "      <td>-0.000000e+00</td>\n",
       "    </tr>\n",
       "    <tr>\n",
       "      <th>3HAD120</th>\n",
       "      <td>0.005615</td>\n",
       "      <td>0.000000e+00</td>\n",
       "    </tr>\n",
       "    <tr>\n",
       "      <th>3HAD140</th>\n",
       "      <td>0.003835</td>\n",
       "      <td>0.000000e+00</td>\n",
       "    </tr>\n",
       "    <tr>\n",
       "      <th>...</th>\n",
       "      <td>...</td>\n",
       "      <td>...</td>\n",
       "    </tr>\n",
       "    <tr>\n",
       "      <th>hemo_RNA</th>\n",
       "      <td>0.000000</td>\n",
       "      <td>2.775558e-16</td>\n",
       "    </tr>\n",
       "    <tr>\n",
       "      <th>hemo_protein</th>\n",
       "      <td>0.000000</td>\n",
       "      <td>-2.843376e+00</td>\n",
       "    </tr>\n",
       "    <tr>\n",
       "      <th>Hemo_Biosynthesis</th>\n",
       "      <td>0.000000</td>\n",
       "      <td>0.000000e+00</td>\n",
       "    </tr>\n",
       "    <tr>\n",
       "      <th>Take_Out_Hemo</th>\n",
       "      <td>0.000000</td>\n",
       "      <td>0.000000e+00</td>\n",
       "    </tr>\n",
       "    <tr>\n",
       "      <th>EX_hemo</th>\n",
       "      <td>0.000000</td>\n",
       "      <td>0.000000e+00</td>\n",
       "    </tr>\n",
       "  </tbody>\n",
       "</table>\n",
       "<p>919 rows × 2 columns</p>\n",
       "</div>"
      ],
      "text/plain": [
       "<Solution 0.178 at 0x7fd085e32a60>"
      ]
     },
     "execution_count": 257,
     "metadata": {},
     "output_type": "execute_result"
    }
   ],
   "source": [
    "met.optimize()"
   ]
  },
  {
   "cell_type": "code",
   "execution_count": 258,
   "id": "c62352b7",
   "metadata": {},
   "outputs": [
    {
     "data": {
      "text/html": [
       "<h3>Objective</h3><p>1.0 BIOMASS_Mcapsulatus = 0.1780421103857623</p><h4>Uptake</h4><table border=\"1\" class=\"dataframe\">\n",
       "  <thead>\n",
       "    <tr style=\"text-align: right;\">\n",
       "      <th>Metabolite</th>\n",
       "      <th>Reaction</th>\n",
       "      <th>Flux</th>\n",
       "      <th>C-Number</th>\n",
       "      <th>C-Flux</th>\n",
       "    </tr>\n",
       "  </thead>\n",
       "  <tbody>\n",
       "    <tr>\n",
       "      <td>ca2_e</td>\n",
       "      <td>EX_ca2_e</td>\n",
       "      <td>0.01244</td>\n",
       "      <td>0</td>\n",
       "      <td>0.00%</td>\n",
       "    </tr>\n",
       "    <tr>\n",
       "      <td>ch4_e</td>\n",
       "      <td>EX_ch4_e</td>\n",
       "      <td>18.46</td>\n",
       "      <td>1</td>\n",
       "      <td>100.00%</td>\n",
       "    </tr>\n",
       "    <tr>\n",
       "      <td>cl_e</td>\n",
       "      <td>EX_cl_e</td>\n",
       "      <td>0.03817</td>\n",
       "      <td>0</td>\n",
       "      <td>0.00%</td>\n",
       "    </tr>\n",
       "    <tr>\n",
       "      <td>cobalt2_e</td>\n",
       "      <td>EX_cobalt2_e</td>\n",
       "      <td>1.027E-05</td>\n",
       "      <td>0</td>\n",
       "      <td>0.00%</td>\n",
       "    </tr>\n",
       "    <tr>\n",
       "      <td>cu2_e</td>\n",
       "      <td>EX_cu2_e</td>\n",
       "      <td>0.000269</td>\n",
       "      <td>0</td>\n",
       "      <td>0.00%</td>\n",
       "    </tr>\n",
       "    <tr>\n",
       "      <td>fe2_e</td>\n",
       "      <td>EX_fe2_e</td>\n",
       "      <td>0.00109</td>\n",
       "      <td>0</td>\n",
       "      <td>0.00%</td>\n",
       "    </tr>\n",
       "    <tr>\n",
       "      <td>h_e</td>\n",
       "      <td>EX_h_e</td>\n",
       "      <td>1.458</td>\n",
       "      <td>0</td>\n",
       "      <td>0.00%</td>\n",
       "    </tr>\n",
       "    <tr>\n",
       "      <td>k_e</td>\n",
       "      <td>EX_k_e</td>\n",
       "      <td>0.03142</td>\n",
       "      <td>0</td>\n",
       "      <td>0.00%</td>\n",
       "    </tr>\n",
       "    <tr>\n",
       "      <td>mg2_e</td>\n",
       "      <td>EX_mg2_e</td>\n",
       "      <td>0.02198</td>\n",
       "      <td>0</td>\n",
       "      <td>0.00%</td>\n",
       "    </tr>\n",
       "    <tr>\n",
       "      <td>mn2_e</td>\n",
       "      <td>EX_mn2_e</td>\n",
       "      <td>3.205E-06</td>\n",
       "      <td>0</td>\n",
       "      <td>0.00%</td>\n",
       "    </tr>\n",
       "    <tr>\n",
       "      <td>na1_e</td>\n",
       "      <td>EX_na1_e</td>\n",
       "      <td>0.00697</td>\n",
       "      <td>0</td>\n",
       "      <td>0.00%</td>\n",
       "    </tr>\n",
       "    <tr>\n",
       "      <td>ni2_e</td>\n",
       "      <td>EX_ni2_e</td>\n",
       "      <td>6.053E-06</td>\n",
       "      <td>0</td>\n",
       "      <td>0.00%</td>\n",
       "    </tr>\n",
       "    <tr>\n",
       "      <td>no3_e</td>\n",
       "      <td>EX_no3_e</td>\n",
       "      <td>1.459</td>\n",
       "      <td>0</td>\n",
       "      <td>0.00%</td>\n",
       "    </tr>\n",
       "    <tr>\n",
       "      <td>o2_e</td>\n",
       "      <td>EX_o2_e</td>\n",
       "      <td>27.81</td>\n",
       "      <td>0</td>\n",
       "      <td>0.00%</td>\n",
       "    </tr>\n",
       "    <tr>\n",
       "      <td>pi_e</td>\n",
       "      <td>EX_pi_e</td>\n",
       "      <td>0.09799</td>\n",
       "      <td>0</td>\n",
       "      <td>0.00%</td>\n",
       "    </tr>\n",
       "    <tr>\n",
       "      <td>so4_e</td>\n",
       "      <td>EX_so4_e</td>\n",
       "      <td>0.02999</td>\n",
       "      <td>0</td>\n",
       "      <td>0.00%</td>\n",
       "    </tr>\n",
       "    <tr>\n",
       "      <td>zn2_e</td>\n",
       "      <td>EX_zn2_e</td>\n",
       "      <td>0.000178</td>\n",
       "      <td>0</td>\n",
       "      <td>0.00%</td>\n",
       "    </tr>\n",
       "  </tbody>\n",
       "</table><h4>Secretion</h4><table border=\"1\" class=\"dataframe\">\n",
       "  <thead>\n",
       "    <tr style=\"text-align: right;\">\n",
       "      <th>Metabolite</th>\n",
       "      <th>Reaction</th>\n",
       "      <th>Flux</th>\n",
       "      <th>C-Number</th>\n",
       "      <th>C-Flux</th>\n",
       "    </tr>\n",
       "  </thead>\n",
       "  <tbody>\n",
       "    <tr>\n",
       "      <td>4hba_c</td>\n",
       "      <td>DM_4hba_c</td>\n",
       "      <td>-5.101E-06</td>\n",
       "      <td>7</td>\n",
       "      <td>0.00%</td>\n",
       "    </tr>\n",
       "    <tr>\n",
       "      <td>doxopa_c</td>\n",
       "      <td>DM_doxopa_c</td>\n",
       "      <td>-0.0001896</td>\n",
       "      <td>3</td>\n",
       "      <td>0.00%</td>\n",
       "    </tr>\n",
       "    <tr>\n",
       "      <td>h2o2_c</td>\n",
       "      <td>DM_h2o2_c</td>\n",
       "      <td>-0.05725</td>\n",
       "      <td>0</td>\n",
       "      <td>0.00%</td>\n",
       "    </tr>\n",
       "    <tr>\n",
       "      <td>rdmbzi_c</td>\n",
       "      <td>DM_rdmbzi_c</td>\n",
       "      <td>-0.0001895</td>\n",
       "      <td>14</td>\n",
       "      <td>0.02%</td>\n",
       "    </tr>\n",
       "    <tr>\n",
       "      <td>co2_e</td>\n",
       "      <td>EX_co2_e</td>\n",
       "      <td>-12.47</td>\n",
       "      <td>1</td>\n",
       "      <td>99.97%</td>\n",
       "    </tr>\n",
       "    <tr>\n",
       "      <td>co_e</td>\n",
       "      <td>EX_co_e</td>\n",
       "      <td>-5.101E-06</td>\n",
       "      <td>1</td>\n",
       "      <td>0.00%</td>\n",
       "    </tr>\n",
       "    <tr>\n",
       "      <td>h2o_e</td>\n",
       "      <td>EX_h2o_e</td>\n",
       "      <td>-32.96</td>\n",
       "      <td>0</td>\n",
       "      <td>0.00%</td>\n",
       "    </tr>\n",
       "  </tbody>\n",
       "</table>"
      ],
      "text/plain": [
       "<cobra.summary.model_summary.ModelSummary at 0x7fd085e32610>"
      ]
     },
     "execution_count": 258,
     "metadata": {},
     "output_type": "execute_result"
    }
   ],
   "source": [
    "met.summary()"
   ]
  },
  {
   "cell_type": "code",
   "execution_count": 231,
   "id": "0bc744a6",
   "metadata": {},
   "outputs": [
    {
     "data": {
      "text/plain": [
       "'co2_e --> '"
      ]
     },
     "execution_count": 231,
     "metadata": {},
     "output_type": "execute_result"
    }
   ],
   "source": [
    "met.reactions.EX_co2_e.reaction"
   ]
  },
  {
   "cell_type": "code",
   "execution_count": 205,
   "id": "5f6ec60d",
   "metadata": {},
   "outputs": [
    {
     "data": {
      "text/html": [
       "\n",
       "        <table>\n",
       "            <tr>\n",
       "                <td><strong>Metabolite identifier</strong></td><td>co2_e</td>\n",
       "            </tr><tr>\n",
       "                <td><strong>Name</strong></td><td>CO(2)</td>\n",
       "            </tr><tr>\n",
       "                <td><strong>Memory address</strong></td>\n",
       "                <td>0x07fd088b80130</td>\n",
       "            </tr><tr>\n",
       "                <td><strong>Formula</strong></td><td>CO2</td>\n",
       "            </tr><tr>\n",
       "                <td><strong>Compartment</strong></td><td>e</td>\n",
       "            </tr><tr>\n",
       "                <td><strong>In 2 reaction(s)</strong></td><td>\n",
       "                    EX_co2_e, CO2t</td>\n",
       "            </tr>\n",
       "        </table>"
      ],
      "text/plain": [
       "<Metabolite co2_e at 0x7fd088b80130>"
      ]
     },
     "execution_count": 205,
     "metadata": {},
     "output_type": "execute_result"
    }
   ],
   "source": [
    "met.metabolites.co2_e"
   ]
  },
  {
   "cell_type": "markdown",
   "id": "104ee9f1",
   "metadata": {},
   "source": [
    "It is clearly seen that in M. capsulatus the uptake of methane outstands among all the other uptakes. Thus, now we will check those reactions where methane is involved. Besides, we will also check the methanol-involved reactions as it is here where our main interest is placed.\n",
    "\n",
    "IMPORTANT!! Consider using the query both with initial letter as capital letter and not capital!"
   ]
  },
  {
   "cell_type": "code",
   "execution_count": 45,
   "id": "eeba16b8",
   "metadata": {},
   "outputs": [
    {
     "data": {
      "text/plain": [
       "[]"
      ]
     },
     "execution_count": 45,
     "metadata": {},
     "output_type": "execute_result"
    }
   ],
   "source": [
    "met.reactions.query(\"growth\", \"name\")"
   ]
  },
  {
   "cell_type": "code",
   "execution_count": 46,
   "id": "16a72f65",
   "metadata": {},
   "outputs": [
    {
     "data": {
      "text/html": [
       "\n",
       "        <table>\n",
       "            <tr>\n",
       "                <td><strong>Reaction identifier</strong></td><td>ACPS1</td>\n",
       "            </tr><tr>\n",
       "                <td><strong>Name</strong></td><td>Acyl-carrier protein synthase</td>\n",
       "            </tr><tr>\n",
       "                <td><strong>Memory address</strong></td>\n",
       "                <td>0x07fd08adedfa0</td>\n",
       "            </tr><tr>\n",
       "                <td><strong>Stoichiometry</strong></td>\n",
       "                <td>\n",
       "                    <p style='text-align:right'>apoACP_c + coa_c --> ACP_c + h_c + pap_c</p>\n",
       "                    <p style='text-align:right'>apo-[acyl-carrier protein] + CoA --> holo-[acyl-carrier protein] + H(+) + adenosine 3',5'-bisphosphate</p>\n",
       "                </td>\n",
       "            </tr><tr>\n",
       "                <td><strong>GPR</strong></td><td>MCA1522</td>\n",
       "            </tr><tr>\n",
       "                <td><strong>Lower bound</strong></td><td>0.0</td>\n",
       "            </tr><tr>\n",
       "                <td><strong>Upper bound</strong></td><td>0.0</td>\n",
       "            </tr>\n",
       "        </table>\n",
       "        "
      ],
      "text/plain": [
       "<Reaction ACPS1 at 0x7fd08adedfa0>"
      ]
     },
     "execution_count": 46,
     "metadata": {},
     "output_type": "execute_result"
    }
   ],
   "source": [
    "met.reactions.ACPS1"
   ]
  },
  {
   "cell_type": "code",
   "execution_count": 47,
   "id": "4badaecd",
   "metadata": {},
   "outputs": [
    {
     "data": {
      "text/html": [
       "\n",
       "        <table>\n",
       "            <tr>\n",
       "                <td><strong>Metabolite identifier</strong></td><td>cys__L_c</td>\n",
       "            </tr><tr>\n",
       "                <td><strong>Name</strong></td><td>L-cysteine zwitterion</td>\n",
       "            </tr><tr>\n",
       "                <td><strong>Memory address</strong></td>\n",
       "                <td>0x07fd0cbb42880</td>\n",
       "            </tr><tr>\n",
       "                <td><strong>Formula</strong></td><td>C3H7NO2S</td>\n",
       "            </tr><tr>\n",
       "                <td><strong>Compartment</strong></td><td>c</td>\n",
       "            </tr><tr>\n",
       "                <td><strong>In 12 reaction(s)</strong></td><td>\n",
       "                    GLUCYS, PPNCL2, PPNCL3, CYSTRS, THZPSN, CYSS_trdrd, CYSS, CYSDS, SK_cys__L_c, CYSTA, BIOMASS_Mcapsulatus, AMPTASECG</td>\n",
       "            </tr>\n",
       "        </table>"
      ],
      "text/plain": [
       "<Metabolite cys__L_c at 0x7fd0cbb42880>"
      ]
     },
     "execution_count": 47,
     "metadata": {},
     "output_type": "execute_result"
    }
   ],
   "source": [
    "met.metabolites.cys__L_c"
   ]
  },
  {
   "cell_type": "code",
   "execution_count": 28,
   "id": "bc4c4a06",
   "metadata": {},
   "outputs": [
    {
     "ename": "TypeError",
     "evalue": "'DictList' object is not callable",
     "output_type": "error",
     "traceback": [
      "\u001b[0;31m---------------------------------------------------------------------------\u001b[0m",
      "\u001b[0;31mTypeError\u001b[0m                                 Traceback (most recent call last)",
      "\u001b[0;32m<ipython-input-28-d3519d886f26>\u001b[0m in \u001b[0;36m<module>\u001b[0;34m\u001b[0m\n\u001b[0;32m----> 1\u001b[0;31m \u001b[0mmet\u001b[0m\u001b[0;34m.\u001b[0m\u001b[0mgroups\u001b[0m\u001b[0;34m(\u001b[0m\u001b[0;34m)\u001b[0m\u001b[0;34m\u001b[0m\u001b[0;34m\u001b[0m\u001b[0m\n\u001b[0m",
      "\u001b[0;31mTypeError\u001b[0m: 'DictList' object is not callable"
     ]
    }
   ],
   "source": [
    "met.groups()"
   ]
  },
  {
   "cell_type": "markdown",
   "id": "a597b780",
   "metadata": {},
   "source": [
    "Question: Why is it that the lb is placed to -18.46? Also interesting that this is exactly the optimal value obtained when optimizing.\n",
    "\n",
    "Obtained from the paper for the model:\n",
    "The uptake rate for methane in iMcBath was constrained to 18.46 mmol gDW-1 h-1, a value adopted from de la Torre et al. (2015) due to the lack of a specific measurement for M. capsulatus (Bath).\n",
    "\n",
    "Should we take this limit value from the experimental killing curves from wet lab?"
   ]
  },
  {
   "cell_type": "code",
   "execution_count": 9,
   "id": "8ba80780",
   "metadata": {},
   "outputs": [
    {
     "data": {
      "text/html": [
       "\n",
       "        <table>\n",
       "            <tr>\n",
       "                <td><strong>Reaction identifier</strong></td><td>CH4tex</td>\n",
       "            </tr><tr>\n",
       "                <td><strong>Name</strong></td><td>methane transport via diffusion (extracellular to periplasm)</td>\n",
       "            </tr><tr>\n",
       "                <td><strong>Memory address</strong></td>\n",
       "                <td>0x07f69d16f2d30</td>\n",
       "            </tr><tr>\n",
       "                <td><strong>Stoichiometry</strong></td>\n",
       "                <td>\n",
       "                    <p style='text-align:right'>ch4_e <=> ch4_p</p>\n",
       "                    <p style='text-align:right'>methane <=> methane</p>\n",
       "                </td>\n",
       "            </tr><tr>\n",
       "                <td><strong>GPR</strong></td><td></td>\n",
       "            </tr><tr>\n",
       "                <td><strong>Lower bound</strong></td><td>-1000.0</td>\n",
       "            </tr><tr>\n",
       "                <td><strong>Upper bound</strong></td><td>1000.0</td>\n",
       "            </tr>\n",
       "        </table>\n",
       "        "
      ],
      "text/plain": [
       "<Reaction CH4tex at 0x7f69d16f2d30>"
      ]
     },
     "execution_count": 9,
     "metadata": {},
     "output_type": "execute_result"
    }
   ],
   "source": [
    "met.reactions.CH4tex"
   ]
  },
  {
   "cell_type": "markdown",
   "id": "f5c782d6",
   "metadata": {},
   "source": [
    "Question: Why do we consider the diffusion reaction without any limit? What is the relation between the methane obtained from the exchange reaction level and the diffusion? Because if we consider the diffusion with no limit and the is this periplasmatic methane that is taking further down on the reactions, where does the 18.46 limit apply?"
   ]
  },
  {
   "cell_type": "code",
   "execution_count": 27,
   "id": "24a521b0",
   "metadata": {},
   "outputs": [
    {
     "name": "stdout",
     "output_type": "stream",
     "text": [
      "SMMOi: ch4_c + h_c + nadh_c + o2_c --> h2o_c + meoh_c + nad_c\n",
      "PMMOipp: ch4_p + o2_p + q8h2_im --> h2o_p + meoh_p + q8_im\n",
      "PMMODCipp: ch4_p + 2.0 focytcc555_p + 2.0 h_p + o2_p --> 2.0 ficytcc555_p + h2o_p + meoh_p\n"
     ]
    }
   ],
   "source": [
    "print(met.reactions.SMMOi)\n",
    "print(met.reactions.PMMOipp)\n",
    "print(met.reactions.PMMODCipp)"
   ]
  },
  {
   "cell_type": "markdown",
   "id": "5f4e6fcc",
   "metadata": {},
   "source": [
    "For our interest in K. Phaffi:"
   ]
  },
  {
   "cell_type": "code",
   "execution_count": 173,
   "id": "80f49847",
   "metadata": {},
   "outputs": [
    {
     "data": {
      "text/html": [
       "\n",
       "        <table>\n",
       "            <tr>\n",
       "                <td><strong>Reaction identifier</strong></td><td>PMMOipp</td>\n",
       "            </tr><tr>\n",
       "                <td><strong>Name</strong></td><td>particulate Methane Monooxygenase</td>\n",
       "            </tr><tr>\n",
       "                <td><strong>Memory address</strong></td>\n",
       "                <td>0x07fd08a5acd00</td>\n",
       "            </tr><tr>\n",
       "                <td><strong>Stoichiometry</strong></td>\n",
       "                <td>\n",
       "                    <p style='text-align:right'>ch4_p + o2_p + q8h2_im --> h2o_p + meoh_p + q8_im</p>\n",
       "                    <p style='text-align:right'>methane + dioxygen + Ubiquinol-8 --> H2O + methanol + Ubiquinone-8</p>\n",
       "                </td>\n",
       "            </tr><tr>\n",
       "                <td><strong>GPR</strong></td><td>( ( MCA1796 and MCA1797 and MCA1798 ) or ( MCA2853 and MCA2854 and MCA2855 ) ) and MCA0295</td>\n",
       "            </tr><tr>\n",
       "                <td><strong>Lower bound</strong></td><td>0</td>\n",
       "            </tr><tr>\n",
       "                <td><strong>Upper bound</strong></td><td>0</td>\n",
       "            </tr>\n",
       "        </table>\n",
       "        "
      ],
      "text/plain": [
       "<Reaction PMMOipp at 0x7fd08a5acd00>"
      ]
     },
     "execution_count": 173,
     "metadata": {},
     "output_type": "execute_result"
    }
   ],
   "source": [
    "# bounds for this pMMO reaction are at 0 already\n",
    "\n",
    "met.reactions.PMMOipp"
   ]
  },
  {
   "cell_type": "code",
   "execution_count": 169,
   "id": "829d94d6",
   "metadata": {},
   "outputs": [],
   "source": [
    "# bounds for this pMMO reaction are at 0 already\n",
    "\n",
    "\n",
    "met.reactions.PMMODCipp"
   ]
  },
  {
   "cell_type": "markdown",
   "id": "8154df33",
   "metadata": {},
   "source": [
    "Question: Difference between both? Any reason why both are constrained not to work?"
   ]
  },
  {
   "cell_type": "markdown",
   "id": "0205d513",
   "metadata": {},
   "source": [
    "Now we come to the methanol reactions:"
   ]
  },
  {
   "cell_type": "code",
   "execution_count": 16,
   "id": "d38714d5",
   "metadata": {},
   "outputs": [
    {
     "data": {
      "text/html": [
       "\n",
       "        <table>\n",
       "            <tr>\n",
       "                <td><strong>Reaction identifier</strong></td><td>EX_meoh_e</td>\n",
       "            </tr><tr>\n",
       "                <td><strong>Name</strong></td><td>methanol exchange</td>\n",
       "            </tr><tr>\n",
       "                <td><strong>Memory address</strong></td>\n",
       "                <td>0x0185c3e44978</td>\n",
       "            </tr><tr>\n",
       "                <td><strong>Stoichiometry</strong></td>\n",
       "                <td>\n",
       "                    <p style='text-align:right'>meoh_e --></p>\n",
       "                    <p style='text-align:right'>methanol --></p>\n",
       "                </td>\n",
       "            </tr><tr>\n",
       "                <td><strong>GPR</strong></td><td></td>\n",
       "            </tr><tr>\n",
       "                <td><strong>Lower bound</strong></td><td>0.0</td>\n",
       "            </tr><tr>\n",
       "                <td><strong>Upper bound</strong></td><td>1000.0</td>\n",
       "            </tr>\n",
       "        </table>\n",
       "        "
      ],
      "text/plain": [
       "<Reaction EX_meoh_e at 0x185c3e44978>"
      ]
     },
     "execution_count": 16,
     "metadata": {},
     "output_type": "execute_result"
    }
   ],
   "source": [
    "met.reactions.EX_meoh_e"
   ]
  },
  {
   "cell_type": "code",
   "execution_count": 6,
   "id": "6e9a159f",
   "metadata": {},
   "outputs": [
    {
     "data": {
      "text/html": [
       "\n",
       "        <table>\n",
       "            <tr>\n",
       "                <td><strong>Reaction identifier</strong></td><td>MEOHtex</td>\n",
       "            </tr><tr>\n",
       "                <td><strong>Name</strong></td><td>methanol transport via diffusion (extracellular to periplasm)</td>\n",
       "            </tr><tr>\n",
       "                <td><strong>Memory address</strong></td>\n",
       "                <td>0x010d90ab9ef0</td>\n",
       "            </tr><tr>\n",
       "                <td><strong>Stoichiometry</strong></td>\n",
       "                <td>\n",
       "                    <p style='text-align:right'>meoh_e <=> meoh_p</p>\n",
       "                    <p style='text-align:right'>methanol <=> methanol</p>\n",
       "                </td>\n",
       "            </tr><tr>\n",
       "                <td><strong>GPR</strong></td><td></td>\n",
       "            </tr><tr>\n",
       "                <td><strong>Lower bound</strong></td><td>-1000.0</td>\n",
       "            </tr><tr>\n",
       "                <td><strong>Upper bound</strong></td><td>1000.0</td>\n",
       "            </tr>\n",
       "        </table>\n",
       "        "
      ],
      "text/plain": [
       "<Reaction MEOHtex at 0x10d90ab9ef0>"
      ]
     },
     "execution_count": 6,
     "metadata": {},
     "output_type": "execute_result"
    }
   ],
   "source": [
    "met.reactions.MEOHtex"
   ]
  },
  {
   "cell_type": "markdown",
   "id": "7995df38",
   "metadata": {},
   "source": [
    "This following reaction is the one that we might need to introduce to out K. phaffii model as it is the one getting from methanol to formaldehyde, starting the MUT pathway?"
   ]
  },
  {
   "cell_type": "code",
   "execution_count": 17,
   "id": "510297d0",
   "metadata": {},
   "outputs": [
    {
     "data": {
      "text/html": [
       "\n",
       "        <table>\n",
       "            <tr>\n",
       "                <td><strong>Reaction identifier</strong></td><td>MEOHDHipp</td>\n",
       "            </tr><tr>\n",
       "                <td><strong>Name</strong></td><td>methanol dehydrogenase (cytochrome c)</td>\n",
       "            </tr><tr>\n",
       "                <td><strong>Memory address</strong></td>\n",
       "                <td>0x0185c405f588</td>\n",
       "            </tr><tr>\n",
       "                <td><strong>Stoichiometry</strong></td>\n",
       "                <td>\n",
       "                    <p style='text-align:right'>2.0 ficytcc555_p + meoh_p --> fald_p + 2.0 focytcc555_p + 2.0 h_p</p>\n",
       "                    <p style='text-align:right'>2.0 ferricytochrome c + methanol --> formaldehyde + 2.0 ferrocytochrome c + 2.0 H(+)</p>\n",
       "                </td>\n",
       "            </tr><tr>\n",
       "                <td><strong>GPR</strong></td><td>( ( MCA0299 and MCA0300 and MCA1528 and MCA1529 and MCA1530 and MCA1525 and MCA1527 ) or (...</td>\n",
       "            </tr><tr>\n",
       "                <td><strong>Lower bound</strong></td><td>0.0</td>\n",
       "            </tr><tr>\n",
       "                <td><strong>Upper bound</strong></td><td>1000.0</td>\n",
       "            </tr>\n",
       "        </table>\n",
       "        "
      ],
      "text/plain": [
       "<Reaction MEOHDHipp at 0x185c405f588>"
      ]
     },
     "execution_count": 17,
     "metadata": {},
     "output_type": "execute_result"
    }
   ],
   "source": [
    "met.reactions.MEOHDHipp"
   ]
  },
  {
   "cell_type": "code",
   "execution_count": 22,
   "id": "133c7832",
   "metadata": {},
   "outputs": [
    {
     "data": {
      "text/html": [
       "\n",
       "        <table>\n",
       "            <tr>\n",
       "                <td><strong>Reaction identifier</strong></td><td>MEOHtrpp</td>\n",
       "            </tr><tr>\n",
       "                <td><strong>Name</strong></td><td>Methanol reversible transport via diffusion (periplasm)</td>\n",
       "            </tr><tr>\n",
       "                <td><strong>Memory address</strong></td>\n",
       "                <td>0x010d90ab9cc0</td>\n",
       "            </tr><tr>\n",
       "                <td><strong>Stoichiometry</strong></td>\n",
       "                <td>\n",
       "                    <p style='text-align:right'>meoh_p <=> meoh_c</p>\n",
       "                    <p style='text-align:right'>methanol <=> methanol</p>\n",
       "                </td>\n",
       "            </tr><tr>\n",
       "                <td><strong>GPR</strong></td><td></td>\n",
       "            </tr><tr>\n",
       "                <td><strong>Lower bound</strong></td><td>-1000.0</td>\n",
       "            </tr><tr>\n",
       "                <td><strong>Upper bound</strong></td><td>1000.0</td>\n",
       "            </tr>\n",
       "        </table>\n",
       "        "
      ],
      "text/plain": [
       "<Reaction MEOHtrpp at 0x10d90ab9cc0>"
      ]
     },
     "execution_count": 22,
     "metadata": {},
     "output_type": "execute_result"
    }
   ],
   "source": [
    "met.reactions.MEOHtrpp"
   ]
  },
  {
   "cell_type": "markdown",
   "id": "6668d70d",
   "metadata": {},
   "source": [
    "Also, easily obtained by:"
   ]
  },
  {
   "cell_type": "code",
   "execution_count": 17,
   "id": "144984fa",
   "metadata": {},
   "outputs": [
    {
     "data": {
      "text/html": [
       "<h3>ch4_c</h3><p>CH4</p><h4>Producing Reactions</h4><table border=\"1\" class=\"dataframe\">\n",
       "  <thead>\n",
       "    <tr style=\"text-align: right;\">\n",
       "      <th>Percent</th>\n",
       "      <th>Flux</th>\n",
       "      <th>Reaction</th>\n",
       "      <th>Definition</th>\n",
       "    </tr>\n",
       "  </thead>\n",
       "  <tbody>\n",
       "    <tr>\n",
       "      <td>100.00%</td>\n",
       "      <td>18.46</td>\n",
       "      <td>CH4trpp</td>\n",
       "      <td>ch4_p &lt;=&gt; ch4_c</td>\n",
       "    </tr>\n",
       "  </tbody>\n",
       "</table><h4>Consuming Reactions</h4><table border=\"1\" class=\"dataframe\">\n",
       "  <thead>\n",
       "    <tr style=\"text-align: right;\">\n",
       "      <th>Percent</th>\n",
       "      <th>Flux</th>\n",
       "      <th>Reaction</th>\n",
       "      <th>Definition</th>\n",
       "    </tr>\n",
       "  </thead>\n",
       "  <tbody>\n",
       "    <tr>\n",
       "      <td>100.00%</td>\n",
       "      <td>-18.46</td>\n",
       "      <td>SMMOi</td>\n",
       "      <td>ch4_c + h_c + nadh_c + o2_c --&gt; h2o_c + meoh_c + nad_c</td>\n",
       "    </tr>\n",
       "  </tbody>\n",
       "</table>"
      ],
      "text/plain": [
       "<cobra.summary.metabolite_summary.MetaboliteSummary at 0x10d911d3b38>"
      ]
     },
     "execution_count": 17,
     "metadata": {},
     "output_type": "execute_result"
    }
   ],
   "source": [
    "met.metabolites.ch4_c.summary()"
   ]
  },
  {
   "cell_type": "markdown",
   "id": "3452c958",
   "metadata": {},
   "source": [
    "Notice that in this model, one can refer to extracellular species by adding e, periplasmatic by adding p and intracellular by adding c (cytosol). And by checking the file im refers to inner membrane. This will depend on the model, tends to be specified somewhere on the sbml file under compartments."
   ]
  },
  {
   "cell_type": "code",
   "execution_count": 16,
   "id": "932b5b00",
   "metadata": {},
   "outputs": [
    {
     "data": {
      "text/html": [
       "<h3>meoh_c</h3><p>CH4O1</p><h4>Producing Reactions</h4><table border=\"1\" class=\"dataframe\">\n",
       "  <thead>\n",
       "    <tr style=\"text-align: right;\">\n",
       "      <th>Percent</th>\n",
       "      <th>Flux</th>\n",
       "      <th>Reaction</th>\n",
       "      <th>Definition</th>\n",
       "    </tr>\n",
       "  </thead>\n",
       "  <tbody>\n",
       "    <tr>\n",
       "      <td>100.00%</td>\n",
       "      <td>18.46</td>\n",
       "      <td>SMMOi</td>\n",
       "      <td>ch4_c + h_c + nadh_c + o2_c --&gt; h2o_c + meoh_c + nad_c</td>\n",
       "    </tr>\n",
       "  </tbody>\n",
       "</table><h4>Consuming Reactions</h4><table border=\"1\" class=\"dataframe\">\n",
       "  <thead>\n",
       "    <tr style=\"text-align: right;\">\n",
       "      <th>Percent</th>\n",
       "      <th>Flux</th>\n",
       "      <th>Reaction</th>\n",
       "      <th>Definition</th>\n",
       "    </tr>\n",
       "  </thead>\n",
       "  <tbody>\n",
       "    <tr>\n",
       "      <td>100.00%</td>\n",
       "      <td>-18.46</td>\n",
       "      <td>MEOHtrpp</td>\n",
       "      <td>meoh_p &lt;=&gt; meoh_c</td>\n",
       "    </tr>\n",
       "  </tbody>\n",
       "</table>"
      ],
      "text/plain": [
       "<cobra.summary.metabolite_summary.MetaboliteSummary at 0x10d90e31240>"
      ]
     },
     "execution_count": 16,
     "metadata": {},
     "output_type": "execute_result"
    }
   ],
   "source": [
    "met.metabolites.meoh_c.summary()"
   ]
  },
  {
   "cell_type": "code",
   "execution_count": 62,
   "id": "47cbaa3d",
   "metadata": {},
   "outputs": [
    {
     "data": {
      "text/plain": [
       "{'EX_ca2_e': 1000.0,\n",
       " 'EX_cd2_e': 1000.0,\n",
       " 'EX_ch4_e': 18.46,\n",
       " 'EX_cl_e': 1000.0,\n",
       " 'EX_co_e': 1000.0,\n",
       " 'EX_cobalt2_e': 1000.0,\n",
       " 'EX_cu2_e': 1000.0,\n",
       " 'EX_fe2_e': 1000.0,\n",
       " 'EX_h2o_e': 1000.0,\n",
       " 'EX_h_e': 1000.0,\n",
       " 'EX_k_e': 1000.0,\n",
       " 'EX_mg2_e': 1000.0,\n",
       " 'EX_mn2_e': 1000.0,\n",
       " 'EX_na1_e': 1000.0,\n",
       " 'EX_ni2_e': 1000.0,\n",
       " 'EX_no3_e': 1000.0,\n",
       " 'EX_o2_e': 1000.0,\n",
       " 'EX_pi_e': 1000.0,\n",
       " 'EX_so4_e': 1000.0,\n",
       " 'EX_zn2_e': 1000.0}"
      ]
     },
     "execution_count": 62,
     "metadata": {},
     "output_type": "execute_result"
    }
   ],
   "source": [
    "met.medium"
   ]
  },
  {
   "cell_type": "code",
   "execution_count": 20,
   "id": "a3ac3565",
   "metadata": {},
   "outputs": [
    {
     "data": {
      "text/html": [
       "\n",
       "        <table>\n",
       "            <tr>\n",
       "                <td><strong>Reaction identifier</strong></td><td>FOMETRi</td>\n",
       "            </tr><tr>\n",
       "                <td><strong>Name</strong></td><td>Aminomethyltransferase</td>\n",
       "            </tr><tr>\n",
       "                <td><strong>Memory address</strong></td>\n",
       "                <td>0x07f69d1598fd0</td>\n",
       "            </tr><tr>\n",
       "                <td><strong>Stoichiometry</strong></td>\n",
       "                <td>\n",
       "                    <p style='text-align:right'>h2o_c + methf_c --> 5fthf_c + h_c</p>\n",
       "                    <p style='text-align:right'>H2O + (6R)-5,10-methenyltetrahydrofolate --> 5-Formyltetrahydrofolate + H(+)</p>\n",
       "                </td>\n",
       "            </tr><tr>\n",
       "                <td><strong>GPR</strong></td><td>MCA0350</td>\n",
       "            </tr><tr>\n",
       "                <td><strong>Lower bound</strong></td><td>0.0</td>\n",
       "            </tr><tr>\n",
       "                <td><strong>Upper bound</strong></td><td>1000.0</td>\n",
       "            </tr>\n",
       "        </table>\n",
       "        "
      ],
      "text/plain": [
       "<Reaction FOMETRi at 0x7f69d1598fd0>"
      ]
     },
     "execution_count": 20,
     "metadata": {},
     "output_type": "execute_result"
    }
   ],
   "source": [
    "met.reactions.FOMETRi"
   ]
  },
  {
   "cell_type": "code",
   "execution_count": 143,
   "id": "a7e8ffdf",
   "metadata": {},
   "outputs": [
    {
     "data": {
      "text/html": [
       "\n",
       "        <table>\n",
       "            <tr>\n",
       "                <td><strong>Reaction identifier</strong></td><td>SMMOi</td>\n",
       "            </tr><tr>\n",
       "                <td><strong>Name</strong></td><td>soluble Methane Monooxygenase</td>\n",
       "            </tr><tr>\n",
       "                <td><strong>Memory address</strong></td>\n",
       "                <td>0x07fd08920fa90</td>\n",
       "            </tr><tr>\n",
       "                <td><strong>Stoichiometry</strong></td>\n",
       "                <td>\n",
       "                    <p style='text-align:right'>ch4_c + h_c + nadh_c + o2_c --> h2o_c + meoh_c + nad_c</p>\n",
       "                    <p style='text-align:right'>methane + H(+) + NADH(2-) + dioxygen --> H2O + methanol + NAD(+)</p>\n",
       "                </td>\n",
       "            </tr><tr>\n",
       "                <td><strong>GPR</strong></td><td>MCA1194 and MCA1195 and MCA1198 and MCA1196 and MCA1200 and MCA1202 and MCA1205</td>\n",
       "            </tr><tr>\n",
       "                <td><strong>Lower bound</strong></td><td>0.0</td>\n",
       "            </tr><tr>\n",
       "                <td><strong>Upper bound</strong></td><td>1000.0</td>\n",
       "            </tr>\n",
       "        </table>\n",
       "        "
      ],
      "text/plain": [
       "<Reaction SMMOi at 0x7fd08920fa90>"
      ]
     },
     "execution_count": 143,
     "metadata": {},
     "output_type": "execute_result"
    }
   ],
   "source": [
    "met.reactions.SMMOi"
   ]
  },
  {
   "cell_type": "code",
   "execution_count": 117,
   "id": "1b56a2bf",
   "metadata": {},
   "outputs": [
    {
     "data": {
      "text/plain": [
       "[<Metabolite 4r5au_c at 0x7fd0cbbd3460>,\n",
       " <Metabolite 5aprbu_c at 0x7fd0cbbd3580>,\n",
       " <Metabolite 5apru_c at 0x7fd0cbbd35b0>,\n",
       " <Metabolite ura_c at 0x7fd08af363a0>]"
      ]
     },
     "execution_count": 117,
     "metadata": {},
     "output_type": "execute_result"
    }
   ],
   "source": [
    "met.metabolites.query(\"uracil\",\"name\")"
   ]
  },
  {
   "cell_type": "code",
   "execution_count": 116,
   "id": "215672c3",
   "metadata": {},
   "outputs": [
    {
     "data": {
      "text/html": [
       "\n",
       "        <table>\n",
       "            <tr>\n",
       "                <td><strong>Metabolite identifier</strong></td><td>csn_c</td>\n",
       "            </tr><tr>\n",
       "                <td><strong>Name</strong></td><td>cytosine</td>\n",
       "            </tr><tr>\n",
       "                <td><strong>Memory address</strong></td>\n",
       "                <td>0x07fd0cbb420a0</td>\n",
       "            </tr><tr>\n",
       "                <td><strong>Formula</strong></td><td>C4H5N3O</td>\n",
       "            </tr><tr>\n",
       "                <td><strong>Compartment</strong></td><td>c</td>\n",
       "            </tr><tr>\n",
       "                <td><strong>In 1 reaction(s)</strong></td><td>\n",
       "                    CSND</td>\n",
       "            </tr>\n",
       "        </table>"
      ],
      "text/plain": [
       "<Metabolite csn_c at 0x7fd0cbb420a0>"
      ]
     },
     "execution_count": 116,
     "metadata": {},
     "output_type": "execute_result"
    }
   ],
   "source": [
    "met.metabolites.csn_c"
   ]
  },
  {
   "cell_type": "code",
   "execution_count": 233,
   "id": "9e1d30d9",
   "metadata": {},
   "outputs": [
    {
     "data": {
      "text/plain": [
       "{'c': 'cytosol',\n",
       " 'e': 'extracellular',\n",
       " 'p': 'periplasm',\n",
       " 'im': 'inner membrane',\n",
       " 'C_c': '',\n",
       " 'C_e': ''}"
      ]
     },
     "execution_count": 233,
     "metadata": {},
     "output_type": "execute_result"
    }
   ],
   "source": [
    "met.compartments"
   ]
  },
  {
   "cell_type": "code",
   "execution_count": 256,
   "id": "9c44efed",
   "metadata": {},
   "outputs": [],
   "source": [
    "# now we will introduce the heterologous protein leghemoglobin with reactions for dna replication,\n",
    "# transcription and translation\n",
    "# as the sequences are long, we calculate the stoichiometry with a script which is on the github repo and\n",
    "# based on the logic behind introduction of heterologous protein production in the paper:\n",
    "# Irani ZA, Kerkhoven EJ, Shojaosadati SA, Nielsen J (2016) Genome-scale metabolic model of Pichia pastoris with native and humanized glycosylation of recombinant proteins. Biotechnol Bioeng 113:961–969. doi: 10.1002/bit.25863.\n",
    "\n",
    "# make new reactions\n",
    "\n",
    "\n",
    "\n",
    "hemo_DNA_reaction = cobra.Reaction(\n",
    "            'hemo_DNA',\n",
    "            name = 'Leghemoglobin DNA replication',\n",
    "            lower_bound = 0.0,\n",
    "            upper_bound = 1000.0\n",
    "        )\n",
    "\n",
    "hemo_RNA_reaction = cobra.Reaction(\n",
    "            'hemo_RNA',\n",
    "            name = 'Leghemoglobin transcription',\n",
    "            lower_bound = 0.0,\n",
    "            upper_bound = 1000.0\n",
    "        )\n",
    "\n",
    "hemo_AA_reaction = cobra.Reaction(\n",
    "            'hemo_protein',\n",
    "            name = 'Leghemoglobin translation',\n",
    "            lower_bound = 0.0,\n",
    "            upper_bound = 1000.0\n",
    ")\n",
    "\n",
    "\n",
    "Take_Out_Hemo = cobra.Reaction(\n",
    "            'Take_Out_Hemo',\n",
    "            name = 'Take_Out_Hemo',\n",
    "            lower_bound = -1000.0,\n",
    "            upper_bound = 1000.0\n",
    ")\n",
    "\n",
    "\n",
    "\n",
    "Hemo_Biosynthesis = cobra.Reaction(\n",
    "            'Hemo_Biosynthesis',\n",
    "            name = 'Leghemoglobin Biosynthesis',\n",
    "            lower_bound = 0.0,\n",
    "            upper_bound = 1000.0\n",
    ")\n",
    "\n",
    "EX_hemo = cobra.Reaction(\n",
    "            'EX_hemo',\n",
    "            name = 'Leghemoglobin exchange reaction',\n",
    "            lower_bound = 0.0,\n",
    "            upper_bound = 1000.0\n",
    ")\n",
    "\n",
    "\n",
    "\n",
    "# add the metabolites to be produced by these reactions\n",
    "\n",
    "\n",
    "Hemo_DNA = cobra.Metabolite(\n",
    "    'Hemo_DNA',\n",
    "    formula='',\n",
    "    name='Hemo_DNA',\n",
    "    compartment='c')\n",
    "\n",
    "Hemo_RNA = cobra.Metabolite(\n",
    "    'Hemo_RNA',\n",
    "    formula='',\n",
    "    name='Hemo_RNA',\n",
    "    compartment='c')\n",
    "\n",
    "Hemo_AA = cobra.Metabolite(\n",
    "    'Hemo_AA',\n",
    "    formula='',\n",
    "    name='Leghemoglobin',\n",
    "    compartment='c')\n",
    "\n",
    "hemo_c = cobra.Metabolite(\n",
    "    'hemo_c',\n",
    "    formula='',\n",
    "    name='hemo_c',\n",
    "    compartment='c')\n",
    "\n",
    "hemo_e = cobra.Metabolite(\n",
    "    'hemo_e',\n",
    "    formula='',\n",
    "    name='hemo_e',\n",
    "    compartment='e')\n",
    "\n",
    "\n",
    "met.add_metabolites([hemo_c,\n",
    "                     hemo_e,\n",
    "                     Hemo_DNA,\n",
    "                     Hemo_RNA,\n",
    "                     Hemo_AA])\n",
    "\n",
    "\n",
    "\n",
    "# add involved metabolites and stoichiometry\n",
    "\n",
    "\n",
    "\n",
    "hemo_DNA_reaction.add_metabolites(\n",
    "    {\n",
    "        ### deoxynucleotides\n",
    "        # A\n",
    "        met.metabolites.adn_c: -1.0424,\n",
    "        # T\n",
    "        met.metabolites.thym_c: -1.0424,\n",
    "        # C\n",
    "        met.metabolites.csn_c: -0.57636,\n",
    "        # G\n",
    "        met.metabolites.gua_c: -0.57636,\n",
    "        # ATP\n",
    "        met.metabolites.atp_c: -11.00757,\n",
    "        # H2O\n",
    "        met.metabolites.h2o_c: -11.00757,\n",
    "        # Hemo_DNA\n",
    "        met.metabolites.Hemo_DNA: 1.0,\n",
    "        # ADP\n",
    "        met.metabolites.adp_c: 11.00757,\n",
    "        # Phosphate\n",
    "        met.metabolites.pi_c: 11.00757\n",
    "    }\n",
    ")\n",
    "\n",
    "hemo_RNA_reaction.add_metabolites(\n",
    "    {\n",
    "        ### RNA nucleotides\n",
    "        # A\n",
    "        met.metabolites.adn_c: -1.2408,\n",
    "        # U\n",
    "        met.metabolites.ura_c: -0.80329,\n",
    "        # C\n",
    "        met.metabolites.csn_c: -0.6455,\n",
    "        # G\n",
    "        met.metabolites.gua_c: -0.43034,\n",
    "        # ATP\n",
    "        met.metabolites.atp_c: -7.48783,\n",
    "        # H2O\n",
    "        met.metabolites.h2o_c: -7.48783,\n",
    "        # Hemo_RNA\n",
    "        met.metabolites.Hemo_RNA: 1.0,\n",
    "        # ADP\n",
    "        met.metabolites.atp_c: 7.48783,\n",
    "        # Phosphate\n",
    "        met.metabolites.pi_c: 7.4878\n",
    "    }\n",
    ")\n",
    "\n",
    "hemo_AA_reaction.add_metabolites(\n",
    "    {\n",
    "        ### Amino Acids\n",
    "        # A\n",
    "        met.metabolites.ala__L_c: -1.48373,\n",
    "        # C, no Cystein in leghemoglobin\n",
    "        # pheast.metabolites.cys__L_c:,\n",
    "        # H\n",
    "        met.metabolites.gln__L_c: -0.12902,\n",
    "        # M\n",
    "        met.metabolites.met__L_c: -0.06451,\n",
    "        # T\n",
    "        met.metabolites.thr__L_c: -0.38706,\n",
    "        # R\n",
    "        met.metabolites.arg__L_c: -0.06451,\n",
    "        # E\n",
    "        met.metabolites.glu__L_c: -0.6451,\n",
    "        # I\n",
    "        met.metabolites.ile__L_c: -0.38706,\n",
    "        # F\n",
    "        met.metabolites.phe__L_c: -0.58059,\n",
    "        # W\n",
    "        met.metabolites.trp__L_c: -0.12902,\n",
    "        # N\n",
    "        met.metabolites.asn__L_c: -0.25804,\n",
    "        # Q\n",
    "        met.metabolites.gln__L_c: -0.32255,\n",
    "        # L\n",
    "        met.metabolites.leu__L_c: -0.83863,\n",
    "        # P\n",
    "        met.metabolites.pro__L_c: -0.32255,\n",
    "        # Y\n",
    "        met.metabolites.tyr__L_c: -0.19353,\n",
    "        # D\n",
    "        met.metabolites.arg__L_c: -0.51608,\n",
    "        # G\n",
    "        met.metabolites.gly_c: -0.51608,\n",
    "        # K\n",
    "        met.metabolites.lys__L_c: -0.90314,\n",
    "        # S\n",
    "        met.metabolites.ser__L_c: -0.83863,\n",
    "        # V\n",
    "        met.metabolites.val__L_c: -0.77412,\n",
    "        # ATP\n",
    "        met.metabolites.atp_c: -40.22199,\n",
    "        # H2O\n",
    "        met.metabolites.h2o_c: -40.22199,\n",
    "        # Leghemoglobin\n",
    "        met.metabolites.Hemo_AA: 1.0,\n",
    "        # ADP\n",
    "        met.metabolites.adp_c: 40.22199,\n",
    "        # Phosphate\n",
    "        met.metabolites.pi_c: 40.22199\n",
    "    }\n",
    ")\n",
    "\n",
    "\n",
    "\n",
    "Hemo_Biosynthesis.add_metabolites(\n",
    "    {\n",
    "        met.metabolites.Hemo_DNA: -2.8e-05,\n",
    "        \n",
    "        met.metabolites.Hemo_RNA: -0.0029,\n",
    "        \n",
    "        met.metabolites.Hemo_AA: -0.997,\n",
    "\n",
    "        met.metabolites.hemo_c: 1.0,\n",
    "    }\n",
    ")\n",
    "\n",
    "# put in into extracellular space\n",
    "\n",
    "EX_hemo.add_metabolites(\n",
    "    {\n",
    "        met.metabolites.hemo_c: -1.0,\n",
    "        \n",
    "        met.metabolites.hemo_e: 1.0\n",
    "    }\n",
    ")\n",
    "\n",
    "\n",
    "# take it out of extracelllular space\n",
    "\n",
    "Take_Out_Hemo.add_metabolites(\n",
    "        {\n",
    "            met.metabolites.hemo_e : -1.0\n",
    "        }\n",
    ")\n",
    "\n",
    "\n",
    "\n",
    "\n",
    "\n",
    "# add reactions to model\n",
    "\n",
    "met.add_reactions([hemo_DNA_reaction,\n",
    "                   hemo_RNA_reaction,\n",
    "                   hemo_AA_reaction,\n",
    "                   Hemo_Biosynthesis,\n",
    "                   Take_Out_Hemo,\n",
    "                   EX_hemo])"
   ]
  },
  {
   "cell_type": "code",
   "execution_count": 264,
   "id": "78bf67cd",
   "metadata": {},
   "outputs": [],
   "source": [
    "met.reactions.BIOMASS_Mcapsulatus.bounds =  0.001, 0.001"
   ]
  },
  {
   "cell_type": "code",
   "execution_count": 265,
   "id": "d18219b9",
   "metadata": {},
   "outputs": [
    {
     "data": {
      "text/html": [
       "<h3>Objective</h3><p>1.0 Hemo_Biosynthesis = 0.0</p><h4>Uptake</h4><table border=\"1\" class=\"dataframe\">\n",
       "  <thead>\n",
       "    <tr style=\"text-align: right;\">\n",
       "      <th>Metabolite</th>\n",
       "      <th>Reaction</th>\n",
       "      <th>Flux</th>\n",
       "      <th>C-Number</th>\n",
       "      <th>C-Flux</th>\n",
       "    </tr>\n",
       "  </thead>\n",
       "  <tbody>\n",
       "    <tr>\n",
       "      <td>ca2_e</td>\n",
       "      <td>EX_ca2_e</td>\n",
       "      <td>6.986E-05</td>\n",
       "      <td>0</td>\n",
       "      <td>0.00%</td>\n",
       "    </tr>\n",
       "    <tr>\n",
       "      <td>ch4_e</td>\n",
       "      <td>EX_ch4_e</td>\n",
       "      <td>2.659</td>\n",
       "      <td>1</td>\n",
       "      <td>100.00%</td>\n",
       "    </tr>\n",
       "    <tr>\n",
       "      <td>cl_e</td>\n",
       "      <td>EX_cl_e</td>\n",
       "      <td>0.0002144</td>\n",
       "      <td>0</td>\n",
       "      <td>0.00%</td>\n",
       "    </tr>\n",
       "    <tr>\n",
       "      <td>cu2_e</td>\n",
       "      <td>EX_cu2_e</td>\n",
       "      <td>1.511E-06</td>\n",
       "      <td>0</td>\n",
       "      <td>0.00%</td>\n",
       "    </tr>\n",
       "    <tr>\n",
       "      <td>fe2_e</td>\n",
       "      <td>EX_fe2_e</td>\n",
       "      <td>6.12E-06</td>\n",
       "      <td>0</td>\n",
       "      <td>0.00%</td>\n",
       "    </tr>\n",
       "    <tr>\n",
       "      <td>h_e</td>\n",
       "      <td>EX_h_e</td>\n",
       "      <td>0.008193</td>\n",
       "      <td>0</td>\n",
       "      <td>0.00%</td>\n",
       "    </tr>\n",
       "    <tr>\n",
       "      <td>k_e</td>\n",
       "      <td>EX_k_e</td>\n",
       "      <td>0.0001765</td>\n",
       "      <td>0</td>\n",
       "      <td>0.00%</td>\n",
       "    </tr>\n",
       "    <tr>\n",
       "      <td>mg2_e</td>\n",
       "      <td>EX_mg2_e</td>\n",
       "      <td>0.0001234</td>\n",
       "      <td>0</td>\n",
       "      <td>0.00%</td>\n",
       "    </tr>\n",
       "    <tr>\n",
       "      <td>na1_e</td>\n",
       "      <td>EX_na1_e</td>\n",
       "      <td>3.915E-05</td>\n",
       "      <td>0</td>\n",
       "      <td>0.00%</td>\n",
       "    </tr>\n",
       "    <tr>\n",
       "      <td>no3_e</td>\n",
       "      <td>EX_no3_e</td>\n",
       "      <td>0.008195</td>\n",
       "      <td>0</td>\n",
       "      <td>0.00%</td>\n",
       "    </tr>\n",
       "    <tr>\n",
       "      <td>o2_e</td>\n",
       "      <td>EX_o2_e</td>\n",
       "      <td>5.267</td>\n",
       "      <td>0</td>\n",
       "      <td>0.00%</td>\n",
       "    </tr>\n",
       "    <tr>\n",
       "      <td>pi_e</td>\n",
       "      <td>EX_pi_e</td>\n",
       "      <td>0.0005514</td>\n",
       "      <td>0</td>\n",
       "      <td>0.00%</td>\n",
       "    </tr>\n",
       "    <tr>\n",
       "      <td>so4_e</td>\n",
       "      <td>EX_so4_e</td>\n",
       "      <td>0.0001688</td>\n",
       "      <td>0</td>\n",
       "      <td>0.00%</td>\n",
       "    </tr>\n",
       "    <tr>\n",
       "      <td>zn2_e</td>\n",
       "      <td>EX_zn2_e</td>\n",
       "      <td>1E-06</td>\n",
       "      <td>0</td>\n",
       "      <td>0.00%</td>\n",
       "    </tr>\n",
       "  </tbody>\n",
       "</table><h4>Secretion</h4><table border=\"1\" class=\"dataframe\">\n",
       "  <thead>\n",
       "    <tr style=\"text-align: right;\">\n",
       "      <th>Metabolite</th>\n",
       "      <th>Reaction</th>\n",
       "      <th>Flux</th>\n",
       "      <th>C-Number</th>\n",
       "      <th>C-Flux</th>\n",
       "    </tr>\n",
       "  </thead>\n",
       "  <tbody>\n",
       "    <tr>\n",
       "      <td>doxopa_c</td>\n",
       "      <td>DM_doxopa_c</td>\n",
       "      <td>-1.065E-06</td>\n",
       "      <td>3</td>\n",
       "      <td>0.00%</td>\n",
       "    </tr>\n",
       "    <tr>\n",
       "      <td>h2o2_c</td>\n",
       "      <td>DM_h2o2_c</td>\n",
       "      <td>-0.0003212</td>\n",
       "      <td>0</td>\n",
       "      <td>0.00%</td>\n",
       "    </tr>\n",
       "    <tr>\n",
       "      <td>rdmbzi_c</td>\n",
       "      <td>DM_rdmbzi_c</td>\n",
       "      <td>-1.065E-06</td>\n",
       "      <td>14</td>\n",
       "      <td>0.00%</td>\n",
       "    </tr>\n",
       "    <tr>\n",
       "      <td>co2_e</td>\n",
       "      <td>EX_co2_e</td>\n",
       "      <td>-2.626</td>\n",
       "      <td>1</td>\n",
       "      <td>100.00%</td>\n",
       "    </tr>\n",
       "    <tr>\n",
       "      <td>h2o_e</td>\n",
       "      <td>EX_h2o_e</td>\n",
       "      <td>-5.296</td>\n",
       "      <td>0</td>\n",
       "      <td>0.00%</td>\n",
       "    </tr>\n",
       "  </tbody>\n",
       "</table>"
      ],
      "text/plain": [
       "<cobra.summary.model_summary.ModelSummary at 0x7fd085e325b0>"
      ]
     },
     "execution_count": 265,
     "metadata": {},
     "output_type": "execute_result"
    }
   ],
   "source": [
    "new_objective = met.problem.Objective(met.reactions.Hemo_Biosynthesis.flux_expression)\n",
    "met.objective = new_objective\n",
    "met.summary()"
   ]
  },
  {
   "cell_type": "code",
   "execution_count": 261,
   "id": "c04f3aed",
   "metadata": {},
   "outputs": [
    {
     "data": {
      "text/html": [
       "<h3>hemo_c</h3><p></p><h4>Producing Reactions</h4><table border=\"1\" class=\"dataframe\">\n",
       "  <thead>\n",
       "    <tr style=\"text-align: right;\">\n",
       "      <th>Percent</th>\n",
       "      <th>Flux</th>\n",
       "      <th>Reaction</th>\n",
       "      <th>Definition</th>\n",
       "    </tr>\n",
       "  </thead>\n",
       "  <tbody>\n",
       "  </tbody>\n",
       "</table><h4>Consuming Reactions</h4><table border=\"1\" class=\"dataframe\">\n",
       "  <thead>\n",
       "    <tr style=\"text-align: right;\">\n",
       "      <th>Percent</th>\n",
       "      <th>Flux</th>\n",
       "      <th>Reaction</th>\n",
       "      <th>Definition</th>\n",
       "    </tr>\n",
       "  </thead>\n",
       "  <tbody>\n",
       "  </tbody>\n",
       "</table>"
      ],
      "text/plain": [
       "<cobra.summary.metabolite_summary.MetaboliteSummary at 0x7fd085e32c10>"
      ]
     },
     "execution_count": 261,
     "metadata": {},
     "output_type": "execute_result"
    }
   ],
   "source": [
    "cobra.summary.MetaboliteSummary(metabolite = met.metabolites.hemo_c, model = met)"
   ]
  },
  {
   "cell_type": "code",
   "execution_count": 139,
   "id": "bba38d79",
   "metadata": {},
   "outputs": [
    {
     "ename": "KeyError",
     "evalue": "'Hemo_Biosynthesis'",
     "output_type": "error",
     "traceback": [
      "\u001b[0;31m---------------------------------------------------------------------------\u001b[0m",
      "\u001b[0;31mKeyError\u001b[0m                                  Traceback (most recent call last)",
      "\u001b[0;32m~/.local/lib/python3.9/site-packages/pandas/core/indexes/base.py\u001b[0m in \u001b[0;36mget_loc\u001b[0;34m(self, key, method, tolerance)\u001b[0m\n\u001b[1;32m   3079\u001b[0m             \u001b[0;32mtry\u001b[0m\u001b[0;34m:\u001b[0m\u001b[0;34m\u001b[0m\u001b[0;34m\u001b[0m\u001b[0m\n\u001b[0;32m-> 3080\u001b[0;31m                 \u001b[0;32mreturn\u001b[0m \u001b[0mself\u001b[0m\u001b[0;34m.\u001b[0m\u001b[0m_engine\u001b[0m\u001b[0;34m.\u001b[0m\u001b[0mget_loc\u001b[0m\u001b[0;34m(\u001b[0m\u001b[0mcasted_key\u001b[0m\u001b[0;34m)\u001b[0m\u001b[0;34m\u001b[0m\u001b[0;34m\u001b[0m\u001b[0m\n\u001b[0m\u001b[1;32m   3081\u001b[0m             \u001b[0;32mexcept\u001b[0m \u001b[0mKeyError\u001b[0m \u001b[0;32mas\u001b[0m \u001b[0merr\u001b[0m\u001b[0;34m:\u001b[0m\u001b[0;34m\u001b[0m\u001b[0;34m\u001b[0m\u001b[0m\n",
      "\u001b[0;32mpandas/_libs/index.pyx\u001b[0m in \u001b[0;36mpandas._libs.index.IndexEngine.get_loc\u001b[0;34m()\u001b[0m\n",
      "\u001b[0;32mpandas/_libs/index.pyx\u001b[0m in \u001b[0;36mpandas._libs.index.IndexEngine.get_loc\u001b[0;34m()\u001b[0m\n",
      "\u001b[0;32mpandas/_libs/hashtable_class_helper.pxi\u001b[0m in \u001b[0;36mpandas._libs.hashtable.PyObjectHashTable.get_item\u001b[0;34m()\u001b[0m\n",
      "\u001b[0;32mpandas/_libs/hashtable_class_helper.pxi\u001b[0m in \u001b[0;36mpandas._libs.hashtable.PyObjectHashTable.get_item\u001b[0;34m()\u001b[0m\n",
      "\u001b[0;31mKeyError\u001b[0m: 'Hemo_Biosynthesis'",
      "\nThe above exception was the direct cause of the following exception:\n",
      "\u001b[0;31mKeyError\u001b[0m                                  Traceback (most recent call last)",
      "\u001b[0;32m~/.local/lib/python3.9/site-packages/IPython/core/formatters.py\u001b[0m in \u001b[0;36m__call__\u001b[0;34m(self, obj)\u001b[0m\n\u001b[1;32m    343\u001b[0m             \u001b[0mmethod\u001b[0m \u001b[0;34m=\u001b[0m \u001b[0mget_real_method\u001b[0m\u001b[0;34m(\u001b[0m\u001b[0mobj\u001b[0m\u001b[0;34m,\u001b[0m \u001b[0mself\u001b[0m\u001b[0;34m.\u001b[0m\u001b[0mprint_method\u001b[0m\u001b[0;34m)\u001b[0m\u001b[0;34m\u001b[0m\u001b[0;34m\u001b[0m\u001b[0m\n\u001b[1;32m    344\u001b[0m             \u001b[0;32mif\u001b[0m \u001b[0mmethod\u001b[0m \u001b[0;32mis\u001b[0m \u001b[0;32mnot\u001b[0m \u001b[0;32mNone\u001b[0m\u001b[0;34m:\u001b[0m\u001b[0;34m\u001b[0m\u001b[0;34m\u001b[0m\u001b[0m\n\u001b[0;32m--> 345\u001b[0;31m                 \u001b[0;32mreturn\u001b[0m \u001b[0mmethod\u001b[0m\u001b[0;34m(\u001b[0m\u001b[0;34m)\u001b[0m\u001b[0;34m\u001b[0m\u001b[0;34m\u001b[0m\u001b[0m\n\u001b[0m\u001b[1;32m    346\u001b[0m             \u001b[0;32mreturn\u001b[0m \u001b[0;32mNone\u001b[0m\u001b[0;34m\u001b[0m\u001b[0;34m\u001b[0m\u001b[0m\n\u001b[1;32m    347\u001b[0m         \u001b[0;32melse\u001b[0m\u001b[0;34m:\u001b[0m\u001b[0;34m\u001b[0m\u001b[0;34m\u001b[0m\u001b[0m\n",
      "\u001b[0;32m~/.local/lib/python3.9/site-packages/cobra/summary/summary.py\u001b[0m in \u001b[0;36m_repr_html_\u001b[0;34m(self)\u001b[0m\n\u001b[1;32m     77\u001b[0m     \u001b[0;32mdef\u001b[0m \u001b[0m_repr_html_\u001b[0m\u001b[0;34m(\u001b[0m\u001b[0mself\u001b[0m\u001b[0;34m)\u001b[0m \u001b[0;34m->\u001b[0m \u001b[0mstr\u001b[0m\u001b[0;34m:\u001b[0m\u001b[0;34m\u001b[0m\u001b[0;34m\u001b[0m\u001b[0m\n\u001b[1;32m     78\u001b[0m         \u001b[0;34m\"\"\"Return a rich HTML representation of the summary.\"\"\"\u001b[0m\u001b[0;34m\u001b[0m\u001b[0;34m\u001b[0m\u001b[0m\n\u001b[0;32m---> 79\u001b[0;31m         \u001b[0;32mreturn\u001b[0m \u001b[0mself\u001b[0m\u001b[0;34m.\u001b[0m\u001b[0mto_html\u001b[0m\u001b[0;34m(\u001b[0m\u001b[0;34m)\u001b[0m\u001b[0;34m\u001b[0m\u001b[0;34m\u001b[0m\u001b[0m\n\u001b[0m\u001b[1;32m     80\u001b[0m \u001b[0;34m\u001b[0m\u001b[0m\n\u001b[1;32m     81\u001b[0m     \u001b[0;34m@\u001b[0m\u001b[0mproperty\u001b[0m\u001b[0;34m\u001b[0m\u001b[0;34m\u001b[0m\u001b[0m\n",
      "\u001b[0;32m~/.local/lib/python3.9/site-packages/cobra/summary/reaction_summary.py\u001b[0m in \u001b[0;36mto_html\u001b[0;34m(self, names, threshold, float_format)\u001b[0m\n\u001b[1;32m    240\u001b[0m             \u001b[0mheader\u001b[0m \u001b[0;34m=\u001b[0m \u001b[0mself\u001b[0m\u001b[0;34m.\u001b[0m\u001b[0m_reaction\u001b[0m\u001b[0;34m.\u001b[0m\u001b[0mid\u001b[0m\u001b[0;34m\u001b[0m\u001b[0;34m\u001b[0m\u001b[0m\n\u001b[1;32m    241\u001b[0m \u001b[0;34m\u001b[0m\u001b[0m\n\u001b[0;32m--> 242\u001b[0;31m         \u001b[0mflux\u001b[0m \u001b[0;34m=\u001b[0m \u001b[0mself\u001b[0m\u001b[0;34m.\u001b[0m\u001b[0m_string_flux\u001b[0m\u001b[0;34m(\u001b[0m\u001b[0mthreshold\u001b[0m\u001b[0;34m,\u001b[0m \u001b[0mfloat_format\u001b[0m\u001b[0;34m)\u001b[0m\u001b[0;34m\u001b[0m\u001b[0;34m\u001b[0m\u001b[0m\n\u001b[0m\u001b[1;32m    243\u001b[0m \u001b[0;34m\u001b[0m\u001b[0m\n\u001b[1;32m    244\u001b[0m         return (\n",
      "\u001b[0;32m~/.local/lib/python3.9/site-packages/cobra/summary/reaction_summary.py\u001b[0m in \u001b[0;36m_string_flux\u001b[0;34m(self, threshold, float_format)\u001b[0m\n\u001b[1;32m    157\u001b[0m         \u001b[0;32melse\u001b[0m\u001b[0;34m:\u001b[0m\u001b[0;34m\u001b[0m\u001b[0;34m\u001b[0m\u001b[0m\n\u001b[1;32m    158\u001b[0m             \u001b[0mframe\u001b[0m \u001b[0;34m=\u001b[0m \u001b[0mself\u001b[0m\u001b[0;34m.\u001b[0m\u001b[0m_flux\u001b[0m\u001b[0;34m.\u001b[0m\u001b[0mloc\u001b[0m\u001b[0;34m[\u001b[0m\u001b[0mself\u001b[0m\u001b[0;34m.\u001b[0m\u001b[0m_flux\u001b[0m\u001b[0;34m[\u001b[0m\u001b[0;34m\"flux\"\u001b[0m\u001b[0;34m]\u001b[0m\u001b[0;34m.\u001b[0m\u001b[0mabs\u001b[0m\u001b[0;34m(\u001b[0m\u001b[0;34m)\u001b[0m \u001b[0;34m>=\u001b[0m \u001b[0mthreshold\u001b[0m\u001b[0;34m,\u001b[0m \u001b[0;34m:\u001b[0m\u001b[0;34m]\u001b[0m\u001b[0;34m.\u001b[0m\u001b[0mcopy\u001b[0m\u001b[0;34m(\u001b[0m\u001b[0;34m)\u001b[0m\u001b[0;34m\u001b[0m\u001b[0;34m\u001b[0m\u001b[0m\n\u001b[0;32m--> 159\u001b[0;31m             \u001b[0;32mreturn\u001b[0m \u001b[0;34mf\"{frame.at[self._reaction.id, 'flux']:{float_format}}\"\u001b[0m\u001b[0;34m\u001b[0m\u001b[0;34m\u001b[0m\u001b[0m\n\u001b[0m\u001b[1;32m    160\u001b[0m \u001b[0;34m\u001b[0m\u001b[0m\n\u001b[1;32m    161\u001b[0m     def to_string(\n",
      "\u001b[0;32m~/.local/lib/python3.9/site-packages/pandas/core/indexing.py\u001b[0m in \u001b[0;36m__getitem__\u001b[0;34m(self, key)\u001b[0m\n\u001b[1;32m   2154\u001b[0m             \u001b[0;32mreturn\u001b[0m \u001b[0mself\u001b[0m\u001b[0;34m.\u001b[0m\u001b[0mobj\u001b[0m\u001b[0;34m.\u001b[0m\u001b[0mloc\u001b[0m\u001b[0;34m[\u001b[0m\u001b[0mkey\u001b[0m\u001b[0;34m]\u001b[0m\u001b[0;34m\u001b[0m\u001b[0;34m\u001b[0m\u001b[0m\n\u001b[1;32m   2155\u001b[0m \u001b[0;34m\u001b[0m\u001b[0m\n\u001b[0;32m-> 2156\u001b[0;31m         \u001b[0;32mreturn\u001b[0m \u001b[0msuper\u001b[0m\u001b[0;34m(\u001b[0m\u001b[0;34m)\u001b[0m\u001b[0;34m.\u001b[0m\u001b[0m__getitem__\u001b[0m\u001b[0;34m(\u001b[0m\u001b[0mkey\u001b[0m\u001b[0;34m)\u001b[0m\u001b[0;34m\u001b[0m\u001b[0;34m\u001b[0m\u001b[0m\n\u001b[0m\u001b[1;32m   2157\u001b[0m \u001b[0;34m\u001b[0m\u001b[0m\n\u001b[1;32m   2158\u001b[0m     \u001b[0;32mdef\u001b[0m \u001b[0m__setitem__\u001b[0m\u001b[0;34m(\u001b[0m\u001b[0mself\u001b[0m\u001b[0;34m,\u001b[0m \u001b[0mkey\u001b[0m\u001b[0;34m,\u001b[0m \u001b[0mvalue\u001b[0m\u001b[0;34m)\u001b[0m\u001b[0;34m:\u001b[0m\u001b[0;34m\u001b[0m\u001b[0;34m\u001b[0m\u001b[0m\n",
      "\u001b[0;32m~/.local/lib/python3.9/site-packages/pandas/core/indexing.py\u001b[0m in \u001b[0;36m__getitem__\u001b[0;34m(self, key)\u001b[0m\n\u001b[1;32m   2101\u001b[0m \u001b[0;34m\u001b[0m\u001b[0m\n\u001b[1;32m   2102\u001b[0m         \u001b[0mkey\u001b[0m \u001b[0;34m=\u001b[0m \u001b[0mself\u001b[0m\u001b[0;34m.\u001b[0m\u001b[0m_convert_key\u001b[0m\u001b[0;34m(\u001b[0m\u001b[0mkey\u001b[0m\u001b[0;34m)\u001b[0m\u001b[0;34m\u001b[0m\u001b[0;34m\u001b[0m\u001b[0m\n\u001b[0;32m-> 2103\u001b[0;31m         \u001b[0;32mreturn\u001b[0m \u001b[0mself\u001b[0m\u001b[0;34m.\u001b[0m\u001b[0mobj\u001b[0m\u001b[0;34m.\u001b[0m\u001b[0m_get_value\u001b[0m\u001b[0;34m(\u001b[0m\u001b[0;34m*\u001b[0m\u001b[0mkey\u001b[0m\u001b[0;34m,\u001b[0m \u001b[0mtakeable\u001b[0m\u001b[0;34m=\u001b[0m\u001b[0mself\u001b[0m\u001b[0;34m.\u001b[0m\u001b[0m_takeable\u001b[0m\u001b[0;34m)\u001b[0m\u001b[0;34m\u001b[0m\u001b[0;34m\u001b[0m\u001b[0m\n\u001b[0m\u001b[1;32m   2104\u001b[0m \u001b[0;34m\u001b[0m\u001b[0m\n\u001b[1;32m   2105\u001b[0m     \u001b[0;32mdef\u001b[0m \u001b[0m__setitem__\u001b[0m\u001b[0;34m(\u001b[0m\u001b[0mself\u001b[0m\u001b[0;34m,\u001b[0m \u001b[0mkey\u001b[0m\u001b[0;34m,\u001b[0m \u001b[0mvalue\u001b[0m\u001b[0;34m)\u001b[0m\u001b[0;34m:\u001b[0m\u001b[0;34m\u001b[0m\u001b[0;34m\u001b[0m\u001b[0m\n",
      "\u001b[0;32m~/.local/lib/python3.9/site-packages/pandas/core/frame.py\u001b[0m in \u001b[0;36m_get_value\u001b[0;34m(self, index, col, takeable)\u001b[0m\n\u001b[1;32m   3142\u001b[0m         \u001b[0;31m# use positional\u001b[0m\u001b[0;34m\u001b[0m\u001b[0;34m\u001b[0m\u001b[0;34m\u001b[0m\u001b[0m\n\u001b[1;32m   3143\u001b[0m         \u001b[0mcol\u001b[0m \u001b[0;34m=\u001b[0m \u001b[0mself\u001b[0m\u001b[0;34m.\u001b[0m\u001b[0mcolumns\u001b[0m\u001b[0;34m.\u001b[0m\u001b[0mget_loc\u001b[0m\u001b[0;34m(\u001b[0m\u001b[0mcol\u001b[0m\u001b[0;34m)\u001b[0m\u001b[0;34m\u001b[0m\u001b[0;34m\u001b[0m\u001b[0m\n\u001b[0;32m-> 3144\u001b[0;31m         \u001b[0mindex\u001b[0m \u001b[0;34m=\u001b[0m \u001b[0mself\u001b[0m\u001b[0;34m.\u001b[0m\u001b[0mindex\u001b[0m\u001b[0;34m.\u001b[0m\u001b[0mget_loc\u001b[0m\u001b[0;34m(\u001b[0m\u001b[0mindex\u001b[0m\u001b[0;34m)\u001b[0m\u001b[0;34m\u001b[0m\u001b[0;34m\u001b[0m\u001b[0m\n\u001b[0m\u001b[1;32m   3145\u001b[0m         \u001b[0;32mreturn\u001b[0m \u001b[0mself\u001b[0m\u001b[0;34m.\u001b[0m\u001b[0m_get_value\u001b[0m\u001b[0;34m(\u001b[0m\u001b[0mindex\u001b[0m\u001b[0;34m,\u001b[0m \u001b[0mcol\u001b[0m\u001b[0;34m,\u001b[0m \u001b[0mtakeable\u001b[0m\u001b[0;34m=\u001b[0m\u001b[0;32mTrue\u001b[0m\u001b[0;34m)\u001b[0m\u001b[0;34m\u001b[0m\u001b[0;34m\u001b[0m\u001b[0m\n\u001b[1;32m   3146\u001b[0m \u001b[0;34m\u001b[0m\u001b[0m\n",
      "\u001b[0;32m~/.local/lib/python3.9/site-packages/pandas/core/indexes/base.py\u001b[0m in \u001b[0;36mget_loc\u001b[0;34m(self, key, method, tolerance)\u001b[0m\n\u001b[1;32m   3080\u001b[0m                 \u001b[0;32mreturn\u001b[0m \u001b[0mself\u001b[0m\u001b[0;34m.\u001b[0m\u001b[0m_engine\u001b[0m\u001b[0;34m.\u001b[0m\u001b[0mget_loc\u001b[0m\u001b[0;34m(\u001b[0m\u001b[0mcasted_key\u001b[0m\u001b[0;34m)\u001b[0m\u001b[0;34m\u001b[0m\u001b[0;34m\u001b[0m\u001b[0m\n\u001b[1;32m   3081\u001b[0m             \u001b[0;32mexcept\u001b[0m \u001b[0mKeyError\u001b[0m \u001b[0;32mas\u001b[0m \u001b[0merr\u001b[0m\u001b[0;34m:\u001b[0m\u001b[0;34m\u001b[0m\u001b[0;34m\u001b[0m\u001b[0m\n\u001b[0;32m-> 3082\u001b[0;31m                 \u001b[0;32mraise\u001b[0m \u001b[0mKeyError\u001b[0m\u001b[0;34m(\u001b[0m\u001b[0mkey\u001b[0m\u001b[0;34m)\u001b[0m \u001b[0;32mfrom\u001b[0m \u001b[0merr\u001b[0m\u001b[0;34m\u001b[0m\u001b[0;34m\u001b[0m\u001b[0m\n\u001b[0m\u001b[1;32m   3083\u001b[0m \u001b[0;34m\u001b[0m\u001b[0m\n\u001b[1;32m   3084\u001b[0m         \u001b[0;32mif\u001b[0m \u001b[0mtolerance\u001b[0m \u001b[0;32mis\u001b[0m \u001b[0;32mnot\u001b[0m \u001b[0;32mNone\u001b[0m\u001b[0;34m:\u001b[0m\u001b[0;34m\u001b[0m\u001b[0;34m\u001b[0m\u001b[0m\n",
      "\u001b[0;31mKeyError\u001b[0m: 'Hemo_Biosynthesis'"
     ]
    },
    {
     "data": {
      "text/plain": [
       "<cobra.summary.reaction_summary.ReactionSummary at 0x7fd08992c0a0>"
      ]
     },
     "execution_count": 139,
     "metadata": {},
     "output_type": "execute_result"
    }
   ],
   "source": [
    "cobra.summary.reaction_summary.ReactionSummary(reaction = met.reactions.Hemo_Biosynthesis, model = met)"
   ]
  },
  {
   "cell_type": "code",
   "execution_count": null,
   "id": "4cf41f13",
   "metadata": {},
   "outputs": [],
   "source": []
  }
 ],
 "metadata": {
  "kernelspec": {
   "display_name": "Python 3",
   "language": "python",
   "name": "python3"
  },
  "language_info": {
   "codemirror_mode": {
    "name": "ipython",
    "version": 3
   },
   "file_extension": ".py",
   "mimetype": "text/x-python",
   "name": "python",
   "nbconvert_exporter": "python",
   "pygments_lexer": "ipython3",
   "version": "3.9.6"
  }
 },
 "nbformat": 4,
 "nbformat_minor": 5
}
