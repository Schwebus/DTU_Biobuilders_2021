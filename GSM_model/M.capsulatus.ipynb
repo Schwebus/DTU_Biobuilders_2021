{
 "cells": [
  {
   "cell_type": "code",
   "execution_count": 3,
   "id": "7106242d",
   "metadata": {},
   "outputs": [],
   "source": [
    "import cobra"
   ]
  },
  {
   "cell_type": "code",
   "execution_count": 4,
   "id": "4f2fc4a1",
   "metadata": {},
   "outputs": [],
   "source": [
    "met = cobra.io.read_sbml_model(\"./data/iMcBath_rewritten.xml\")"
   ]
  },
  {
   "cell_type": "code",
   "execution_count": 5,
   "id": "e7340c2d",
   "metadata": {},
   "outputs": [
    {
     "data": {
      "text/html": [
       "<strong><em>Optimal</em> solution with objective value 0.178</strong><br><div>\n",
       "<style scoped>\n",
       "    .dataframe tbody tr th:only-of-type {\n",
       "        vertical-align: middle;\n",
       "    }\n",
       "\n",
       "    .dataframe tbody tr th {\n",
       "        vertical-align: top;\n",
       "    }\n",
       "\n",
       "    .dataframe thead th {\n",
       "        text-align: right;\n",
       "    }\n",
       "</style>\n",
       "<table border=\"1\" class=\"dataframe\">\n",
       "  <thead>\n",
       "    <tr style=\"text-align: right;\">\n",
       "      <th></th>\n",
       "      <th>fluxes</th>\n",
       "      <th>reduced_costs</th>\n",
       "    </tr>\n",
       "  </thead>\n",
       "  <tbody>\n",
       "    <tr>\n",
       "      <th>2OH3K5MPPISO</th>\n",
       "      <td>0.000000</td>\n",
       "      <td>0.000000</td>\n",
       "    </tr>\n",
       "    <tr>\n",
       "      <th>34DHOXPEGOX</th>\n",
       "      <td>0.000000</td>\n",
       "      <td>-0.000000</td>\n",
       "    </tr>\n",
       "    <tr>\n",
       "      <th>3HAD100</th>\n",
       "      <td>-0.005615</td>\n",
       "      <td>-0.000000</td>\n",
       "    </tr>\n",
       "    <tr>\n",
       "      <th>3HAD120</th>\n",
       "      <td>0.005615</td>\n",
       "      <td>0.000000</td>\n",
       "    </tr>\n",
       "    <tr>\n",
       "      <th>3HAD140</th>\n",
       "      <td>0.003835</td>\n",
       "      <td>0.000000</td>\n",
       "    </tr>\n",
       "    <tr>\n",
       "      <th>...</th>\n",
       "      <td>...</td>\n",
       "      <td>...</td>\n",
       "    </tr>\n",
       "    <tr>\n",
       "      <th>DM_oaa_c</th>\n",
       "      <td>0.000000</td>\n",
       "      <td>-0.096448</td>\n",
       "    </tr>\n",
       "    <tr>\n",
       "      <th>DM_akg_c</th>\n",
       "      <td>0.000000</td>\n",
       "      <td>-0.154316</td>\n",
       "    </tr>\n",
       "    <tr>\n",
       "      <th>DM_3mob_c</th>\n",
       "      <td>0.000000</td>\n",
       "      <td>-0.212185</td>\n",
       "    </tr>\n",
       "    <tr>\n",
       "      <th>SK_h2_c</th>\n",
       "      <td>0.000000</td>\n",
       "      <td>-0.019290</td>\n",
       "    </tr>\n",
       "    <tr>\n",
       "      <th>SK_for_c</th>\n",
       "      <td>0.000000</td>\n",
       "      <td>-0.019290</td>\n",
       "    </tr>\n",
       "  </tbody>\n",
       "</table>\n",
       "<p>913 rows × 2 columns</p>\n",
       "</div>"
      ],
      "text/plain": [
       "<Solution 0.178 at 0x7f69d117de20>"
      ]
     },
     "execution_count": 5,
     "metadata": {},
     "output_type": "execute_result"
    }
   ],
   "source": [
    "met.optimize()"
   ]
  },
  {
   "cell_type": "code",
   "execution_count": 6,
   "id": "c62352b7",
   "metadata": {},
   "outputs": [
    {
     "data": {
      "text/html": [
       "<h3>Objective</h3><p>1.0 BIOMASS_Mcapsulatus = 0.17804211749648793</p><h4>Uptake</h4><table border=\"1\" class=\"dataframe\">\n",
       "  <thead>\n",
       "    <tr style=\"text-align: right;\">\n",
       "      <th>Metabolite</th>\n",
       "      <th>Reaction</th>\n",
       "      <th>Flux</th>\n",
       "      <th>C-Number</th>\n",
       "      <th>C-Flux</th>\n",
       "    </tr>\n",
       "  </thead>\n",
       "  <tbody>\n",
       "    <tr>\n",
       "      <td>ca2_e</td>\n",
       "      <td>EX_ca2_e</td>\n",
       "      <td>0.01244</td>\n",
       "      <td>0</td>\n",
       "      <td>0.00%</td>\n",
       "    </tr>\n",
       "    <tr>\n",
       "      <td>ch4_e</td>\n",
       "      <td>EX_ch4_e</td>\n",
       "      <td>18.46</td>\n",
       "      <td>1</td>\n",
       "      <td>100.00%</td>\n",
       "    </tr>\n",
       "    <tr>\n",
       "      <td>cl_e</td>\n",
       "      <td>EX_cl_e</td>\n",
       "      <td>0.03817</td>\n",
       "      <td>0</td>\n",
       "      <td>0.00%</td>\n",
       "    </tr>\n",
       "    <tr>\n",
       "      <td>cobalt2_e</td>\n",
       "      <td>EX_cobalt2_e</td>\n",
       "      <td>1.027E-05</td>\n",
       "      <td>0</td>\n",
       "      <td>0.00%</td>\n",
       "    </tr>\n",
       "    <tr>\n",
       "      <td>cu2_e</td>\n",
       "      <td>EX_cu2_e</td>\n",
       "      <td>0.000269</td>\n",
       "      <td>0</td>\n",
       "      <td>0.00%</td>\n",
       "    </tr>\n",
       "    <tr>\n",
       "      <td>fe2_e</td>\n",
       "      <td>EX_fe2_e</td>\n",
       "      <td>0.00109</td>\n",
       "      <td>0</td>\n",
       "      <td>0.00%</td>\n",
       "    </tr>\n",
       "    <tr>\n",
       "      <td>h_e</td>\n",
       "      <td>EX_h_e</td>\n",
       "      <td>1.458</td>\n",
       "      <td>0</td>\n",
       "      <td>0.00%</td>\n",
       "    </tr>\n",
       "    <tr>\n",
       "      <td>k_e</td>\n",
       "      <td>EX_k_e</td>\n",
       "      <td>0.03142</td>\n",
       "      <td>0</td>\n",
       "      <td>0.00%</td>\n",
       "    </tr>\n",
       "    <tr>\n",
       "      <td>mg2_e</td>\n",
       "      <td>EX_mg2_e</td>\n",
       "      <td>0.02198</td>\n",
       "      <td>0</td>\n",
       "      <td>0.00%</td>\n",
       "    </tr>\n",
       "    <tr>\n",
       "      <td>mn2_e</td>\n",
       "      <td>EX_mn2_e</td>\n",
       "      <td>3.205E-06</td>\n",
       "      <td>0</td>\n",
       "      <td>0.00%</td>\n",
       "    </tr>\n",
       "    <tr>\n",
       "      <td>na1_e</td>\n",
       "      <td>EX_na1_e</td>\n",
       "      <td>0.00697</td>\n",
       "      <td>0</td>\n",
       "      <td>0.00%</td>\n",
       "    </tr>\n",
       "    <tr>\n",
       "      <td>ni2_e</td>\n",
       "      <td>EX_ni2_e</td>\n",
       "      <td>6.053E-06</td>\n",
       "      <td>0</td>\n",
       "      <td>0.00%</td>\n",
       "    </tr>\n",
       "    <tr>\n",
       "      <td>no3_e</td>\n",
       "      <td>EX_no3_e</td>\n",
       "      <td>1.459</td>\n",
       "      <td>0</td>\n",
       "      <td>0.00%</td>\n",
       "    </tr>\n",
       "    <tr>\n",
       "      <td>o2_e</td>\n",
       "      <td>EX_o2_e</td>\n",
       "      <td>27.81</td>\n",
       "      <td>0</td>\n",
       "      <td>0.00%</td>\n",
       "    </tr>\n",
       "    <tr>\n",
       "      <td>pi_e</td>\n",
       "      <td>EX_pi_e</td>\n",
       "      <td>0.09799</td>\n",
       "      <td>0</td>\n",
       "      <td>0.00%</td>\n",
       "    </tr>\n",
       "    <tr>\n",
       "      <td>so4_e</td>\n",
       "      <td>EX_so4_e</td>\n",
       "      <td>0.02999</td>\n",
       "      <td>0</td>\n",
       "      <td>0.00%</td>\n",
       "    </tr>\n",
       "    <tr>\n",
       "      <td>zn2_e</td>\n",
       "      <td>EX_zn2_e</td>\n",
       "      <td>0.000178</td>\n",
       "      <td>0</td>\n",
       "      <td>0.00%</td>\n",
       "    </tr>\n",
       "  </tbody>\n",
       "</table><h4>Secretion</h4><table border=\"1\" class=\"dataframe\">\n",
       "  <thead>\n",
       "    <tr style=\"text-align: right;\">\n",
       "      <th>Metabolite</th>\n",
       "      <th>Reaction</th>\n",
       "      <th>Flux</th>\n",
       "      <th>C-Number</th>\n",
       "      <th>C-Flux</th>\n",
       "    </tr>\n",
       "  </thead>\n",
       "  <tbody>\n",
       "    <tr>\n",
       "      <td>4hba_c</td>\n",
       "      <td>DM_4hba_c</td>\n",
       "      <td>-5.101E-06</td>\n",
       "      <td>7</td>\n",
       "      <td>0.00%</td>\n",
       "    </tr>\n",
       "    <tr>\n",
       "      <td>doxopa_c</td>\n",
       "      <td>DM_doxopa_c</td>\n",
       "      <td>-0.0001896</td>\n",
       "      <td>3</td>\n",
       "      <td>0.00%</td>\n",
       "    </tr>\n",
       "    <tr>\n",
       "      <td>h2o2_c</td>\n",
       "      <td>DM_h2o2_c</td>\n",
       "      <td>-0.05725</td>\n",
       "      <td>0</td>\n",
       "      <td>0.00%</td>\n",
       "    </tr>\n",
       "    <tr>\n",
       "      <td>rdmbzi_c</td>\n",
       "      <td>DM_rdmbzi_c</td>\n",
       "      <td>-0.0001895</td>\n",
       "      <td>14</td>\n",
       "      <td>0.02%</td>\n",
       "    </tr>\n",
       "    <tr>\n",
       "      <td>co2_e</td>\n",
       "      <td>EX_co2_e</td>\n",
       "      <td>-12.47</td>\n",
       "      <td>1</td>\n",
       "      <td>99.97%</td>\n",
       "    </tr>\n",
       "    <tr>\n",
       "      <td>co_e</td>\n",
       "      <td>EX_co_e</td>\n",
       "      <td>-5.101E-06</td>\n",
       "      <td>1</td>\n",
       "      <td>0.00%</td>\n",
       "    </tr>\n",
       "    <tr>\n",
       "      <td>h2o_e</td>\n",
       "      <td>EX_h2o_e</td>\n",
       "      <td>-32.96</td>\n",
       "      <td>0</td>\n",
       "      <td>0.00%</td>\n",
       "    </tr>\n",
       "  </tbody>\n",
       "</table>"
      ],
      "text/plain": [
       "<cobra.summary.model_summary.ModelSummary at 0x7f6a28647610>"
      ]
     },
     "execution_count": 6,
     "metadata": {},
     "output_type": "execute_result"
    }
   ],
   "source": [
    "met.summary()"
   ]
  },
  {
   "cell_type": "markdown",
   "id": "104ee9f1",
   "metadata": {},
   "source": [
    "It is clearly seen that in M. capsulatus the uptake of methane outstands among all the other uptakes. Thus, now we will check those reactions where methane is involved. Besides, we will also check the methanol-involved reactions as it is here where our main interest is placed.\n",
    "\n",
    "IMPORTANT!! Consider using the query both with initial letter as capital letter and not capital!"
   ]
  },
  {
   "cell_type": "code",
   "execution_count": 7,
   "id": "eeba16b8",
   "metadata": {},
   "outputs": [
    {
     "data": {
      "text/plain": [
       "[<Reaction PMMODCipp at 0x7f69d12ef2e0>,\n",
       " <Reaction PMMOipp at 0x7f69d12efaf0>,\n",
       " <Reaction SMMOi at 0x7f69d1eecb50>]"
      ]
     },
     "execution_count": 7,
     "metadata": {},
     "output_type": "execute_result"
    }
   ],
   "source": [
    "met.reactions.query(\"Methane\", \"name\")"
   ]
  },
  {
   "cell_type": "code",
   "execution_count": 8,
   "id": "16a72f65",
   "metadata": {},
   "outputs": [
    {
     "data": {
      "text/html": [
       "\n",
       "        <table>\n",
       "            <tr>\n",
       "                <td><strong>Reaction identifier</strong></td><td>EX_ch4_e</td>\n",
       "            </tr><tr>\n",
       "                <td><strong>Name</strong></td><td>methane exchange</td>\n",
       "            </tr><tr>\n",
       "                <td><strong>Memory address</strong></td>\n",
       "                <td>0x07f69d15d0340</td>\n",
       "            </tr><tr>\n",
       "                <td><strong>Stoichiometry</strong></td>\n",
       "                <td>\n",
       "                    <p style='text-align:right'>ch4_e <--</p>\n",
       "                    <p style='text-align:right'>methane <--</p>\n",
       "                </td>\n",
       "            </tr><tr>\n",
       "                <td><strong>GPR</strong></td><td></td>\n",
       "            </tr><tr>\n",
       "                <td><strong>Lower bound</strong></td><td>-18.46</td>\n",
       "            </tr><tr>\n",
       "                <td><strong>Upper bound</strong></td><td>0.0</td>\n",
       "            </tr>\n",
       "        </table>\n",
       "        "
      ],
      "text/plain": [
       "<Reaction EX_ch4_e at 0x7f69d15d0340>"
      ]
     },
     "execution_count": 8,
     "metadata": {},
     "output_type": "execute_result"
    }
   ],
   "source": [
    "met.reactions.EX_ch4_e"
   ]
  },
  {
   "cell_type": "markdown",
   "id": "a597b780",
   "metadata": {},
   "source": [
    "Question: Why is it that the lb is placed to -18.46? Also interesting that this is exactly the optimal value obtained when optimizing.\n",
    "\n",
    "Obtained from the paper for the model:\n",
    "The uptake rate for methane in iMcBath was constrained to 18.46 mmol gDW-1 h-1, a value adopted from de la Torre et al. (2015) due to the lack of a specific measurement for M. capsulatus (Bath).\n",
    "\n",
    "Should we take this limit value from the experimental killing curves from wet lab?"
   ]
  },
  {
   "cell_type": "code",
   "execution_count": 9,
   "id": "8ba80780",
   "metadata": {},
   "outputs": [
    {
     "data": {
      "text/html": [
       "\n",
       "        <table>\n",
       "            <tr>\n",
       "                <td><strong>Reaction identifier</strong></td><td>CH4tex</td>\n",
       "            </tr><tr>\n",
       "                <td><strong>Name</strong></td><td>methane transport via diffusion (extracellular to periplasm)</td>\n",
       "            </tr><tr>\n",
       "                <td><strong>Memory address</strong></td>\n",
       "                <td>0x07f69d16f2d30</td>\n",
       "            </tr><tr>\n",
       "                <td><strong>Stoichiometry</strong></td>\n",
       "                <td>\n",
       "                    <p style='text-align:right'>ch4_e <=> ch4_p</p>\n",
       "                    <p style='text-align:right'>methane <=> methane</p>\n",
       "                </td>\n",
       "            </tr><tr>\n",
       "                <td><strong>GPR</strong></td><td></td>\n",
       "            </tr><tr>\n",
       "                <td><strong>Lower bound</strong></td><td>-1000.0</td>\n",
       "            </tr><tr>\n",
       "                <td><strong>Upper bound</strong></td><td>1000.0</td>\n",
       "            </tr>\n",
       "        </table>\n",
       "        "
      ],
      "text/plain": [
       "<Reaction CH4tex at 0x7f69d16f2d30>"
      ]
     },
     "execution_count": 9,
     "metadata": {},
     "output_type": "execute_result"
    }
   ],
   "source": [
    "met.reactions.CH4tex"
   ]
  },
  {
   "cell_type": "markdown",
   "id": "f5c782d6",
   "metadata": {},
   "source": [
    "Question: Why do we consider the diffusion reaction without any limit? What is the relation between the methane obtained from the exchange reaction level and the diffusion? Because if we consider the diffusion with no limit and the is this periplasmatic methane that is taking further down on the reactions, where does the 18.46 limit apply?"
   ]
  },
  {
   "cell_type": "code",
   "execution_count": 27,
   "id": "24a521b0",
   "metadata": {},
   "outputs": [
    {
     "name": "stdout",
     "output_type": "stream",
     "text": [
      "SMMOi: ch4_c + h_c + nadh_c + o2_c --> h2o_c + meoh_c + nad_c\n",
      "PMMOipp: ch4_p + o2_p + q8h2_im --> h2o_p + meoh_p + q8_im\n",
      "PMMODCipp: ch4_p + 2.0 focytcc555_p + 2.0 h_p + o2_p --> 2.0 ficytcc555_p + h2o_p + meoh_p\n"
     ]
    }
   ],
   "source": [
    "print(met.reactions.SMMOi)\n",
    "print(met.reactions.PMMOipp)\n",
    "print(met.reactions.PMMODCipp)"
   ]
  },
  {
   "cell_type": "markdown",
   "id": "5f4e6fcc",
   "metadata": {},
   "source": [
    "For our interest in K. Phaffi:"
   ]
  },
  {
   "cell_type": "code",
   "execution_count": 28,
   "id": "34c02029",
   "metadata": {},
   "outputs": [
    {
     "data": {
      "text/html": [
       "\n",
       "        <table>\n",
       "            <tr>\n",
       "                <td><strong>Reaction identifier</strong></td><td>PMMOipp</td>\n",
       "            </tr><tr>\n",
       "                <td><strong>Name</strong></td><td>particulate Methane Monooxygenase</td>\n",
       "            </tr><tr>\n",
       "                <td><strong>Memory address</strong></td>\n",
       "                <td>0x010d90c72710</td>\n",
       "            </tr><tr>\n",
       "                <td><strong>Stoichiometry</strong></td>\n",
       "                <td>\n",
       "                    <p style='text-align:right'>ch4_p + o2_p + q8h2_im --> h2o_p + meoh_p + q8_im</p>\n",
       "                    <p style='text-align:right'>methane + dioxygen + Ubiquinol-8 --> H2O + methanol + Ubiquinone-8</p>\n",
       "                </td>\n",
       "            </tr><tr>\n",
       "                <td><strong>GPR</strong></td><td>( ( MCA1796 and MCA1797 and MCA1798 ) or ( MCA2853 and MCA2854 and MCA2855 ) ) and MCA0295</td>\n",
       "            </tr><tr>\n",
       "                <td><strong>Lower bound</strong></td><td>0.0</td>\n",
       "            </tr><tr>\n",
       "                <td><strong>Upper bound</strong></td><td>0.0</td>\n",
       "            </tr>\n",
       "        </table>\n",
       "        "
      ],
      "text/plain": [
       "<Reaction PMMOipp at 0x10d90c72710>"
      ]
     },
     "execution_count": 28,
     "metadata": {},
     "output_type": "execute_result"
    }
   ],
   "source": [
    "met.reactions.PMMOipp"
   ]
  },
  {
   "cell_type": "code",
   "execution_count": 29,
   "id": "80f49847",
   "metadata": {},
   "outputs": [
    {
     "data": {
      "text/html": [
       "\n",
       "        <table>\n",
       "            <tr>\n",
       "                <td><strong>Reaction identifier</strong></td><td>PMMODCipp</td>\n",
       "            </tr><tr>\n",
       "                <td><strong>Name</strong></td><td>particulate Methane Monooxygenase - Direct Coupling</td>\n",
       "            </tr><tr>\n",
       "                <td><strong>Memory address</strong></td>\n",
       "                <td>0x010d90c72208</td>\n",
       "            </tr><tr>\n",
       "                <td><strong>Stoichiometry</strong></td>\n",
       "                <td>\n",
       "                    <p style='text-align:right'>ch4_p + 2.0 focytcc555_p + 2.0 h_p + o2_p --> 2.0 ficytcc555_p + h2o_p + meoh_p</p>\n",
       "                    <p style='text-align:right'>methane + 2.0 ferrocytochrome c + 2.0 H(+) + dioxygen --> 2.0 ferricytochrome c + H2O + methanol</p>\n",
       "                </td>\n",
       "            </tr><tr>\n",
       "                <td><strong>GPR</strong></td><td>( ( MCA1796 and MCA1797 and MCA1798 ) or ( MCA2853 and MCA2854 and MCA2855 ) ) and MCA0295</td>\n",
       "            </tr><tr>\n",
       "                <td><strong>Lower bound</strong></td><td>0.0</td>\n",
       "            </tr><tr>\n",
       "                <td><strong>Upper bound</strong></td><td>0.0</td>\n",
       "            </tr>\n",
       "        </table>\n",
       "        "
      ],
      "text/plain": [
       "<Reaction PMMODCipp at 0x10d90c72208>"
      ]
     },
     "execution_count": 29,
     "metadata": {},
     "output_type": "execute_result"
    }
   ],
   "source": [
    "met.reactions.PMMODCipp"
   ]
  },
  {
   "cell_type": "markdown",
   "id": "8154df33",
   "metadata": {},
   "source": [
    "Question: Difference between both? Any reason why both are constrained not to work?"
   ]
  },
  {
   "cell_type": "markdown",
   "id": "0205d513",
   "metadata": {},
   "source": [
    "Now we come to the methanol reactions:"
   ]
  },
  {
   "cell_type": "code",
   "execution_count": 16,
   "id": "d38714d5",
   "metadata": {},
   "outputs": [
    {
     "data": {
      "text/html": [
       "\n",
       "        <table>\n",
       "            <tr>\n",
       "                <td><strong>Reaction identifier</strong></td><td>EX_meoh_e</td>\n",
       "            </tr><tr>\n",
       "                <td><strong>Name</strong></td><td>methanol exchange</td>\n",
       "            </tr><tr>\n",
       "                <td><strong>Memory address</strong></td>\n",
       "                <td>0x0185c3e44978</td>\n",
       "            </tr><tr>\n",
       "                <td><strong>Stoichiometry</strong></td>\n",
       "                <td>\n",
       "                    <p style='text-align:right'>meoh_e --></p>\n",
       "                    <p style='text-align:right'>methanol --></p>\n",
       "                </td>\n",
       "            </tr><tr>\n",
       "                <td><strong>GPR</strong></td><td></td>\n",
       "            </tr><tr>\n",
       "                <td><strong>Lower bound</strong></td><td>0.0</td>\n",
       "            </tr><tr>\n",
       "                <td><strong>Upper bound</strong></td><td>1000.0</td>\n",
       "            </tr>\n",
       "        </table>\n",
       "        "
      ],
      "text/plain": [
       "<Reaction EX_meoh_e at 0x185c3e44978>"
      ]
     },
     "execution_count": 16,
     "metadata": {},
     "output_type": "execute_result"
    }
   ],
   "source": [
    "met.reactions.EX_meoh_e"
   ]
  },
  {
   "cell_type": "code",
   "execution_count": 6,
   "id": "6e9a159f",
   "metadata": {},
   "outputs": [
    {
     "data": {
      "text/html": [
       "\n",
       "        <table>\n",
       "            <tr>\n",
       "                <td><strong>Reaction identifier</strong></td><td>MEOHtex</td>\n",
       "            </tr><tr>\n",
       "                <td><strong>Name</strong></td><td>methanol transport via diffusion (extracellular to periplasm)</td>\n",
       "            </tr><tr>\n",
       "                <td><strong>Memory address</strong></td>\n",
       "                <td>0x010d90ab9ef0</td>\n",
       "            </tr><tr>\n",
       "                <td><strong>Stoichiometry</strong></td>\n",
       "                <td>\n",
       "                    <p style='text-align:right'>meoh_e <=> meoh_p</p>\n",
       "                    <p style='text-align:right'>methanol <=> methanol</p>\n",
       "                </td>\n",
       "            </tr><tr>\n",
       "                <td><strong>GPR</strong></td><td></td>\n",
       "            </tr><tr>\n",
       "                <td><strong>Lower bound</strong></td><td>-1000.0</td>\n",
       "            </tr><tr>\n",
       "                <td><strong>Upper bound</strong></td><td>1000.0</td>\n",
       "            </tr>\n",
       "        </table>\n",
       "        "
      ],
      "text/plain": [
       "<Reaction MEOHtex at 0x10d90ab9ef0>"
      ]
     },
     "execution_count": 6,
     "metadata": {},
     "output_type": "execute_result"
    }
   ],
   "source": [
    "met.reactions.MEOHtex"
   ]
  },
  {
   "cell_type": "markdown",
   "id": "7995df38",
   "metadata": {},
   "source": [
    "This following reaction is the one that we might need to introduce to out K. phaffii model as it is the one getting from methanol to formaldehyde, starting the MUT pathway?"
   ]
  },
  {
   "cell_type": "code",
   "execution_count": 17,
   "id": "510297d0",
   "metadata": {},
   "outputs": [
    {
     "data": {
      "text/html": [
       "\n",
       "        <table>\n",
       "            <tr>\n",
       "                <td><strong>Reaction identifier</strong></td><td>MEOHDHipp</td>\n",
       "            </tr><tr>\n",
       "                <td><strong>Name</strong></td><td>methanol dehydrogenase (cytochrome c)</td>\n",
       "            </tr><tr>\n",
       "                <td><strong>Memory address</strong></td>\n",
       "                <td>0x0185c405f588</td>\n",
       "            </tr><tr>\n",
       "                <td><strong>Stoichiometry</strong></td>\n",
       "                <td>\n",
       "                    <p style='text-align:right'>2.0 ficytcc555_p + meoh_p --> fald_p + 2.0 focytcc555_p + 2.0 h_p</p>\n",
       "                    <p style='text-align:right'>2.0 ferricytochrome c + methanol --> formaldehyde + 2.0 ferrocytochrome c + 2.0 H(+)</p>\n",
       "                </td>\n",
       "            </tr><tr>\n",
       "                <td><strong>GPR</strong></td><td>( ( MCA0299 and MCA0300 and MCA1528 and MCA1529 and MCA1530 and MCA1525 and MCA1527 ) or (...</td>\n",
       "            </tr><tr>\n",
       "                <td><strong>Lower bound</strong></td><td>0.0</td>\n",
       "            </tr><tr>\n",
       "                <td><strong>Upper bound</strong></td><td>1000.0</td>\n",
       "            </tr>\n",
       "        </table>\n",
       "        "
      ],
      "text/plain": [
       "<Reaction MEOHDHipp at 0x185c405f588>"
      ]
     },
     "execution_count": 17,
     "metadata": {},
     "output_type": "execute_result"
    }
   ],
   "source": [
    "met.reactions.MEOHDHipp"
   ]
  },
  {
   "cell_type": "code",
   "execution_count": 22,
   "id": "133c7832",
   "metadata": {},
   "outputs": [
    {
     "data": {
      "text/html": [
       "\n",
       "        <table>\n",
       "            <tr>\n",
       "                <td><strong>Reaction identifier</strong></td><td>MEOHtrpp</td>\n",
       "            </tr><tr>\n",
       "                <td><strong>Name</strong></td><td>Methanol reversible transport via diffusion (periplasm)</td>\n",
       "            </tr><tr>\n",
       "                <td><strong>Memory address</strong></td>\n",
       "                <td>0x010d90ab9cc0</td>\n",
       "            </tr><tr>\n",
       "                <td><strong>Stoichiometry</strong></td>\n",
       "                <td>\n",
       "                    <p style='text-align:right'>meoh_p <=> meoh_c</p>\n",
       "                    <p style='text-align:right'>methanol <=> methanol</p>\n",
       "                </td>\n",
       "            </tr><tr>\n",
       "                <td><strong>GPR</strong></td><td></td>\n",
       "            </tr><tr>\n",
       "                <td><strong>Lower bound</strong></td><td>-1000.0</td>\n",
       "            </tr><tr>\n",
       "                <td><strong>Upper bound</strong></td><td>1000.0</td>\n",
       "            </tr>\n",
       "        </table>\n",
       "        "
      ],
      "text/plain": [
       "<Reaction MEOHtrpp at 0x10d90ab9cc0>"
      ]
     },
     "execution_count": 22,
     "metadata": {},
     "output_type": "execute_result"
    }
   ],
   "source": [
    "met.reactions.MEOHtrpp"
   ]
  },
  {
   "cell_type": "markdown",
   "id": "6668d70d",
   "metadata": {},
   "source": [
    "Also, easily obtained by:"
   ]
  },
  {
   "cell_type": "code",
   "execution_count": 17,
   "id": "144984fa",
   "metadata": {},
   "outputs": [
    {
     "data": {
      "text/html": [
       "<h3>ch4_c</h3><p>CH4</p><h4>Producing Reactions</h4><table border=\"1\" class=\"dataframe\">\n",
       "  <thead>\n",
       "    <tr style=\"text-align: right;\">\n",
       "      <th>Percent</th>\n",
       "      <th>Flux</th>\n",
       "      <th>Reaction</th>\n",
       "      <th>Definition</th>\n",
       "    </tr>\n",
       "  </thead>\n",
       "  <tbody>\n",
       "    <tr>\n",
       "      <td>100.00%</td>\n",
       "      <td>18.46</td>\n",
       "      <td>CH4trpp</td>\n",
       "      <td>ch4_p &lt;=&gt; ch4_c</td>\n",
       "    </tr>\n",
       "  </tbody>\n",
       "</table><h4>Consuming Reactions</h4><table border=\"1\" class=\"dataframe\">\n",
       "  <thead>\n",
       "    <tr style=\"text-align: right;\">\n",
       "      <th>Percent</th>\n",
       "      <th>Flux</th>\n",
       "      <th>Reaction</th>\n",
       "      <th>Definition</th>\n",
       "    </tr>\n",
       "  </thead>\n",
       "  <tbody>\n",
       "    <tr>\n",
       "      <td>100.00%</td>\n",
       "      <td>-18.46</td>\n",
       "      <td>SMMOi</td>\n",
       "      <td>ch4_c + h_c + nadh_c + o2_c --&gt; h2o_c + meoh_c + nad_c</td>\n",
       "    </tr>\n",
       "  </tbody>\n",
       "</table>"
      ],
      "text/plain": [
       "<cobra.summary.metabolite_summary.MetaboliteSummary at 0x10d911d3b38>"
      ]
     },
     "execution_count": 17,
     "metadata": {},
     "output_type": "execute_result"
    }
   ],
   "source": [
    "met.metabolites.ch4_c.summary()"
   ]
  },
  {
   "cell_type": "markdown",
   "id": "3452c958",
   "metadata": {},
   "source": [
    "Notice that in this model, one can refer to extracellular species by adding e, periplasmatic by adding p and intracellular by adding c (cytosol). And by checking the file im refers to inner membrane. This will depend on the model, tends to be specified somewhere on the sbml file under compartments."
   ]
  },
  {
   "cell_type": "code",
   "execution_count": 16,
   "id": "932b5b00",
   "metadata": {},
   "outputs": [
    {
     "data": {
      "text/html": [
       "<h3>meoh_c</h3><p>CH4O1</p><h4>Producing Reactions</h4><table border=\"1\" class=\"dataframe\">\n",
       "  <thead>\n",
       "    <tr style=\"text-align: right;\">\n",
       "      <th>Percent</th>\n",
       "      <th>Flux</th>\n",
       "      <th>Reaction</th>\n",
       "      <th>Definition</th>\n",
       "    </tr>\n",
       "  </thead>\n",
       "  <tbody>\n",
       "    <tr>\n",
       "      <td>100.00%</td>\n",
       "      <td>18.46</td>\n",
       "      <td>SMMOi</td>\n",
       "      <td>ch4_c + h_c + nadh_c + o2_c --&gt; h2o_c + meoh_c + nad_c</td>\n",
       "    </tr>\n",
       "  </tbody>\n",
       "</table><h4>Consuming Reactions</h4><table border=\"1\" class=\"dataframe\">\n",
       "  <thead>\n",
       "    <tr style=\"text-align: right;\">\n",
       "      <th>Percent</th>\n",
       "      <th>Flux</th>\n",
       "      <th>Reaction</th>\n",
       "      <th>Definition</th>\n",
       "    </tr>\n",
       "  </thead>\n",
       "  <tbody>\n",
       "    <tr>\n",
       "      <td>100.00%</td>\n",
       "      <td>-18.46</td>\n",
       "      <td>MEOHtrpp</td>\n",
       "      <td>meoh_p &lt;=&gt; meoh_c</td>\n",
       "    </tr>\n",
       "  </tbody>\n",
       "</table>"
      ],
      "text/plain": [
       "<cobra.summary.metabolite_summary.MetaboliteSummary at 0x10d90e31240>"
      ]
     },
     "execution_count": 16,
     "metadata": {},
     "output_type": "execute_result"
    }
   ],
   "source": [
    "met.metabolites.meoh_c.summary()"
   ]
  },
  {
   "cell_type": "code",
   "execution_count": 30,
   "id": "47cbaa3d",
   "metadata": {},
   "outputs": [
    {
     "data": {
      "text/plain": [
       "{'EX_ca2_e': 1000.0,\n",
       " 'EX_cd2_e': 1000.0,\n",
       " 'EX_ch4_e': 18.46,\n",
       " 'EX_cl_e': 1000.0,\n",
       " 'EX_co_e': 1000.0,\n",
       " 'EX_cobalt2_e': 1000.0,\n",
       " 'EX_cu2_e': 1000.0,\n",
       " 'EX_fe2_e': 1000.0,\n",
       " 'EX_h2o_e': 1000.0,\n",
       " 'EX_h_e': 1000.0,\n",
       " 'EX_k_e': 1000.0,\n",
       " 'EX_mg2_e': 1000.0,\n",
       " 'EX_mn2_e': 1000.0,\n",
       " 'EX_na1_e': 1000.0,\n",
       " 'EX_ni2_e': 1000.0,\n",
       " 'EX_no3_e': 1000.0,\n",
       " 'EX_o2_e': 1000.0,\n",
       " 'EX_pi_e': 1000.0,\n",
       " 'EX_so4_e': 1000.0,\n",
       " 'EX_zn2_e': 1000.0}"
      ]
     },
     "execution_count": 30,
     "metadata": {},
     "output_type": "execute_result"
    }
   ],
   "source": [
    "met.medium"
   ]
  },
  {
   "cell_type": "code",
   "execution_count": 18,
   "id": "a7e8ffdf",
   "metadata": {},
   "outputs": [
    {
     "data": {
      "text/plain": [
       "[<Reaction APCS at 0x7f69d1719c10>, <Reaction FOMETRi at 0x7f69d1598fd0>]"
      ]
     },
     "execution_count": 18,
     "metadata": {},
     "output_type": "execute_result"
    }
   ],
   "source": [
    "met.reactions.query(\"Amino\",\"name\")"
   ]
  },
  {
   "cell_type": "code",
   "execution_count": 20,
   "id": "a3ac3565",
   "metadata": {},
   "outputs": [
    {
     "data": {
      "text/html": [
       "\n",
       "        <table>\n",
       "            <tr>\n",
       "                <td><strong>Reaction identifier</strong></td><td>FOMETRi</td>\n",
       "            </tr><tr>\n",
       "                <td><strong>Name</strong></td><td>Aminomethyltransferase</td>\n",
       "            </tr><tr>\n",
       "                <td><strong>Memory address</strong></td>\n",
       "                <td>0x07f69d1598fd0</td>\n",
       "            </tr><tr>\n",
       "                <td><strong>Stoichiometry</strong></td>\n",
       "                <td>\n",
       "                    <p style='text-align:right'>h2o_c + methf_c --> 5fthf_c + h_c</p>\n",
       "                    <p style='text-align:right'>H2O + (6R)-5,10-methenyltetrahydrofolate --> 5-Formyltetrahydrofolate + H(+)</p>\n",
       "                </td>\n",
       "            </tr><tr>\n",
       "                <td><strong>GPR</strong></td><td>MCA0350</td>\n",
       "            </tr><tr>\n",
       "                <td><strong>Lower bound</strong></td><td>0.0</td>\n",
       "            </tr><tr>\n",
       "                <td><strong>Upper bound</strong></td><td>1000.0</td>\n",
       "            </tr>\n",
       "        </table>\n",
       "        "
      ],
      "text/plain": [
       "<Reaction FOMETRi at 0x7f69d1598fd0>"
      ]
     },
     "execution_count": 20,
     "metadata": {},
     "output_type": "execute_result"
    }
   ],
   "source": [
    "met.reactions.FOMETRi"
   ]
  },
  {
   "cell_type": "code",
   "execution_count": 12,
   "id": "9c44efed",
   "metadata": {},
   "outputs": [
    {
     "ename": "NameError",
     "evalue": "name 'pheast' is not defined",
     "output_type": "error",
     "traceback": [
      "\u001b[0;31m---------------------------------------------------------------------------\u001b[0m",
      "\u001b[0;31mNameError\u001b[0m                                 Traceback (most recent call last)",
      "\u001b[0;32m<ipython-input-12-279ba4452e4e>\u001b[0m in \u001b[0;36m<module>\u001b[0;34m\u001b[0m\n\u001b[1;32m     66\u001b[0m         \u001b[0;31m### deoxynucleotides\u001b[0m\u001b[0;34m\u001b[0m\u001b[0;34m\u001b[0m\u001b[0;34m\u001b[0m\u001b[0m\n\u001b[1;32m     67\u001b[0m         \u001b[0;31m# A\u001b[0m\u001b[0;34m\u001b[0m\u001b[0;34m\u001b[0m\u001b[0;34m\u001b[0m\u001b[0m\n\u001b[0;32m---> 68\u001b[0;31m         \u001b[0mpheast\u001b[0m\u001b[0;34m.\u001b[0m\u001b[0mmetabolites\u001b[0m\u001b[0;34m.\u001b[0m\u001b[0mm404\u001b[0m\u001b[0;34m:\u001b[0m \u001b[0;34m-\u001b[0m\u001b[0;36m1.0424\u001b[0m\u001b[0;34m,\u001b[0m\u001b[0;34m\u001b[0m\u001b[0;34m\u001b[0m\u001b[0m\n\u001b[0m\u001b[1;32m     69\u001b[0m         \u001b[0;31m# T\u001b[0m\u001b[0;34m\u001b[0m\u001b[0;34m\u001b[0m\u001b[0;34m\u001b[0m\u001b[0m\n\u001b[1;32m     70\u001b[0m         \u001b[0mpheast\u001b[0m\u001b[0;34m.\u001b[0m\u001b[0mmetabolites\u001b[0m\u001b[0;34m.\u001b[0m\u001b[0mm437\u001b[0m\u001b[0;34m:\u001b[0m \u001b[0;34m-\u001b[0m\u001b[0;36m1.0424\u001b[0m\u001b[0;34m,\u001b[0m\u001b[0;34m\u001b[0m\u001b[0;34m\u001b[0m\u001b[0m\n",
      "\u001b[0;31mNameError\u001b[0m: name 'pheast' is not defined"
     ]
    }
   ],
   "source": [
    "# now we will introduce the heterologous proteins, pMMO and leghemoglobin, with reactions for dna replication,\n",
    "# transcription and translation\n",
    "# as the sequences are long, we calculate the stoichiometry with a script which is on the github repo and\n",
    "# based on the logic behind introduction of heterologous protein production in the paper:\n",
    "# Irani ZA, Kerkhoven EJ, Shojaosadati SA, Nielsen J (2016) Genome-scale metabolic model of Pichia pastoris with native and humanized glycosylation of recombinant proteins. Biotechnol Bioeng 113:961–969. doi: 10.1002/bit.25863.\n",
    "\n",
    "# make new reactions\n",
    "\n",
    "\n",
    "\n",
    "hemo_DNA_reaction = cobra.Reaction(\n",
    "            'hemo_DNA',\n",
    "            name = 'hemoglobin DNA replication',\n",
    "            lower_bound = 0.0,\n",
    "            upper_bound = 1000.0\n",
    "        )\n",
    "\n",
    "hemo_RNA_reaction = cobra.Reaction(\n",
    "            'hemo_RNA',\n",
    "            name = 'hemoglobin transcription',\n",
    "            lower_bound = 0.0,\n",
    "            upper_bound = 1000.0\n",
    "        )\n",
    "\n",
    "hemo_AA_reaction = cobra.Reaction(\n",
    "            'hemo_protein',\n",
    "            name = 'hemoglobin translation',\n",
    "            lower_bound = 0.0,\n",
    "            upper_bound = 1000.0\n",
    ")\n",
    "\n",
    "\n",
    "# add the metabolites to be produced by these reactions\n",
    "\n",
    "\n",
    "Hemo_DNA = cobra.Metabolite(\n",
    "    'Hemo_DNA',\n",
    "    formula='',\n",
    "    name='Hemo_DNA',\n",
    "    compartment='C_c')\n",
    "\n",
    "Hemo_RNA = cobra.Metabolite(\n",
    "    'Hemo_RNA',\n",
    "    formula='',\n",
    "    name='Hemo_RNA',\n",
    "    compartment='C_c')\n",
    "\n",
    "Hemo_AA = cobra.Metabolite(\n",
    "    'Hemo_AA',\n",
    "    formula='',\n",
    "    name='Leghemoglobin',\n",
    "    compartment='C_c')\n",
    "\n",
    "\n",
    "met.add_metabolites([Hemo_DNA,\n",
    "                       Hemo_RNA,\n",
    "                       Hemo_AA])\n",
    "\n",
    "\n",
    "# add involved metabolites and stoichiometry\n",
    "\n",
    "\n",
    "\n",
    "hemo_DNA_reaction.add_metabolites(\n",
    "    {\n",
    "        ### deoxynucleotides\n",
    "        # A\n",
    "        pheast.metabolites.m404: -1.0424,\n",
    "        # T\n",
    "        pheast.metabolites.m437: -1.0424,\n",
    "        # C\n",
    "        pheast.metabolites.m431: -0.57636,\n",
    "        # G\n",
    "        pheast.metabolites.m389: -0.57636,\n",
    "        # ATP\n",
    "        pheast.metabolites.m1: -11.00757,\n",
    "        # H2O\n",
    "        pheast.metabolites.m5: -11.00757,\n",
    "        # Hemo_DNA\n",
    "        pheast.metabolites.Hemo_DNA: 1.0,\n",
    "        # ADP\n",
    "        pheast.metabolites.m3: 11.00757,\n",
    "        # Phosphate\n",
    "        pheast.metabolites.m7: 11.00757\n",
    "    }\n",
    ")\n",
    "\n",
    "hemo_RNA_reaction.add_metabolites(\n",
    "    {\n",
    "        ### RNA nucleotides\n",
    "        # A\n",
    "        pheast.metabolites.m94: -1.2408,\n",
    "        # U\n",
    "        pheast.metabolites.m418: -0.80329,\n",
    "        # C\n",
    "        pheast.metabolites.m423: -0.6455,\n",
    "        # G\n",
    "        pheast.metabolites.m384: -0.43034,\n",
    "        # ATP\n",
    "        pheast.metabolites.m1: -7.48783,\n",
    "        # H2O\n",
    "        pheast.metabolites.m5: -7.48783,\n",
    "        # Hemo_RNA\n",
    "        pheast.metabolites.Hemo_RNA: 1.0,\n",
    "        # ADP\n",
    "        pheast.metabolites.m3: 7.48783,\n",
    "        # Phosphate\n",
    "        pheast.metabolites.m7: 7.48783\n",
    "    }\n",
    ")\n",
    "\n",
    "hemo_AA_reaction.add_metabolites(\n",
    "    {\n",
    "        ### Amino Acids\n",
    "        # A\n",
    "        pheast.metabolites.m153: -1.48373,\n",
    "        # C, no Cystein in leghemoglobin\n",
    "        # pheast.metabolites.m331:,\n",
    "        # H\n",
    "        pheast.metabolites.m490: -0.12902,\n",
    "        # M\n",
    "        pheast.metabolites.m343: -0.06451,\n",
    "        # T\n",
    "        pheast.metabolites.m305: -0.38706,\n",
    "        # R\n",
    "        pheast.metabolites.m158: -0.06451,\n",
    "        # E\n",
    "        pheast.metabolites.m154: -0.6451,\n",
    "        # I\n",
    "        pheast.metabolites.m239: -0.38706,\n",
    "        # F\n",
    "        pheast.metabolites.m272: -0.58059,\n",
    "        # W\n",
    "        pheast.metabolites.m280: -0.12902,\n",
    "        # N\n",
    "        pheast.metabolites.m161: -0.25804,\n",
    "        # Q\n",
    "        pheast.metabolites.m163: -0.32255,\n",
    "        # L\n",
    "        pheast.metabolites.m227: -0.83863,\n",
    "        # P\n",
    "        pheast.metabolites.m185: -0.32255,\n",
    "        # Y\n",
    "        pheast.metabolites.m274: -0.19353,\n",
    "        # D\n",
    "        pheast.metabolites.m156: -0.51608,\n",
    "        # G\n",
    "        pheast.metabolites.m210: -0.51608,\n",
    "        # K\n",
    "        pheast.metabolites.m203: -0.90314,\n",
    "        # S\n",
    "        pheast.metabolites.m279: -0.83863,\n",
    "        # V\n",
    "        pheast.metabolites.m222: -0.77412,\n",
    "        # ATP\n",
    "        pheast.metabolites.m1: -40.22199,\n",
    "        # H2O\n",
    "        pheast.metabolites.m5: -40.22199,\n",
    "        # Leghemoglobin\n",
    "        pheast.metabolites.Hemo_AA: 1.0,\n",
    "        # ADP\n",
    "        pheast.metabolites.m3: 40.22199,\n",
    "        # Phosphate\n",
    "        pheast.metabolites.m7: 40.22199\n",
    "    }\n",
    ")\n",
    "\n",
    "\n",
    "\n",
    "\n",
    "\n",
    "# add reactions to pheast\n",
    "\n",
    "met.add_reactions([hemo_DNA_reaction,\n",
    "                     hemo_RNA_reaction,\n",
    "                     hemo_AA_reaction])\n",
    "\n",
    "# also add transport to extracellular and boundary proteins as well as \"Biosynthesis\" reactions and the exchange reaction\n",
    "# this was all done in the paper\n",
    "\n",
    "\n",
    "hemo_c = cobra.Metabolite(\n",
    "    'hemo_c',\n",
    "    formula='',\n",
    "    name='hemo_c',\n",
    "    compartment='C_c')\n",
    "\n",
    "hemo_e = cobra.Metabolite(\n",
    "    'hemo_e',\n",
    "    formula='',\n",
    "    name='hemo_e',\n",
    "    compartment='C_e')\n",
    "\n",
    "hemo_b = cobra.Metabolite(\n",
    "    'hemo_b',\n",
    "    formula='',\n",
    "    name='hemo_b',\n",
    "    compartment='C_b')\n",
    "\n",
    "met.add_metabolites([pMMO_c,pMMO_e,pMMO_b,\n",
    "                      hemo_c,hemo_e,hemo_b])\n",
    "\n",
    "Take_Out_Hemo = cobra.Reaction(\n",
    "            'Take_Out_Hemo',\n",
    "            name = 'Take_Out_Hemo',\n",
    "            lower_bound = 0.0,\n",
    "            upper_bound = 1000.0\n",
    ")\n",
    "\n",
    "\n",
    "\n",
    "extrac_Hemo = cobra.Reaction(\n",
    "            'c_Hemo_e',\n",
    "            name = 'extracellular transport Leghemoglobin',\n",
    "            lower_bound = 0.0,\n",
    "            upper_bound = 1000.0\n",
    ")\n",
    "\n",
    "\n",
    "\n",
    "Hemo_Biosynthesis = cobra.Reaction(\n",
    "            'Hemo_Biosynthesis',\n",
    "            name = 'LeghemoglobinBiosynthesis',\n",
    "            lower_bound = 0.0,\n",
    "            upper_bound = 1000.0\n",
    ")\n",
    "\n",
    "EX_hemo = cobra.Reaction(\n",
    "            'EX_hemo',\n",
    "            name = 'hemoglobin exchange reaction',\n",
    "            lower_bound = -1000.0,\n",
    "            upper_bound = 1000.0\n",
    ")\n",
    "\n",
    "\n",
    "Hemo_Biosynthesis.add_metabolites(\n",
    "    {\n",
    "        pheast.metabolites.Hemo_DNA: -2.8e-05,\n",
    "        \n",
    "        pheast.metabolites.Hemo_RNA: -0.0029,\n",
    "        \n",
    "        pheast.metabolites.Hemo_AA: -0.997,\n",
    "\n",
    "        pheast.metabolites.hemo_c: 1.0,\n",
    "    }\n",
    ")\n",
    "\n",
    "\n",
    "\n",
    "\n",
    "Take_Out_Hemo.add_metabolites(\n",
    "    {\n",
    "        pheast.metabolites.hemo_e: -1.0,   \n",
    "        \n",
    "        pheast.metabolites.hemo_b: 1.0\n",
    "    }\n",
    ")\n",
    "\n",
    "\n",
    "\n",
    "extrac_Hemo.add_metabolites(\n",
    "    {\n",
    "        pheast.metabolites.hemo_c: -1.0,   \n",
    "        \n",
    "        pheast.metabolites.hemo_e: 1.0\n",
    "    }\n",
    ")\n",
    "\n",
    "EX_hemo.add_metabolites(\n",
    "    {\n",
    "        pheast.metabolites.hemo_c: -1.0,   \n",
    "        \n",
    "        pheast.metabolites.hemo_e: 1.0\n",
    "    }\n",
    ")\n",
    "\n",
    "EX_hemo.add_metabolites(\n",
    "    {\n",
    "        pheast.metabolites.pMMO_b: -1.0\n",
    "    }\n",
    ")\n",
    "\n",
    "met.add_reactions([Take_Out_Hemo,\n",
    "                    extrac_Hemo,\n",
    "                    Hemo_Biosynthesis,\n",
    "                    EX_hemo])"
   ]
  },
  {
   "cell_type": "code",
   "execution_count": null,
   "id": "4bc25eb3",
   "metadata": {},
   "outputs": [],
   "source": []
  }
 ],
 "metadata": {
  "kernelspec": {
   "display_name": "Python 3",
   "language": "python",
   "name": "python3"
  },
  "language_info": {
   "codemirror_mode": {
    "name": "ipython",
    "version": 3
   },
   "file_extension": ".py",
   "mimetype": "text/x-python",
   "name": "python",
   "nbconvert_exporter": "python",
   "pygments_lexer": "ipython3",
   "version": "3.9.6"
  }
 },
 "nbformat": 4,
 "nbformat_minor": 5
}
