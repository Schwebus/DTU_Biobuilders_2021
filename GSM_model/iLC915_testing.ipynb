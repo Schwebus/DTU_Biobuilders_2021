{
 "cells": [
  {
   "cell_type": "code",
   "execution_count": 1,
   "metadata": {},
   "outputs": [],
   "source": [
    "import cobra"
   ]
  },
  {
   "cell_type": "code",
   "execution_count": 8,
   "metadata": {},
   "outputs": [],
   "source": [
    "pichia = cobra.io.read_sbml_model(\"data/iLC915_rewritten.xml\")"
   ]
  },
  {
   "cell_type": "markdown",
   "metadata": {},
   "source": [
    "When we simulate the model, we get a growth rate of $0.08 h^{-1}$"
   ]
  },
  {
   "cell_type": "code",
   "execution_count": 3,
   "metadata": {},
   "outputs": [
    {
     "data": {
      "text/html": [
       "<strong><em>Optimal</em> solution with objective value 0.080</strong><br><div>\n",
       "<style scoped>\n",
       "    .dataframe tbody tr th:only-of-type {\n",
       "        vertical-align: middle;\n",
       "    }\n",
       "\n",
       "    .dataframe tbody tr th {\n",
       "        vertical-align: top;\n",
       "    }\n",
       "\n",
       "    .dataframe thead th {\n",
       "        text-align: right;\n",
       "    }\n",
       "</style>\n",
       "<table border=\"1\" class=\"dataframe\">\n",
       "  <thead>\n",
       "    <tr style=\"text-align: right;\">\n",
       "      <th></th>\n",
       "      <th>fluxes</th>\n",
       "      <th>reduced_costs</th>\n",
       "    </tr>\n",
       "  </thead>\n",
       "  <tbody>\n",
       "    <tr>\n",
       "      <th>EX_m1282</th>\n",
       "      <td>0.000000</td>\n",
       "      <td>0.000000e+00</td>\n",
       "    </tr>\n",
       "    <tr>\n",
       "      <th>EX_m1283</th>\n",
       "      <td>0.000000</td>\n",
       "      <td>0.000000e+00</td>\n",
       "    </tr>\n",
       "    <tr>\n",
       "      <th>EX_m1284</th>\n",
       "      <td>0.000000</td>\n",
       "      <td>0.000000e+00</td>\n",
       "    </tr>\n",
       "    <tr>\n",
       "      <th>EX_m1285</th>\n",
       "      <td>0.000000</td>\n",
       "      <td>0.000000e+00</td>\n",
       "    </tr>\n",
       "    <tr>\n",
       "      <th>EX_m1286</th>\n",
       "      <td>0.000000</td>\n",
       "      <td>0.000000e+00</td>\n",
       "    </tr>\n",
       "    <tr>\n",
       "      <th>...</th>\n",
       "      <td>...</td>\n",
       "      <td>...</td>\n",
       "    </tr>\n",
       "    <tr>\n",
       "      <th>r1188</th>\n",
       "      <td>0.000000</td>\n",
       "      <td>-1.296205e-02</td>\n",
       "    </tr>\n",
       "    <tr>\n",
       "      <th>r1998</th>\n",
       "      <td>0.000000</td>\n",
       "      <td>-8.985868e-16</td>\n",
       "    </tr>\n",
       "    <tr>\n",
       "      <th>r1996</th>\n",
       "      <td>0.000000</td>\n",
       "      <td>0.000000e+00</td>\n",
       "    </tr>\n",
       "    <tr>\n",
       "      <th>r1997</th>\n",
       "      <td>0.000000</td>\n",
       "      <td>-1.147084e-01</td>\n",
       "    </tr>\n",
       "    <tr>\n",
       "      <th>r1999</th>\n",
       "      <td>0.000643</td>\n",
       "      <td>1.110223e-16</td>\n",
       "    </tr>\n",
       "  </tbody>\n",
       "</table>\n",
       "<p>1485 rows × 2 columns</p>\n",
       "</div>"
      ],
      "text/plain": [
       "<Solution 0.080 at 0x226aa4b9828>"
      ]
     },
     "execution_count": 3,
     "metadata": {},
     "output_type": "execute_result"
    }
   ],
   "source": [
    "pichia.optimize()"
   ]
  },
  {
   "cell_type": "markdown",
   "metadata": {},
   "source": [
    "Unfortunately, the model uses just numerical IDs (which is very common) instead of human readable IDs, which will make working with it hard. Using the `summary` function we see that one metabolite is taken up with a flux of $1 mmol gDW^{-1} h^{-1}$ (those are the default units in genome-scale metabolic models)."
   ]
  },
  {
   "cell_type": "code",
   "execution_count": 9,
   "metadata": {},
   "outputs": [],
   "source": [
    "pichia.reactions.r1145.bounds=(0,1)"
   ]
  },
  {
   "cell_type": "code",
   "execution_count": 5,
   "metadata": {},
   "outputs": [
    {
     "data": {
      "text/html": [
       "<h3>Objective</h3><p>1.0 r1339 = 0.08029587589529964</p><h4>Uptake</h4><table border=\"1\" class=\"dataframe\">\n",
       "  <thead>\n",
       "    <tr style=\"text-align: right;\">\n",
       "      <th>Metabolite</th>\n",
       "      <th>Reaction</th>\n",
       "      <th>Flux</th>\n",
       "      <th>C-Number</th>\n",
       "      <th>C-Flux</th>\n",
       "    </tr>\n",
       "  </thead>\n",
       "  <tbody>\n",
       "    <tr>\n",
       "      <td>m1293</td>\n",
       "      <td>EX_m1293</td>\n",
       "      <td>1</td>\n",
       "      <td>0</td>\n",
       "      <td>0.00%</td>\n",
       "    </tr>\n",
       "    <tr>\n",
       "      <td>m1298</td>\n",
       "      <td>EX_m1298</td>\n",
       "      <td>0.7968</td>\n",
       "      <td>0</td>\n",
       "      <td>0.00%</td>\n",
       "    </tr>\n",
       "    <tr>\n",
       "      <td>m1300</td>\n",
       "      <td>EX_m1300</td>\n",
       "      <td>0.4628</td>\n",
       "      <td>0</td>\n",
       "      <td>0.00%</td>\n",
       "    </tr>\n",
       "    <tr>\n",
       "      <td>m1301</td>\n",
       "      <td>EX_m1301</td>\n",
       "      <td>0.03308</td>\n",
       "      <td>0</td>\n",
       "      <td>0.00%</td>\n",
       "    </tr>\n",
       "    <tr>\n",
       "      <td>m1304</td>\n",
       "      <td>EX_m1304</td>\n",
       "      <td>0.00246</td>\n",
       "      <td>0</td>\n",
       "      <td>0.00%</td>\n",
       "    </tr>\n",
       "  </tbody>\n",
       "</table><h4>Secretion</h4><table border=\"1\" class=\"dataframe\">\n",
       "  <thead>\n",
       "    <tr style=\"text-align: right;\">\n",
       "      <th>Metabolite</th>\n",
       "      <th>Reaction</th>\n",
       "      <th>Flux</th>\n",
       "      <th>C-Number</th>\n",
       "      <th>C-Flux</th>\n",
       "    </tr>\n",
       "  </thead>\n",
       "  <tbody>\n",
       "    <tr>\n",
       "      <td>m1287</td>\n",
       "      <td>EX_m1287</td>\n",
       "      <td>-0.0803</td>\n",
       "      <td>0</td>\n",
       "      <td>0.00%</td>\n",
       "    </tr>\n",
       "    <tr>\n",
       "      <td>m1291</td>\n",
       "      <td>EX_m1291</td>\n",
       "      <td>-1.597</td>\n",
       "      <td>0</td>\n",
       "      <td>0.00%</td>\n",
       "    </tr>\n",
       "    <tr>\n",
       "      <td>m1349</td>\n",
       "      <td>EX_m1349</td>\n",
       "      <td>-3.432</td>\n",
       "      <td>0</td>\n",
       "      <td>0.00%</td>\n",
       "    </tr>\n",
       "  </tbody>\n",
       "</table>"
      ],
      "text/plain": [
       "<cobra.summary.model_summary.ModelSummary at 0x1ed67bcc668>"
      ]
     },
     "execution_count": 5,
     "metadata": {},
     "output_type": "execute_result"
    }
   ],
   "source": [
    "pichia.summary()"
   ]
  },
  {
   "cell_type": "markdown",
   "metadata": {},
   "source": [
    "And that metabolite is glucose."
   ]
  },
  {
   "cell_type": "code",
   "execution_count": 5,
   "metadata": {},
   "outputs": [
    {
     "data": {
      "text/html": [
       "\n",
       "        <table>\n",
       "            <tr>\n",
       "                <td><strong>Reaction identifier</strong></td><td>EX_m1293</td>\n",
       "            </tr><tr>\n",
       "                <td><strong>Name</strong></td><td>EX_m1293</td>\n",
       "            </tr><tr>\n",
       "                <td><strong>Memory address</strong></td>\n",
       "                <td>0x0226aa418518</td>\n",
       "            </tr><tr>\n",
       "                <td><strong>Stoichiometry</strong></td>\n",
       "                <td>\n",
       "                    <p style='text-align:right'>m1293 <=></p>\n",
       "                    <p style='text-align:right'>alpha-D-Glucose_C6H12O6 <=></p>\n",
       "                </td>\n",
       "            </tr><tr>\n",
       "                <td><strong>GPR</strong></td><td></td>\n",
       "            </tr><tr>\n",
       "                <td><strong>Lower bound</strong></td><td>-1000.0</td>\n",
       "            </tr><tr>\n",
       "                <td><strong>Upper bound</strong></td><td>1000.0</td>\n",
       "            </tr>\n",
       "        </table>\n",
       "        "
      ],
      "text/plain": [
       "<Reaction EX_m1293 at 0x226aa418518>"
      ]
     },
     "execution_count": 5,
     "metadata": {},
     "output_type": "execute_result"
    }
   ],
   "source": [
    "pichia.reactions.EX_m1293"
   ]
  },
  {
   "cell_type": "code",
   "execution_count": 10,
   "metadata": {},
   "outputs": [
    {
     "data": {
      "text/plain": [
       "frozenset({<Reaction EX_m1293 at 0x27870c99da0>,\n",
       "           <Reaction r1145 at 0x2787152d748>})"
      ]
     },
     "execution_count": 10,
     "metadata": {},
     "output_type": "execute_result"
    }
   ],
   "source": [
    "pichia.metabolites.m1293.reactions"
   ]
  },
  {
   "cell_type": "markdown",
   "metadata": {},
   "source": [
    "Looks like the medium is not defined at the exchange reaction level (i.e. reactions starting with `EX_`) but rather on the transport reaction level. The upper bound of reaction r1145 is 1.0 which means that the model can take up glucose < 1 mmol gDW^-1 h^-1."
   ]
  },
  {
   "cell_type": "code",
   "execution_count": 11,
   "metadata": {},
   "outputs": [
    {
     "data": {
      "text/html": [
       "\n",
       "        <table>\n",
       "            <tr>\n",
       "                <td><strong>Reaction identifier</strong></td><td>r1145</td>\n",
       "            </tr><tr>\n",
       "                <td><strong>Name</strong></td><td>Uptake of alpha-D-Glucose</td>\n",
       "            </tr><tr>\n",
       "                <td><strong>Memory address</strong></td>\n",
       "                <td>0x02787152d748</td>\n",
       "            </tr><tr>\n",
       "                <td><strong>Stoichiometry</strong></td>\n",
       "                <td>\n",
       "                    <p style='text-align:right'>m1293 --> m2</p>\n",
       "                    <p style='text-align:right'>alpha-D-Glucose_C6H12O6 --> alpha-D-Glucose_C6H12O6</p>\n",
       "                </td>\n",
       "            </tr><tr>\n",
       "                <td><strong>GPR</strong></td><td></td>\n",
       "            </tr><tr>\n",
       "                <td><strong>Lower bound</strong></td><td>0.0</td>\n",
       "            </tr><tr>\n",
       "                <td><strong>Upper bound</strong></td><td>1.0</td>\n",
       "            </tr>\n",
       "        </table>\n",
       "        "
      ],
      "text/plain": [
       "<Reaction r1145 at 0x2787152d748>"
      ]
     },
     "execution_count": 11,
     "metadata": {},
     "output_type": "execute_result"
    }
   ],
   "source": [
    "pichia.reactions.r1145"
   ]
  },
  {
   "cell_type": "markdown",
   "metadata": {},
   "source": [
    "Let's change the medium to methanol. Need to eliminate glucose uptake and enable methanol uptake. Let's make a copy of the model first though and also find the methanol transport reactions."
   ]
  },
  {
   "cell_type": "code",
   "execution_count": 12,
   "metadata": {},
   "outputs": [
    {
     "data": {
      "text/plain": [
       "[<Reaction r1158 at 0x217d541fd30>]"
      ]
     },
     "execution_count": 12,
     "metadata": {},
     "output_type": "execute_result"
    }
   ],
   "source": [
    "pichia.reactions.query(\"methanol\", \"name\")"
   ]
  },
  {
   "cell_type": "code",
   "execution_count": 13,
   "metadata": {},
   "outputs": [
    {
     "data": {
      "text/html": [
       "\n",
       "        <table>\n",
       "            <tr>\n",
       "                <td><strong>Reaction identifier</strong></td><td>r1158</td>\n",
       "            </tr><tr>\n",
       "                <td><strong>Name</strong></td><td>uptake of methanol</td>\n",
       "            </tr><tr>\n",
       "                <td><strong>Memory address</strong></td>\n",
       "                <td>0x0217d541fd30</td>\n",
       "            </tr><tr>\n",
       "                <td><strong>Stoichiometry</strong></td>\n",
       "                <td>\n",
       "                    <p style='text-align:right'>m1297 --> m1219</p>\n",
       "                    <p style='text-align:right'>Methanol_CH4O --> Methanol_CH4O</p>\n",
       "                </td>\n",
       "            </tr><tr>\n",
       "                <td><strong>GPR</strong></td><td></td>\n",
       "            </tr><tr>\n",
       "                <td><strong>Lower bound</strong></td><td>0.0</td>\n",
       "            </tr><tr>\n",
       "                <td><strong>Upper bound</strong></td><td>0.0</td>\n",
       "            </tr>\n",
       "        </table>\n",
       "        "
      ],
      "text/plain": [
       "<Reaction r1158 at 0x217d541fd30>"
      ]
     },
     "execution_count": 13,
     "metadata": {},
     "output_type": "execute_result"
    }
   ],
   "source": [
    "pichia.reactions.r1158"
   ]
  },
  {
   "cell_type": "code",
   "execution_count": 103,
   "metadata": {},
   "outputs": [
    {
     "data": {
      "text/html": [
       "\n",
       "        <table>\n",
       "            <tr>\n",
       "                <td><strong>Reaction identifier</strong></td><td>EX_m1297</td>\n",
       "            </tr><tr>\n",
       "                <td><strong>Name</strong></td><td>EX_m1297</td>\n",
       "            </tr><tr>\n",
       "                <td><strong>Memory address</strong></td>\n",
       "                <td>0x027870c9b080</td>\n",
       "            </tr><tr>\n",
       "                <td><strong>Stoichiometry</strong></td>\n",
       "                <td>\n",
       "                    <p style='text-align:right'>m1297 <=></p>\n",
       "                    <p style='text-align:right'>Methanol_CH4O <=></p>\n",
       "                </td>\n",
       "            </tr><tr>\n",
       "                <td><strong>GPR</strong></td><td></td>\n",
       "            </tr><tr>\n",
       "                <td><strong>Lower bound</strong></td><td>-1000.0</td>\n",
       "            </tr><tr>\n",
       "                <td><strong>Upper bound</strong></td><td>1000.0</td>\n",
       "            </tr>\n",
       "        </table>\n",
       "        "
      ],
      "text/plain": [
       "<Reaction EX_m1297 at 0x27870c9b080>"
      ]
     },
     "execution_count": 103,
     "metadata": {},
     "output_type": "execute_result"
    }
   ],
   "source": [
    "pichia.reactions.EX_m1297"
   ]
  },
  {
   "cell_type": "markdown",
   "metadata": {},
   "source": [
    "This reaction is the uptake of methanol, and as it was said above in this model the medium is not defined at the exchange reaction level (EX_ reactions), but at the transport level, which should be this reaction. \n",
    "\n",
    "IMPORTANT!!: Notice that the upper and lower limits have been set to 0, thus we are forcing our system to not use any methanol. \n",
    "\n",
    "Let's get further details and check the methanol species involved, as well as other reactions because by typing \"Methanol\" with capital M on the query, 3 other reactions appear:"
   ]
  },
  {
   "cell_type": "code",
   "execution_count": 18,
   "metadata": {},
   "outputs": [
    {
     "data": {
      "text/plain": [
       "[<Reaction r91 at 0x2787139ff98>,\n",
       " <Reaction r1310 at 0x2787146ea58>,\n",
       " <Reaction r1382 at 0x278714fbf60>]"
      ]
     },
     "execution_count": 18,
     "metadata": {},
     "output_type": "execute_result"
    }
   ],
   "source": [
    "pichia.reactions.query(\"Methanol\", \"name\")"
   ]
  },
  {
   "cell_type": "code",
   "execution_count": 58,
   "metadata": {},
   "outputs": [
    {
     "name": "stdout",
     "output_type": "stream",
     "text": [
      "r91: m711 + m956 --> m713 + m957 r1310: m1215 --> m956 r1382: m1219 --> m1215\n",
      "r91 Methanol:oxygen oxidereductase : Oxygen_O2 + Methanol_CH4O --> H2O2_H2O2 + Formaldehyde_CH2O\n",
      "r1310 Methanol peroxisomal transport : Methanol_CH4O --> Methanol_CH4O\n",
      "r1382 Methanol permease : Methanol_CH4O --> Methanol_CH4O\n"
     ]
    }
   ],
   "source": [
    "print(pichia.reactions.r91, pichia.reactions.r1310, pichia.reactions.r1382)\n",
    "print('r91', pichia.reactions.r91.name, ':', pichia.metabolites.m711.name, '+',  pichia.metabolites.m956.name, '-->',  pichia.metabolites.m713.name, '+',\n",
    "     pichia.metabolites.m957.name)\n",
    "print('r1310',  pichia.reactions.r1310.name, ':', pichia.metabolites.m1215.name, '-->',  pichia.metabolites.m956.name )\n",
    "print('r1382',  pichia.reactions.r1382.name, ':', pichia.metabolites.m1219.name, '-->',  pichia.metabolites.m1215.name )"
   ]
  },
  {
   "cell_type": "markdown",
   "metadata": {},
   "source": [
    "Therefore, clearly r91 is the the start of the MUT pathway, and then presumably the order for the others is r1158 with the uptake of methanol (m1297 --> m1219) that then goes to the methanol permease reaction r1382 (m1219 --> m1215), that goes into the peroxisomal transport r1310 (m1215 --> m956), which then together with oxygen (m711), starts MUT pathway."
   ]
  },
  {
   "cell_type": "code",
   "execution_count": 63,
   "metadata": {},
   "outputs": [
    {
     "data": {
      "text/html": [
       "\n",
       "        <table>\n",
       "            <tr>\n",
       "                <td><strong>Metabolite identifier</strong></td><td>m1297</td>\n",
       "            </tr><tr>\n",
       "                <td><strong>Name</strong></td><td>Methanol_CH4O</td>\n",
       "            </tr><tr>\n",
       "                <td><strong>Memory address</strong></td>\n",
       "                <td>0x02787039fac8</td>\n",
       "            </tr><tr>\n",
       "                <td><strong>Formula</strong></td><td></td>\n",
       "            </tr><tr>\n",
       "                <td><strong>Compartment</strong></td><td>C_b</td>\n",
       "            </tr><tr>\n",
       "                <td><strong>In 2 reaction(s)</strong></td><td>\n",
       "                    EX_m1297, r1158</td>\n",
       "            </tr>\n",
       "        </table>"
      ],
      "text/plain": [
       "<Metabolite m1297 at 0x2787039fac8>"
      ]
     },
     "execution_count": 63,
     "metadata": {},
     "output_type": "execute_result"
    }
   ],
   "source": [
    "pichia.metabolites.m1297"
   ]
  },
  {
   "cell_type": "markdown",
   "metadata": {},
   "source": [
    "Indeed, this is the one as the m1297 methanol place on the compartment `C_b`, meaning boundary, is involved on the uptake reaction r1158, as we saw, as well as an `EX_` reaction."
   ]
  },
  {
   "cell_type": "code",
   "execution_count": 64,
   "metadata": {},
   "outputs": [
    {
     "data": {
      "text/html": [
       "\n",
       "        <table>\n",
       "            <tr>\n",
       "                <td><strong>Reaction identifier</strong></td><td>EX_m1297</td>\n",
       "            </tr><tr>\n",
       "                <td><strong>Name</strong></td><td>EX_m1297</td>\n",
       "            </tr><tr>\n",
       "                <td><strong>Memory address</strong></td>\n",
       "                <td>0x027870c9b080</td>\n",
       "            </tr><tr>\n",
       "                <td><strong>Stoichiometry</strong></td>\n",
       "                <td>\n",
       "                    <p style='text-align:right'>m1297 <=></p>\n",
       "                    <p style='text-align:right'>Methanol_CH4O <=></p>\n",
       "                </td>\n",
       "            </tr><tr>\n",
       "                <td><strong>GPR</strong></td><td></td>\n",
       "            </tr><tr>\n",
       "                <td><strong>Lower bound</strong></td><td>-1000.0</td>\n",
       "            </tr><tr>\n",
       "                <td><strong>Upper bound</strong></td><td>1000.0</td>\n",
       "            </tr>\n",
       "        </table>\n",
       "        "
      ],
      "text/plain": [
       "<Reaction EX_m1297 at 0x27870c9b080>"
      ]
     },
     "execution_count": 64,
     "metadata": {},
     "output_type": "execute_result"
    }
   ],
   "source": [
    "pichia.reactions.EX_m1297"
   ]
  },
  {
   "cell_type": "code",
   "execution_count": 14,
   "metadata": {},
   "outputs": [],
   "source": [
    "pichia_methanol = pichia.copy()\n",
    "pichia_methanol.reactions.r1145.bounds = 0, 0  # no glucose \n",
    "pichia_methanol.reactions.r1158.bounds = 0, 1 # add methanol to the medium with a maxium uptake of 10 mmol gDW^-1 h^-1\n",
    "# there was a problem when declaring the bounds, as the last \"bounds\" part was not added, thus all the reaction r1158, was just \n",
    "# changed to (0,10), that is why all the model was failing or not growing, because I guess neither glucose nor methanol was\n",
    "# available for K. phaffii"
   ]
  },
  {
   "cell_type": "code",
   "execution_count": 7,
   "metadata": {},
   "outputs": [
    {
     "data": {
      "text/html": [
       "\n",
       "        <table>\n",
       "            <tr>\n",
       "                <td><strong>Reaction identifier</strong></td><td>r1158</td>\n",
       "            </tr><tr>\n",
       "                <td><strong>Name</strong></td><td>uptake of methanol</td>\n",
       "            </tr><tr>\n",
       "                <td><strong>Memory address</strong></td>\n",
       "                <td>0x0226ab4c8668</td>\n",
       "            </tr><tr>\n",
       "                <td><strong>Stoichiometry</strong></td>\n",
       "                <td>\n",
       "                    <p style='text-align:right'>m1297 --> m1219</p>\n",
       "                    <p style='text-align:right'>Methanol_CH4O --> Methanol_CH4O</p>\n",
       "                </td>\n",
       "            </tr><tr>\n",
       "                <td><strong>GPR</strong></td><td></td>\n",
       "            </tr><tr>\n",
       "                <td><strong>Lower bound</strong></td><td>0</td>\n",
       "            </tr><tr>\n",
       "                <td><strong>Upper bound</strong></td><td>10</td>\n",
       "            </tr>\n",
       "        </table>\n",
       "        "
      ],
      "text/plain": [
       "<Reaction r1158 at 0x226ab4c8668>"
      ]
     },
     "execution_count": 7,
     "metadata": {},
     "output_type": "execute_result"
    }
   ],
   "source": [
    "pichia_methanol.reactions.r1158"
   ]
  },
  {
   "cell_type": "markdown",
   "metadata": {},
   "source": [
    "(Solved!) Looks like growth is not supported when glucose is swapped with methanol. Something needs to be added. "
   ]
  },
  {
   "cell_type": "markdown",
   "metadata": {},
   "source": [
    "Remember m1293 is glucose and m1297 is methanol"
   ]
  },
  {
   "cell_type": "code",
   "execution_count": 10,
   "metadata": {},
   "outputs": [
    {
     "data": {
      "text/html": [
       "<h3>Objective</h3><p>1.0 r1339 = 0.011453366468220413</p><h4>Uptake</h4><table border=\"1\" class=\"dataframe\">\n",
       "  <thead>\n",
       "    <tr style=\"text-align: right;\">\n",
       "      <th>Metabolite</th>\n",
       "      <th>Reaction</th>\n",
       "      <th>Flux</th>\n",
       "      <th>C-Number</th>\n",
       "      <th>C-Flux</th>\n",
       "    </tr>\n",
       "  </thead>\n",
       "  <tbody>\n",
       "    <tr>\n",
       "      <td>m1297</td>\n",
       "      <td>EX_m1297</td>\n",
       "      <td>1</td>\n",
       "      <td>0</td>\n",
       "      <td>0.00%</td>\n",
       "    </tr>\n",
       "    <tr>\n",
       "      <td>m1298</td>\n",
       "      <td>EX_m1298</td>\n",
       "      <td>1.258</td>\n",
       "      <td>0</td>\n",
       "      <td>0.00%</td>\n",
       "    </tr>\n",
       "    <tr>\n",
       "      <td>m1300</td>\n",
       "      <td>EX_m1300</td>\n",
       "      <td>0.06602</td>\n",
       "      <td>0</td>\n",
       "      <td>0.00%</td>\n",
       "    </tr>\n",
       "    <tr>\n",
       "      <td>m1301</td>\n",
       "      <td>EX_m1301</td>\n",
       "      <td>0.004719</td>\n",
       "      <td>0</td>\n",
       "      <td>0.00%</td>\n",
       "    </tr>\n",
       "    <tr>\n",
       "      <td>m1304</td>\n",
       "      <td>EX_m1304</td>\n",
       "      <td>0.0003508</td>\n",
       "      <td>0</td>\n",
       "      <td>0.00%</td>\n",
       "    </tr>\n",
       "  </tbody>\n",
       "</table><h4>Secretion</h4><table border=\"1\" class=\"dataframe\">\n",
       "  <thead>\n",
       "    <tr style=\"text-align: right;\">\n",
       "      <th>Metabolite</th>\n",
       "      <th>Reaction</th>\n",
       "      <th>Flux</th>\n",
       "      <th>C-Number</th>\n",
       "      <th>C-Flux</th>\n",
       "    </tr>\n",
       "  </thead>\n",
       "  <tbody>\n",
       "    <tr>\n",
       "      <td>m1287</td>\n",
       "      <td>EX_m1287</td>\n",
       "      <td>-0.01145</td>\n",
       "      <td>0</td>\n",
       "      <td>0.00%</td>\n",
       "    </tr>\n",
       "    <tr>\n",
       "      <td>m1291</td>\n",
       "      <td>EX_m1291</td>\n",
       "      <td>-0.372</td>\n",
       "      <td>0</td>\n",
       "      <td>0.00%</td>\n",
       "    </tr>\n",
       "    <tr>\n",
       "      <td>m1349</td>\n",
       "      <td>EX_m1349</td>\n",
       "      <td>-1.643</td>\n",
       "      <td>0</td>\n",
       "      <td>0.00%</td>\n",
       "    </tr>\n",
       "  </tbody>\n",
       "</table>"
      ],
      "text/plain": [
       "<cobra.summary.model_summary.ModelSummary at 0x215ae606208>"
      ]
     },
     "execution_count": 10,
     "metadata": {},
     "output_type": "execute_result"
    }
   ],
   "source": [
    "pichia_methanol.summary()"
   ]
  },
  {
   "cell_type": "markdown",
   "metadata": {},
   "source": [
    "Checking if the exchange reactions is open too and it is."
   ]
  },
  {
   "cell_type": "code",
   "execution_count": 15,
   "metadata": {},
   "outputs": [
    {
     "data": {
      "text/html": [
       "\n",
       "        <table>\n",
       "            <tr>\n",
       "                <td><strong>Reaction identifier</strong></td><td>EX_m1298</td>\n",
       "            </tr><tr>\n",
       "                <td><strong>Name</strong></td><td>EX_m1298</td>\n",
       "            </tr><tr>\n",
       "                <td><strong>Memory address</strong></td>\n",
       "                <td>0x0217d4dcd240</td>\n",
       "            </tr><tr>\n",
       "                <td><strong>Stoichiometry</strong></td>\n",
       "                <td>\n",
       "                    <p style='text-align:right'>m1298 <=></p>\n",
       "                    <p style='text-align:right'>Oxygen_O2 <=></p>\n",
       "                </td>\n",
       "            </tr><tr>\n",
       "                <td><strong>GPR</strong></td><td></td>\n",
       "            </tr><tr>\n",
       "                <td><strong>Lower bound</strong></td><td>-1000.0</td>\n",
       "            </tr><tr>\n",
       "                <td><strong>Upper bound</strong></td><td>1000.0</td>\n",
       "            </tr>\n",
       "        </table>\n",
       "        "
      ],
      "text/plain": [
       "<Reaction EX_m1298 at 0x217d4dcd240>"
      ]
     },
     "execution_count": 15,
     "metadata": {},
     "output_type": "execute_result"
    }
   ],
   "source": [
    "pichia_methanol.reactions.EX_m1298"
   ]
  },
  {
   "cell_type": "markdown",
   "metadata": {},
   "source": [
    "Normally, you could use `model.medium` to see what compounds are in the medium. Since the model doesn't use the EX_ reactions to define the medium this is not very helpful but at least we can see all the exchange reactions"
   ]
  },
  {
   "cell_type": "code",
   "execution_count": 29,
   "metadata": {},
   "outputs": [
    {
     "data": {
      "text/plain": [
       "{'EX_m1282': 1000.0,\n",
       " 'EX_m1283': 1000.0,\n",
       " 'EX_m1284': 1000.0,\n",
       " 'EX_m1285': 1000.0,\n",
       " 'EX_m1286': 1000.0,\n",
       " 'EX_m1287': 1000.0,\n",
       " 'EX_m1288': 1000.0,\n",
       " 'EX_m1289': 1000.0,\n",
       " 'EX_m1290': 1000.0,\n",
       " 'EX_m1291': 1000.0,\n",
       " 'EX_m1292': 1000.0,\n",
       " 'EX_m1293': 1000.0,\n",
       " 'EX_m1294': 1000.0,\n",
       " 'EX_m1296': 1000.0,\n",
       " 'EX_m1297': 1000.0,\n",
       " 'EX_m1298': 1000.0,\n",
       " 'EX_m1299': 1000.0,\n",
       " 'EX_m1300': 1000.0,\n",
       " 'EX_m1301': 1000.0,\n",
       " 'EX_m1302': 1000.0,\n",
       " 'EX_m1303': 1000.0,\n",
       " 'EX_m1304': 1000.0,\n",
       " 'EX_m1305': 1000.0,\n",
       " 'EX_m1306': 1000.0,\n",
       " 'EX_m1307': 1000.0,\n",
       " 'EX_m1308': 1000.0,\n",
       " 'EX_m1309': 1000.0,\n",
       " 'EX_m1310': 1000.0,\n",
       " 'EX_m1311': 1000.0,\n",
       " 'EX_m1312': 1000.0,\n",
       " 'EX_m1313': 1000.0,\n",
       " 'EX_m1314': 1000.0,\n",
       " 'EX_m1315': 1000.0,\n",
       " 'EX_m1316': 1000.0,\n",
       " 'EX_m1317': 1000.0,\n",
       " 'EX_m1318': 1000.0,\n",
       " 'EX_m1319': 1000.0,\n",
       " 'EX_m1320': 1000.0,\n",
       " 'EX_m1321': 1000.0,\n",
       " 'EX_m1322': 1000.0,\n",
       " 'EX_m1323': 1000.0,\n",
       " 'EX_m1324': 1000.0,\n",
       " 'EX_m1325': 1000.0,\n",
       " 'EX_m1326': 1000.0,\n",
       " 'EX_m1327': 1000.0,\n",
       " 'EX_m1328': 1000.0,\n",
       " 'EX_m1329': 1000.0,\n",
       " 'EX_m1330': 1000.0,\n",
       " 'EX_m1331': 1000.0,\n",
       " 'EX_m1333': 1000.0,\n",
       " 'EX_m1335': 1000.0,\n",
       " 'EX_m1345': 1000.0,\n",
       " 'EX_m1349': 1000.0,\n",
       " 'EX_m1350': 1000.0,\n",
       " 'EX_m1351': 1000.0,\n",
       " 'EX_m1354': 1000.0,\n",
       " 'EX_m1365': 1000.0,\n",
       " 'EX_m1370': 1000.0}"
      ]
     },
     "execution_count": 29,
     "metadata": {},
     "output_type": "execute_result"
    }
   ],
   "source": [
    "pichia_methanol.medium"
   ]
  },
  {
   "cell_type": "markdown",
   "metadata": {},
   "source": [
    "You can also get the exchange reactions like this."
   ]
  },
  {
   "cell_type": "code",
   "execution_count": 33,
   "metadata": {},
   "outputs": [
    {
     "data": {
      "text/plain": [
       "[<Reaction EX_m1282 at 0x1507c4940>,\n",
       " <Reaction EX_m1283 at 0x150de6588>,\n",
       " <Reaction EX_m1284 at 0x1507c4978>,\n",
       " <Reaction EX_m1285 at 0x1507c49b0>,\n",
       " <Reaction EX_m1286 at 0x1507c49e8>,\n",
       " <Reaction EX_m1287 at 0x1507c4a20>,\n",
       " <Reaction EX_m1288 at 0x1507c4a58>,\n",
       " <Reaction EX_m1289 at 0x1507c4a90>,\n",
       " <Reaction EX_m1290 at 0x1507c4ac8>,\n",
       " <Reaction EX_m1291 at 0x1507c4b00>,\n",
       " <Reaction EX_m1292 at 0x1507c4b38>,\n",
       " <Reaction EX_m1293 at 0x1507c4b70>,\n",
       " <Reaction EX_m1294 at 0x1507c4ba8>,\n",
       " <Reaction EX_m1296 at 0x1507c4be0>,\n",
       " <Reaction EX_m1297 at 0x1507c4c18>,\n",
       " <Reaction EX_m1298 at 0x1507c4c50>,\n",
       " <Reaction EX_m1299 at 0x1507c4c88>,\n",
       " <Reaction EX_m1300 at 0x1507c4cc0>,\n",
       " <Reaction EX_m1301 at 0x1507c4cf8>,\n",
       " <Reaction EX_m1302 at 0x1507c4d30>,\n",
       " <Reaction EX_m1303 at 0x1507c4d68>,\n",
       " <Reaction EX_m1304 at 0x1507c4da0>,\n",
       " <Reaction EX_m1305 at 0x1507c4dd8>,\n",
       " <Reaction EX_m1306 at 0x1507c4e10>,\n",
       " <Reaction EX_m1307 at 0x1507c4e48>,\n",
       " <Reaction EX_m1308 at 0x1507c4e80>,\n",
       " <Reaction EX_m1309 at 0x1507c4eb8>,\n",
       " <Reaction EX_m1310 at 0x1507c4ef0>,\n",
       " <Reaction EX_m1311 at 0x1507c4f28>,\n",
       " <Reaction EX_m1312 at 0x1507c4f60>,\n",
       " <Reaction EX_m1313 at 0x1507c4f98>,\n",
       " <Reaction EX_m1314 at 0x1507c4fd0>,\n",
       " <Reaction EX_m1315 at 0x1507db048>,\n",
       " <Reaction EX_m1316 at 0x1507db080>,\n",
       " <Reaction EX_m1317 at 0x1507db0b8>,\n",
       " <Reaction EX_m1318 at 0x1507db0f0>,\n",
       " <Reaction EX_m1319 at 0x1507db128>,\n",
       " <Reaction EX_m1320 at 0x1507db160>,\n",
       " <Reaction EX_m1321 at 0x1507db198>,\n",
       " <Reaction EX_m1322 at 0x1507db1d0>,\n",
       " <Reaction EX_m1323 at 0x1507db208>,\n",
       " <Reaction EX_m1324 at 0x1507db240>,\n",
       " <Reaction EX_m1325 at 0x1507db278>,\n",
       " <Reaction EX_m1326 at 0x1507db2b0>,\n",
       " <Reaction EX_m1327 at 0x1507db2e8>,\n",
       " <Reaction EX_m1328 at 0x1507db320>,\n",
       " <Reaction EX_m1329 at 0x1507db358>,\n",
       " <Reaction EX_m1330 at 0x1507db390>,\n",
       " <Reaction EX_m1331 at 0x1507db3c8>,\n",
       " <Reaction EX_m1333 at 0x1507db400>,\n",
       " <Reaction EX_m1335 at 0x1507db438>,\n",
       " <Reaction EX_m1345 at 0x1507db470>,\n",
       " <Reaction EX_m1349 at 0x1507db4a8>,\n",
       " <Reaction EX_m1350 at 0x1507db4e0>,\n",
       " <Reaction EX_m1351 at 0x1507db518>,\n",
       " <Reaction EX_m1354 at 0x1507db550>,\n",
       " <Reaction EX_m1365 at 0x1507db588>,\n",
       " <Reaction EX_m1370 at 0x1507db5c0>]"
      ]
     },
     "execution_count": 33,
     "metadata": {},
     "output_type": "execute_result"
    }
   ],
   "source": [
    "pichia_methanol.exchanges"
   ]
  },
  {
   "cell_type": "markdown",
   "metadata": {},
   "source": [
    "Let's extract all the compounds associated with them."
   ]
  },
  {
   "cell_type": "code",
   "execution_count": 124,
   "metadata": {},
   "outputs": [],
   "source": [
    "exchange2compound = {}\n",
    "for reaction in pichia_methanol.exchanges:\n",
    "    exchange2compound[reaction.id] = reaction.reactants[0].name"
   ]
  },
  {
   "cell_type": "code",
   "execution_count": 125,
   "metadata": {},
   "outputs": [
    {
     "data": {
      "text/plain": [
       "{'EX_m1282': '(R)-Lactate_C3H6O3',\n",
       " 'EX_m1283': '(S)-Lactate_C3H6O3',\n",
       " 'EX_m1284': 'Acetate_C2H4O2',\n",
       " 'EX_m1285': '(S)(+)-Allantoin_C4H6N4O3',\n",
       " 'EX_m1286': 'Biotin_C10H16N2O3S',\n",
       " 'EX_m1287': 'Biomass_',\n",
       " 'EX_m1288': 'Carnitine_C7H16NO3',\n",
       " 'EX_m1289': 'Cellobiose_C12H22O11',\n",
       " 'EX_m1290': 'Chitin_(C8H13NO5)n',\n",
       " 'EX_m1291': 'CO2_CO2',\n",
       " 'EX_m1292': 'Ethanol_C2H6O',\n",
       " 'EX_m1293': 'alpha-D-Glucose_C6H12O6',\n",
       " 'EX_m1294': 'Glycerol_C3H8O3',\n",
       " 'EX_m1296': 'Mannitol_C6H14O6',\n",
       " 'EX_m1297': 'Methanol_CH4O',\n",
       " 'EX_m1298': 'Oxygen_O2',\n",
       " 'EX_m1299': '(9Z)-Octadecenoic acid_C18H34O2',\n",
       " 'EX_m1300': 'NH3_NH3',\n",
       " 'EX_m1301': 'Orthophosphate_H3PO4',\n",
       " 'EX_m1302': 'Protein_C2H4NO2R(C2H2NOR)n',\n",
       " 'EX_m1303': 'Pyruvate_C3H4O3',\n",
       " 'EX_m1304': 'Sulfate_H2SO4',\n",
       " 'EX_m1305': 'D-Sorbitol_C6H14O6',\n",
       " 'EX_m1306': 'Sulfur_S',\n",
       " 'EX_m1307': 'Thiamin_C12H17N4OS',\n",
       " 'EX_m1308': 'alpha,alpha-Trehalose_C12H22O11',\n",
       " 'EX_m1309': 'Urea_CH4N2O',\n",
       " 'EX_m1310': 'L-Alanine_C3H7NO2',\n",
       " 'EX_m1311': 'L-Proline_C5H9NO2',\n",
       " 'EX_m1312': 'L-Methionine_C5H11NO2S',\n",
       " 'EX_m1313': 'L-Arginine_C6H14N4O2',\n",
       " 'EX_m1314': 'L-Lysine_C6H14N2O2',\n",
       " 'EX_m1315': 'L-Asparagine_C4H8N2O3',\n",
       " 'EX_m1316': 'L-Aspartate_C4H7NO4',\n",
       " 'EX_m1317': 'L-Cysteine_C3H7NO2S',\n",
       " 'EX_m1318': 'L-Glutamine_C5H10N2O3',\n",
       " 'EX_m1319': 'L-Glutamate_C5H9NO4',\n",
       " 'EX_m1320': 'Glycine_C2H5NO2',\n",
       " 'EX_m1321': 'L-Histidine_C6H9N3O2',\n",
       " 'EX_m1322': 'L-Isoleucine_C6H13NO2',\n",
       " 'EX_m1323': 'L-Leucine_C6H13NO2',\n",
       " 'EX_m1324': 'L-Ornithine_C5H12N2O2',\n",
       " 'EX_m1325': 'L-Phenylalanine_C9H11NO2',\n",
       " 'EX_m1326': 'L-Serine_C3H7NO3',\n",
       " 'EX_m1327': 'L-Threonine_C4H9NO3',\n",
       " 'EX_m1328': 'L-Tryptophan_C11H12N2O2',\n",
       " 'EX_m1329': 'L-Tyrosine_C9H11NO3',\n",
       " 'EX_m1330': 'L-Valine_C5H11NO2',\n",
       " 'EX_m1331': 'Acyl-carrier protein_HSR',\n",
       " 'EX_m1333': 'beta-D-Fructose_C6H12O6',\n",
       " 'EX_m1335': 'CoA_C21H36N7O16P3S',\n",
       " 'EX_m1345': 'Fe2+_Fe',\n",
       " 'EX_m1349': 'H2O_',\n",
       " 'EX_m1350': 'myo-inositol_C6H12O6',\n",
       " 'EX_m1351': 'Formate_',\n",
       " 'EX_m1354': 'D-Alanine_C3H7NO2',\n",
       " 'EX_m1365': 'FAB_',\n",
       " 'EX_m1370': 'D-Arabitol_'}"
      ]
     },
     "execution_count": 125,
     "metadata": {},
     "output_type": "execute_result"
    }
   ],
   "source": [
    "exchange2compound"
   ]
  },
  {
   "cell_type": "markdown",
   "metadata": {},
   "source": [
    "Ok, don't have more time. Let's meet and discuss this if you like."
   ]
  },
  {
   "cell_type": "markdown",
   "metadata": {},
   "source": [
    "## Methanol structure used as guide for methane\n",
    "\n",
    "Now, focus on all methanol reactions to see how to simulate it for the methane uptake.\n",
    "\n",
    "First we do it for m1297, that is the boundary methanol:"
   ]
  },
  {
   "cell_type": "code",
   "execution_count": 117,
   "metadata": {},
   "outputs": [
    {
     "data": {
      "text/plain": [
       "frozenset({<Reaction EX_m1297 at 0x27874bf9eb8>,\n",
       "           <Reaction r1158 at 0x27872011a58>})"
      ]
     },
     "execution_count": 117,
     "metadata": {},
     "output_type": "execute_result"
    }
   ],
   "source": [
    "pichia_methanol.metabolites.m1297.reactions"
   ]
  },
  {
   "cell_type": "code",
   "execution_count": 121,
   "metadata": {},
   "outputs": [
    {
     "data": {
      "text/html": [
       "\n",
       "        <table>\n",
       "            <tr>\n",
       "                <td><strong>Reaction identifier</strong></td><td>EX_m1297</td>\n",
       "            </tr><tr>\n",
       "                <td><strong>Name</strong></td><td>EX_m1297</td>\n",
       "            </tr><tr>\n",
       "                <td><strong>Memory address</strong></td>\n",
       "                <td>0x027874bf9eb8</td>\n",
       "            </tr><tr>\n",
       "                <td><strong>Stoichiometry</strong></td>\n",
       "                <td>\n",
       "                    <p style='text-align:right'>m1297 <=></p>\n",
       "                    <p style='text-align:right'>Methanol_CH4O <=></p>\n",
       "                </td>\n",
       "            </tr><tr>\n",
       "                <td><strong>GPR</strong></td><td></td>\n",
       "            </tr><tr>\n",
       "                <td><strong>Lower bound</strong></td><td>-1000.0</td>\n",
       "            </tr><tr>\n",
       "                <td><strong>Upper bound</strong></td><td>1000.0</td>\n",
       "            </tr>\n",
       "        </table>\n",
       "        "
      ],
      "text/plain": [
       "<Reaction EX_m1297 at 0x27874bf9eb8>"
      ]
     },
     "execution_count": 121,
     "metadata": {},
     "output_type": "execute_result"
    }
   ],
   "source": [
    "pichia_methanol.reactions.EX_m1297"
   ]
  },
  {
   "cell_type": "code",
   "execution_count": 126,
   "metadata": {},
   "outputs": [
    {
     "data": {
      "text/html": [
       "\n",
       "        <table>\n",
       "            <tr>\n",
       "                <td><strong>Reaction identifier</strong></td><td>r1158</td>\n",
       "            </tr><tr>\n",
       "                <td><strong>Name</strong></td><td>uptake of methanol</td>\n",
       "            </tr><tr>\n",
       "                <td><strong>Memory address</strong></td>\n",
       "                <td>0x0278766b8128</td>\n",
       "            </tr><tr>\n",
       "                <td><strong>Stoichiometry</strong></td>\n",
       "                <td>\n",
       "                    <p style='text-align:right'>m1297 --> m1219</p>\n",
       "                    <p style='text-align:right'>Methanol_CH4O --> Methanol_CH4O</p>\n",
       "                </td>\n",
       "            </tr><tr>\n",
       "                <td><strong>GPR</strong></td><td></td>\n",
       "            </tr><tr>\n",
       "                <td><strong>Lower bound</strong></td><td>0</td>\n",
       "            </tr><tr>\n",
       "                <td><strong>Upper bound</strong></td><td>10</td>\n",
       "            </tr>\n",
       "        </table>\n",
       "        "
      ],
      "text/plain": [
       "<Reaction r1158 at 0x278766b8128>"
      ]
     },
     "execution_count": 126,
     "metadata": {},
     "output_type": "execute_result"
    }
   ],
   "source": [
    "pichia_methanol.reactions.r1158"
   ]
  },
  {
   "cell_type": "markdown",
   "metadata": {},
   "source": [
    "Thus, we see that we start with the boundary one, meaning methanol on the environment near our cell, that gets into extracellular by the uptake, meaning next to the cell membrane on the outside, ready to be introduced.\n",
    "\n",
    "And it is on this second reaction r1158 that we need to introduce our bounds for uptake.\n",
    "\n",
    "Now, for m1219, the extracellular:"
   ]
  },
  {
   "cell_type": "code",
   "execution_count": 127,
   "metadata": {},
   "outputs": [
    {
     "data": {
      "text/plain": [
       "frozenset({<Reaction r1158 at 0x278766b8128>,\n",
       "           <Reaction r1382 at 0x278766a0668>})"
      ]
     },
     "execution_count": 127,
     "metadata": {},
     "output_type": "execute_result"
    }
   ],
   "source": [
    "pichia_methanol.metabolites.m1219.reactions"
   ]
  },
  {
   "cell_type": "code",
   "execution_count": 128,
   "metadata": {},
   "outputs": [
    {
     "data": {
      "text/html": [
       "\n",
       "        <table>\n",
       "            <tr>\n",
       "                <td><strong>Reaction identifier</strong></td><td>r1158</td>\n",
       "            </tr><tr>\n",
       "                <td><strong>Name</strong></td><td>uptake of methanol</td>\n",
       "            </tr><tr>\n",
       "                <td><strong>Memory address</strong></td>\n",
       "                <td>0x0278766b8128</td>\n",
       "            </tr><tr>\n",
       "                <td><strong>Stoichiometry</strong></td>\n",
       "                <td>\n",
       "                    <p style='text-align:right'>m1297 --> m1219</p>\n",
       "                    <p style='text-align:right'>Methanol_CH4O --> Methanol_CH4O</p>\n",
       "                </td>\n",
       "            </tr><tr>\n",
       "                <td><strong>GPR</strong></td><td></td>\n",
       "            </tr><tr>\n",
       "                <td><strong>Lower bound</strong></td><td>0</td>\n",
       "            </tr><tr>\n",
       "                <td><strong>Upper bound</strong></td><td>10</td>\n",
       "            </tr>\n",
       "        </table>\n",
       "        "
      ],
      "text/plain": [
       "<Reaction r1158 at 0x278766b8128>"
      ]
     },
     "execution_count": 128,
     "metadata": {},
     "output_type": "execute_result"
    }
   ],
   "source": [
    "pichia_methanol.reactions.r1158"
   ]
  },
  {
   "cell_type": "code",
   "execution_count": 129,
   "metadata": {},
   "outputs": [
    {
     "data": {
      "text/html": [
       "\n",
       "        <table>\n",
       "            <tr>\n",
       "                <td><strong>Reaction identifier</strong></td><td>r1382</td>\n",
       "            </tr><tr>\n",
       "                <td><strong>Name</strong></td><td>Methanol permease</td>\n",
       "            </tr><tr>\n",
       "                <td><strong>Memory address</strong></td>\n",
       "                <td>0x0278766a0668</td>\n",
       "            </tr><tr>\n",
       "                <td><strong>Stoichiometry</strong></td>\n",
       "                <td>\n",
       "                    <p style='text-align:right'>m1219 --> m1215</p>\n",
       "                    <p style='text-align:right'>Methanol_CH4O --> Methanol_CH4O</p>\n",
       "                </td>\n",
       "            </tr><tr>\n",
       "                <td><strong>GPR</strong></td><td></td>\n",
       "            </tr><tr>\n",
       "                <td><strong>Lower bound</strong></td><td>0.0</td>\n",
       "            </tr><tr>\n",
       "                <td><strong>Upper bound</strong></td><td>1000.0</td>\n",
       "            </tr>\n",
       "        </table>\n",
       "        "
      ],
      "text/plain": [
       "<Reaction r1382 at 0x278766a0668>"
      ]
     },
     "execution_count": 129,
     "metadata": {},
     "output_type": "execute_result"
    }
   ],
   "source": [
    "pichia_methanol.reactions.r1382"
   ]
  },
  {
   "cell_type": "markdown",
   "metadata": {},
   "source": [
    "From extracellular we get into m1215 --> cytosol methanol. Let's check its reactions (avoiding to repeat the reaction r1382, already shown above where it is a product):"
   ]
  },
  {
   "cell_type": "code",
   "execution_count": 130,
   "metadata": {},
   "outputs": [
    {
     "data": {
      "text/plain": [
       "frozenset({<Reaction r1310 at 0x27876670cc0>,\n",
       "           <Reaction r1382 at 0x278766a0668>})"
      ]
     },
     "execution_count": 130,
     "metadata": {},
     "output_type": "execute_result"
    }
   ],
   "source": [
    "pichia_methanol.metabolites.m1215.reactions"
   ]
  },
  {
   "cell_type": "code",
   "execution_count": 131,
   "metadata": {},
   "outputs": [
    {
     "data": {
      "text/html": [
       "\n",
       "        <table>\n",
       "            <tr>\n",
       "                <td><strong>Reaction identifier</strong></td><td>r1310</td>\n",
       "            </tr><tr>\n",
       "                <td><strong>Name</strong></td><td>Methanol peroxisomal transport</td>\n",
       "            </tr><tr>\n",
       "                <td><strong>Memory address</strong></td>\n",
       "                <td>0x027876670cc0</td>\n",
       "            </tr><tr>\n",
       "                <td><strong>Stoichiometry</strong></td>\n",
       "                <td>\n",
       "                    <p style='text-align:right'>m1215 --> m956</p>\n",
       "                    <p style='text-align:right'>Methanol_CH4O --> Methanol_CH4O</p>\n",
       "                </td>\n",
       "            </tr><tr>\n",
       "                <td><strong>GPR</strong></td><td></td>\n",
       "            </tr><tr>\n",
       "                <td><strong>Lower bound</strong></td><td>0.0</td>\n",
       "            </tr><tr>\n",
       "                <td><strong>Upper bound</strong></td><td>1000.0</td>\n",
       "            </tr>\n",
       "        </table>\n",
       "        "
      ],
      "text/plain": [
       "<Reaction r1310 at 0x27876670cc0>"
      ]
     },
     "execution_count": 131,
     "metadata": {},
     "output_type": "execute_result"
    }
   ],
   "source": [
    "pichia_methanol.reactions.r1310"
   ]
  },
  {
   "cell_type": "markdown",
   "metadata": {},
   "source": [
    "Which obviously represents the transport to peroxisomes, giving the peroxisomal methanol m956. And it will be there where the MUT pathway will start."
   ]
  },
  {
   "cell_type": "code",
   "execution_count": 133,
   "metadata": {},
   "outputs": [
    {
     "data": {
      "text/plain": [
       "frozenset({<Reaction r1310 at 0x27876670cc0>, <Reaction r91 at 0x2787663f8d0>})"
      ]
     },
     "execution_count": 133,
     "metadata": {},
     "output_type": "execute_result"
    }
   ],
   "source": [
    "pichia_methanol.metabolites.m956.reactions"
   ]
  },
  {
   "cell_type": "code",
   "execution_count": 134,
   "metadata": {},
   "outputs": [
    {
     "data": {
      "text/html": [
       "\n",
       "        <table>\n",
       "            <tr>\n",
       "                <td><strong>Reaction identifier</strong></td><td>r91</td>\n",
       "            </tr><tr>\n",
       "                <td><strong>Name</strong></td><td>Methanol:oxygen oxidereductase</td>\n",
       "            </tr><tr>\n",
       "                <td><strong>Memory address</strong></td>\n",
       "                <td>0x02787663f8d0</td>\n",
       "            </tr><tr>\n",
       "                <td><strong>Stoichiometry</strong></td>\n",
       "                <td>\n",
       "                    <p style='text-align:right'>m711 + m956 --> m713 + m957</p>\n",
       "                    <p style='text-align:right'>Oxygen_O2 + Methanol_CH4O --> H2O2_H2O2 + Formaldehyde_CH2O</p>\n",
       "                </td>\n",
       "            </tr><tr>\n",
       "                <td><strong>GPR</strong></td><td>PAS_chr4_0821 or PAS_chr4_0152</td>\n",
       "            </tr><tr>\n",
       "                <td><strong>Lower bound</strong></td><td>0.0</td>\n",
       "            </tr><tr>\n",
       "                <td><strong>Upper bound</strong></td><td>1000.0</td>\n",
       "            </tr>\n",
       "        </table>\n",
       "        "
      ],
      "text/plain": [
       "<Reaction r91 at 0x2787663f8d0>"
      ]
     },
     "execution_count": 134,
     "metadata": {},
     "output_type": "execute_result"
    }
   ],
   "source": [
    "pichia_methanol.reactions.r91"
   ]
  },
  {
   "cell_type": "markdown",
   "metadata": {},
   "source": [
    "Which is already using the methanol to get formaldehyde.\n",
    "\n",
    "Conclusion: So for methane, we just need to define boundary methane and extracellular methane, becuase once going through the pMMO, it will already enter the cell as methanol.\n",
    "\n",
    "Questions:\n",
    "\n",
    "- And then I guess this methanol should be considered as m1215 (cytosolic methanol) that needs to get into the peroxisomes and follow the normal path? \n",
    "\n",
    "Yes, that is what makes more sense!\n",
    "\n",
    "- On M. capsulatus the pMMO reaction occurs at the periplasm, for K. phaffi can we directly consider we change from extracellular to cytosol compartment? \n",
    "\n",
    "Yes, that is fine.\n",
    "\n",
    "- On M. capsulatus the transformation of Ubiquinol found in the inner membrane into Ubiquinone is also found on the pMMO reaction. However, for the K. phaffii model, those two species are just found on the mitochondria. How should we proceed with that?\n",
    "\n",
    "hmmm, that is nice to know, looks like the model already reveal a potential major issue in terms of getting the pMMO to work if the required co-factors are not available in the right compartment. You could add those co-factors to the cytosol without affecting the model, but then again it might not reflect reality.\n",
    "\n",
    "- From M. capsulatus model, difference between pMMO and pMMODC (Direct Coupling) \n",
    "\n",
    "Check ourselves!\n",
    "\n",
    "- I guess we should introduce the pMMO gene on the listOfGeneProducts to have our new introduced reaction related to the gene.\n",
    "\n",
    "That would be cool and not so complicated to do!\n",
    "\n",
    "- Also create group for the pMMO reaction? (last part of the file and then all reactions are related to a concrete group when defined)\n",
    "\n",
    "To me it looks like it is not required for the model to work properly, just a matter of metadata."
   ]
  },
  {
   "cell_type": "code",
   "execution_count": 17,
   "metadata": {},
   "outputs": [],
   "source": [
    "pichia_pmmo = cobra.io.read_sbml_model(\"data/iLC915_pMMO.xml\")"
   ]
  },
  {
   "cell_type": "code",
   "execution_count": 18,
   "metadata": {},
   "outputs": [
    {
     "data": {
      "text/html": [
       "<h3>Objective</h3><p>1.0 r1339 = 0.057266832341103004</p><h4>Uptake</h4><table border=\"1\" class=\"dataframe\">\n",
       "  <thead>\n",
       "    <tr style=\"text-align: right;\">\n",
       "      <th>Metabolite</th>\n",
       "      <th>Reaction</th>\n",
       "      <th>Flux</th>\n",
       "      <th>C-Number</th>\n",
       "      <th>C-Flux</th>\n",
       "    </tr>\n",
       "  </thead>\n",
       "  <tbody>\n",
       "    <tr>\n",
       "      <td>m1298</td>\n",
       "      <td>EX_m1298</td>\n",
       "      <td>18.38</td>\n",
       "      <td>0</td>\n",
       "      <td>0.00%</td>\n",
       "    </tr>\n",
       "    <tr>\n",
       "      <td>m1300</td>\n",
       "      <td>EX_m1300</td>\n",
       "      <td>0.3301</td>\n",
       "      <td>0</td>\n",
       "      <td>0.00%</td>\n",
       "    </tr>\n",
       "    <tr>\n",
       "      <td>m1301</td>\n",
       "      <td>EX_m1301</td>\n",
       "      <td>0.02359</td>\n",
       "      <td>0</td>\n",
       "      <td>0.00%</td>\n",
       "    </tr>\n",
       "    <tr>\n",
       "      <td>m1304</td>\n",
       "      <td>EX_m1304</td>\n",
       "      <td>0.001754</td>\n",
       "      <td>0</td>\n",
       "      <td>0.00%</td>\n",
       "    </tr>\n",
       "    <tr>\n",
       "      <td>methane_b</td>\n",
       "      <td>EX_methane_b</td>\n",
       "      <td>10</td>\n",
       "      <td>0</td>\n",
       "      <td>0.00%</td>\n",
       "    </tr>\n",
       "  </tbody>\n",
       "</table><h4>Secretion</h4><table border=\"1\" class=\"dataframe\">\n",
       "  <thead>\n",
       "    <tr style=\"text-align: right;\">\n",
       "      <th>Metabolite</th>\n",
       "      <th>Reaction</th>\n",
       "      <th>Flux</th>\n",
       "      <th>C-Number</th>\n",
       "      <th>C-Flux</th>\n",
       "    </tr>\n",
       "  </thead>\n",
       "  <tbody>\n",
       "    <tr>\n",
       "      <td>m1287</td>\n",
       "      <td>EX_m1287</td>\n",
       "      <td>-0.05727</td>\n",
       "      <td>0</td>\n",
       "      <td>0.00%</td>\n",
       "    </tr>\n",
       "    <tr>\n",
       "      <td>m1291</td>\n",
       "      <td>EX_m1291</td>\n",
       "      <td>-6.86</td>\n",
       "      <td>0</td>\n",
       "      <td>0.00%</td>\n",
       "    </tr>\n",
       "    <tr>\n",
       "      <td>m1349</td>\n",
       "      <td>EX_m1349</td>\n",
       "      <td>-22.39</td>\n",
       "      <td>0</td>\n",
       "      <td>0.00%</td>\n",
       "    </tr>\n",
       "  </tbody>\n",
       "</table>"
      ],
      "text/plain": [
       "<cobra.summary.model_summary.ModelSummary at 0x217d5bd8438>"
      ]
     },
     "execution_count": 18,
     "metadata": {},
     "output_type": "execute_result"
    }
   ],
   "source": [
    "pichia_pmmo.summary()"
   ]
  },
  {
   "cell_type": "code",
   "execution_count": 15,
   "metadata": {},
   "outputs": [
    {
     "data": {
      "text/plain": [
       "[<Reaction EX_methane_b at 0x226acc8e4e0>,\n",
       " <Reaction methane_uptake at 0x226ad5e7358>]"
      ]
     },
     "execution_count": 15,
     "metadata": {},
     "output_type": "execute_result"
    }
   ],
   "source": [
    "pichia_pmmo.reactions.query(\"methane\", \"name\")"
   ]
  },
  {
   "cell_type": "code",
   "execution_count": 16,
   "metadata": {},
   "outputs": [
    {
     "data": {
      "text/html": [
       "\n",
       "        <table>\n",
       "            <tr>\n",
       "                <td><strong>Reaction identifier</strong></td><td>methane_uptake</td>\n",
       "            </tr><tr>\n",
       "                <td><strong>Name</strong></td><td>uptake of methane</td>\n",
       "            </tr><tr>\n",
       "                <td><strong>Memory address</strong></td>\n",
       "                <td>0x0226ad5e7358</td>\n",
       "            </tr><tr>\n",
       "                <td><strong>Stoichiometry</strong></td>\n",
       "                <td>\n",
       "                    <p style='text-align:right'>methane_b --> methane_e</p>\n",
       "                    <p style='text-align:right'>methane_b --> methane_e</p>\n",
       "                </td>\n",
       "            </tr><tr>\n",
       "                <td><strong>GPR</strong></td><td></td>\n",
       "            </tr><tr>\n",
       "                <td><strong>Lower bound</strong></td><td>0.0</td>\n",
       "            </tr><tr>\n",
       "                <td><strong>Upper bound</strong></td><td>10.0</td>\n",
       "            </tr>\n",
       "        </table>\n",
       "        "
      ],
      "text/plain": [
       "<Reaction methane_uptake at 0x226ad5e7358>"
      ]
     },
     "execution_count": 16,
     "metadata": {},
     "output_type": "execute_result"
    }
   ],
   "source": [
    "pichia_pmmo.reactions.methane_uptake"
   ]
  },
  {
   "cell_type": "code",
   "execution_count": 19,
   "metadata": {},
   "outputs": [],
   "source": [
    "pichia_pmmo.reactions.methane_uptake.bounds=(0,1)"
   ]
  },
  {
   "cell_type": "code",
   "execution_count": 21,
   "metadata": {},
   "outputs": [
    {
     "data": {
      "text/html": [
       "<h3>Objective</h3><p>1.0 r1339 = 0.005726683234110158</p><h4>Uptake</h4><table border=\"1\" class=\"dataframe\">\n",
       "  <thead>\n",
       "    <tr style=\"text-align: right;\">\n",
       "      <th>Metabolite</th>\n",
       "      <th>Reaction</th>\n",
       "      <th>Flux</th>\n",
       "      <th>C-Number</th>\n",
       "      <th>C-Flux</th>\n",
       "    </tr>\n",
       "  </thead>\n",
       "  <tbody>\n",
       "    <tr>\n",
       "      <td>m1298</td>\n",
       "      <td>EX_m1298</td>\n",
       "      <td>1.815</td>\n",
       "      <td>0</td>\n",
       "      <td>0.00%</td>\n",
       "    </tr>\n",
       "    <tr>\n",
       "      <td>m1300</td>\n",
       "      <td>EX_m1300</td>\n",
       "      <td>0.03301</td>\n",
       "      <td>0</td>\n",
       "      <td>0.00%</td>\n",
       "    </tr>\n",
       "    <tr>\n",
       "      <td>m1301</td>\n",
       "      <td>EX_m1301</td>\n",
       "      <td>0.002359</td>\n",
       "      <td>0</td>\n",
       "      <td>0.00%</td>\n",
       "    </tr>\n",
       "    <tr>\n",
       "      <td>m1304</td>\n",
       "      <td>EX_m1304</td>\n",
       "      <td>0.0001754</td>\n",
       "      <td>0</td>\n",
       "      <td>0.00%</td>\n",
       "    </tr>\n",
       "    <tr>\n",
       "      <td>methane_b</td>\n",
       "      <td>EX_methane_b</td>\n",
       "      <td>1</td>\n",
       "      <td>0</td>\n",
       "      <td>0.00%</td>\n",
       "    </tr>\n",
       "  </tbody>\n",
       "</table><h4>Secretion</h4><table border=\"1\" class=\"dataframe\">\n",
       "  <thead>\n",
       "    <tr style=\"text-align: right;\">\n",
       "      <th>Metabolite</th>\n",
       "      <th>Reaction</th>\n",
       "      <th>Flux</th>\n",
       "      <th>C-Number</th>\n",
       "      <th>C-Flux</th>\n",
       "    </tr>\n",
       "  </thead>\n",
       "  <tbody>\n",
       "    <tr>\n",
       "      <td>m1287</td>\n",
       "      <td>EX_m1287</td>\n",
       "      <td>-0.005727</td>\n",
       "      <td>0</td>\n",
       "      <td>0.00%</td>\n",
       "    </tr>\n",
       "    <tr>\n",
       "      <td>m1291</td>\n",
       "      <td>EX_m1291</td>\n",
       "      <td>-0.686</td>\n",
       "      <td>0</td>\n",
       "      <td>0.00%</td>\n",
       "    </tr>\n",
       "    <tr>\n",
       "      <td>m1349</td>\n",
       "      <td>EX_m1349</td>\n",
       "      <td>-2.194</td>\n",
       "      <td>0</td>\n",
       "      <td>0.00%</td>\n",
       "    </tr>\n",
       "  </tbody>\n",
       "</table>"
      ],
      "text/plain": [
       "<cobra.summary.model_summary.ModelSummary at 0x217d5c2ca90>"
      ]
     },
     "execution_count": 21,
     "metadata": {},
     "output_type": "execute_result"
    }
   ],
   "source": [
    "pichia_pmmo.summary()"
   ]
  },
  {
   "cell_type": "markdown",
   "metadata": {},
   "source": [
    "Now, it is time to introduce the hemoglobin reaction considering the amino acid and the other things required. The hemoglobin aa sequence is: \n",
    "\n",
    "MGAFTEKQEALVSSSFEAFKANIPQYSVVFYTSILEKAPAAKDLFSFLSNGVDPSNPKLTGHAEKLFGLVRDSAGQLKANGTVVADAALGSIHAQKAITDPQFVVVKEALLKTIKEAVGDKWSDELSSAWEVAYDELAAAIKKAF"
   ]
  },
  {
   "cell_type": "markdown",
   "metadata": {},
   "source": [
    "Checking for biomass reactions, because some of them take the amino acid as reactants, thus we are interested in those for the protein production:"
   ]
  },
  {
   "cell_type": "code",
   "execution_count": 7,
   "metadata": {},
   "outputs": [
    {
     "data": {
      "text/plain": [
       "[<Reaction r1133 at 0x1ed67bd8e80>]"
      ]
     },
     "execution_count": 7,
     "metadata": {},
     "output_type": "execute_result"
    }
   ],
   "source": [
    "pichia.reactions.query(\"biomass\", \"name\")"
   ]
  },
  {
   "cell_type": "code",
   "execution_count": 8,
   "metadata": {},
   "outputs": [
    {
     "data": {
      "text/plain": [
       "[<Reaction r1090 at 0x1ed67c3eb38>, <Reaction r1187 at 0x1ed67c8b128>]"
      ]
     },
     "execution_count": 8,
     "metadata": {},
     "output_type": "execute_result"
    }
   ],
   "source": [
    "pichia.reactions.query(\"Biomass\", \"name\")"
   ]
  },
  {
   "cell_type": "code",
   "execution_count": 15,
   "metadata": {},
   "outputs": [
    {
     "name": "stdout",
     "output_type": "stream",
     "text": [
      "r1133: m1226 --> m1287\n",
      "r91 Drain of biomass : Biomass_ --> Biomass_\n"
     ]
    }
   ],
   "source": [
    "print(pichia.reactions.r1133)\n",
    "print('r91', pichia.reactions.r1133.name, ':', pichia.metabolites.m1226.name, '-->',  pichia.metabolites.m1287.name)"
   ]
  },
  {
   "cell_type": "code",
   "execution_count": 18,
   "metadata": {},
   "outputs": [
    {
     "name": "stdout",
     "output_type": "stream",
     "text": [
      "r1090: 35.7 m1 + 0.369 m1336 + 0.0756 m1337 + 0.37 m217 + 0.0583 m373 + 0.0013 m379 + 35.7 m5 --> m1225 + 35.7 m3 + 35.7 m7\n",
      "r1090 Biomass (g/gDW) : ATP_C10H16N5O13P3 + Carbohydrates_ + Protein_C2H4NO2R(C2H2NOR)n + RNA_C10H18O13P2R2(C5H8O6PR)n + DNA_C10H17O8PR2(C5H8O5PR)n + H2O_H2O --> Biomass_ + ADP_C10H15N5O10P2 + Orthophosphate_H3PO4\n"
     ]
    }
   ],
   "source": [
    "print(pichia.reactions.r1090)\n",
    "print('r1090',  pichia.reactions.r1090.name, ':', pichia.metabolites.m1.name, '+', pichia.metabolites.m1336.name, '+', pichia.metabolites.m217.name, '+', pichia.metabolites.m373.name, '+', pichia.metabolites.m379.name, '+', pichia.metabolites.m5.name, '-->',  pichia.metabolites.m1225.name, '+', pichia.metabolites.m3.name, '+', pichia.metabolites.m7.name)"
   ]
  },
  {
   "cell_type": "code",
   "execution_count": 14,
   "metadata": {},
   "outputs": [
    {
     "name": "stdout",
     "output_type": "stream",
     "text": [
      "r1187: 20.7 m1 + 0.002 m1115 + 0.0388 m1117 + 0.0007 m1119 + 0.0007 m1121 + 0.0002 m1123 + 0.33208 m153 + 0.2689 m154 + 0.15382 m156 + 0.19585 m158 + 0.15382 m161 + 0.2689 m163 + 0.040222 m177 + 0.13623 m185 + 0.22237 m203 + 0.24035 m210 + 0.20297 m222 + 0.24287 m227 + 0.14544 m239 + 1.701 m26 + 0.10532 m272 + 0.074636 m274 + 0.22018 m279 + 0.0096 m28 + 0.046031 m280 + 0.19541 m305 + 0.1689 m31 + 0.0057539 m331 + 0.024879 m343 + 0.051 m384 + 0.00082 m389 + 0.00118 m404 + 0.067 m418 + 0.05 m423 + 0.00082 m431 + 0.00118 m437 + 0.20522 m442 + 0.05984 m490 + 20.7 m5 + 0.16654 m625 + 0.03292 m669 + 0.05956 m672 + 0.33054 m675 + 0.20522 m678 + 0.001 m704 + 0.001 m821 + 0.002 m825 + 0.064 m827 + 0.116 m838 + 0.003 m846 + 0.051 m94 --> m1225 + 20.7 m3 + 20.7 m7\n",
      "r1382 Methanol permease : Methanol_CH4O --> Methanol_CH4O\n"
     ]
    }
   ],
   "source": [
    "print(pichia.reactions.r1187)"
   ]
  },
  {
   "cell_type": "code",
   "execution_count": 24,
   "metadata": {},
   "outputs": [
    {
     "name": "stdout",
     "output_type": "stream",
     "text": [
      "r1382 Methanol permease : ATP_C10H16N5O13P3 + Zymosterol_C27H44O + Ergosterol_C28H44O + Episterol_C28H46O + Fecosterol_C28H46O + Lanosterol_C30H50O L-Alanine_C3H7NO2 + L-Glutamate_C5H9NO4 + L-Aspartate_C4H7NO4 + L-Arginine_C6H14N4O2 + L-Asparagine_C4H8N2O3 + L-Glutamine_C5H10N2O3 + L-Ornithine_C5H12N2O2 + L-Proline_C5H9NO2 + L-Lysine_C6H14N2O2 + Glycine_C2H5NO2 + L-Valine_C5H11NO2 + L-Leucine_C6H13NO2 + L-Isoleucine_C6H13NO2 + 1,3-beta-D-Glucan_(C6H10O5)n + L-Phenylalanine_C9H11NO2 + L-Tyrosine_C9H11NO3 + L-Serine_C3H7NO3 + alpha,alpha-Trehalose_C12H22O11 + L-Tryptophan_C11H12N2O2 + ATP_C10H16N5O13P3 + L-Threonine_C4H9NO3 + Glycogen_C24H42O21 + L-Cysteine_C3H7NO2S + L-Methionine_C5H11NO2S + GMP_C10H14N5O8P + dGMP_C10H14N5O7P + dAMP_C10H14N5O6P UMP_C9H13N2O9P + CMP_C9H14N3O8P + dCMP_C9H14N3O7P + dTMP_C10H15N2O8P + (9Z,12Z,15Z)-Octadecatrienoic acid_C18H30O2 + L-Histidine_C6H9N3O2 + H2O_H2O + Hexadecanoic acid_C16H32O2 + Octadecanoic acid_C18H36O2 + (9Z)-Hexadecenoic acid_C16H30O2 + (9Z)-Octadecenoic acid_C18H34O2 + (9Z,12Z)-Octadecadienoic acid_C18H32O2 + 1,2-Diacyl-sn-glycerol 3-phosphate_C5H7O8PR2 + Phosphatidylserine_C8H12NO10PR2 + Cardiolipin_C13H18O17P2R4 + Phosphatidylethanolamine_C7H12NO8PR2 + Phosphatidylcholine_C10H18NO8PR2 + 1-Phosphatidyl-D-myo-inositol_C11H17O13PR2 + AMP_C10H14N5O7P --> Biomass_ + ADP_C10H15N5O10P2 + Orthophosphate_H3PO4\n"
     ]
    }
   ],
   "source": [
    "print('r1382',  pichia.reactions.r1382.name, ':', pichia.metabolites.m1.name, '+', pichia.metabolites.m1115.name, '+', pichia.metabolites.m1117.name, '+', pichia.metabolites.m1119.name, '+', pichia.metabolites.m1121.name, '+', pichia.metabolites.m1123.name, pichia.metabolites.m153.name, '+' , pichia.metabolites.m154.name, '+' ,\n",
    "      pichia.metabolites.m156.name, '+' , pichia.metabolites.m158.name, '+' , pichia.metabolites.m161.name, '+' , pichia.metabolites.m163.name, '+',  pichia.metabolites.m177.name, '+', pichia.metabolites.m185.name, '+', pichia.metabolites.m203.name, '+', pichia.metabolites.m210.name, '+', pichia.metabolites.m222.name, '+', \n",
    "      pichia.metabolites.m227.name, '+', pichia.metabolites.m239.name, '+' , pichia.metabolites.m26.name, '+' , pichia.metabolites.m272.name, '+', pichia.metabolites.m274.name, '+', pichia.metabolites.m279.name, '+', pichia.metabolites.m28.name, '+', pichia.metabolites.m280.name, '+', pichia.metabolites.m1.name, '+', pichia.metabolites.m305.name, '+', \n",
    "      pichia.metabolites.m31.name, '+', pichia.metabolites.m331.name, '+', pichia.metabolites.m343.name, '+', pichia.metabolites.m384.name, '+', pichia.metabolites.m389.name, '+', pichia.metabolites.m404.name, pichia.metabolites.m418.name, '+' , pichia.metabolites.m423.name, '+' ,\n",
    "      pichia.metabolites.m431.name, '+' , pichia.metabolites.m437.name, '+' , pichia.metabolites.m442.name, '+' , pichia.metabolites.m490.name, '+', pichia.metabolites.m5.name, '+', pichia.metabolites.m625.name, '+', pichia.metabolites.m669.name, '+', pichia.metabolites.m672.name, '+', pichia.metabolites.m675.name, '+', \n",
    "      pichia.metabolites.m678.name, '+', pichia.metabolites.m704.name, '+' , pichia.metabolites.m821.name, '+' , pichia.metabolites.m825.name, '+', pichia.metabolites.m827.name, '+', pichia.metabolites.m838.name, '+', pichia.metabolites.m846.name, '+', pichia.metabolites.m94.name, '-->',  pichia.metabolites.m1225.name, '+', pichia.metabolites.m3.name, '+', pichia.metabolites.m7.name)"
   ]
  },
  {
   "cell_type": "code",
   "execution_count": 3,
   "metadata": {},
   "outputs": [
    {
     "data": {
      "text/plain": [
       "[<Reaction r1338 at 0x1aa84028320>,\n",
       " <Reaction r1337 at 0x1aa840a7128>,\n",
       " <Reaction r1100 at 0x1aa840d0198>,\n",
       " <Reaction r1101 at 0x1aa840c8e10>,\n",
       " <Reaction r1102 at 0x1aa840f13c8>,\n",
       " <Reaction r1103 at 0x1aa840f1978>]"
      ]
     },
     "execution_count": 3,
     "metadata": {},
     "output_type": "execute_result"
    }
   ],
   "source": [
    "pichia.reactions.query(\"FAB\", \"name\")"
   ]
  },
  {
   "cell_type": "code",
   "execution_count": 5,
   "metadata": {},
   "outputs": [
    {
     "name": "stdout",
     "output_type": "stream",
     "text": [
      "r1100: 39.3881 m1 + 0.5591 m153 + 0.4731 m154 + 0.387 m156 + 0.43 m158 + 0.215 m161 + 0.55901 m163 + 0.5161 m185 + 0.387 m203 + 0.6021 m210 + 0.6451 m222 + 0.7741 m227 + 0.215 m239 + 0.387 m272 + 0.387 m274 + 1.3761 m279 + 0.086 m280 + 0.7311 m305 + 0.215 m331 + 0.043 m343 + 0.172 m490 + 39.3881 m5 --> m1360 + 39.3881 m3 + 39.3881 m7 r1101: 10.447 m1 + 0.569 m389 + 1.182 m404 + 0.584 m431 + 0.737 m437 + 10.447 m5 --> m1362 + 10.447 m3 + 10.447 m7 r1102: 0.997 m1360 + 0.0029 m1361 + 2.8e-05 m1362 --> m1363 r1103: 7.374 m1 + 0.584 m384 + 1.182 m418 + 0.569 m423 + 7.374 m5 + 0.737 m94 --> m1361 + 7.374 m3 + 7.374 m7 r1337: m1364 --> m1365 r1338: m1363 --> m1364\n"
     ]
    }
   ],
   "source": [
    "print(pichia.reactions.r1100, pichia.reactions.r1101, pichia.reactions.r1102, pichia.reactions.r1103, pichia.reactions.r1337, pichia.reactions.r1338)"
   ]
  },
  {
   "cell_type": "markdown",
   "metadata": {},
   "source": [
    "Better to check on the sbml file directly. \n",
    "\n",
    "There we find that r1338 and r1337 are for the take out and extracellular transport of the protein, with stoichiometry 1 and just one molecule involved on reactants and products --> no need to chnage anything there.\n",
    "\n",
    "For r1100, r1101 and r1103, those are the three cases considered on the code new_protein_model.py, giving the resulting model file iLC915_pMMO_protein.xml, containing the stoichiometry calculated for the new protein (hemoglobin) for dna, rna and amino acids.\n",
    "\n",
    "The reaction r1102 is the biosynthesis of the protein, but just considers the proportions of dna, rna and aa for the protein, which are the products of reactions r1100, r1101 and r1103. The stoichiometry of this reaction is still a mistery!\n",
    "\n",
    "Thus, the metabolite M_m1363 is our protein of interest on the citoplasm, M_m1364 extracellular and M_m1365 the one on the boundary.\n",
    "\n",
    "However, now we proceed to upload our new model with the protein and check different things:"
   ]
  },
  {
   "cell_type": "code",
   "execution_count": 4,
   "metadata": {},
   "outputs": [],
   "source": [
    "phaffii_hemo = cobra.io.read_sbml_model(\"data/iLC915_pMMO_protein.xml\")"
   ]
  },
  {
   "cell_type": "code",
   "execution_count": 5,
   "metadata": {},
   "outputs": [
    {
     "data": {
      "text/html": [
       "<strong><em>Optimal</em> solution with objective value 0.057</strong><br><div>\n",
       "<style scoped>\n",
       "    .dataframe tbody tr th:only-of-type {\n",
       "        vertical-align: middle;\n",
       "    }\n",
       "\n",
       "    .dataframe tbody tr th {\n",
       "        vertical-align: top;\n",
       "    }\n",
       "\n",
       "    .dataframe thead th {\n",
       "        text-align: right;\n",
       "    }\n",
       "</style>\n",
       "<table border=\"1\" class=\"dataframe\">\n",
       "  <thead>\n",
       "    <tr style=\"text-align: right;\">\n",
       "      <th></th>\n",
       "      <th>fluxes</th>\n",
       "      <th>reduced_costs</th>\n",
       "    </tr>\n",
       "  </thead>\n",
       "  <tbody>\n",
       "    <tr>\n",
       "      <th>EX_m1282</th>\n",
       "      <td>0.000000</td>\n",
       "      <td>0.000000e+00</td>\n",
       "    </tr>\n",
       "    <tr>\n",
       "      <th>EX_m1283</th>\n",
       "      <td>0.000000</td>\n",
       "      <td>0.000000e+00</td>\n",
       "    </tr>\n",
       "    <tr>\n",
       "      <th>EX_m1284</th>\n",
       "      <td>0.000000</td>\n",
       "      <td>0.000000e+00</td>\n",
       "    </tr>\n",
       "    <tr>\n",
       "      <th>EX_m1285</th>\n",
       "      <td>0.000000</td>\n",
       "      <td>0.000000e+00</td>\n",
       "    </tr>\n",
       "    <tr>\n",
       "      <th>EX_m1286</th>\n",
       "      <td>0.000000</td>\n",
       "      <td>0.000000e+00</td>\n",
       "    </tr>\n",
       "    <tr>\n",
       "      <th>...</th>\n",
       "      <td>...</td>\n",
       "      <td>...</td>\n",
       "    </tr>\n",
       "    <tr>\n",
       "      <th>r1996</th>\n",
       "      <td>0.000000</td>\n",
       "      <td>0.000000e+00</td>\n",
       "    </tr>\n",
       "    <tr>\n",
       "      <th>r1997</th>\n",
       "      <td>0.000000</td>\n",
       "      <td>-1.145337e-01</td>\n",
       "    </tr>\n",
       "    <tr>\n",
       "      <th>r1999</th>\n",
       "      <td>0.000459</td>\n",
       "      <td>-5.551115e-17</td>\n",
       "    </tr>\n",
       "    <tr>\n",
       "      <th>methane_uptake</th>\n",
       "      <td>10.000000</td>\n",
       "      <td>1.145337e-02</td>\n",
       "    </tr>\n",
       "    <tr>\n",
       "      <th>pMMO</th>\n",
       "      <td>10.000000</td>\n",
       "      <td>0.000000e+00</td>\n",
       "    </tr>\n",
       "  </tbody>\n",
       "</table>\n",
       "<p>1488 rows × 2 columns</p>\n",
       "</div>"
      ],
      "text/plain": [
       "<Solution 0.057 at 0x217d2284940>"
      ]
     },
     "execution_count": 5,
     "metadata": {},
     "output_type": "execute_result"
    }
   ],
   "source": [
    "phaffii_hemo.optimize()"
   ]
  },
  {
   "cell_type": "code",
   "execution_count": 7,
   "metadata": {},
   "outputs": [
    {
     "data": {
      "text/html": [
       "<h3>Objective</h3><p>1.0 r1339 = 0.057266832341103004</p><h4>Uptake</h4><table border=\"1\" class=\"dataframe\">\n",
       "  <thead>\n",
       "    <tr style=\"text-align: right;\">\n",
       "      <th>Metabolite</th>\n",
       "      <th>Reaction</th>\n",
       "      <th>Flux</th>\n",
       "      <th>C-Number</th>\n",
       "      <th>C-Flux</th>\n",
       "    </tr>\n",
       "  </thead>\n",
       "  <tbody>\n",
       "    <tr>\n",
       "      <td>m1298</td>\n",
       "      <td>EX_m1298</td>\n",
       "      <td>18.38</td>\n",
       "      <td>0</td>\n",
       "      <td>0.00%</td>\n",
       "    </tr>\n",
       "    <tr>\n",
       "      <td>m1300</td>\n",
       "      <td>EX_m1300</td>\n",
       "      <td>0.3301</td>\n",
       "      <td>0</td>\n",
       "      <td>0.00%</td>\n",
       "    </tr>\n",
       "    <tr>\n",
       "      <td>m1301</td>\n",
       "      <td>EX_m1301</td>\n",
       "      <td>0.02359</td>\n",
       "      <td>0</td>\n",
       "      <td>0.00%</td>\n",
       "    </tr>\n",
       "    <tr>\n",
       "      <td>m1304</td>\n",
       "      <td>EX_m1304</td>\n",
       "      <td>0.001754</td>\n",
       "      <td>0</td>\n",
       "      <td>0.00%</td>\n",
       "    </tr>\n",
       "    <tr>\n",
       "      <td>methane_b</td>\n",
       "      <td>EX_methane_b</td>\n",
       "      <td>10</td>\n",
       "      <td>0</td>\n",
       "      <td>0.00%</td>\n",
       "    </tr>\n",
       "  </tbody>\n",
       "</table><h4>Secretion</h4><table border=\"1\" class=\"dataframe\">\n",
       "  <thead>\n",
       "    <tr style=\"text-align: right;\">\n",
       "      <th>Metabolite</th>\n",
       "      <th>Reaction</th>\n",
       "      <th>Flux</th>\n",
       "      <th>C-Number</th>\n",
       "      <th>C-Flux</th>\n",
       "    </tr>\n",
       "  </thead>\n",
       "  <tbody>\n",
       "    <tr>\n",
       "      <td>m1287</td>\n",
       "      <td>EX_m1287</td>\n",
       "      <td>-0.05727</td>\n",
       "      <td>0</td>\n",
       "      <td>0.00%</td>\n",
       "    </tr>\n",
       "    <tr>\n",
       "      <td>m1291</td>\n",
       "      <td>EX_m1291</td>\n",
       "      <td>-6.86</td>\n",
       "      <td>0</td>\n",
       "      <td>0.00%</td>\n",
       "    </tr>\n",
       "    <tr>\n",
       "      <td>m1349</td>\n",
       "      <td>EX_m1349</td>\n",
       "      <td>-22.39</td>\n",
       "      <td>0</td>\n",
       "      <td>0.00%</td>\n",
       "    </tr>\n",
       "  </tbody>\n",
       "</table>"
      ],
      "text/plain": [
       "<cobra.summary.model_summary.ModelSummary at 0x217d22e85f8>"
      ]
     },
     "execution_count": 7,
     "metadata": {},
     "output_type": "execute_result"
    }
   ],
   "source": [
    "phaffii_hemo.summary()"
   ]
  },
  {
   "cell_type": "markdown",
   "metadata": {},
   "source": [
    "From the paper where the model used here, we read that \"Cultivation techniques include fed-batch culture with glycerol, followed by induction with methanol alone, or in combination with glycerol or sorbitol which has shown to be useful for increasing the production of recombinant proteins.\" Therefore, now using the list of metabolites present in the medium Niko did above, we can find glycerol (EX_m1294) and D-sorbitol (EX_m1305), and check the protein production for this one."
   ]
  },
  {
   "cell_type": "code",
   "execution_count": 25,
   "metadata": {},
   "outputs": [
    {
     "data": {
      "text/html": [
       "\n",
       "        <table>\n",
       "            <tr>\n",
       "                <td><strong>Metabolite identifier</strong></td><td>m1363</td>\n",
       "            </tr><tr>\n",
       "                <td><strong>Name</strong></td><td>ProteinOfInterest_</td>\n",
       "            </tr><tr>\n",
       "                <td><strong>Memory address</strong></td>\n",
       "                <td>0x0217d2f17da0</td>\n",
       "            </tr><tr>\n",
       "                <td><strong>Formula</strong></td><td></td>\n",
       "            </tr><tr>\n",
       "                <td><strong>Compartment</strong></td><td>C_c</td>\n",
       "            </tr><tr>\n",
       "                <td><strong>In 2 reaction(s)</strong></td><td>\n",
       "                    r1102, r1338</td>\n",
       "            </tr>\n",
       "        </table>"
      ],
      "text/plain": [
       "<Metabolite m1363 at 0x217d2f17da0>"
      ]
     },
     "execution_count": 25,
     "metadata": {},
     "output_type": "execute_result"
    }
   ],
   "source": [
    "phaffii_hemo.metabolites.m1363"
   ]
  },
  {
   "cell_type": "code",
   "execution_count": 29,
   "metadata": {},
   "outputs": [
    {
     "data": {
      "text/html": [
       "\n",
       "        <table>\n",
       "            <tr>\n",
       "                <td><strong>Metabolite identifier</strong></td><td>m1294</td>\n",
       "            </tr><tr>\n",
       "                <td><strong>Name</strong></td><td>Glycerol_C3H8O3</td>\n",
       "            </tr><tr>\n",
       "                <td><strong>Memory address</strong></td>\n",
       "                <td>0x0217d2ee4588</td>\n",
       "            </tr><tr>\n",
       "                <td><strong>Formula</strong></td><td></td>\n",
       "            </tr><tr>\n",
       "                <td><strong>Compartment</strong></td><td>C_b</td>\n",
       "            </tr><tr>\n",
       "                <td><strong>In 2 reaction(s)</strong></td><td>\n",
       "                    r1148, EX_m1294</td>\n",
       "            </tr>\n",
       "        </table>"
      ],
      "text/plain": [
       "<Metabolite m1294 at 0x217d2ee4588>"
      ]
     },
     "execution_count": 29,
     "metadata": {},
     "output_type": "execute_result"
    }
   ],
   "source": [
    "phaffii_hemo.metabolites.m1294"
   ]
  },
  {
   "cell_type": "code",
   "execution_count": 30,
   "metadata": {},
   "outputs": [
    {
     "data": {
      "text/html": [
       "\n",
       "        <table>\n",
       "            <tr>\n",
       "                <td><strong>Reaction identifier</strong></td><td>r1148</td>\n",
       "            </tr><tr>\n",
       "                <td><strong>Name</strong></td><td>uptake of glycerol</td>\n",
       "            </tr><tr>\n",
       "                <td><strong>Memory address</strong></td>\n",
       "                <td>0x0217d2cd7198</td>\n",
       "            </tr><tr>\n",
       "                <td><strong>Stoichiometry</strong></td>\n",
       "                <td>\n",
       "                    <p style='text-align:right'>m1294 --> m1238</p>\n",
       "                    <p style='text-align:right'>Glycerol_C3H8O3 --> Glycerol_C3H8O3</p>\n",
       "                </td>\n",
       "            </tr><tr>\n",
       "                <td><strong>GPR</strong></td><td></td>\n",
       "            </tr><tr>\n",
       "                <td><strong>Lower bound</strong></td><td>0.0</td>\n",
       "            </tr><tr>\n",
       "                <td><strong>Upper bound</strong></td><td>0.0</td>\n",
       "            </tr>\n",
       "        </table>\n",
       "        "
      ],
      "text/plain": [
       "<Reaction r1148 at 0x217d2cd7198>"
      ]
     },
     "execution_count": 30,
     "metadata": {},
     "output_type": "execute_result"
    }
   ],
   "source": [
    "phaffii_hemo.reactions.r1148"
   ]
  },
  {
   "cell_type": "code",
   "execution_count": 31,
   "metadata": {},
   "outputs": [
    {
     "data": {
      "text/html": [
       "\n",
       "        <table>\n",
       "            <tr>\n",
       "                <td><strong>Metabolite identifier</strong></td><td>m1305</td>\n",
       "            </tr><tr>\n",
       "                <td><strong>Name</strong></td><td>D-Sorbitol_C6H14O6</td>\n",
       "            </tr><tr>\n",
       "                <td><strong>Memory address</strong></td>\n",
       "                <td>0x0217d2ee4d30</td>\n",
       "            </tr><tr>\n",
       "                <td><strong>Formula</strong></td><td></td>\n",
       "            </tr><tr>\n",
       "                <td><strong>Compartment</strong></td><td>C_b</td>\n",
       "            </tr><tr>\n",
       "                <td><strong>In 2 reaction(s)</strong></td><td>\n",
       "                    EX_m1305, r1170</td>\n",
       "            </tr>\n",
       "        </table>"
      ],
      "text/plain": [
       "<Metabolite m1305 at 0x217d2ee4d30>"
      ]
     },
     "execution_count": 31,
     "metadata": {},
     "output_type": "execute_result"
    }
   ],
   "source": [
    "phaffii_hemo.metabolites.m1305"
   ]
  },
  {
   "cell_type": "code",
   "execution_count": 32,
   "metadata": {},
   "outputs": [
    {
     "data": {
      "text/html": [
       "\n",
       "        <table>\n",
       "            <tr>\n",
       "                <td><strong>Reaction identifier</strong></td><td>r1170</td>\n",
       "            </tr><tr>\n",
       "                <td><strong>Name</strong></td><td>Uptake of D-Sorbitol</td>\n",
       "            </tr><tr>\n",
       "                <td><strong>Memory address</strong></td>\n",
       "                <td>0x0217d342eb70</td>\n",
       "            </tr><tr>\n",
       "                <td><strong>Stoichiometry</strong></td>\n",
       "                <td>\n",
       "                    <p style='text-align:right'>m1305 --> m1240</p>\n",
       "                    <p style='text-align:right'>D-Sorbitol_C6H14O6 --> D-Sorbitol_C6H14O6</p>\n",
       "                </td>\n",
       "            </tr><tr>\n",
       "                <td><strong>GPR</strong></td><td></td>\n",
       "            </tr><tr>\n",
       "                <td><strong>Lower bound</strong></td><td>0.0</td>\n",
       "            </tr><tr>\n",
       "                <td><strong>Upper bound</strong></td><td>0.0</td>\n",
       "            </tr>\n",
       "        </table>\n",
       "        "
      ],
      "text/plain": [
       "<Reaction r1170 at 0x217d342eb70>"
      ]
     },
     "execution_count": 32,
     "metadata": {},
     "output_type": "execute_result"
    }
   ],
   "source": [
    "phaffii_hemo.reactions.r1170"
   ]
  },
  {
   "cell_type": "markdown",
   "metadata": {},
   "source": [
    "## Genes knock-out\n",
    "\n",
    "With cobrapy is super easy to do gene knock-out, the only probalem is that you must know the gene name. Therefore, if we want to include this, we will have to do a research for each gene name on the model file to which reaction/reactions is involved to make it more user-friendly. Website/Document with knock-out info: https://cobrapy.readthedocs.io/_/downloads/en/0.10.0/pdf/\n",
    "\n",
    "Ex.:\n",
    "\n",
    "with cobra_model:\n",
    "cobra_model.genes.b1723.knock_out()"
   ]
  },
  {
   "cell_type": "code",
   "execution_count": 39,
   "metadata": {},
   "outputs": [],
   "source": [
    "phaffii_hemo.genes.PAS_chr4_0700.knock_out()"
   ]
  },
  {
   "cell_type": "code",
   "execution_count": 37,
   "metadata": {},
   "outputs": [
    {
     "data": {
      "text/html": [
       "<strong><em>Optimal</em> solution with objective value 0.057</strong><br><div>\n",
       "<style scoped>\n",
       "    .dataframe tbody tr th:only-of-type {\n",
       "        vertical-align: middle;\n",
       "    }\n",
       "\n",
       "    .dataframe tbody tr th {\n",
       "        vertical-align: top;\n",
       "    }\n",
       "\n",
       "    .dataframe thead th {\n",
       "        text-align: right;\n",
       "    }\n",
       "</style>\n",
       "<table border=\"1\" class=\"dataframe\">\n",
       "  <thead>\n",
       "    <tr style=\"text-align: right;\">\n",
       "      <th></th>\n",
       "      <th>fluxes</th>\n",
       "      <th>reduced_costs</th>\n",
       "    </tr>\n",
       "  </thead>\n",
       "  <tbody>\n",
       "    <tr>\n",
       "      <th>EX_m1282</th>\n",
       "      <td>0.000000</td>\n",
       "      <td>0.000000e+00</td>\n",
       "    </tr>\n",
       "    <tr>\n",
       "      <th>EX_m1283</th>\n",
       "      <td>0.000000</td>\n",
       "      <td>0.000000e+00</td>\n",
       "    </tr>\n",
       "    <tr>\n",
       "      <th>EX_m1284</th>\n",
       "      <td>0.000000</td>\n",
       "      <td>0.000000e+00</td>\n",
       "    </tr>\n",
       "    <tr>\n",
       "      <th>EX_m1285</th>\n",
       "      <td>0.000000</td>\n",
       "      <td>0.000000e+00</td>\n",
       "    </tr>\n",
       "    <tr>\n",
       "      <th>EX_m1286</th>\n",
       "      <td>0.000000</td>\n",
       "      <td>0.000000e+00</td>\n",
       "    </tr>\n",
       "    <tr>\n",
       "      <th>...</th>\n",
       "      <td>...</td>\n",
       "      <td>...</td>\n",
       "    </tr>\n",
       "    <tr>\n",
       "      <th>r1996</th>\n",
       "      <td>0.000000</td>\n",
       "      <td>-0.000000e+00</td>\n",
       "    </tr>\n",
       "    <tr>\n",
       "      <th>r1997</th>\n",
       "      <td>0.000000</td>\n",
       "      <td>-1.145307e-01</td>\n",
       "    </tr>\n",
       "    <tr>\n",
       "      <th>r1999</th>\n",
       "      <td>0.000459</td>\n",
       "      <td>8.326673e-17</td>\n",
       "    </tr>\n",
       "    <tr>\n",
       "      <th>methane_uptake</th>\n",
       "      <td>10.000000</td>\n",
       "      <td>1.145307e-02</td>\n",
       "    </tr>\n",
       "    <tr>\n",
       "      <th>pMMO</th>\n",
       "      <td>10.000000</td>\n",
       "      <td>8.673617e-19</td>\n",
       "    </tr>\n",
       "  </tbody>\n",
       "</table>\n",
       "<p>1488 rows × 2 columns</p>\n",
       "</div>"
      ],
      "text/plain": [
       "<Solution 0.057 at 0x217d5c87da0>"
      ]
     },
     "execution_count": 37,
     "metadata": {},
     "output_type": "execute_result"
    }
   ],
   "source": [
    "phaffii_hemo.optimize()"
   ]
  },
  {
   "cell_type": "code",
   "execution_count": null,
   "metadata": {},
   "outputs": [],
   "source": []
  }
 ],
 "metadata": {
  "kernelspec": {
   "display_name": "Python 3",
   "language": "python",
   "name": "python3"
  },
  "language_info": {
   "codemirror_mode": {
    "name": "ipython",
    "version": 3
   },
   "file_extension": ".py",
   "mimetype": "text/x-python",
   "name": "python",
   "nbconvert_exporter": "python",
   "pygments_lexer": "ipython3",
   "version": "3.7.0"
  }
 },
 "nbformat": 4,
 "nbformat_minor": 4
}
