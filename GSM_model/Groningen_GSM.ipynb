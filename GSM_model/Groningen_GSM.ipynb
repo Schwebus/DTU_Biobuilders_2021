{
 "cells": [
  {
   "cell_type": "markdown",
   "id": "93cdd7c3",
   "metadata": {},
   "source": [
    "# iGEM 2021\n",
    "## Saccharomyces cerevisiae GSM analysis\n",
    "#### Groningen and DTU BioBuilders team collaboration"
   ]
  },
  {
   "cell_type": "code",
   "execution_count": 23,
   "id": "fbfb9970",
   "metadata": {},
   "outputs": [],
   "source": [
    "# import necessary libraries, especially cobra package, especialized on GSM\n",
    "import numpy as np\n",
    "import matplotlib.pyplot as plt\n",
    "import cobra\n",
    "\n",
    "# model originally from:\n",
    "# Mo ML, Palsson BO, Herrgård MJ. Connecting extracellular metabolomic measurements to intracellular flux states in yeast. BMC Syst Biol. 2009 Mar 25;3:37. doi: 10.1186/1752-0509-3-37. PMID: 19321003; PMCID: PMC2679711.\n",
    "\n",
    "# load model\n",
    "saccerv = cobra.io.read_sbml_model(\"./data/iMM904.xml\")"
   ]
  },
  {
   "cell_type": "markdown",
   "id": "0a215052",
   "metadata": {},
   "source": [
    "First of all, we will do a general analysis of some basic concepts from the model. This is something that could also perfectly be done by manual checking on the sbml file, but cobrapy allows some very simple funcionalities.\n",
    "\n",
    "A very important thing on GSM is to keep track on where in the cells the different reactions are ocurring, and that is why is nice to know which compartments are defined in the model."
   ]
  },
  {
   "cell_type": "code",
   "execution_count": 7,
   "id": "11305d2d",
   "metadata": {},
   "outputs": [
    {
     "data": {
      "text/plain": [
       "{'c': 'cytosol',\n",
       " 'e': 'extracellular space',\n",
       " 'm': 'mitochondria',\n",
       " 'x': 'peroxisome/glyoxysome',\n",
       " 'r': 'endoplasmic reticulum',\n",
       " 'v': 'vacuole',\n",
       " 'g': 'golgi apparatus',\n",
       " 'n': 'nucleus'}"
      ]
     },
     "execution_count": 7,
     "metadata": {},
     "output_type": "execute_result"
    }
   ],
   "source": [
    "saccerv.compartments"
   ]
  },
  {
   "cell_type": "markdown",
   "id": "752750e2",
   "metadata": {},
   "source": [
    "After that, is nice to see which conditions are defined for our medium. Usually GSM is based on constraining your reaction with your knowledge from literature or experiments done, and in case you have no data, you just do not include any constrain, allowing all possibilities.\n",
    "\n",
    "This is what happens in the next part, we see the medium comes defined by some exchange reactions (\"EX_\"), where the limits of the cell uptake for different matabolites are placed."
   ]
  },
  {
   "cell_type": "code",
   "execution_count": 8,
   "id": "becb6a61",
   "metadata": {},
   "outputs": [
    {
     "data": {
      "text/plain": [
       "{'EX_fe2_e': 999999.0,\n",
       " 'EX_glc__D_e': 10.0,\n",
       " 'EX_h2o_e': 999999.0,\n",
       " 'EX_h_e': 999999.0,\n",
       " 'EX_k_e': 999999.0,\n",
       " 'EX_na1_e': 999999.0,\n",
       " 'EX_so4_e': 999999.0,\n",
       " 'EX_nh4_e': 999999.0,\n",
       " 'EX_o2_e': 2.0,\n",
       " 'EX_pi_e': 999999.0}"
      ]
     },
     "execution_count": 8,
     "metadata": {},
     "output_type": "execute_result"
    }
   ],
   "source": [
    "# It is seen that the two bounds are constrained for 'EX_glc__D_e' and 'EX_o2_e', so glucose and oxygen, respectively.\n",
    "saccerv.medium"
   ]
  },
  {
   "cell_type": "code",
   "execution_count": 10,
   "id": "984fd7a0",
   "metadata": {},
   "outputs": [
    {
     "data": {
      "text/html": [
       "\n",
       "        <table>\n",
       "            <tr>\n",
       "                <td><strong>Reaction identifier</strong></td><td>EX_glc__D_e</td>\n",
       "            </tr><tr>\n",
       "                <td><strong>Name</strong></td><td>D-Glucose exchange</td>\n",
       "            </tr><tr>\n",
       "                <td><strong>Memory address</strong></td>\n",
       "                <td>0x01efc4dd4610</td>\n",
       "            </tr><tr>\n",
       "                <td><strong>Stoichiometry</strong></td>\n",
       "                <td>\n",
       "                    <p style='text-align:right'>glc__D_e <=></p>\n",
       "                    <p style='text-align:right'>D-Glucose <=></p>\n",
       "                </td>\n",
       "            </tr><tr>\n",
       "                <td><strong>GPR</strong></td><td></td>\n",
       "            </tr><tr>\n",
       "                <td><strong>Lower bound</strong></td><td>-10.0</td>\n",
       "            </tr><tr>\n",
       "                <td><strong>Upper bound</strong></td><td>999999.0</td>\n",
       "            </tr>\n",
       "        </table>\n",
       "        "
      ],
      "text/plain": [
       "<Reaction EX_glc__D_e at 0x1efc4dd4610>"
      ]
     },
     "execution_count": 10,
     "metadata": {},
     "output_type": "execute_result"
    }
   ],
   "source": [
    "# Let's try first to check the glucose reaction, and we see that the glucose uptake is limited to 10 mmol/gDW h^-1, which is\n",
    "# the usual units for GSM\n",
    "saccerv.reactions.EX_glc__D_e"
   ]
  },
  {
   "cell_type": "code",
   "execution_count": 15,
   "id": "1d036755",
   "metadata": {},
   "outputs": [
    {
     "data": {
      "text/html": [
       "\n",
       "        <table>\n",
       "            <tr>\n",
       "                <td><strong>Metabolite identifier</strong></td><td>glc__D_e</td>\n",
       "            </tr><tr>\n",
       "                <td><strong>Name</strong></td><td>D-Glucose</td>\n",
       "            </tr><tr>\n",
       "                <td><strong>Memory address</strong></td>\n",
       "                <td>0x01efc53a3cd0</td>\n",
       "            </tr><tr>\n",
       "                <td><strong>Formula</strong></td><td>C6H12O6</td>\n",
       "            </tr><tr>\n",
       "                <td><strong>Compartment</strong></td><td>e</td>\n",
       "            </tr><tr>\n",
       "                <td><strong>In 4 reaction(s)</strong></td><td>\n",
       "                    SUCRe, EX_glc__D_e, 13BGHe, GLCt1</td>\n",
       "            </tr>\n",
       "        </table>"
      ],
      "text/plain": [
       "<Metabolite glc__D_e at 0x1efc53a3cd0>"
      ]
     },
     "execution_count": 15,
     "metadata": {},
     "output_type": "execute_result"
    }
   ],
   "source": [
    "# but this is not the reaction that introduces glucose to the cell, it is just the external exchange for placing the constrains,\n",
    "# so let's find in which reactions is this metabolite involved\n",
    "saccerv.metabolites.glc__D_e"
   ]
  },
  {
   "cell_type": "code",
   "execution_count": 18,
   "id": "2ee5982f",
   "metadata": {},
   "outputs": [
    {
     "data": {
      "text/html": [
       "\n",
       "        <table>\n",
       "            <tr>\n",
       "                <td><strong>Reaction identifier</strong></td><td>GLCt1</td>\n",
       "            </tr><tr>\n",
       "                <td><strong>Name</strong></td><td>Glucose transport uniport</td>\n",
       "            </tr><tr>\n",
       "                <td><strong>Memory address</strong></td>\n",
       "                <td>0x01efc5a0e970</td>\n",
       "            </tr><tr>\n",
       "                <td><strong>Stoichiometry</strong></td>\n",
       "                <td>\n",
       "                    <p style='text-align:right'>glc__D_e --> glc__D_c</p>\n",
       "                    <p style='text-align:right'>D-Glucose --> D-Glucose</p>\n",
       "                </td>\n",
       "            </tr><tr>\n",
       "                <td><strong>GPR</strong></td><td>YHR092C or YLR081W or YOL156W or YDR536W or YHR094C or YEL069C or YDL245C or YJR158W or YFL011W...</td>\n",
       "            </tr><tr>\n",
       "                <td><strong>Lower bound</strong></td><td>0.0</td>\n",
       "            </tr><tr>\n",
       "                <td><strong>Upper bound</strong></td><td>999999.0</td>\n",
       "            </tr>\n",
       "        </table>\n",
       "        "
      ],
      "text/plain": [
       "<Reaction GLCt1 at 0x1efc5a0e970>"
      ]
     },
     "execution_count": 18,
     "metadata": {},
     "output_type": "execute_result"
    }
   ],
   "source": [
    "# as seen in the previous summary, glc__D_e metabolite is involved in 4 reactions, being GLCt1 the one for uptake\n",
    "saccerv.reactions.GLCt1"
   ]
  },
  {
   "cell_type": "markdown",
   "id": "683b845b",
   "metadata": {},
   "source": [
    "And the same would go with oxygen.\n",
    "\n",
    "Now, we analyze what this model is trying to optimize by default (meaning that cobrapy allows the user to choose any reaction to optimize)."
   ]
  },
  {
   "cell_type": "code",
   "execution_count": 30,
   "id": "cd8a2cd7",
   "metadata": {},
   "outputs": [
    {
     "data": {
      "text/html": [
       "<h3>Objective</h3><p>1.0 BIOMASS_SC5_notrace = 0.287865703704018</p><h4>Uptake</h4><table border=\"1\" class=\"dataframe\">\n",
       "  <thead>\n",
       "    <tr style=\"text-align: right;\">\n",
       "      <th>Metabolite</th>\n",
       "      <th>Reaction</th>\n",
       "      <th>Flux</th>\n",
       "      <th>C-Number</th>\n",
       "      <th>C-Flux</th>\n",
       "    </tr>\n",
       "  </thead>\n",
       "  <tbody>\n",
       "    <tr>\n",
       "      <td>glc__D_e</td>\n",
       "      <td>EX_glc__D_e</td>\n",
       "      <td>10</td>\n",
       "      <td>6</td>\n",
       "      <td>100.00%</td>\n",
       "    </tr>\n",
       "    <tr>\n",
       "      <td>nh4_e</td>\n",
       "      <td>EX_nh4_e</td>\n",
       "      <td>1.611</td>\n",
       "      <td>0</td>\n",
       "      <td>0.00%</td>\n",
       "    </tr>\n",
       "    <tr>\n",
       "      <td>o2_e</td>\n",
       "      <td>EX_o2_e</td>\n",
       "      <td>2</td>\n",
       "      <td>0</td>\n",
       "      <td>0.00%</td>\n",
       "    </tr>\n",
       "    <tr>\n",
       "      <td>pi_e</td>\n",
       "      <td>EX_pi_e</td>\n",
       "      <td>0.05691</td>\n",
       "      <td>0</td>\n",
       "      <td>0.00%</td>\n",
       "    </tr>\n",
       "    <tr>\n",
       "      <td>so4_e</td>\n",
       "      <td>EX_so4_e</td>\n",
       "      <td>0.02225</td>\n",
       "      <td>0</td>\n",
       "      <td>0.00%</td>\n",
       "    </tr>\n",
       "  </tbody>\n",
       "</table><h4>Secretion</h4><table border=\"1\" class=\"dataframe\">\n",
       "  <thead>\n",
       "    <tr style=\"text-align: right;\">\n",
       "      <th>Metabolite</th>\n",
       "      <th>Reaction</th>\n",
       "      <th>Flux</th>\n",
       "      <th>C-Number</th>\n",
       "      <th>C-Flux</th>\n",
       "    </tr>\n",
       "  </thead>\n",
       "  <tbody>\n",
       "    <tr>\n",
       "      <td>co2_e</td>\n",
       "      <td>EX_co2_e</td>\n",
       "      <td>-18.02</td>\n",
       "      <td>1</td>\n",
       "      <td>36.29%</td>\n",
       "    </tr>\n",
       "    <tr>\n",
       "      <td>etoh_e</td>\n",
       "      <td>EX_etoh_e</td>\n",
       "      <td>-15.82</td>\n",
       "      <td>2</td>\n",
       "      <td>63.70%</td>\n",
       "    </tr>\n",
       "    <tr>\n",
       "      <td>for_e</td>\n",
       "      <td>EX_for_e</td>\n",
       "      <td>-0.001488</td>\n",
       "      <td>1</td>\n",
       "      <td>0.00%</td>\n",
       "    </tr>\n",
       "    <tr>\n",
       "      <td>h2o_e</td>\n",
       "      <td>EX_h2o_e</td>\n",
       "      <td>-5.64</td>\n",
       "      <td>0</td>\n",
       "      <td>0.00%</td>\n",
       "    </tr>\n",
       "    <tr>\n",
       "      <td>h_e</td>\n",
       "      <td>EX_h_e</td>\n",
       "      <td>-1.45</td>\n",
       "      <td>0</td>\n",
       "      <td>0.00%</td>\n",
       "    </tr>\n",
       "  </tbody>\n",
       "</table>"
      ],
      "text/plain": [
       "<cobra.summary.model_summary.ModelSummary at 0x1efc61be2b0>"
      ]
     },
     "execution_count": 30,
     "metadata": {},
     "output_type": "execute_result"
    }
   ],
   "source": [
    "saccerv.summary()"
   ]
  },
  {
   "cell_type": "code",
   "execution_count": null,
   "id": "71159cc5",
   "metadata": {},
   "outputs": [],
   "source": []
  }
 ],
 "metadata": {
  "kernelspec": {
   "display_name": "Python 3",
   "language": "python",
   "name": "python3"
  },
  "language_info": {
   "codemirror_mode": {
    "name": "ipython",
    "version": 3
   },
   "file_extension": ".py",
   "mimetype": "text/x-python",
   "name": "python",
   "nbconvert_exporter": "python",
   "pygments_lexer": "ipython3",
   "version": "3.8.8"
  }
 },
 "nbformat": 4,
 "nbformat_minor": 5
}
