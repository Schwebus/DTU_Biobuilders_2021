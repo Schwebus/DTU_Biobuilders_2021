{
 "cells": [
  {
   "cell_type": "markdown",
   "id": "097a6593",
   "metadata": {},
   "source": [
    "# iGEM 2021\n",
    "## Saccharomyces cerevisiae GSM analysis\n",
    "#### Groningen and DTU BioBuilders teams collaboration"
   ]
  },
  {
   "cell_type": "code",
   "execution_count": 78,
   "id": "fbfb9970",
   "metadata": {},
   "outputs": [],
   "source": [
    "# import necessary libraries, especially cobra package, specialized on GSM\n",
    "import numpy as np\n",
    "import matplotlib.pyplot as plt\n",
    "import cobra\n",
    "\n",
    "# model originally from:\n",
    "# Mo ML, Palsson BO, Herrgård MJ. Connecting extracellular metabolomic measurements to intracellular flux states in yeast. BMC Syst Biol. 2009 Mar 25;3:37. doi: 10.1186/1752-0509-3-37. PMID: 19321003; PMCID: PMC2679711.\n",
    "\n",
    "# load model\n",
    "saccerv = cobra.io.read_sbml_model(\"./data/iMM904.xml\")"
   ]
  },
  {
   "cell_type": "markdown",
   "id": "060c1635",
   "metadata": {},
   "source": [
    "First of all, we will do a general analysis of some basic concepts from the model. This is something that could also perfectly be done by manual checking on the sbml file, but cobrapy allows some very simple funcionalities.\n",
    "\n",
    "A very important thing on GSM is to keep track on where in the cells the different reactions are ocurring, and that is why is nice to know which compartments are defined in the model and how are they referred as."
   ]
  },
  {
   "cell_type": "code",
   "execution_count": 79,
   "id": "11305d2d",
   "metadata": {},
   "outputs": [
    {
     "data": {
      "text/plain": [
       "{'c': 'cytosol',\n",
       " 'e': 'extracellular space',\n",
       " 'm': 'mitochondria',\n",
       " 'x': 'peroxisome/glyoxysome',\n",
       " 'r': 'endoplasmic reticulum',\n",
       " 'v': 'vacuole',\n",
       " 'g': 'golgi apparatus',\n",
       " 'n': 'nucleus'}"
      ]
     },
     "execution_count": 79,
     "metadata": {},
     "output_type": "execute_result"
    }
   ],
   "source": [
    "saccerv.compartments"
   ]
  },
  {
   "cell_type": "markdown",
   "id": "259947e5",
   "metadata": {},
   "source": [
    "After that, is nice to see which conditions are defined for our medium. Usually GSM is based on constrainin reactions with your knowledge from literature or experiments done, and for cases you have no data, you just do not include any constrain, allowing a complete freedom on that dimension/reaction.\n",
    "\n",
    "This is what happens in the next part, we see the medium comes defined by some exchange reactions (\"EX_\"), where the limits of the cell uptake for different metabolites are placed."
   ]
  },
  {
   "cell_type": "code",
   "execution_count": 80,
   "id": "becb6a61",
   "metadata": {},
   "outputs": [
    {
     "data": {
      "text/plain": [
       "{'EX_fe2_e': 999999.0,\n",
       " 'EX_glc__D_e': 10.0,\n",
       " 'EX_h2o_e': 999999.0,\n",
       " 'EX_h_e': 999999.0,\n",
       " 'EX_k_e': 999999.0,\n",
       " 'EX_na1_e': 999999.0,\n",
       " 'EX_so4_e': 999999.0,\n",
       " 'EX_nh4_e': 999999.0,\n",
       " 'EX_o2_e': 2.0,\n",
       " 'EX_pi_e': 999999.0}"
      ]
     },
     "execution_count": 80,
     "metadata": {},
     "output_type": "execute_result"
    }
   ],
   "source": [
    "# It is seen that the two bounds are constrained for 'EX_glc__D_e' and 'EX_o2_e', so glucose and oxygen, respectively.\n",
    "saccerv.medium"
   ]
  },
  {
   "cell_type": "code",
   "execution_count": 81,
   "id": "7733653e",
   "metadata": {},
   "outputs": [
    {
     "data": {
      "text/html": [
       "\n",
       "        <table>\n",
       "            <tr>\n",
       "                <td><strong>Reaction identifier</strong></td><td>EX_glc__D_e</td>\n",
       "            </tr><tr>\n",
       "                <td><strong>Name</strong></td><td>D-Glucose exchange</td>\n",
       "            </tr><tr>\n",
       "                <td><strong>Memory address</strong></td>\n",
       "                <td>0x07f34a030cb80</td>\n",
       "            </tr><tr>\n",
       "                <td><strong>Stoichiometry</strong></td>\n",
       "                <td>\n",
       "                    <p style='text-align:right'>glc__D_e <=></p>\n",
       "                    <p style='text-align:right'>D-Glucose <=></p>\n",
       "                </td>\n",
       "            </tr><tr>\n",
       "                <td><strong>GPR</strong></td><td></td>\n",
       "            </tr><tr>\n",
       "                <td><strong>Lower bound</strong></td><td>-10.0</td>\n",
       "            </tr><tr>\n",
       "                <td><strong>Upper bound</strong></td><td>999999.0</td>\n",
       "            </tr>\n",
       "        </table>\n",
       "        "
      ],
      "text/plain": [
       "<Reaction EX_glc__D_e at 0x7f34a030cb80>"
      ]
     },
     "execution_count": 81,
     "metadata": {},
     "output_type": "execute_result"
    }
   ],
   "source": [
    "# Let's try first to check the glucose reaction, as we see that the glucose uptake is limited to 10 mmol/gDW h^-1, which is\n",
    "# the usual units for GSM\n",
    "saccerv.reactions.EX_glc__D_e"
   ]
  },
  {
   "cell_type": "code",
   "execution_count": 82,
   "id": "5f99abe6",
   "metadata": {},
   "outputs": [
    {
     "data": {
      "text/html": [
       "\n",
       "        <table>\n",
       "            <tr>\n",
       "                <td><strong>Metabolite identifier</strong></td><td>glc__D_e</td>\n",
       "            </tr><tr>\n",
       "                <td><strong>Name</strong></td><td>D-Glucose</td>\n",
       "            </tr><tr>\n",
       "                <td><strong>Memory address</strong></td>\n",
       "                <td>0x07f34a2883670</td>\n",
       "            </tr><tr>\n",
       "                <td><strong>Formula</strong></td><td>C6H12O6</td>\n",
       "            </tr><tr>\n",
       "                <td><strong>Compartment</strong></td><td>e</td>\n",
       "            </tr><tr>\n",
       "                <td><strong>In 4 reaction(s)</strong></td><td>\n",
       "                    EX_glc__D_e, SUCRe, GLCt1, 13BGHe</td>\n",
       "            </tr>\n",
       "        </table>"
      ],
      "text/plain": [
       "<Metabolite glc__D_e at 0x7f34a2883670>"
      ]
     },
     "execution_count": 82,
     "metadata": {},
     "output_type": "execute_result"
    }
   ],
   "source": [
    "# but this is not the reaction that introduces glucose to the cell, it is just the external exchange for placing the constrains,\n",
    "# so let's find in which reactions is this metabolite involved\n",
    "saccerv.metabolites.glc__D_e"
   ]
  },
  {
   "cell_type": "code",
   "execution_count": 83,
   "id": "8b0ef843",
   "metadata": {},
   "outputs": [
    {
     "data": {
      "text/html": [
       "\n",
       "        <table>\n",
       "            <tr>\n",
       "                <td><strong>Reaction identifier</strong></td><td>GLCt1</td>\n",
       "            </tr><tr>\n",
       "                <td><strong>Name</strong></td><td>Glucose transport uniport</td>\n",
       "            </tr><tr>\n",
       "                <td><strong>Memory address</strong></td>\n",
       "                <td>0x07f34a010eac0</td>\n",
       "            </tr><tr>\n",
       "                <td><strong>Stoichiometry</strong></td>\n",
       "                <td>\n",
       "                    <p style='text-align:right'>glc__D_e --> glc__D_c</p>\n",
       "                    <p style='text-align:right'>D-Glucose --> D-Glucose</p>\n",
       "                </td>\n",
       "            </tr><tr>\n",
       "                <td><strong>GPR</strong></td><td>YHR092C or YLR081W or YOL156W or YDR536W or YHR094C or YEL069C or YDL245C or YJR158W or YFL011W...</td>\n",
       "            </tr><tr>\n",
       "                <td><strong>Lower bound</strong></td><td>0.0</td>\n",
       "            </tr><tr>\n",
       "                <td><strong>Upper bound</strong></td><td>999999.0</td>\n",
       "            </tr>\n",
       "        </table>\n",
       "        "
      ],
      "text/plain": [
       "<Reaction GLCt1 at 0x7f34a010eac0>"
      ]
     },
     "execution_count": 83,
     "metadata": {},
     "output_type": "execute_result"
    }
   ],
   "source": [
    "# as seen in the previous summary, glc__D_e metabolite is involved in 4 reactions, being GLCt1 the one for uptake\n",
    "saccerv.reactions.GLCt1"
   ]
  },
  {
   "cell_type": "markdown",
   "id": "0c8c8048",
   "metadata": {},
   "source": [
    "And the same would go with oxygen, limited to an uptake of $2 mmol/gDW h^{-1}$\n",
    "\n",
    "Now, we analyze what this model is trying to optimize by default (meaning that cobrapy allows the user to choose any reaction to optimize)."
   ]
  },
  {
   "cell_type": "code",
   "execution_count": 84,
   "id": "d903f120",
   "metadata": {},
   "outputs": [
    {
     "data": {
      "text/html": [
       "<h3>Objective</h3><p>1.0 BIOMASS_SC5_notrace = 0.287865703704018</p><h4>Uptake</h4><table border=\"1\" class=\"dataframe\">\n",
       "  <thead>\n",
       "    <tr style=\"text-align: right;\">\n",
       "      <th>Metabolite</th>\n",
       "      <th>Reaction</th>\n",
       "      <th>Flux</th>\n",
       "      <th>C-Number</th>\n",
       "      <th>C-Flux</th>\n",
       "    </tr>\n",
       "  </thead>\n",
       "  <tbody>\n",
       "    <tr>\n",
       "      <td>glc__D_e</td>\n",
       "      <td>EX_glc__D_e</td>\n",
       "      <td>10</td>\n",
       "      <td>6</td>\n",
       "      <td>100.00%</td>\n",
       "    </tr>\n",
       "    <tr>\n",
       "      <td>nh4_e</td>\n",
       "      <td>EX_nh4_e</td>\n",
       "      <td>1.611</td>\n",
       "      <td>0</td>\n",
       "      <td>0.00%</td>\n",
       "    </tr>\n",
       "    <tr>\n",
       "      <td>o2_e</td>\n",
       "      <td>EX_o2_e</td>\n",
       "      <td>2</td>\n",
       "      <td>0</td>\n",
       "      <td>0.00%</td>\n",
       "    </tr>\n",
       "    <tr>\n",
       "      <td>pi_e</td>\n",
       "      <td>EX_pi_e</td>\n",
       "      <td>0.05691</td>\n",
       "      <td>0</td>\n",
       "      <td>0.00%</td>\n",
       "    </tr>\n",
       "    <tr>\n",
       "      <td>so4_e</td>\n",
       "      <td>EX_so4_e</td>\n",
       "      <td>0.02225</td>\n",
       "      <td>0</td>\n",
       "      <td>0.00%</td>\n",
       "    </tr>\n",
       "  </tbody>\n",
       "</table><h4>Secretion</h4><table border=\"1\" class=\"dataframe\">\n",
       "  <thead>\n",
       "    <tr style=\"text-align: right;\">\n",
       "      <th>Metabolite</th>\n",
       "      <th>Reaction</th>\n",
       "      <th>Flux</th>\n",
       "      <th>C-Number</th>\n",
       "      <th>C-Flux</th>\n",
       "    </tr>\n",
       "  </thead>\n",
       "  <tbody>\n",
       "    <tr>\n",
       "      <td>co2_e</td>\n",
       "      <td>EX_co2_e</td>\n",
       "      <td>-18.02</td>\n",
       "      <td>1</td>\n",
       "      <td>36.29%</td>\n",
       "    </tr>\n",
       "    <tr>\n",
       "      <td>etoh_e</td>\n",
       "      <td>EX_etoh_e</td>\n",
       "      <td>-15.82</td>\n",
       "      <td>2</td>\n",
       "      <td>63.70%</td>\n",
       "    </tr>\n",
       "    <tr>\n",
       "      <td>for_e</td>\n",
       "      <td>EX_for_e</td>\n",
       "      <td>-0.001488</td>\n",
       "      <td>1</td>\n",
       "      <td>0.00%</td>\n",
       "    </tr>\n",
       "    <tr>\n",
       "      <td>h2o_e</td>\n",
       "      <td>EX_h2o_e</td>\n",
       "      <td>-5.64</td>\n",
       "      <td>0</td>\n",
       "      <td>0.00%</td>\n",
       "    </tr>\n",
       "    <tr>\n",
       "      <td>h_e</td>\n",
       "      <td>EX_h_e</td>\n",
       "      <td>-1.45</td>\n",
       "      <td>0</td>\n",
       "      <td>0.00%</td>\n",
       "    </tr>\n",
       "  </tbody>\n",
       "</table>"
      ],
      "text/plain": [
       "<cobra.summary.model_summary.ModelSummary at 0x7f34a1bac8b0>"
      ]
     },
     "execution_count": 84,
     "metadata": {},
     "output_type": "execute_result"
    }
   ],
   "source": [
    "saccerv.summary()"
   ]
  },
  {
   "cell_type": "markdown",
   "id": "bf0d1d7f",
   "metadata": {},
   "source": [
    "As usual, by default it optimizes biomass production, and here we can see a summary where after the optimization, a biomass production of $0.288 mmol/gDW h^{-1}$ is obtained. Besides, it can be seen the top 5 uptake and secretion metabolites with their flux.\n",
    "\n",
    "But now, let's go to the fun part and include our synthetic biology, for the production of our introduced genes. In this case, we will try introducing one of each of the genes at a time to produce the different amylases. This requires to specify the expression of dna, rna and amino acid sequence --> protein.\n",
    "\n",
    "As the sequences are long, we calculate the stoichiometry with a script which is on the github repo and imported here\n",
    "based on the logic behind introduction of heterologous protein production in the paper:\n",
    "*Irani ZA, Kerkhoven EJ, Shojaosadati SA, Nielsen J (2016) Genome-scale metabolic model of Pichia pastoris with native and humanized glycosylation of recombinant proteins. Biotechnol Bioeng 113:961–969. doi: 10.1002/bit.25863.*"
   ]
  },
  {
   "cell_type": "code",
   "execution_count": 85,
   "id": "ec306031",
   "metadata": {},
   "outputs": [],
   "source": [
    "# import our code with one method for transcription and one for introduction of correct stoichiometry into the model for protein expression \n",
    "import stoichiometry_groningen as stoich \n",
    "from Groningen_sequences import * # all sequences for dna and protein are saved in one python file as strings"
   ]
  },
  {
   "cell_type": "code",
   "execution_count": 86,
   "id": "9cc30aff",
   "metadata": {},
   "outputs": [],
   "source": [
    "# the transcription method allows transcription when a DNA sequence is introduced as parameter\n",
    "A_oryzae_rna = stoich.transcription(A_oryzae_dna)\n",
    "B_amyloliquenifaciens_rna = stoich.transcription(B_amyloliquenifaciens_dna)\n",
    "B_licheniformis_rna = stoich.transcription(B_licheniformis_dna)\n",
    "B_Subtilis_rna = stoich.transcription(B_Subtilis_dna)"
   ]
  },
  {
   "cell_type": "code",
   "execution_count": 87,
   "id": "793d9faf",
   "metadata": {},
   "outputs": [],
   "source": [
    "def add_protein_reaction(model, reaction, lb, ub, seq, seq_type, protein_name = 'amylase'):\n",
    "    \n",
    "    stoichiometry = stoich.get_stoichiometry(seq, seq_type, protein_name)\n",
    "    \n",
    "    \n",
    "    reaction = cobra.Reaction(\n",
    "                reaction,\n",
    "                name = reaction,\n",
    "                lower_bound = lb,\n",
    "                upper_bound = ub\n",
    "        )\n",
    "    \n",
    "    for molecule in stoichiometry:\n",
    "        reaction.add_metabolites(\n",
    "            {\n",
    "                getattr(model.metabolites, molecule): stoichiometry[molecule] \n",
    "            }\n",
    "        )\n",
    "    \n",
    "    model.add_reactions([reaction])\n",
    "\n",
    "# and after that we need to remove them before including the ones for new organism --> create a function so we just call it\n",
    "def remove_amylase(model):\n",
    "    model.remove_reactions([model.reactions.amylase_DNA_reaction,\n",
    "                            model.reactions.amylase_RNA_reaction,\n",
    "                            model.reactions.amylase_AA_reaction])"
   ]
  },
  {
   "cell_type": "code",
   "execution_count": 88,
   "id": "cfc1526d",
   "metadata": {},
   "outputs": [],
   "source": [
    "# before introducing reactions into the model, we need to define the metabolites involved\n",
    "# in this case, as for all cases will be amylase, just changing the organism from which we take the gene, we will use a general name\n",
    "\n",
    "amylase_DNA = cobra.Metabolite(\n",
    "    'amylase_DNA',\n",
    "    name='amylase_DNA',\n",
    "    compartment='c')\n",
    "\n",
    "amylase_RNA = cobra.Metabolite(\n",
    "    'amylase_RNA',\n",
    "    name='amylase_RNA',\n",
    "    compartment='c')\n",
    "\n",
    "amylase_AA = cobra.Metabolite(\n",
    "    'amylase_AA',\n",
    "    name='amylase_AA',\n",
    "    compartment='c')\n",
    "\n",
    "saccerv.add_metabolites([amylase_DNA,\n",
    "                       amylase_RNA,\n",
    "                       amylase_AA])"
   ]
  },
  {
   "cell_type": "markdown",
   "id": "56cb5a12",
   "metadata": {},
   "source": [
    "### A. Oryzae"
   ]
  },
  {
   "cell_type": "code",
   "execution_count": 89,
   "id": "10139a09",
   "metadata": {},
   "outputs": [],
   "source": [
    "# 0.005-(0.005*(1-0.5)^(1/5)) this is the amount of protein degraded at a typical half-life of 5 hours\n",
    "# starting at 0.05g/gDW = 10% of total protein as about 50% of gDW is protein\n",
    "# = ca. 0.00065\n",
    "# higher values yield an infeasible solution\n",
    "\n",
    "add_protein_reaction(saccerv, 'amylase_DNA_reaction', 0, 100, A_oryzae_dna, 'dna', 'amylase')\n",
    "add_protein_reaction(saccerv, 'amylase_RNA_reaction', 0, 100, A_oryzae_rna, 'rna', 'amylase')\n",
    "add_protein_reaction(saccerv, 'amylase_AA_reaction', 0.00065, 0.00065, A_oryzae_protein, 'aa', 'amylase')"
   ]
  },
  {
   "cell_type": "code",
   "execution_count": 90,
   "id": "b8ac5e10",
   "metadata": {
    "scrolled": true
   },
   "outputs": [
    {
     "data": {
      "text/html": [
       "<h3>Objective</h3><p>1.0 BIOMASS_SC5_notrace = 0.287416443531349</p><h4>Uptake</h4><table border=\"1\" class=\"dataframe\">\n",
       "  <thead>\n",
       "    <tr style=\"text-align: right;\">\n",
       "      <th>Metabolite</th>\n",
       "      <th>Reaction</th>\n",
       "      <th>Flux</th>\n",
       "      <th>C-Number</th>\n",
       "      <th>C-Flux</th>\n",
       "    </tr>\n",
       "  </thead>\n",
       "  <tbody>\n",
       "    <tr>\n",
       "      <td>glc__D_e</td>\n",
       "      <td>EX_glc__D_e</td>\n",
       "      <td>10</td>\n",
       "      <td>6</td>\n",
       "      <td>100.00%</td>\n",
       "    </tr>\n",
       "    <tr>\n",
       "      <td>nh4_e</td>\n",
       "      <td>EX_nh4_e</td>\n",
       "      <td>1.615</td>\n",
       "      <td>0</td>\n",
       "      <td>0.00%</td>\n",
       "    </tr>\n",
       "    <tr>\n",
       "      <td>o2_e</td>\n",
       "      <td>EX_o2_e</td>\n",
       "      <td>2</td>\n",
       "      <td>0</td>\n",
       "      <td>0.00%</td>\n",
       "    </tr>\n",
       "    <tr>\n",
       "      <td>pi_e</td>\n",
       "      <td>EX_pi_e</td>\n",
       "      <td>0.07869</td>\n",
       "      <td>0</td>\n",
       "      <td>0.00%</td>\n",
       "    </tr>\n",
       "    <tr>\n",
       "      <td>so4_e</td>\n",
       "      <td>EX_so4_e</td>\n",
       "      <td>0.02242</td>\n",
       "      <td>0</td>\n",
       "      <td>0.00%</td>\n",
       "    </tr>\n",
       "  </tbody>\n",
       "</table><h4>Secretion</h4><table border=\"1\" class=\"dataframe\">\n",
       "  <thead>\n",
       "    <tr style=\"text-align: right;\">\n",
       "      <th>Metabolite</th>\n",
       "      <th>Reaction</th>\n",
       "      <th>Flux</th>\n",
       "      <th>C-Number</th>\n",
       "      <th>C-Flux</th>\n",
       "    </tr>\n",
       "  </thead>\n",
       "  <tbody>\n",
       "    <tr>\n",
       "      <td>co2_e</td>\n",
       "      <td>EX_co2_e</td>\n",
       "      <td>-18.02</td>\n",
       "      <td>1</td>\n",
       "      <td>36.30%</td>\n",
       "    </tr>\n",
       "    <tr>\n",
       "      <td>etoh_e</td>\n",
       "      <td>EX_etoh_e</td>\n",
       "      <td>-15.81</td>\n",
       "      <td>2</td>\n",
       "      <td>63.70%</td>\n",
       "    </tr>\n",
       "    <tr>\n",
       "      <td>for_e</td>\n",
       "      <td>EX_for_e</td>\n",
       "      <td>-0.001486</td>\n",
       "      <td>1</td>\n",
       "      <td>0.00%</td>\n",
       "    </tr>\n",
       "    <tr>\n",
       "      <td>h2o_e</td>\n",
       "      <td>EX_h2o_e</td>\n",
       "      <td>-5.647</td>\n",
       "      <td>0</td>\n",
       "      <td>0.00%</td>\n",
       "    </tr>\n",
       "    <tr>\n",
       "      <td>h_e</td>\n",
       "      <td>EX_h_e</td>\n",
       "      <td>-1.432</td>\n",
       "      <td>0</td>\n",
       "      <td>0.00%</td>\n",
       "    </tr>\n",
       "  </tbody>\n",
       "</table>"
      ],
      "text/plain": [
       "<cobra.summary.model_summary.ModelSummary at 0x7f34a081de50>"
      ]
     },
     "execution_count": 90,
     "metadata": {},
     "output_type": "execute_result"
    }
   ],
   "source": [
    "A_oryzae = saccerv.optimize().objective_value\n",
    "saccerv.summary()"
   ]
  },
  {
   "cell_type": "code",
   "execution_count": 33,
   "id": "f1b4f6ff",
   "metadata": {},
   "outputs": [],
   "source": [
    "remove_amylase(saccerv)"
   ]
  },
  {
   "cell_type": "markdown",
   "id": "54190e06",
   "metadata": {},
   "source": [
    "### B. Amyloliquenifaciens"
   ]
  },
  {
   "cell_type": "code",
   "execution_count": 34,
   "id": "e87ca1aa",
   "metadata": {},
   "outputs": [
    {
     "data": {
      "text/html": [
       "<h3>Objective</h3><p>1.0 BIOMASS_SC5_notrace = 0.2877767600129284</p><h4>Uptake</h4><table border=\"1\" class=\"dataframe\">\n",
       "  <thead>\n",
       "    <tr style=\"text-align: right;\">\n",
       "      <th>Metabolite</th>\n",
       "      <th>Reaction</th>\n",
       "      <th>Flux</th>\n",
       "      <th>C-Number</th>\n",
       "      <th>C-Flux</th>\n",
       "    </tr>\n",
       "  </thead>\n",
       "  <tbody>\n",
       "    <tr>\n",
       "      <td>glc__D_e</td>\n",
       "      <td>EX_glc__D_e</td>\n",
       "      <td>10</td>\n",
       "      <td>6</td>\n",
       "      <td>100.00%</td>\n",
       "    </tr>\n",
       "    <tr>\n",
       "      <td>nh4_e</td>\n",
       "      <td>EX_nh4_e</td>\n",
       "      <td>1.612</td>\n",
       "      <td>0</td>\n",
       "      <td>0.00%</td>\n",
       "    </tr>\n",
       "    <tr>\n",
       "      <td>o2_e</td>\n",
       "      <td>EX_o2_e</td>\n",
       "      <td>2</td>\n",
       "      <td>0</td>\n",
       "      <td>0.00%</td>\n",
       "    </tr>\n",
       "    <tr>\n",
       "      <td>pi_e</td>\n",
       "      <td>EX_pi_e</td>\n",
       "      <td>0.0597</td>\n",
       "      <td>0</td>\n",
       "      <td>0.00%</td>\n",
       "    </tr>\n",
       "    <tr>\n",
       "      <td>so4_e</td>\n",
       "      <td>EX_so4_e</td>\n",
       "      <td>0.02225</td>\n",
       "      <td>0</td>\n",
       "      <td>0.00%</td>\n",
       "    </tr>\n",
       "  </tbody>\n",
       "</table><h4>Secretion</h4><table border=\"1\" class=\"dataframe\">\n",
       "  <thead>\n",
       "    <tr style=\"text-align: right;\">\n",
       "      <th>Metabolite</th>\n",
       "      <th>Reaction</th>\n",
       "      <th>Flux</th>\n",
       "      <th>C-Number</th>\n",
       "      <th>C-Flux</th>\n",
       "    </tr>\n",
       "  </thead>\n",
       "  <tbody>\n",
       "    <tr>\n",
       "      <td>co2_e</td>\n",
       "      <td>EX_co2_e</td>\n",
       "      <td>-18.02</td>\n",
       "      <td>1</td>\n",
       "      <td>36.29%</td>\n",
       "    </tr>\n",
       "    <tr>\n",
       "      <td>etoh_e</td>\n",
       "      <td>EX_etoh_e</td>\n",
       "      <td>-15.82</td>\n",
       "      <td>2</td>\n",
       "      <td>63.70%</td>\n",
       "    </tr>\n",
       "    <tr>\n",
       "      <td>for_e</td>\n",
       "      <td>EX_for_e</td>\n",
       "      <td>-0.001488</td>\n",
       "      <td>1</td>\n",
       "      <td>0.00%</td>\n",
       "    </tr>\n",
       "    <tr>\n",
       "      <td>h2o_e</td>\n",
       "      <td>EX_h2o_e</td>\n",
       "      <td>-5.643</td>\n",
       "      <td>0</td>\n",
       "      <td>0.00%</td>\n",
       "    </tr>\n",
       "    <tr>\n",
       "      <td>h_e</td>\n",
       "      <td>EX_h_e</td>\n",
       "      <td>-1.448</td>\n",
       "      <td>0</td>\n",
       "      <td>0.00%</td>\n",
       "    </tr>\n",
       "  </tbody>\n",
       "</table>"
      ],
      "text/plain": [
       "<cobra.summary.model_summary.ModelSummary at 0x1e8d57b5a60>"
      ]
     },
     "execution_count": 34,
     "metadata": {},
     "output_type": "execute_result"
    }
   ],
   "source": [
    "add_protein_reaction(saccerv, 'amylase_DNA_reaction', 0, 100, B_amyloliquenifaciens_dna, 'dna', 'amylase')\n",
    "add_protein_reaction(saccerv, 'amylase_RNA_reaction', 0, 100, B_amyloliquenifaciens_rna, 'rna', 'amylase')\n",
    "add_protein_reaction(saccerv, 'amylase_AA_reaction', 0.00065, 0.00065, B_amyloliquenifaciens_protein, 'aa', 'amylase')\n",
    "B_amyloliquenifaciens = saccerv.optimize().objective_value\n",
    "saccerv.summary()"
   ]
  },
  {
   "cell_type": "code",
   "execution_count": 35,
   "id": "0c42a40c",
   "metadata": {},
   "outputs": [],
   "source": [
    "remove_amylase(saccerv)"
   ]
  },
  {
   "cell_type": "markdown",
   "id": "16b0a20a",
   "metadata": {},
   "source": [
    "### B. Licheniformis"
   ]
  },
  {
   "cell_type": "code",
   "execution_count": 36,
   "id": "3b643b22",
   "metadata": {},
   "outputs": [
    {
     "data": {
      "text/html": [
       "<h3>Objective</h3><p>1.0 BIOMASS_SC5_notrace = 0.28777626129265327</p><h4>Uptake</h4><table border=\"1\" class=\"dataframe\">\n",
       "  <thead>\n",
       "    <tr style=\"text-align: right;\">\n",
       "      <th>Metabolite</th>\n",
       "      <th>Reaction</th>\n",
       "      <th>Flux</th>\n",
       "      <th>C-Number</th>\n",
       "      <th>C-Flux</th>\n",
       "    </tr>\n",
       "  </thead>\n",
       "  <tbody>\n",
       "    <tr>\n",
       "      <td>glc__D_e</td>\n",
       "      <td>EX_glc__D_e</td>\n",
       "      <td>10</td>\n",
       "      <td>6</td>\n",
       "      <td>100.00%</td>\n",
       "    </tr>\n",
       "    <tr>\n",
       "      <td>nh4_e</td>\n",
       "      <td>EX_nh4_e</td>\n",
       "      <td>1.612</td>\n",
       "      <td>0</td>\n",
       "      <td>0.00%</td>\n",
       "    </tr>\n",
       "    <tr>\n",
       "      <td>o2_e</td>\n",
       "      <td>EX_o2_e</td>\n",
       "      <td>2</td>\n",
       "      <td>0</td>\n",
       "      <td>0.00%</td>\n",
       "    </tr>\n",
       "    <tr>\n",
       "      <td>pi_e</td>\n",
       "      <td>EX_pi_e</td>\n",
       "      <td>0.05969</td>\n",
       "      <td>0</td>\n",
       "      <td>0.00%</td>\n",
       "    </tr>\n",
       "    <tr>\n",
       "      <td>so4_e</td>\n",
       "      <td>EX_so4_e</td>\n",
       "      <td>0.02225</td>\n",
       "      <td>0</td>\n",
       "      <td>0.00%</td>\n",
       "    </tr>\n",
       "  </tbody>\n",
       "</table><h4>Secretion</h4><table border=\"1\" class=\"dataframe\">\n",
       "  <thead>\n",
       "    <tr style=\"text-align: right;\">\n",
       "      <th>Metabolite</th>\n",
       "      <th>Reaction</th>\n",
       "      <th>Flux</th>\n",
       "      <th>C-Number</th>\n",
       "      <th>C-Flux</th>\n",
       "    </tr>\n",
       "  </thead>\n",
       "  <tbody>\n",
       "    <tr>\n",
       "      <td>co2_e</td>\n",
       "      <td>EX_co2_e</td>\n",
       "      <td>-18.02</td>\n",
       "      <td>1</td>\n",
       "      <td>36.29%</td>\n",
       "    </tr>\n",
       "    <tr>\n",
       "      <td>etoh_e</td>\n",
       "      <td>EX_etoh_e</td>\n",
       "      <td>-15.82</td>\n",
       "      <td>2</td>\n",
       "      <td>63.70%</td>\n",
       "    </tr>\n",
       "    <tr>\n",
       "      <td>for_e</td>\n",
       "      <td>EX_for_e</td>\n",
       "      <td>-0.001488</td>\n",
       "      <td>1</td>\n",
       "      <td>0.00%</td>\n",
       "    </tr>\n",
       "    <tr>\n",
       "      <td>h2o_e</td>\n",
       "      <td>EX_h2o_e</td>\n",
       "      <td>-5.643</td>\n",
       "      <td>0</td>\n",
       "      <td>0.00%</td>\n",
       "    </tr>\n",
       "    <tr>\n",
       "      <td>h_e</td>\n",
       "      <td>EX_h_e</td>\n",
       "      <td>-1.448</td>\n",
       "      <td>0</td>\n",
       "      <td>0.00%</td>\n",
       "    </tr>\n",
       "  </tbody>\n",
       "</table>"
      ],
      "text/plain": [
       "<cobra.summary.model_summary.ModelSummary at 0x1e8d57b5940>"
      ]
     },
     "execution_count": 36,
     "metadata": {},
     "output_type": "execute_result"
    }
   ],
   "source": [
    "add_protein_reaction(saccerv, 'amylase_DNA_reaction', 0.00005, 0.00005, B_licheniformis_dna, 'dna', 'amylase')\n",
    "add_protein_reaction(saccerv, 'amylase_RNA_reaction', 0.00005, 0.00005, B_licheniformis_rna, 'rna', 'amylase')\n",
    "add_protein_reaction(saccerv, 'amylase_AA_reaction', 0.00005, 0.00005, B_licheniformis_protein, 'aa', 'amylase')\n",
    "B_licheniformis = saccerv.optimize().objective_value\n",
    "saccerv.summary()"
   ]
  },
  {
   "cell_type": "code",
   "execution_count": 37,
   "id": "bc33db32",
   "metadata": {},
   "outputs": [],
   "source": [
    "remove_amylase(saccerv)"
   ]
  },
  {
   "cell_type": "markdown",
   "id": "ccdc727b",
   "metadata": {},
   "source": [
    "### B. Subtilis"
   ]
  },
  {
   "cell_type": "code",
   "execution_count": 40,
   "id": "44d824e9",
   "metadata": {},
   "outputs": [
    {
     "name": "stderr",
     "output_type": "stream",
     "text": [
      "Ignoring reaction 'amylase_DNA_reaction' since it already exists.\n",
      "Ignoring reaction 'amylase_RNA_reaction' since it already exists.\n"
     ]
    },
    {
     "data": {
      "text/html": [
       "<h3>Objective</h3><p>1.0 BIOMASS_SC5_notrace = 0.2877766190327133</p><h4>Uptake</h4><table border=\"1\" class=\"dataframe\">\n",
       "  <thead>\n",
       "    <tr style=\"text-align: right;\">\n",
       "      <th>Metabolite</th>\n",
       "      <th>Reaction</th>\n",
       "      <th>Flux</th>\n",
       "      <th>C-Number</th>\n",
       "      <th>C-Flux</th>\n",
       "    </tr>\n",
       "  </thead>\n",
       "  <tbody>\n",
       "    <tr>\n",
       "      <td>glc__D_e</td>\n",
       "      <td>EX_glc__D_e</td>\n",
       "      <td>10</td>\n",
       "      <td>6</td>\n",
       "      <td>100.00%</td>\n",
       "    </tr>\n",
       "    <tr>\n",
       "      <td>nh4_e</td>\n",
       "      <td>EX_nh4_e</td>\n",
       "      <td>1.612</td>\n",
       "      <td>0</td>\n",
       "      <td>0.00%</td>\n",
       "    </tr>\n",
       "    <tr>\n",
       "      <td>o2_e</td>\n",
       "      <td>EX_o2_e</td>\n",
       "      <td>2</td>\n",
       "      <td>0</td>\n",
       "      <td>0.00%</td>\n",
       "    </tr>\n",
       "    <tr>\n",
       "      <td>pi_e</td>\n",
       "      <td>EX_pi_e</td>\n",
       "      <td>0.05975</td>\n",
       "      <td>0</td>\n",
       "      <td>0.00%</td>\n",
       "    </tr>\n",
       "    <tr>\n",
       "      <td>so4_e</td>\n",
       "      <td>EX_so4_e</td>\n",
       "      <td>0.02225</td>\n",
       "      <td>0</td>\n",
       "      <td>0.00%</td>\n",
       "    </tr>\n",
       "  </tbody>\n",
       "</table><h4>Secretion</h4><table border=\"1\" class=\"dataframe\">\n",
       "  <thead>\n",
       "    <tr style=\"text-align: right;\">\n",
       "      <th>Metabolite</th>\n",
       "      <th>Reaction</th>\n",
       "      <th>Flux</th>\n",
       "      <th>C-Number</th>\n",
       "      <th>C-Flux</th>\n",
       "    </tr>\n",
       "  </thead>\n",
       "  <tbody>\n",
       "    <tr>\n",
       "      <td>co2_e</td>\n",
       "      <td>EX_co2_e</td>\n",
       "      <td>-18.02</td>\n",
       "      <td>1</td>\n",
       "      <td>36.29%</td>\n",
       "    </tr>\n",
       "    <tr>\n",
       "      <td>etoh_e</td>\n",
       "      <td>EX_etoh_e</td>\n",
       "      <td>-15.82</td>\n",
       "      <td>2</td>\n",
       "      <td>63.70%</td>\n",
       "    </tr>\n",
       "    <tr>\n",
       "      <td>for_e</td>\n",
       "      <td>EX_for_e</td>\n",
       "      <td>-0.001488</td>\n",
       "      <td>1</td>\n",
       "      <td>0.00%</td>\n",
       "    </tr>\n",
       "    <tr>\n",
       "      <td>h2o_e</td>\n",
       "      <td>EX_h2o_e</td>\n",
       "      <td>-5.643</td>\n",
       "      <td>0</td>\n",
       "      <td>0.00%</td>\n",
       "    </tr>\n",
       "    <tr>\n",
       "      <td>h_e</td>\n",
       "      <td>EX_h_e</td>\n",
       "      <td>-1.448</td>\n",
       "      <td>0</td>\n",
       "      <td>0.00%</td>\n",
       "    </tr>\n",
       "  </tbody>\n",
       "</table>"
      ],
      "text/plain": [
       "<cobra.summary.model_summary.ModelSummary at 0x1e8d51c0fa0>"
      ]
     },
     "execution_count": 40,
     "metadata": {},
     "output_type": "execute_result"
    }
   ],
   "source": [
    "add_protein_reaction(saccerv, 'amylase_DNA_reaction', 0, 100, B_Subtilis_dna, 'dna', 'amylase')\n",
    "add_protein_reaction(saccerv, 'amylase_RNA_reaction', 0, 100, B_Subtilis_rna, 'rna', 'amylase')\n",
    "add_protein_reaction(saccerv, 'amylase_AA_reaction', 0.00065, 0.00065, B_subtilis_protein, 'aa', 'amylase')\n",
    "B_Subtilis = saccerv.optimize().objective_value\n",
    "saccerv.summary()"
   ]
  },
  {
   "cell_type": "code",
   "execution_count": null,
   "id": "830b765b",
   "metadata": {},
   "outputs": [],
   "source": []
  }
 ],
 "metadata": {
  "kernelspec": {
   "display_name": "Python 3",
   "language": "python",
   "name": "python3"
  },
  "language_info": {
   "codemirror_mode": {
    "name": "ipython",
    "version": 3
   },
   "file_extension": ".py",
   "mimetype": "text/x-python",
   "name": "python",
   "nbconvert_exporter": "python",
   "pygments_lexer": "ipython3",
   "version": "3.9.6"
  }
 },
 "nbformat": 4,
 "nbformat_minor": 5
}
