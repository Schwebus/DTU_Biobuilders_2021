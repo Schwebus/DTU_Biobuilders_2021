{
 "cells": [
  {
   "cell_type": "code",
   "execution_count": 83,
   "metadata": {},
   "outputs": [],
   "source": [
    "# load model\n",
    "\n",
    "import cobra\n",
    "\n",
    "# model originally from:\n",
    "# Caspeta L, Shoaie S, Agren R, et al (2012) Genome-scale metabolic reconstructions of Pichia stipitis and Pichia pastoris and in silico evaluation of their potentials. BMC Syst Biol 6:24. doi: 10.1186/1752-0509-6-24.\n",
    "\n",
    "# model with heterologous protein production was used as starting point for our simulation:\n",
    "# Irani ZA, Kerkhoven EJ, Shojaosadati SA, Nielsen J (2016) Genome-scale metabolic model of Pichia pastoris with native and humanized glycosylation of recombinant proteins. Biotechnol Bioeng 113:961–969. doi: 10.1002/bit.25863.\n",
    "\n",
    "# it is common for these models to give some warnings when uploaded for the first time, so in order to avoid them, it is just required to rewrite the model as follows\n",
    "\n",
    "#pheast = cobra.io.read_sbml_model(\"./data/ihGlycopastoris.xml\")\n",
    "#cobra.io.write_sbml_model(pheast,\"./data/ihGlycopastoris_rewritten.xml\")\n",
    "\n",
    "pheast = cobra.io.read_sbml_model(\"./data/ihGlycopastoris_rewritten.xml\")"
   ]
  },
  {
   "cell_type": "code",
   "execution_count": 3,
   "metadata": {},
   "outputs": [
    {
     "data": {
      "text/plain": [
       "[<Reaction r1338 at 0x2b55d9fe548>,\n",
       " <Reaction r1337 at 0x2b55da2f108>,\n",
       " <Reaction r1100 at 0x2b55da39248>,\n",
       " <Reaction r1101 at 0x2b55da39c48>,\n",
       " <Reaction r1102 at 0x2b55da39ec8>,\n",
       " <Reaction r1103 at 0x2b55da43fc8>]"
      ]
     },
     "execution_count": 3,
     "metadata": {},
     "output_type": "execute_result"
    }
   ],
   "source": [
    "# In the original model the production of FAB protein was included, but we want to remove its reactions\n",
    "# those will be include protein transport and protein production (dna, rna, amino acid sequence and protein)\n",
    "pheast.reactions.query(\"FAB\", \"name\")"
   ]
  },
  {
   "cell_type": "code",
   "execution_count": 4,
   "metadata": {},
   "outputs": [
    {
     "data": {
      "text/plain": [
       "[<Metabolite m1360 at 0x2b546eccd08>,\n",
       " <Metabolite m1361 at 0x2b546eccdc8>,\n",
       " <Metabolite m1362 at 0x2b546ecce88>,\n",
       " <Metabolite m1363 at 0x2b546eccf88>,\n",
       " <Metabolite m1364 at 0x2b546ed10c8>]"
      ]
     },
     "execution_count": 4,
     "metadata": {},
     "output_type": "execute_result"
    }
   ],
   "source": [
    "# we also remove the metabolites related to FAB, which will be those related to dna, rna and amino acid sequence, as well as the protein in different compartments\n",
    "pheast.metabolites.query(\"FAB\", \"name\")"
   ]
  },
  {
   "cell_type": "code",
   "execution_count": 84,
   "metadata": {},
   "outputs": [
    {
     "name": "stderr",
     "output_type": "stream",
     "text": [
      "C:\\Users\\s202562\\AppData\\Roaming\\Python\\Python37\\site-packages\\cobra\\core\\group.py:107: UserWarning: need to pass in a list\n",
      "  warn(\"need to pass in a list\")\n"
     ]
    }
   ],
   "source": [
    "# first remove the heterologous protein production reactions from the paper\n",
    "\n",
    "pheast.remove_reactions([pheast.reactions.r1337,\n",
    "                        pheast.reactions.r1338,\n",
    "                        pheast.reactions.r1100,\n",
    "                        pheast.reactions.r1101,\n",
    "                        pheast.reactions.r1102,\n",
    "                        pheast.reactions.r1103])\n",
    "\n",
    "# and all the species related to the protein (dna, rna, aa and the protein on different compartments)\n",
    "\n",
    "pheast.remove_metabolites([pheast.metabolites.m1360,\n",
    "                          pheast.metabolites.m1361,\n",
    "                          pheast.metabolites.m1362,\n",
    "                          pheast.metabolites.m1363,\n",
    "                          pheast.metabolites.m1364])"
   ]
  },
  {
   "cell_type": "code",
   "execution_count": 14,
   "metadata": {
    "scrolled": false
   },
   "outputs": [
    {
     "data": {
      "text/html": [
       "<h3>Objective</h3><p>1.0 r1339 = 0.08024107232294864</p><h4>Uptake</h4><table border=\"1\" class=\"dataframe\">\n",
       "  <thead>\n",
       "    <tr style=\"text-align: right;\">\n",
       "      <th>Metabolite</th>\n",
       "      <th>Reaction</th>\n",
       "      <th>Flux</th>\n",
       "      <th>C-Number</th>\n",
       "      <th>C-Flux</th>\n",
       "    </tr>\n",
       "  </thead>\n",
       "  <tbody>\n",
       "    <tr>\n",
       "      <td>m2</td>\n",
       "      <td>r1145</td>\n",
       "      <td>1</td>\n",
       "      <td>0</td>\n",
       "      <td>0.00%</td>\n",
       "    </tr>\n",
       "    <tr>\n",
       "      <td>m1231</td>\n",
       "      <td>r1159</td>\n",
       "      <td>0.4626</td>\n",
       "      <td>0</td>\n",
       "      <td>0.00%</td>\n",
       "    </tr>\n",
       "    <tr>\n",
       "      <td>m1232</td>\n",
       "      <td>r1160</td>\n",
       "      <td>0.7967</td>\n",
       "      <td>0</td>\n",
       "      <td>0.00%</td>\n",
       "    </tr>\n",
       "    <tr>\n",
       "      <td>m1224</td>\n",
       "      <td>r1164</td>\n",
       "      <td>0.03312</td>\n",
       "      <td>0</td>\n",
       "      <td>0.00%</td>\n",
       "    </tr>\n",
       "    <tr>\n",
       "      <td>m1233</td>\n",
       "      <td>r1169</td>\n",
       "      <td>0.002458</td>\n",
       "      <td>0</td>\n",
       "      <td>0.00%</td>\n",
       "    </tr>\n",
       "  </tbody>\n",
       "</table><h4>Secretion</h4><table border=\"1\" class=\"dataframe\">\n",
       "  <thead>\n",
       "    <tr style=\"text-align: right;\">\n",
       "      <th>Metabolite</th>\n",
       "      <th>Reaction</th>\n",
       "      <th>Flux</th>\n",
       "      <th>C-Number</th>\n",
       "      <th>C-Flux</th>\n",
       "    </tr>\n",
       "  </thead>\n",
       "  <tbody>\n",
       "    <tr>\n",
       "      <td>m1226</td>\n",
       "      <td>r1133</td>\n",
       "      <td>-0.08024</td>\n",
       "      <td>0</td>\n",
       "      <td>0.00%</td>\n",
       "    </tr>\n",
       "    <tr>\n",
       "      <td>m1244</td>\n",
       "      <td>r1137</td>\n",
       "      <td>-1.597</td>\n",
       "      <td>0</td>\n",
       "      <td>0.00%</td>\n",
       "    </tr>\n",
       "    <tr>\n",
       "      <td>m30</td>\n",
       "      <td>r1150</td>\n",
       "      <td>-3.43</td>\n",
       "      <td>0</td>\n",
       "      <td>0.00%</td>\n",
       "    </tr>\n",
       "  </tbody>\n",
       "</table>"
      ],
      "text/plain": [
       "<cobra.summary.model_summary.ModelSummary at 0x1dcdbec3bc8>"
      ]
     },
     "execution_count": 14,
     "metadata": {},
     "output_type": "execute_result"
    }
   ],
   "source": [
    "# run the model/optimizes for cell growth\n",
    "# the usual approach for these models is to optimize cell growth/biomass production, which is also done here (reaction r1339 in this model)\n",
    "# one can always choose other reactions to be optimized, as will be seen later on\n",
    "\n",
    "pheast.summary()\n",
    "\n",
    "# comment: I think for documentation is nice to specify why these two different functions (it is not required to run optimize before summary)\n",
    "# optimize() and summary() methods run the same process, but as the name indicates, summary outputs some information for uptake and secretion besides the optimization result, offered by optimize() method"
   ]
  },
  {
   "cell_type": "code",
   "execution_count": 6,
   "metadata": {},
   "outputs": [
    {
     "data": {
      "text/html": [
       "\n",
       "        <table>\n",
       "            <tr>\n",
       "                <td><strong>Metabolite identifier</strong></td><td>m2</td>\n",
       "            </tr><tr>\n",
       "                <td><strong>Name</strong></td><td>alpha-D-Glucose_C6H12O6</td>\n",
       "            </tr><tr>\n",
       "                <td><strong>Memory address</strong></td>\n",
       "                <td>0x020958da8240</td>\n",
       "            </tr><tr>\n",
       "                <td><strong>Formula</strong></td><td></td>\n",
       "            </tr><tr>\n",
       "                <td><strong>Compartment</strong></td><td>C_e</td>\n",
       "            </tr><tr>\n",
       "                <td><strong>In 3 reaction(s)</strong></td><td>\n",
       "                    r764, r1145, r552</td>\n",
       "            </tr>\n",
       "        </table>"
      ],
      "text/plain": [
       "<Metabolite m2 at 0x20958da8240>"
      ]
     },
     "execution_count": 6,
     "metadata": {},
     "output_type": "execute_result"
    }
   ],
   "source": [
    "# comment: I would introduce how we know m1293 is glucose, and with this simple command we find all the info about reactions and what it is\n",
    "# one metabolite is uptaken with a rate of 1 mmol gDW^-1 h^-1 (classic GSM models units)\n",
    "pheast.metabolites.m2"
   ]
  },
  {
   "cell_type": "code",
   "execution_count": 7,
   "metadata": {},
   "outputs": [
    {
     "data": {
      "text/html": [
       "\n",
       "        <table>\n",
       "            <tr>\n",
       "                <td><strong>Reaction identifier</strong></td><td>r1145</td>\n",
       "            </tr><tr>\n",
       "                <td><strong>Name</strong></td><td>Uptake of alpha-D-Glucose</td>\n",
       "            </tr><tr>\n",
       "                <td><strong>Memory address</strong></td>\n",
       "                <td>0x02b55da11dc8</td>\n",
       "            </tr><tr>\n",
       "                <td><strong>Stoichiometry</strong></td>\n",
       "                <td>\n",
       "                    <p style='text-align:right'>--> m2</p>\n",
       "                    <p style='text-align:right'>--> alpha-D-Glucose_C6H12O6</p>\n",
       "                </td>\n",
       "            </tr><tr>\n",
       "                <td><strong>GPR</strong></td><td></td>\n",
       "            </tr><tr>\n",
       "                <td><strong>Lower bound</strong></td><td>0.0</td>\n",
       "            </tr><tr>\n",
       "                <td><strong>Upper bound</strong></td><td>1.0</td>\n",
       "            </tr>\n",
       "        </table>\n",
       "        "
      ],
      "text/plain": [
       "<Reaction r1145 at 0x2b55da11dc8>"
      ]
     },
     "execution_count": 7,
     "metadata": {},
     "output_type": "execute_result"
    }
   ],
   "source": [
    "# there is one secretion reaction (r764), insertion of glucose into the cytosol by using ATP (r552) \n",
    "# the glucose uptake reaction (r1145) is where the uptake constraints are defined\n",
    "# it is seen that glucose is limited to an uptake of a rate of 1 mmol gDW^-1 h^-1 (classic GSM models units)\n",
    "pheast.reactions.r1145"
   ]
  },
  {
   "cell_type": "code",
   "execution_count": 11,
   "metadata": {
    "scrolled": true
   },
   "outputs": [
    {
     "data": {
      "text/plain": [
       "[<Reaction r1158 at 0x2b55da1ba08>]"
      ]
     },
     "execution_count": 11,
     "metadata": {},
     "output_type": "execute_result"
    }
   ],
   "source": [
    "# first, it was wanted to see how phaffii grew on methanol (as a natural methylotroph) --> look for methanol reactions\n",
    "pheast.reactions.query(\"methanol\", \"name\")"
   ]
  },
  {
   "cell_type": "code",
   "execution_count": 10,
   "metadata": {},
   "outputs": [
    {
     "data": {
      "text/html": [
       "\n",
       "        <table>\n",
       "            <tr>\n",
       "                <td><strong>Reaction identifier</strong></td><td>r1158</td>\n",
       "            </tr><tr>\n",
       "                <td><strong>Name</strong></td><td>uptake of methanol</td>\n",
       "            </tr><tr>\n",
       "                <td><strong>Memory address</strong></td>\n",
       "                <td>0x02096bd23128</td>\n",
       "            </tr><tr>\n",
       "                <td><strong>Stoichiometry</strong></td>\n",
       "                <td>\n",
       "                    <p style='text-align:right'>--> m1219</p>\n",
       "                    <p style='text-align:right'>--> Methanol_CH4O</p>\n",
       "                </td>\n",
       "            </tr><tr>\n",
       "                <td><strong>GPR</strong></td><td></td>\n",
       "            </tr><tr>\n",
       "                <td><strong>Lower bound</strong></td><td>0.0</td>\n",
       "            </tr><tr>\n",
       "                <td><strong>Upper bound</strong></td><td>0.0</td>\n",
       "            </tr>\n",
       "        </table>\n",
       "        "
      ],
      "text/plain": [
       "<Reaction r1158 at 0x2096bd23128>"
      ]
     },
     "execution_count": 10,
     "metadata": {},
     "output_type": "execute_result"
    }
   ],
   "source": [
    "# this is methanol uptake\n",
    "pheast.reactions.r1158"
   ]
  },
  {
   "cell_type": "code",
   "execution_count": 12,
   "metadata": {},
   "outputs": [
    {
     "data": {
      "text/plain": [
       "[<Reaction r91 at 0x2b55d871d08>,\n",
       " <Reaction r1310 at 0x2b55d94d808>,\n",
       " <Reaction r1382 at 0x2b55d9e8d08>]"
      ]
     },
     "execution_count": 12,
     "metadata": {},
     "output_type": "execute_result"
    }
   ],
   "source": [
    "# One can also query for upper-case methanol and get all reactions of the MUT pathway\n",
    "pheast.reactions.query(\"Methanol\", \"name\")"
   ]
  },
  {
   "cell_type": "code",
   "execution_count": 85,
   "metadata": {},
   "outputs": [],
   "source": [
    "# right now the carbon source is glucose --> this is changed to methanol (Methanol_CH4O) instead\n",
    "pheast.reactions.r1145.bounds = 0, 0  # no glucose \n",
    "pheast.reactions.r1158.bounds = 0, 1  # methanol at 1 mmol gDW^-1 h^-1"
   ]
  },
  {
   "cell_type": "code",
   "execution_count": 16,
   "metadata": {},
   "outputs": [
    {
     "data": {
      "text/html": [
       "<h3>Objective</h3><p>1.0 r1339 = 0.011445308121733791</p><h4>Uptake</h4><table border=\"1\" class=\"dataframe\">\n",
       "  <thead>\n",
       "    <tr style=\"text-align: right;\">\n",
       "      <th>Metabolite</th>\n",
       "      <th>Reaction</th>\n",
       "      <th>Flux</th>\n",
       "      <th>C-Number</th>\n",
       "      <th>C-Flux</th>\n",
       "    </tr>\n",
       "  </thead>\n",
       "  <tbody>\n",
       "    <tr>\n",
       "      <td>m1219</td>\n",
       "      <td>r1158</td>\n",
       "      <td>1</td>\n",
       "      <td>0</td>\n",
       "      <td>0.00%</td>\n",
       "    </tr>\n",
       "    <tr>\n",
       "      <td>m1231</td>\n",
       "      <td>r1159</td>\n",
       "      <td>0.06599</td>\n",
       "      <td>0</td>\n",
       "      <td>0.00%</td>\n",
       "    </tr>\n",
       "    <tr>\n",
       "      <td>m1232</td>\n",
       "      <td>r1160</td>\n",
       "      <td>1.258</td>\n",
       "      <td>0</td>\n",
       "      <td>0.00%</td>\n",
       "    </tr>\n",
       "    <tr>\n",
       "      <td>m1224</td>\n",
       "      <td>r1164</td>\n",
       "      <td>0.004724</td>\n",
       "      <td>0</td>\n",
       "      <td>0.00%</td>\n",
       "    </tr>\n",
       "    <tr>\n",
       "      <td>m1233</td>\n",
       "      <td>r1169</td>\n",
       "      <td>0.0003506</td>\n",
       "      <td>0</td>\n",
       "      <td>0.00%</td>\n",
       "    </tr>\n",
       "  </tbody>\n",
       "</table><h4>Secretion</h4><table border=\"1\" class=\"dataframe\">\n",
       "  <thead>\n",
       "    <tr style=\"text-align: right;\">\n",
       "      <th>Metabolite</th>\n",
       "      <th>Reaction</th>\n",
       "      <th>Flux</th>\n",
       "      <th>C-Number</th>\n",
       "      <th>C-Flux</th>\n",
       "    </tr>\n",
       "  </thead>\n",
       "  <tbody>\n",
       "    <tr>\n",
       "      <td>m1226</td>\n",
       "      <td>r1133</td>\n",
       "      <td>-0.01145</td>\n",
       "      <td>0</td>\n",
       "      <td>0.00%</td>\n",
       "    </tr>\n",
       "    <tr>\n",
       "      <td>m1244</td>\n",
       "      <td>r1137</td>\n",
       "      <td>-0.372</td>\n",
       "      <td>0</td>\n",
       "      <td>0.00%</td>\n",
       "    </tr>\n",
       "    <tr>\n",
       "      <td>m30</td>\n",
       "      <td>r1150</td>\n",
       "      <td>-1.643</td>\n",
       "      <td>0</td>\n",
       "      <td>0.00%</td>\n",
       "    </tr>\n",
       "  </tbody>\n",
       "</table>"
      ],
      "text/plain": [
       "<cobra.summary.model_summary.ModelSummary at 0x1dcdcd73088>"
      ]
     },
     "execution_count": 16,
     "metadata": {},
     "output_type": "execute_result"
    }
   ],
   "source": [
    "# now it grows on methanol (slower than in glucose)\n",
    "pheast.summary()"
   ]
  },
  {
   "cell_type": "code",
   "execution_count": 13,
   "metadata": {},
   "outputs": [
    {
     "data": {
      "text/plain": [
       "[]"
      ]
     },
     "execution_count": 13,
     "metadata": {},
     "output_type": "execute_result"
    }
   ],
   "source": [
    "# no methane yet in the model\n",
    "pheast.metabolites.query(\"methane\", \"name\")"
   ]
  },
  {
   "cell_type": "markdown",
   "metadata": {},
   "source": [
    "There are already some predefined compartments in the model, that are required to specify new species: \n",
    "\n",
    "- compartment \"C_c\" name=\"cytosol\"\n",
    "- compartment \"C_e\" name=\"extracellular\" \n",
    "- compartment \"C_m\" name=\"mitochondrion\"\n",
    "- compartment \"C_p\" name=\"peroxisome\" \n",
    "- compartment \"C_v\" name=\"vacuole\" \n",
    "- compartment \"C_g\" name=\"golgi\" \n",
    "- compartment \"C_r\" name=\"ER\" \n",
    "\n",
    "Next steps are for the introduction of new metabolties and reactions to the model to simulate our system:"
   ]
  },
  {
   "cell_type": "code",
   "execution_count": 86,
   "metadata": {},
   "outputs": [],
   "source": [
    "# we add methane on the extracellular compartment\n",
    "\n",
    "e_methane = cobra.Metabolite(\n",
    "    'e_methane',\n",
    "    formula='CH4',\n",
    "    name='extracellular_methane',\n",
    "    compartment='C_e')\n",
    "\n",
    "pheast.add_metabolites([e_methane])"
   ]
  },
  {
   "cell_type": "code",
   "execution_count": 87,
   "metadata": {},
   "outputs": [],
   "source": [
    "# make reactions\n",
    "\n",
    "uptake_methane = cobra.Reaction(\n",
    "            'r_uptake_methane',\n",
    "            name = 'Methane Uptake from Environment',\n",
    "            lower_bound = 0,\n",
    "            upper_bound = 1.0 # for now we allow a max uptake of methane of 1 mmol gDW^-1 h^-1\n",
    "        )\n",
    "\n",
    "methane_oxidation = cobra.Reaction(\n",
    "            'r_methane_oxidation',\n",
    "            name = 'Methane Oxidation',\n",
    "            lower_bound = 0,\n",
    "            upper_bound = 1000.0\n",
    "    )\n",
    "\n",
    "# add involved metabolites and stoichiometry\n",
    "\n",
    "uptake_methane.add_metabolites(\n",
    "    {\n",
    "        pheast.metabolites.e_methane: 1.0\n",
    "    }\n",
    ")\n",
    "\n",
    "# pMMO reaction without redox coenzyme (in literature mostly ubiquinol is mentioned but neither there is\n",
    "# cytosolic ubiquinol in this model (only in mitochondria), nor does the literature agree on what its role may be exactly )\n",
    "\n",
    "methane_oxidation.add_metabolites(\n",
    "    {\n",
    "        pheast.metabolites.e_methane: -1.0,\n",
    "        pheast.metabolites.m1232: -1.0,\n",
    "        pheast.metabolites.m1215: 1.0,\n",
    "        pheast.metabolites.m139: 1.0,\n",
    "    }\n",
    ")\n",
    "\n",
    "# add gene dependency for pMMO reaction\n",
    "\n",
    "methane_oxidation.gene_reaction_rule = '( pMMO_A and pMMO_B and pMMO_C )'\n",
    "\n",
    "# add reactions to pheast\n",
    "\n",
    "pheast.add_reactions([uptake_methane, methane_oxidation])"
   ]
  },
  {
   "cell_type": "code",
   "execution_count": 88,
   "metadata": {},
   "outputs": [],
   "source": [
    "pheast.reactions.r1158.bounds = 0, 0  # set methanol uptake to 0 and try if it grows on methane (as upper bound was set tp 1)"
   ]
  },
  {
   "cell_type": "code",
   "execution_count": 20,
   "metadata": {},
   "outputs": [
    {
     "data": {
      "text/html": [
       "<h3>Objective</h3><p>1.0 r1339 = 0.005722654060866848</p><h4>Uptake</h4><table border=\"1\" class=\"dataframe\">\n",
       "  <thead>\n",
       "    <tr style=\"text-align: right;\">\n",
       "      <th>Metabolite</th>\n",
       "      <th>Reaction</th>\n",
       "      <th>Flux</th>\n",
       "      <th>C-Number</th>\n",
       "      <th>C-Flux</th>\n",
       "    </tr>\n",
       "  </thead>\n",
       "  <tbody>\n",
       "    <tr>\n",
       "      <td>m1231</td>\n",
       "      <td>r1159</td>\n",
       "      <td>0.03299</td>\n",
       "      <td>0</td>\n",
       "      <td>0.00%</td>\n",
       "    </tr>\n",
       "    <tr>\n",
       "      <td>m1232</td>\n",
       "      <td>r1160</td>\n",
       "      <td>2.11</td>\n",
       "      <td>0</td>\n",
       "      <td>0.00%</td>\n",
       "    </tr>\n",
       "    <tr>\n",
       "      <td>m1224</td>\n",
       "      <td>r1164</td>\n",
       "      <td>0.002362</td>\n",
       "      <td>0</td>\n",
       "      <td>0.00%</td>\n",
       "    </tr>\n",
       "    <tr>\n",
       "      <td>m1233</td>\n",
       "      <td>r1169</td>\n",
       "      <td>0.0001753</td>\n",
       "      <td>0</td>\n",
       "      <td>0.00%</td>\n",
       "    </tr>\n",
       "    <tr>\n",
       "      <td>e_methane</td>\n",
       "      <td>r_uptake_methane</td>\n",
       "      <td>1</td>\n",
       "      <td>1</td>\n",
       "      <td>100.00%</td>\n",
       "    </tr>\n",
       "  </tbody>\n",
       "</table><h4>Secretion</h4><table border=\"1\" class=\"dataframe\">\n",
       "  <thead>\n",
       "    <tr style=\"text-align: right;\">\n",
       "      <th>Metabolite</th>\n",
       "      <th>Reaction</th>\n",
       "      <th>Flux</th>\n",
       "      <th>C-Number</th>\n",
       "      <th>C-Flux</th>\n",
       "    </tr>\n",
       "  </thead>\n",
       "  <tbody>\n",
       "    <tr>\n",
       "      <td>m1226</td>\n",
       "      <td>r1133</td>\n",
       "      <td>-0.005723</td>\n",
       "      <td>0</td>\n",
       "      <td>0.00%</td>\n",
       "    </tr>\n",
       "    <tr>\n",
       "      <td>m1244</td>\n",
       "      <td>r1137</td>\n",
       "      <td>-0.686</td>\n",
       "      <td>0</td>\n",
       "      <td>0.00%</td>\n",
       "    </tr>\n",
       "    <tr>\n",
       "      <td>m30</td>\n",
       "      <td>r1150</td>\n",
       "      <td>-2.784</td>\n",
       "      <td>0</td>\n",
       "      <td>0.00%</td>\n",
       "    </tr>\n",
       "  </tbody>\n",
       "</table>"
      ],
      "text/plain": [
       "<cobra.summary.model_summary.ModelSummary at 0x1dcdcd84cc8>"
      ]
     },
     "execution_count": 20,
     "metadata": {},
     "output_type": "execute_result"
    }
   ],
   "source": [
    "# it grows on methane\n",
    "pheast.summary()"
   ]
  },
  {
   "cell_type": "code",
   "execution_count": 27,
   "metadata": {},
   "outputs": [
    {
     "data": {
      "text/html": [
       "<h3>Objective</h3><p>1.0 r1339 = 0.0</p><h4>Uptake</h4><table border=\"1\" class=\"dataframe\">\n",
       "  <thead>\n",
       "    <tr style=\"text-align: right;\">\n",
       "      <th>Metabolite</th>\n",
       "      <th>Reaction</th>\n",
       "      <th>Flux</th>\n",
       "      <th>C-Number</th>\n",
       "      <th>C-Flux</th>\n",
       "    </tr>\n",
       "  </thead>\n",
       "  <tbody>\n",
       "  </tbody>\n",
       "</table><h4>Secretion</h4><table border=\"1\" class=\"dataframe\">\n",
       "  <thead>\n",
       "    <tr style=\"text-align: right;\">\n",
       "      <th>Metabolite</th>\n",
       "      <th>Reaction</th>\n",
       "      <th>Flux</th>\n",
       "      <th>C-Number</th>\n",
       "      <th>C-Flux</th>\n",
       "    </tr>\n",
       "  </thead>\n",
       "  <tbody>\n",
       "  </tbody>\n",
       "</table>"
      ],
      "text/plain": [
       "<cobra.summary.model_summary.ModelSummary at 0x1fcc0f10ba8>"
      ]
     },
     "execution_count": 27,
     "metadata": {},
     "output_type": "execute_result"
    }
   ],
   "source": [
    "# we can copy the model to not modify the original one and knock-out one of the genes involved in pMMO, then it won't grow\n",
    "pheast_knock_out = pheast.copy()\n",
    "pheast_knock_out.genes.pMMO_C.knock_out()\n",
    "pheast_knock_out.summary()"
   ]
  },
  {
   "cell_type": "code",
   "execution_count": 88,
   "metadata": {
    "scrolled": true
   },
   "outputs": [
    {
     "data": {
      "text/plain": [
       "[<Metabolite m118 at 0x238a87f41d0>,\n",
       " <Metabolite m139 at 0x238a87fa0b8>,\n",
       " <Metabolite m140 at 0x238a87fa160>,\n",
       " <Metabolite m713 at 0x238bb4befd0>,\n",
       " <Metabolite m1179 at 0x238bb5405c0>]"
      ]
     },
     "execution_count": 88,
     "metadata": {},
     "output_type": "execute_result"
    }
   ],
   "source": [
    "# we will now introduce our heterologous protein: leghemoglobin\n",
    "# we look at the detoxification pathway as there is a heme group in both catalase and hemoglobin which could\n",
    "# influence our system in general and the reaction introduced for production of (leg)hemoglobin\n",
    "\n",
    "pheast.metabolites.query(\"H2O2\",\"name\")"
   ]
  },
  {
   "cell_type": "code",
   "execution_count": 20,
   "metadata": {},
   "outputs": [
    {
     "data": {
      "text/html": [
       "\n",
       "        <table>\n",
       "            <tr>\n",
       "                <td><strong>Metabolite identifier</strong></td><td>m713</td>\n",
       "            </tr><tr>\n",
       "                <td><strong>Name</strong></td><td>H2O2_H2O2</td>\n",
       "            </tr><tr>\n",
       "                <td><strong>Memory address</strong></td>\n",
       "                <td>0x02b546e28588</td>\n",
       "            </tr><tr>\n",
       "                <td><strong>Formula</strong></td><td></td>\n",
       "            </tr><tr>\n",
       "                <td><strong>Compartment</strong></td><td>C_p</td>\n",
       "            </tr><tr>\n",
       "                <td><strong>In 16 reaction(s)</strong></td><td>\n",
       "                    r219, r216, r224, r91, r221, r1088, r218, r226, r215, r223, r220, r99, r217, r134, r225, r222</td>\n",
       "            </tr>\n",
       "        </table>"
      ],
      "text/plain": [
       "<Metabolite m713 at 0x2b546e28588>"
      ]
     },
     "execution_count": 20,
     "metadata": {},
     "output_type": "execute_result"
    }
   ],
   "source": [
    "# this is the peroxisomal H2O2\n",
    "\n",
    "pheast.metabolites.m713"
   ]
  },
  {
   "cell_type": "code",
   "execution_count": 90,
   "metadata": {},
   "outputs": [
    {
     "data": {
      "text/html": [
       "\n",
       "        <table>\n",
       "            <tr>\n",
       "                <td><strong>Reaction identifier</strong></td><td>r99</td>\n",
       "            </tr><tr>\n",
       "                <td><strong>Name</strong></td><td>hydrogen-peroxide:hydrogen-peroxide oxidoreductase</td>\n",
       "            </tr><tr>\n",
       "                <td><strong>Memory address</strong></td>\n",
       "                <td>0x0238bbe84e80</td>\n",
       "            </tr><tr>\n",
       "                <td><strong>Stoichiometry</strong></td>\n",
       "                <td>\n",
       "                    <p style='text-align:right'>2.0 m713 --> 2.0 m65</p>\n",
       "                    <p style='text-align:right'>2.0 H2O2_H2O2 --> 2.0 H2O_H2O</p>\n",
       "                </td>\n",
       "            </tr><tr>\n",
       "                <td><strong>GPR</strong></td><td>PAS_chr2-2_0131</td>\n",
       "            </tr><tr>\n",
       "                <td><strong>Lower bound</strong></td><td>0.0</td>\n",
       "            </tr><tr>\n",
       "                <td><strong>Upper bound</strong></td><td>1000.0</td>\n",
       "            </tr>\n",
       "        </table>\n",
       "        "
      ],
      "text/plain": [
       "<Reaction r99 at 0x238bbe84e80>"
      ]
     },
     "execution_count": 90,
     "metadata": {},
     "output_type": "execute_result"
    }
   ],
   "source": [
    "# this is the catalase reaction, heme is not considered\n",
    "\n",
    "pheast.reactions.r99"
   ]
  },
  {
   "cell_type": "code",
   "execution_count": 91,
   "metadata": {},
   "outputs": [
    {
     "data": {
      "text/plain": [
       "[<Metabolite m1051 at 0x238bb51e160>,\n",
       " <Metabolite m1059 at 0x238bb51e6d8>,\n",
       " <Metabolite m1060 at 0x238bb51e780>]"
      ]
     },
     "execution_count": 91,
     "metadata": {},
     "output_type": "execute_result"
    }
   ],
   "source": [
    "# we find there is a heme metabolite\n",
    "\n",
    "pheast.metabolites.query(\"Heme\",\"name\")"
   ]
  },
  {
   "cell_type": "code",
   "execution_count": 27,
   "metadata": {},
   "outputs": [
    {
     "data": {
      "text/html": [
       "\n",
       "        <table>\n",
       "            <tr>\n",
       "                <td><strong>Metabolite identifier</strong></td><td>m1060</td>\n",
       "            </tr><tr>\n",
       "                <td><strong>Name</strong></td><td>Heme A_C49H56FeN4O6</td>\n",
       "            </tr><tr>\n",
       "                <td><strong>Memory address</strong></td>\n",
       "                <td>0x02b546e8a288</td>\n",
       "            </tr><tr>\n",
       "                <td><strong>Formula</strong></td><td></td>\n",
       "            </tr><tr>\n",
       "                <td><strong>Compartment</strong></td><td>C_m</td>\n",
       "            </tr><tr>\n",
       "                <td><strong>In 1 reaction(s)</strong></td><td>\n",
       "                    r487</td>\n",
       "            </tr>\n",
       "        </table>"
      ],
      "text/plain": [
       "<Metabolite m1060 at 0x2b546e8a288>"
      ]
     },
     "execution_count": 27,
     "metadata": {},
     "output_type": "execute_result"
    }
   ],
   "source": [
    "# it is siroheme\n",
    "\n",
    "pheast.metabolites.m1060"
   ]
  },
  {
   "cell_type": "code",
   "execution_count": 28,
   "metadata": {},
   "outputs": [
    {
     "data": {
      "text/html": [
       "\n",
       "        <table>\n",
       "            <tr>\n",
       "                <td><strong>Reaction identifier</strong></td><td>r487</td>\n",
       "            </tr><tr>\n",
       "                <td><strong>Name</strong></td><td>Transferase</td>\n",
       "            </tr><tr>\n",
       "                <td><strong>Memory address</strong></td>\n",
       "                <td>0x02b55c541f48</td>\n",
       "            </tr><tr>\n",
       "                <td><strong>Stoichiometry</strong></td>\n",
       "                <td>\n",
       "                    <p style='text-align:right'>m1059 --> m1060</p>\n",
       "                    <p style='text-align:right'>Heme O_C49H58FeN4O5 --> Heme A_C49H56FeN4O6</p>\n",
       "                </td>\n",
       "            </tr><tr>\n",
       "                <td><strong>GPR</strong></td><td>PAS_chr4_0449</td>\n",
       "            </tr><tr>\n",
       "                <td><strong>Lower bound</strong></td><td>0.0</td>\n",
       "            </tr><tr>\n",
       "                <td><strong>Upper bound</strong></td><td>1000.0</td>\n",
       "            </tr>\n",
       "        </table>\n",
       "        "
      ],
      "text/plain": [
       "<Reaction r487 at 0x2b55c541f48>"
      ]
     },
     "execution_count": 28,
     "metadata": {},
     "output_type": "execute_result"
    }
   ],
   "source": [
    "# only involved in this reaction; it is also specifically a species of heme different from the one in catalse\n",
    "# and hemoglobin, so we should not take this one\n",
    "pheast.reactions.r487"
   ]
  },
  {
   "cell_type": "code",
   "execution_count": 83,
   "metadata": {},
   "outputs": [
    {
     "data": {
      "text/plain": [
       "[<Metabolite m1045 at 0x238bb517d30>,\n",
       " <Metabolite m1046 at 0x238bb517dd8>,\n",
       " <Metabolite m1047 at 0x238bb517e80>,\n",
       " <Metabolite m1048 at 0x238bb517f28>,\n",
       " <Metabolite m1049 at 0x238bb517fd0>,\n",
       " <Metabolite m1055 at 0x238bb51e438>,\n",
       " <Metabolite m1056 at 0x238bb51e4e0>,\n",
       " <Metabolite m1185 at 0x238bb540a58>]"
      ]
     },
     "execution_count": 83,
     "metadata": {},
     "output_type": "execute_result"
    }
   ],
   "source": [
    "# there are also a bunch of porypherin metabolites which are similar to the hemoglobin\n",
    "\n",
    "pheast.metabolites.query(\"porphyrin\",\"name\")\n",
    "\n",
    "#    A. Díaz, P.C. Loewen, I. Fita, X. Carpena\n",
    "#    Thirty years of heme catalases structural biology\n",
    "#    Arch. Biochem. Biophys., 525 (2012), pp. 102-110\n",
    "\n",
    "# According to the source above C34-heme b is the most abundant, so we could go for that (there are some C34\n",
    "# poryphyrins) and introduce it in the catalase and later hemoglobin reaction but none are in the peroxisome"
   ]
  },
  {
   "cell_type": "code",
   "execution_count": 89,
   "metadata": {},
   "outputs": [],
   "source": [
    "# now we will introduce the heterologous proteins, pMMO and leghemoglobin, with reactions for dna replication,\n",
    "# transcription and translation\n",
    "# as the sequences are long, we calculate the stoichiometry with a script which is on the github repo and\n",
    "# based on the logic behind introduction of heterologous protein production in the paper:\n",
    "# Irani ZA, Kerkhoven EJ, Shojaosadati SA, Nielsen J (2016) Genome-scale metabolic model of Pichia pastoris with native and humanized glycosylation of recombinant proteins. Biotechnol Bioeng 113:961–969. doi: 10.1002/bit.25863.\n",
    "\n",
    "# make new reactions\n",
    "\n",
    "pMMO_DNA_reaction = cobra.Reaction(\n",
    "            'r_pMMO_DNA',\n",
    "            name = 'pMMO DNA replication',\n",
    "            lower_bound = 0.0,\n",
    "            upper_bound = 1000,\n",
    "        )\n",
    "\n",
    "pMMO_RNA_reaction = cobra.Reaction(\n",
    "            'r_pMMO_RNA',\n",
    "            name = 'pMMO transcription',\n",
    "            lower_bound = 0.0,\n",
    "            upper_bound = 1000.0\n",
    "        )\n",
    "\n",
    "pMMO_AA_reaction = cobra.Reaction(\n",
    "            'r_pMMO_protein',\n",
    "            name = 'pMMO translation',\n",
    "            lower_bound = 0.0,\n",
    "            upper_bound = 1000.0\n",
    "    )\n",
    "\n",
    "hemo_DNA_reaction = cobra.Reaction(\n",
    "            'r_hemo_DNA',\n",
    "            name = 'hemoglobin DNA replication',\n",
    "            lower_bound = 0.0,\n",
    "            upper_bound = 1000.0\n",
    "        )\n",
    "\n",
    "hemo_RNA_reaction = cobra.Reaction(\n",
    "            'r_hemo_RNA',\n",
    "            name = 'hemoglobin transcription',\n",
    "            lower_bound = 0.0,\n",
    "            upper_bound = 1000.0\n",
    "        )\n",
    "\n",
    "hemo_AA_reaction = cobra.Reaction(\n",
    "            'r_hemo_AA',\n",
    "            name = 'hemoglobin translation',\n",
    "            lower_bound = 0.0,\n",
    "            upper_bound = 1000.0\n",
    ")\n",
    "\n",
    "\n",
    "# add the metabolites to be produced by these reactions\n",
    "\n",
    "pMMO_DNA = cobra.Metabolite(\n",
    "    'pMMO_DNA',\n",
    "    name='pMMO_DNA',\n",
    "    compartment='C_c')\n",
    "\n",
    "pMMO_RNA = cobra.Metabolite(\n",
    "    'pMMO_RNA',\n",
    "    name='pMMO_RNA',\n",
    "    compartment='C_c')\n",
    "\n",
    "pMMO_AA = cobra.Metabolite(\n",
    "    'pMMO_AA',\n",
    "    name='pMMO_AA',\n",
    "    compartment='C_c')\n",
    "\n",
    "hemo_DNA = cobra.Metabolite(\n",
    "    'hemo_DNA',\n",
    "    name='Hemo_DNA',\n",
    "    compartment='C_c')\n",
    "\n",
    "hemo_RNA = cobra.Metabolite(\n",
    "    'hemo_RNA',\n",
    "    name='Hemo_RNA',\n",
    "    compartment='C_c')\n",
    "\n",
    "hemo_AA = cobra.Metabolite(\n",
    "    'hemo_AA',\n",
    "    name='Leghemoglobin',\n",
    "    compartment='C_c')\n",
    "\n",
    "\n",
    "pheast.add_metabolites([pMMO_DNA,\n",
    "                       pMMO_RNA,\n",
    "                       pMMO_AA,\n",
    "                       hemo_DNA,\n",
    "                       hemo_RNA,\n",
    "                       hemo_AA])\n",
    "\n",
    "\n",
    "# add involved metabolites and stoichiometry\n",
    "\n",
    "pMMO_DNA_reaction.add_metabolites(\n",
    "    {\n",
    "        ### deoxynucleotides\n",
    "        # A\n",
    "        pheast.metabolites.m404: -0.97513,\n",
    "        # T\n",
    "        pheast.metabolites.m437: -0.97513,\n",
    "        # C\n",
    "        pheast.metabolites.m431: -0.64352,\n",
    "        # G\n",
    "        pheast.metabolites.m389: -0.64352,\n",
    "        # ATP\n",
    "        pheast.metabolites.m1: -11.00682,\n",
    "        # H2O\n",
    "        pheast.metabolites.m5: -11.00682,\n",
    "        # pMMO_DNA\n",
    "        pheast.metabolites.pMMO_DNA: 1.0,\n",
    "        # ADP\n",
    "        pheast.metabolites.m3: 11.00682,\n",
    "        # Phosphate\n",
    "        pheast.metabolites.m7: 11.00682\n",
    "    }\n",
    ")\n",
    "\n",
    "pMMO_RNA_reaction.add_metabolites(\n",
    "    {\n",
    "        ### RNA nucleotides\n",
    "        # A\n",
    "        pheast.metabolites.m94: -1.11694,\n",
    "        # U\n",
    "        pheast.metabolites.m418: -0.72523,\n",
    "        # C\n",
    "        pheast.metabolites.m423: -0.74,\n",
    "        # G\n",
    "        pheast.metabolites.m384: -0.53415,\n",
    "        # ATP\n",
    "        pheast.metabolites.m1: -7.47917,\n",
    "        # H2O\n",
    "        pheast.metabolites.m5: -7.47917,\n",
    "        # pMMO_RNA\n",
    "        pheast.metabolites.pMMO_RNA: 1.0,\n",
    "        # ADP\n",
    "        pheast.metabolites.m3: 7.47917,\n",
    "        # Phosphate\n",
    "        pheast.metabolites.m7: 7.47917\n",
    "    }\n",
    ")\n",
    "\n",
    "pMMO_AA_reaction.add_metabolites(\n",
    "    {\n",
    "        ### Amino Acids\n",
    "        # A\n",
    "        pheast.metabolites.m153: -0.73616,\n",
    "        # C\n",
    "        pheast.metabolites.m331: -0.02974,\n",
    "        # H\n",
    "        pheast.metabolites.m490: -0.19333,\n",
    "        # M\n",
    "        pheast.metabolites.m343: -0.29,\n",
    "        # T\n",
    "        pheast.metabolites.m305: -0.59487,\n",
    "        # R\n",
    "        pheast.metabolites.m158: -0.38667,\n",
    "        # E\n",
    "        pheast.metabolites.m154: -0.43872,\n",
    "        # I\n",
    "        pheast.metabolites.m239: -0.54282,\n",
    "        # F\n",
    "        pheast.metabolites.m272: -0.53539,\n",
    "        # W\n",
    "        pheast.metabolites.m280: -0.29744,\n",
    "        # N\n",
    "        pheast.metabolites.m161: -0.28256,\n",
    "        # Q\n",
    "        pheast.metabolites.m163: -0.1859,\n",
    "        # L\n",
    "        pheast.metabolites.m227: -0.84769,\n",
    "        # P\n",
    "        pheast.metabolites.m185: -0.43872,\n",
    "        # Y\n",
    "        pheast.metabolites.m274: -0.40154,\n",
    "        # D\n",
    "        pheast.metabolites.m156: -0.42385,\n",
    "        # G\n",
    "        pheast.metabolites.m210: -0.69898,\n",
    "        # K\n",
    "        pheast.metabolites.m203: -0.3941,\n",
    "        # S\n",
    "        pheast.metabolites.m279: -0.43872,\n",
    "        # V\n",
    "        pheast.metabolites.m222: -0.70641,\n",
    "        # ATP\n",
    "        pheast.metabolites.m1: -38.11352,\n",
    "        # H2O\n",
    "        pheast.metabolites.m5: -38.11352,\n",
    "        # pMMO\n",
    "        pheast.metabolites.pMMO_AA: 1.0,\n",
    "        # ADP\n",
    "        pheast.metabolites.m3: 38.11352,\n",
    "        # Phosphate\n",
    "        pheast.metabolites.m7: 38.11352\n",
    "    }\n",
    ")\n",
    "\n",
    "hemo_DNA_reaction.add_metabolites(\n",
    "    {\n",
    "        ### deoxynucleotides\n",
    "        # A\n",
    "        pheast.metabolites.m404: -1.0424,\n",
    "        # T\n",
    "        pheast.metabolites.m437: -1.0424,\n",
    "        # C\n",
    "        pheast.metabolites.m431: -0.57636,\n",
    "        # G\n",
    "        pheast.metabolites.m389: -0.57636,\n",
    "        # ATP\n",
    "        pheast.metabolites.m1: -11.00757,\n",
    "        # H2O\n",
    "        pheast.metabolites.m5: -11.00757,\n",
    "        # Hemo_DNA\n",
    "        pheast.metabolites.hemo_DNA: 1.0,\n",
    "        # ADP\n",
    "        pheast.metabolites.m3: 11.00757,\n",
    "        # Phosphate\n",
    "        pheast.metabolites.m7: 11.00757\n",
    "    }\n",
    ")\n",
    "\n",
    "hemo_RNA_reaction.add_metabolites(\n",
    "    {\n",
    "        ### RNA nucleotides\n",
    "        # A\n",
    "        pheast.metabolites.m94: -1.2408,\n",
    "        # U\n",
    "        pheast.metabolites.m418: -0.80329,\n",
    "        # C\n",
    "        pheast.metabolites.m423: -0.6455,\n",
    "        # G\n",
    "        pheast.metabolites.m384: -0.43034,\n",
    "        # ATP\n",
    "        pheast.metabolites.m1: -7.48783,\n",
    "        # H2O\n",
    "        pheast.metabolites.m5: -7.48783,\n",
    "        # Hemo_RNA\n",
    "        pheast.metabolites.hemo_RNA: 1.0,\n",
    "        # ADP\n",
    "        pheast.metabolites.m3: 7.48783,\n",
    "        # Phosphate\n",
    "        pheast.metabolites.m7: 7.48783\n",
    "    }\n",
    ")\n",
    "\n",
    "hemo_AA_reaction.add_metabolites(\n",
    "    {\n",
    "        ### Amino Acids\n",
    "        # A\n",
    "        pheast.metabolites.m153: -1.48373,\n",
    "        # C, no Cystein in leghemoglobin\n",
    "        # pheast.metabolites.m331:,\n",
    "        # H\n",
    "        pheast.metabolites.m490: -0.12902,\n",
    "        # M\n",
    "        pheast.metabolites.m343: -0.06451,\n",
    "        # T\n",
    "        pheast.metabolites.m305: -0.38706,\n",
    "        # R\n",
    "        pheast.metabolites.m158: -0.06451,\n",
    "        # E\n",
    "        pheast.metabolites.m154: -0.6451,\n",
    "        # I\n",
    "        pheast.metabolites.m239: -0.38706,\n",
    "        # F\n",
    "        pheast.metabolites.m272: -0.58059,\n",
    "        # W\n",
    "        pheast.metabolites.m280: -0.12902,\n",
    "        # N\n",
    "        pheast.metabolites.m161: -0.25804,\n",
    "        # Q\n",
    "        pheast.metabolites.m163: -0.32255,\n",
    "        # L\n",
    "        pheast.metabolites.m227: -0.83863,\n",
    "        # P\n",
    "        pheast.metabolites.m185: -0.32255,\n",
    "        # Y\n",
    "        pheast.metabolites.m274: -0.19353,\n",
    "        # D\n",
    "        pheast.metabolites.m156: -0.51608,\n",
    "        # G\n",
    "        pheast.metabolites.m210: -0.51608,\n",
    "        # K\n",
    "        pheast.metabolites.m203: -0.90314,\n",
    "        # S\n",
    "        pheast.metabolites.m279: -0.83863,\n",
    "        # V\n",
    "        pheast.metabolites.m222: -0.77412,\n",
    "        # ATP\n",
    "        pheast.metabolites.m1: -40.22199,\n",
    "        # H2O\n",
    "        pheast.metabolites.m5: -40.22199,\n",
    "        # Leghemoglobin\n",
    "        pheast.metabolites.hemo_AA: 1.0,\n",
    "        # ADP\n",
    "        pheast.metabolites.m3: 40.22199,\n",
    "        # Phosphate\n",
    "        pheast.metabolites.m7: 40.22199\n",
    "\n",
    "    }\n",
    ")\n",
    "\n",
    "\n",
    "# add reactions to pheast\n",
    "\n",
    "pheast.add_reactions([pMMO_DNA_reaction,\n",
    "                     pMMO_RNA_reaction,\n",
    "                     pMMO_AA_reaction,\n",
    "                     hemo_DNA_reaction,\n",
    "                     hemo_RNA_reaction,\n",
    "                     hemo_AA_reaction])"
   ]
  },
  {
   "cell_type": "code",
   "execution_count": 90,
   "metadata": {},
   "outputs": [],
   "source": [
    "# also add transport to extracellular and boundary proteins as well as \"Biosynthesis\" reactions\n",
    "# this was all done in the paper\n",
    "\n",
    "pMMO_c = cobra.Metabolite(\n",
    "    'pMMO_c',\n",
    "    formula='',\n",
    "    name='pMMO_cytosolic',\n",
    "    compartment='C_c')\n",
    "\n",
    "pMMO_e = cobra.Metabolite(\n",
    "    'pMMO_e',\n",
    "    formula='',\n",
    "    name='pMMO_extracellular',\n",
    "    compartment='C_e')\n",
    "\n",
    "hemo_c = cobra.Metabolite(\n",
    "    'hemo_c',\n",
    "    formula='',\n",
    "    name='hemo_cytosolic',\n",
    "    compartment='C_c')\n",
    "\n",
    "hemo_e = cobra.Metabolite(\n",
    "    'hemo_e',\n",
    "    formula='',\n",
    "    name='hemo_extracellular',\n",
    "    compartment='C_e')\n",
    "\n",
    "pheast.add_metabolites([pMMO_c,pMMO_e,\n",
    "                      hemo_c,hemo_e])\n",
    "\n",
    "\n",
    "pMMO_Biosynthesis = cobra.Reaction(\n",
    "            'pMMO_Biosynthesis',\n",
    "            name = 'pMMO Biosynthesis',\n",
    "            lower_bound = 0.0,\n",
    "            upper_bound = 1000.0\n",
    ")\n",
    "\n",
    "hemo_Biosynthesis = cobra.Reaction(\n",
    "            'hemo_Biosynthesis',\n",
    "            name = 'LeghemoglobinBiosynthesis',\n",
    "            lower_bound = 0.0,\n",
    "            upper_bound = 1000.0\n",
    ")\n",
    "\n",
    "extrac_pMMO = cobra.Reaction(\n",
    "            'c_pMMO_e',\n",
    "            name = 'extracellular transport pMMO',\n",
    "            lower_bound = 0,\n",
    "            upper_bound = 1000.0\n",
    ")\n",
    "\n",
    "extrac_Hemo = cobra.Reaction(\n",
    "            'c_Hemo_e',\n",
    "            name = 'extracellular transport Leghemoglobin',\n",
    "            lower_bound = 0,\n",
    "            upper_bound = 1000.0\n",
    ")\n",
    "\n",
    "EX_hemo = cobra.Reaction(\n",
    "            'EX_hemo',\n",
    "            name = 'hemoglobin exchange reaction',\n",
    "            lower_bound = -1000.0,\n",
    "            upper_bound = 1000.0\n",
    ")\n",
    "\n",
    "EX_pMMO = cobra.Reaction(\n",
    "            'EX_pMMO',\n",
    "            name = 'pMMO exchange reaction',\n",
    "            lower_bound = -1000.0,\n",
    "            upper_bound = 1000.0\n",
    ")\n",
    "\n",
    "\n",
    "\n",
    "hemo_Biosynthesis.add_metabolites(\n",
    "    {\n",
    "        pheast.metabolites.hemo_DNA: -2.8e-05,\n",
    "        \n",
    "        pheast.metabolites.hemo_RNA: -0.0029,\n",
    "        \n",
    "        pheast.metabolites.hemo_AA: -0.997,\n",
    "\n",
    "        pheast.metabolites.hemo_c: 1.0,\n",
    "    }\n",
    ")\n",
    "\n",
    "pMMO_Biosynthesis.add_metabolites(\n",
    "    {       \n",
    "        pheast.metabolites.pMMO_DNA: -2.8e-05,\n",
    "        \n",
    "        pheast.metabolites.pMMO_RNA: -0.0029,\n",
    "        \n",
    "        pheast.metabolites.pMMO_AA: -0.997,\n",
    "\n",
    "        pheast.metabolites.pMMO_c: 1.0,\n",
    "    }\n",
    ")\n",
    "\n",
    "\n",
    "extrac_pMMO.add_metabolites(\n",
    "    {\n",
    "        pheast.metabolites.pMMO_c: -1.0,   \n",
    "        \n",
    "        pheast.metabolites.pMMO_e: 1.0\n",
    "    }\n",
    ")\n",
    "\n",
    "extrac_Hemo.add_metabolites(\n",
    "    {\n",
    "        pheast.metabolites.hemo_c: -1.0,   \n",
    "        \n",
    "        pheast.metabolites.hemo_e: 1.0\n",
    "    }\n",
    ")\n",
    "\n",
    "EX_pMMO.add_metabolites(\n",
    "    {\n",
    "        pheast.metabolites.pMMO_e: -1.0\n",
    "    }\n",
    ")\n",
    "\n",
    "EX_hemo.add_metabolites(\n",
    "    {\n",
    "        pheast.metabolites.hemo_e: -1.0\n",
    "    }\n",
    ")\n",
    "\n",
    "pheast.add_reactions([extrac_pMMO,\n",
    "                    extrac_Hemo,\n",
    "                    pMMO_Biosynthesis,\n",
    "                    hemo_Biosynthesis,\n",
    "                    EX_hemo,\n",
    "                    EX_pMMO])"
   ]
  },
  {
   "cell_type": "code",
   "execution_count": 92,
   "metadata": {},
   "outputs": [],
   "source": [
    "# One option is to once we have the protein production reaction, optimize hat reaction\n",
    "pheast.objective = pheast.problem.Objective(pheast.reactions.hemo_Biosynthesis.flux_expression)\n",
    "pheast.summary()\n",
    "pheast_final = pheast.copy()"
   ]
  },
  {
   "cell_type": "code",
   "execution_count": 34,
   "metadata": {},
   "outputs": [
    {
     "data": {
      "text/html": [
       "<h3>hemo_c</h3><p></p><h4>Producing Reactions</h4><table border=\"1\" class=\"dataframe\">\n",
       "  <thead>\n",
       "    <tr style=\"text-align: right;\">\n",
       "      <th>Percent</th>\n",
       "      <th>Flux</th>\n",
       "      <th>Reaction</th>\n",
       "      <th>Definition</th>\n",
       "    </tr>\n",
       "  </thead>\n",
       "  <tbody>\n",
       "    <tr>\n",
       "      <td>100.00%</td>\n",
       "      <td>0.007661</td>\n",
       "      <td>hemo_Biosynthesis</td>\n",
       "      <td>0.997 hemo_AA + 2.8e-05 hemo_DNA + 0.0029 hemo_RNA --&gt; hemo_c</td>\n",
       "    </tr>\n",
       "  </tbody>\n",
       "</table><h4>Consuming Reactions</h4><table border=\"1\" class=\"dataframe\">\n",
       "  <thead>\n",
       "    <tr style=\"text-align: right;\">\n",
       "      <th>Percent</th>\n",
       "      <th>Flux</th>\n",
       "      <th>Reaction</th>\n",
       "      <th>Definition</th>\n",
       "    </tr>\n",
       "  </thead>\n",
       "  <tbody>\n",
       "    <tr>\n",
       "      <td>100.00%</td>\n",
       "      <td>-0.007661</td>\n",
       "      <td>c_Hemo_e</td>\n",
       "      <td>hemo_c --&gt; hemo_e</td>\n",
       "    </tr>\n",
       "  </tbody>\n",
       "</table>"
      ],
      "text/plain": [
       "<cobra.summary.metabolite_summary.MetaboliteSummary at 0x1dcc4efba08>"
      ]
     },
     "execution_count": 34,
     "metadata": {},
     "output_type": "execute_result"
    }
   ],
   "source": [
    "cobra.summary.MetaboliteSummary(metabolite= pheast.metabolites.hemo_c, model=pheast)"
   ]
  },
  {
   "cell_type": "code",
   "execution_count": 35,
   "metadata": {},
   "outputs": [
    {
     "data": {
      "text/html": [
       "<h3>hemo_Biosynthesis</h3><p>0.997 hemo_AA + 2.8e-05 hemo_DNA + 0.0029 hemo_RNA --> hemo_c</p><p>Bounds: 0.0, 1000.0</p><p>Flux: 0.007661</p>"
      ],
      "text/plain": [
       "<cobra.summary.reaction_summary.ReactionSummary at 0x1dcdca93188>"
      ]
     },
     "execution_count": 35,
     "metadata": {},
     "output_type": "execute_result"
    }
   ],
   "source": [
    "cobra.summary.reaction_summary.ReactionSummary(reaction = pheast.reactions.hemo_Biosynthesis, model = pheast)"
   ]
  },
  {
   "cell_type": "code",
   "execution_count": 68,
   "metadata": {},
   "outputs": [],
   "source": [
    "# However the procedure used in original paper: \n",
    "# Irani ZA, Kerkhoven EJ, Shojaosadati SA, Nielsen J (2016) Genome-scale metabolic model of Pichia pastoris with native and humanized glycosylation of recombinant proteins. Biotechnol Bioeng 113:961–969. doi: 10.1002/bit.25863.\n",
    "# the procedure is first optimize for the growth, and then use this value as constrain in the next optimization of protein production\n",
    "pheast_growth_constraint = pheast.copy()\n",
    "pheast_growth_constraint.objective = pheast_growth_constraint.problem.Objective(pheast_growth_constraint.reactions.r1339.flux_expression)\n",
    "pheast_growth_constraint.reactions.r1339.bounds = pheast_growth_constraint.optimize().objective_value, pheast_growth_constraint.optimize().objective_value"
   ]
  },
  {
   "cell_type": "code",
   "execution_count": 69,
   "metadata": {},
   "outputs": [
    {
     "data": {
      "text/html": [
       "<h3>Objective</h3><p>1.0 hemo_Biosynthesis = 7.224464809128545e-17</p><h4>Uptake</h4><table border=\"1\" class=\"dataframe\">\n",
       "  <thead>\n",
       "    <tr style=\"text-align: right;\">\n",
       "      <th>Metabolite</th>\n",
       "      <th>Reaction</th>\n",
       "      <th>Flux</th>\n",
       "      <th>C-Number</th>\n",
       "      <th>C-Flux</th>\n",
       "    </tr>\n",
       "  </thead>\n",
       "  <tbody>\n",
       "    <tr>\n",
       "      <td>m1231</td>\n",
       "      <td>r1159</td>\n",
       "      <td>0.03299</td>\n",
       "      <td>0</td>\n",
       "      <td>0.00%</td>\n",
       "    </tr>\n",
       "    <tr>\n",
       "      <td>m1232</td>\n",
       "      <td>r1160</td>\n",
       "      <td>2.11</td>\n",
       "      <td>0</td>\n",
       "      <td>0.00%</td>\n",
       "    </tr>\n",
       "    <tr>\n",
       "      <td>m1224</td>\n",
       "      <td>r1164</td>\n",
       "      <td>0.002362</td>\n",
       "      <td>0</td>\n",
       "      <td>0.00%</td>\n",
       "    </tr>\n",
       "    <tr>\n",
       "      <td>m1233</td>\n",
       "      <td>r1169</td>\n",
       "      <td>0.0001753</td>\n",
       "      <td>0</td>\n",
       "      <td>0.00%</td>\n",
       "    </tr>\n",
       "    <tr>\n",
       "      <td>e_methane</td>\n",
       "      <td>r_uptake_methane</td>\n",
       "      <td>1</td>\n",
       "      <td>1</td>\n",
       "      <td>100.00%</td>\n",
       "    </tr>\n",
       "  </tbody>\n",
       "</table><h4>Secretion</h4><table border=\"1\" class=\"dataframe\">\n",
       "  <thead>\n",
       "    <tr style=\"text-align: right;\">\n",
       "      <th>Metabolite</th>\n",
       "      <th>Reaction</th>\n",
       "      <th>Flux</th>\n",
       "      <th>C-Number</th>\n",
       "      <th>C-Flux</th>\n",
       "    </tr>\n",
       "  </thead>\n",
       "  <tbody>\n",
       "    <tr>\n",
       "      <td>m1226</td>\n",
       "      <td>r1133</td>\n",
       "      <td>-0.005723</td>\n",
       "      <td>0</td>\n",
       "      <td>0.00%</td>\n",
       "    </tr>\n",
       "    <tr>\n",
       "      <td>m1244</td>\n",
       "      <td>r1137</td>\n",
       "      <td>-0.686</td>\n",
       "      <td>0</td>\n",
       "      <td>0.00%</td>\n",
       "    </tr>\n",
       "    <tr>\n",
       "      <td>m30</td>\n",
       "      <td>r1150</td>\n",
       "      <td>-2.784</td>\n",
       "      <td>0</td>\n",
       "      <td>0.00%</td>\n",
       "    </tr>\n",
       "  </tbody>\n",
       "</table>"
      ],
      "text/plain": [
       "<cobra.summary.model_summary.ModelSummary at 0x1dce0463b48>"
      ]
     },
     "execution_count": 69,
     "metadata": {},
     "output_type": "execute_result"
    }
   ],
   "source": [
    "# and once constrained, we optimize the protein production reaction\n",
    "pheast_growth_constraint.objective = pheast_growth_constraint.problem.Objective(pheast_growth_constraint.reactions.hemo_Biosynthesis.flux_expression)\n",
    "pheast_growth_constraint.summary()"
   ]
  },
  {
   "cell_type": "code",
   "execution_count": 38,
   "metadata": {},
   "outputs": [
    {
     "data": {
      "text/html": [
       "\n",
       "        <table>\n",
       "            <tr>\n",
       "                <td><strong>Metabolite identifier</strong></td><td>hemo_c</td>\n",
       "            </tr><tr>\n",
       "                <td><strong>Name</strong></td><td>hemo_cytosolic</td>\n",
       "            </tr><tr>\n",
       "                <td><strong>Memory address</strong></td>\n",
       "                <td>0x01dcc4f1ca88</td>\n",
       "            </tr><tr>\n",
       "                <td><strong>Formula</strong></td><td></td>\n",
       "            </tr><tr>\n",
       "                <td><strong>Compartment</strong></td><td>C_c</td>\n",
       "            </tr><tr>\n",
       "                <td><strong>In 2 reaction(s)</strong></td><td>\n",
       "                    c_Hemo_e, hemo_Biosynthesis</td>\n",
       "            </tr>\n",
       "        </table>"
      ],
      "text/plain": [
       "<Metabolite hemo_c at 0x1dcc4f1ca88>"
      ]
     },
     "execution_count": 38,
     "metadata": {},
     "output_type": "execute_result"
    }
   ],
   "source": [
    "pheast.metabolites.hemo_c"
   ]
  },
  {
   "cell_type": "code",
   "execution_count": 53,
   "metadata": {},
   "outputs": [
    {
     "data": {
      "text/html": [
       "<h3>hemo_c</h3><p></p><h4>Producing Reactions</h4><table border=\"1\" class=\"dataframe\">\n",
       "  <thead>\n",
       "    <tr style=\"text-align: right;\">\n",
       "      <th>Percent</th>\n",
       "      <th>Flux</th>\n",
       "      <th>Reaction</th>\n",
       "      <th>Definition</th>\n",
       "    </tr>\n",
       "  </thead>\n",
       "  <tbody>\n",
       "  </tbody>\n",
       "</table><h4>Consuming Reactions</h4><table border=\"1\" class=\"dataframe\">\n",
       "  <thead>\n",
       "    <tr style=\"text-align: right;\">\n",
       "      <th>Percent</th>\n",
       "      <th>Flux</th>\n",
       "      <th>Reaction</th>\n",
       "      <th>Definition</th>\n",
       "    </tr>\n",
       "  </thead>\n",
       "  <tbody>\n",
       "  </tbody>\n",
       "</table>"
      ],
      "text/plain": [
       "<cobra.summary.metabolite_summary.MetaboliteSummary at 0x1dcddc4a648>"
      ]
     },
     "execution_count": 53,
     "metadata": {},
     "output_type": "execute_result"
    }
   ],
   "source": [
    "cobra.summary.MetaboliteSummary(metabolite= pheast.metabolites.hemo_c, model=pheast)"
   ]
  },
  {
   "cell_type": "code",
   "execution_count": 50,
   "metadata": {},
   "outputs": [
    {
     "ename": "KeyError",
     "evalue": "'hemo_Biosynthesis'",
     "output_type": "error",
     "traceback": [
      "\u001b[1;31m---------------------------------------------------------------------------\u001b[0m",
      "\u001b[1;31mKeyError\u001b[0m                                  Traceback (most recent call last)",
      "\u001b[1;32mC:\\ProgramData\\Anaconda3\\lib\\site-packages\\IPython\\core\\formatters.py\u001b[0m in \u001b[0;36m__call__\u001b[1;34m(self, obj)\u001b[0m\n\u001b[0;32m    343\u001b[0m             \u001b[0mmethod\u001b[0m \u001b[1;33m=\u001b[0m \u001b[0mget_real_method\u001b[0m\u001b[1;33m(\u001b[0m\u001b[0mobj\u001b[0m\u001b[1;33m,\u001b[0m \u001b[0mself\u001b[0m\u001b[1;33m.\u001b[0m\u001b[0mprint_method\u001b[0m\u001b[1;33m)\u001b[0m\u001b[1;33m\u001b[0m\u001b[1;33m\u001b[0m\u001b[0m\n\u001b[0;32m    344\u001b[0m             \u001b[1;32mif\u001b[0m \u001b[0mmethod\u001b[0m \u001b[1;32mis\u001b[0m \u001b[1;32mnot\u001b[0m \u001b[1;32mNone\u001b[0m\u001b[1;33m:\u001b[0m\u001b[1;33m\u001b[0m\u001b[1;33m\u001b[0m\u001b[0m\n\u001b[1;32m--> 345\u001b[1;33m                 \u001b[1;32mreturn\u001b[0m \u001b[0mmethod\u001b[0m\u001b[1;33m(\u001b[0m\u001b[1;33m)\u001b[0m\u001b[1;33m\u001b[0m\u001b[1;33m\u001b[0m\u001b[0m\n\u001b[0m\u001b[0;32m    346\u001b[0m             \u001b[1;32mreturn\u001b[0m \u001b[1;32mNone\u001b[0m\u001b[1;33m\u001b[0m\u001b[1;33m\u001b[0m\u001b[0m\n\u001b[0;32m    347\u001b[0m         \u001b[1;32melse\u001b[0m\u001b[1;33m:\u001b[0m\u001b[1;33m\u001b[0m\u001b[1;33m\u001b[0m\u001b[0m\n",
      "\u001b[1;32m~\\AppData\\Roaming\\Python\\Python37\\site-packages\\cobra\\summary\\summary.py\u001b[0m in \u001b[0;36m_repr_html_\u001b[1;34m(self)\u001b[0m\n\u001b[0;32m     77\u001b[0m     \u001b[1;32mdef\u001b[0m \u001b[0m_repr_html_\u001b[0m\u001b[1;33m(\u001b[0m\u001b[0mself\u001b[0m\u001b[1;33m)\u001b[0m \u001b[1;33m->\u001b[0m \u001b[0mstr\u001b[0m\u001b[1;33m:\u001b[0m\u001b[1;33m\u001b[0m\u001b[1;33m\u001b[0m\u001b[0m\n\u001b[0;32m     78\u001b[0m         \u001b[1;34m\"\"\"Return a rich HTML representation of the summary.\"\"\"\u001b[0m\u001b[1;33m\u001b[0m\u001b[1;33m\u001b[0m\u001b[0m\n\u001b[1;32m---> 79\u001b[1;33m         \u001b[1;32mreturn\u001b[0m \u001b[0mself\u001b[0m\u001b[1;33m.\u001b[0m\u001b[0mto_html\u001b[0m\u001b[1;33m(\u001b[0m\u001b[1;33m)\u001b[0m\u001b[1;33m\u001b[0m\u001b[1;33m\u001b[0m\u001b[0m\n\u001b[0m\u001b[0;32m     80\u001b[0m \u001b[1;33m\u001b[0m\u001b[0m\n\u001b[0;32m     81\u001b[0m     \u001b[1;33m@\u001b[0m\u001b[0mproperty\u001b[0m\u001b[1;33m\u001b[0m\u001b[1;33m\u001b[0m\u001b[0m\n",
      "\u001b[1;32m~\\AppData\\Roaming\\Python\\Python37\\site-packages\\cobra\\summary\\reaction_summary.py\u001b[0m in \u001b[0;36mto_html\u001b[1;34m(self, names, threshold, float_format)\u001b[0m\n\u001b[0;32m    240\u001b[0m             \u001b[0mheader\u001b[0m \u001b[1;33m=\u001b[0m \u001b[0mself\u001b[0m\u001b[1;33m.\u001b[0m\u001b[0m_reaction\u001b[0m\u001b[1;33m.\u001b[0m\u001b[0mid\u001b[0m\u001b[1;33m\u001b[0m\u001b[1;33m\u001b[0m\u001b[0m\n\u001b[0;32m    241\u001b[0m \u001b[1;33m\u001b[0m\u001b[0m\n\u001b[1;32m--> 242\u001b[1;33m         \u001b[0mflux\u001b[0m \u001b[1;33m=\u001b[0m \u001b[0mself\u001b[0m\u001b[1;33m.\u001b[0m\u001b[0m_string_flux\u001b[0m\u001b[1;33m(\u001b[0m\u001b[0mthreshold\u001b[0m\u001b[1;33m,\u001b[0m \u001b[0mfloat_format\u001b[0m\u001b[1;33m)\u001b[0m\u001b[1;33m\u001b[0m\u001b[1;33m\u001b[0m\u001b[0m\n\u001b[0m\u001b[0;32m    243\u001b[0m \u001b[1;33m\u001b[0m\u001b[0m\n\u001b[0;32m    244\u001b[0m         return (\n",
      "\u001b[1;32m~\\AppData\\Roaming\\Python\\Python37\\site-packages\\cobra\\summary\\reaction_summary.py\u001b[0m in \u001b[0;36m_string_flux\u001b[1;34m(self, threshold, float_format)\u001b[0m\n\u001b[0;32m    157\u001b[0m         \u001b[1;32melse\u001b[0m\u001b[1;33m:\u001b[0m\u001b[1;33m\u001b[0m\u001b[1;33m\u001b[0m\u001b[0m\n\u001b[0;32m    158\u001b[0m             \u001b[0mframe\u001b[0m \u001b[1;33m=\u001b[0m \u001b[0mself\u001b[0m\u001b[1;33m.\u001b[0m\u001b[0m_flux\u001b[0m\u001b[1;33m.\u001b[0m\u001b[0mloc\u001b[0m\u001b[1;33m[\u001b[0m\u001b[0mself\u001b[0m\u001b[1;33m.\u001b[0m\u001b[0m_flux\u001b[0m\u001b[1;33m[\u001b[0m\u001b[1;34m\"flux\"\u001b[0m\u001b[1;33m]\u001b[0m\u001b[1;33m.\u001b[0m\u001b[0mabs\u001b[0m\u001b[1;33m(\u001b[0m\u001b[1;33m)\u001b[0m \u001b[1;33m>=\u001b[0m \u001b[0mthreshold\u001b[0m\u001b[1;33m,\u001b[0m \u001b[1;33m:\u001b[0m\u001b[1;33m]\u001b[0m\u001b[1;33m.\u001b[0m\u001b[0mcopy\u001b[0m\u001b[1;33m(\u001b[0m\u001b[1;33m)\u001b[0m\u001b[1;33m\u001b[0m\u001b[1;33m\u001b[0m\u001b[0m\n\u001b[1;32m--> 159\u001b[1;33m             \u001b[1;32mreturn\u001b[0m \u001b[1;34mf\"{frame.at[self._reaction.id, 'flux']:{float_format}}\"\u001b[0m\u001b[1;33m\u001b[0m\u001b[1;33m\u001b[0m\u001b[0m\n\u001b[0m\u001b[0;32m    160\u001b[0m \u001b[1;33m\u001b[0m\u001b[0m\n\u001b[0;32m    161\u001b[0m     def to_string(\n",
      "\u001b[1;32m~\\AppData\\Roaming\\Python\\Python37\\site-packages\\pandas\\core\\indexing.py\u001b[0m in \u001b[0;36m__getitem__\u001b[1;34m(self, key)\u001b[0m\n\u001b[0;32m   2273\u001b[0m             \u001b[1;32mreturn\u001b[0m \u001b[0mself\u001b[0m\u001b[1;33m.\u001b[0m\u001b[0mobj\u001b[0m\u001b[1;33m.\u001b[0m\u001b[0mloc\u001b[0m\u001b[1;33m[\u001b[0m\u001b[0mkey\u001b[0m\u001b[1;33m]\u001b[0m\u001b[1;33m\u001b[0m\u001b[1;33m\u001b[0m\u001b[0m\n\u001b[0;32m   2274\u001b[0m \u001b[1;33m\u001b[0m\u001b[0m\n\u001b[1;32m-> 2275\u001b[1;33m         \u001b[1;32mreturn\u001b[0m \u001b[0msuper\u001b[0m\u001b[1;33m(\u001b[0m\u001b[1;33m)\u001b[0m\u001b[1;33m.\u001b[0m\u001b[0m__getitem__\u001b[0m\u001b[1;33m(\u001b[0m\u001b[0mkey\u001b[0m\u001b[1;33m)\u001b[0m\u001b[1;33m\u001b[0m\u001b[1;33m\u001b[0m\u001b[0m\n\u001b[0m\u001b[0;32m   2276\u001b[0m \u001b[1;33m\u001b[0m\u001b[0m\n\u001b[0;32m   2277\u001b[0m     \u001b[1;32mdef\u001b[0m \u001b[0m__setitem__\u001b[0m\u001b[1;33m(\u001b[0m\u001b[0mself\u001b[0m\u001b[1;33m,\u001b[0m \u001b[0mkey\u001b[0m\u001b[1;33m,\u001b[0m \u001b[0mvalue\u001b[0m\u001b[1;33m)\u001b[0m\u001b[1;33m:\u001b[0m\u001b[1;33m\u001b[0m\u001b[1;33m\u001b[0m\u001b[0m\n",
      "\u001b[1;32m~\\AppData\\Roaming\\Python\\Python37\\site-packages\\pandas\\core\\indexing.py\u001b[0m in \u001b[0;36m__getitem__\u001b[1;34m(self, key)\u001b[0m\n\u001b[0;32m   2220\u001b[0m \u001b[1;33m\u001b[0m\u001b[0m\n\u001b[0;32m   2221\u001b[0m         \u001b[0mkey\u001b[0m \u001b[1;33m=\u001b[0m \u001b[0mself\u001b[0m\u001b[1;33m.\u001b[0m\u001b[0m_convert_key\u001b[0m\u001b[1;33m(\u001b[0m\u001b[0mkey\u001b[0m\u001b[1;33m)\u001b[0m\u001b[1;33m\u001b[0m\u001b[1;33m\u001b[0m\u001b[0m\n\u001b[1;32m-> 2222\u001b[1;33m         \u001b[1;32mreturn\u001b[0m \u001b[0mself\u001b[0m\u001b[1;33m.\u001b[0m\u001b[0mobj\u001b[0m\u001b[1;33m.\u001b[0m\u001b[0m_get_value\u001b[0m\u001b[1;33m(\u001b[0m\u001b[1;33m*\u001b[0m\u001b[0mkey\u001b[0m\u001b[1;33m,\u001b[0m \u001b[0mtakeable\u001b[0m\u001b[1;33m=\u001b[0m\u001b[0mself\u001b[0m\u001b[1;33m.\u001b[0m\u001b[0m_takeable\u001b[0m\u001b[1;33m)\u001b[0m\u001b[1;33m\u001b[0m\u001b[1;33m\u001b[0m\u001b[0m\n\u001b[0m\u001b[0;32m   2223\u001b[0m \u001b[1;33m\u001b[0m\u001b[0m\n\u001b[0;32m   2224\u001b[0m     \u001b[1;32mdef\u001b[0m \u001b[0m__setitem__\u001b[0m\u001b[1;33m(\u001b[0m\u001b[0mself\u001b[0m\u001b[1;33m,\u001b[0m \u001b[0mkey\u001b[0m\u001b[1;33m,\u001b[0m \u001b[0mvalue\u001b[0m\u001b[1;33m)\u001b[0m\u001b[1;33m:\u001b[0m\u001b[1;33m\u001b[0m\u001b[1;33m\u001b[0m\u001b[0m\n",
      "\u001b[1;32m~\\AppData\\Roaming\\Python\\Python37\\site-packages\\pandas\\core\\frame.py\u001b[0m in \u001b[0;36m_get_value\u001b[1;34m(self, index, col, takeable)\u001b[0m\n\u001b[0;32m   3574\u001b[0m \u001b[1;33m\u001b[0m\u001b[0m\n\u001b[0;32m   3575\u001b[0m         \u001b[1;32mtry\u001b[0m\u001b[1;33m:\u001b[0m\u001b[1;33m\u001b[0m\u001b[1;33m\u001b[0m\u001b[0m\n\u001b[1;32m-> 3576\u001b[1;33m             \u001b[0mloc\u001b[0m \u001b[1;33m=\u001b[0m \u001b[0mengine\u001b[0m\u001b[1;33m.\u001b[0m\u001b[0mget_loc\u001b[0m\u001b[1;33m(\u001b[0m\u001b[0mindex\u001b[0m\u001b[1;33m)\u001b[0m\u001b[1;33m\u001b[0m\u001b[1;33m\u001b[0m\u001b[0m\n\u001b[0m\u001b[0;32m   3577\u001b[0m             \u001b[1;32mreturn\u001b[0m \u001b[0mseries\u001b[0m\u001b[1;33m.\u001b[0m\u001b[0m_values\u001b[0m\u001b[1;33m[\u001b[0m\u001b[0mloc\u001b[0m\u001b[1;33m]\u001b[0m\u001b[1;33m\u001b[0m\u001b[1;33m\u001b[0m\u001b[0m\n\u001b[0;32m   3578\u001b[0m         \u001b[1;32mexcept\u001b[0m \u001b[0mAttributeError\u001b[0m\u001b[1;33m:\u001b[0m\u001b[1;33m\u001b[0m\u001b[1;33m\u001b[0m\u001b[0m\n",
      "\u001b[1;32m~\\AppData\\Roaming\\Python\\Python37\\site-packages\\pandas\\_libs\\index.pyx\u001b[0m in \u001b[0;36mpandas._libs.index.IndexEngine.get_loc\u001b[1;34m()\u001b[0m\n",
      "\u001b[1;32m~\\AppData\\Roaming\\Python\\Python37\\site-packages\\pandas\\_libs\\index.pyx\u001b[0m in \u001b[0;36mpandas._libs.index.IndexEngine.get_loc\u001b[1;34m()\u001b[0m\n",
      "\u001b[1;32mpandas\\_libs\\hashtable_class_helper.pxi\u001b[0m in \u001b[0;36mpandas._libs.hashtable.PyObjectHashTable.get_item\u001b[1;34m()\u001b[0m\n",
      "\u001b[1;32mpandas\\_libs\\hashtable_class_helper.pxi\u001b[0m in \u001b[0;36mpandas._libs.hashtable.PyObjectHashTable.get_item\u001b[1;34m()\u001b[0m\n",
      "\u001b[1;31mKeyError\u001b[0m: 'hemo_Biosynthesis'"
     ]
    },
    {
     "data": {
      "text/plain": [
       "<cobra.summary.reaction_summary.ReactionSummary at 0x1dcddd491c8>"
      ]
     },
     "execution_count": 50,
     "metadata": {},
     "output_type": "execute_result"
    }
   ],
   "source": [
    "cobra.summary.reaction_summary.ReactionSummary(reaction = pheast.reactions.hemo_Biosynthesis, model = pheast)"
   ]
  },
  {
   "cell_type": "markdown",
   "metadata": {},
   "source": [
    "## Plotting image plots"
   ]
  },
  {
   "cell_type": "code",
   "execution_count": 41,
   "metadata": {},
   "outputs": [],
   "source": [
    "import numpy as np\n",
    "import matplotlib.pyplot as plt"
   ]
  },
  {
   "cell_type": "code",
   "execution_count": 171,
   "metadata": {},
   "outputs": [],
   "source": [
    "# we create a function to see how our protein production is optimize on different environments\n",
    "def image_plot(model, precision, max_met, max_ox):\n",
    "    plot = np.zeros([precision, precision])\n",
    "    methane_vec = np.linspace(0,max_met,precision); oxygen_vec = np.linspace(0,max_ox,precision)\n",
    "    for count_met, met in enumerate(methane_vec):\n",
    "        for count_ox, oxygen in enumerate(oxygen_vec):\n",
    "            #print(met, oxygen)\n",
    "            model.reactions.r_uptake_methane.bounds = met, met \n",
    "            model.reactions.r1160.bounds = oxygen, oxygen\n",
    "            result = model.optimize().objective_value\n",
    "            #print(result)\n",
    "            if result < 0: \n",
    "                result = 0\n",
    "            plot[(precision-1 - count_met), count_ox] = result\n",
    "    label_met = np.round(np.linspace(0, max_met, 6),1)\n",
    "    label_ox = np.round(np.linspace(max_ox, 0,6),1)\n",
    "    ticks = np.linspace(0, precision - 1,6)\n",
    "    imgplot = plt.imshow(plot)\n",
    "    plt.colorbar()\n",
    "    #plt.gca().invert_yaxis()\n",
    "    plt.title(\"Optimization of protein production on different environment uptake\")\n",
    "    plt.xlabel(\"Methane uptake\")\n",
    "    plt.ylabel(\"Oxygen uptake\")\n",
    "    plt.xticks(ticks, label_met)\n",
    "    plt.yticks(ticks, label_ox)\n",
    "    plt.grid()\n",
    "    return plot"
   ]
  },
  {
   "cell_type": "code",
   "execution_count": 172,
   "metadata": {},
   "outputs": [
    {
     "name": "stderr",
     "output_type": "stream",
     "text": [
      "C:\\Users\\s202562\\AppData\\Roaming\\Python\\Python37\\site-packages\\cobra\\util\\solver.py:554: UserWarning: Solver status is 'infeasible'.\n",
      "  warn(f\"Solver status is '{status}'.\", UserWarning)\n"
     ]
    },
    {
     "data": {
      "image/png": "[encoded data removed]",
      "text/plain": [
       "<Figure size 432x288 with 2 Axes>"
      ]
     },
     "metadata": {
      "needs_background": "light"
     },
     "output_type": "display_data"
    }
   ],
   "source": [
    "max_met = 5; max_ox = 50; precision = 200\n",
    "plot = image_plot(pheast_final, precision, max_met, max_ox)"
   ]
  },
  {
   "cell_type": "code",
   "execution_count": 173,
   "metadata": {},
   "outputs": [
    {
     "data": {
      "image/png": "[encoded data removed]",
      "text/plain": [
       "<Figure size 432x288 with 2 Axes>"
      ]
     },
     "metadata": {
      "needs_background": "light"
     },
     "output_type": "display_data"
    }
   ],
   "source": [
    "max_met = 5; max_ox = 10; precision = 10\n",
    "plot = image_plot(pheast_final, precision, max_met, max_ox)"
   ]
  },
  {
   "cell_type": "code",
   "execution_count": 170,
   "metadata": {},
   "outputs": [
    {
     "name": "stdout",
     "output_type": "stream",
     "text": [
      "0.005415006020006827\n"
     ]
    },
    {
     "data": {
      "text/html": [
       "<h3>Objective</h3><p>1.0 hemo_Biosynthesis = 0.005415006020006832</p><h4>Uptake</h4><table border=\"1\" class=\"dataframe\">\n",
       "  <thead>\n",
       "    <tr style=\"text-align: right;\">\n",
       "      <th>Metabolite</th>\n",
       "      <th>Reaction</th>\n",
       "      <th>Flux</th>\n",
       "      <th>C-Number</th>\n",
       "      <th>C-Flux</th>\n",
       "    </tr>\n",
       "  </thead>\n",
       "  <tbody>\n",
       "    <tr>\n",
       "      <td>m1231</td>\n",
       "      <td>r1159</td>\n",
       "      <td>0.06182</td>\n",
       "      <td>0</td>\n",
       "      <td>0.00%</td>\n",
       "    </tr>\n",
       "    <tr>\n",
       "      <td>m1232</td>\n",
       "      <td>r1160</td>\n",
       "      <td>12</td>\n",
       "      <td>0</td>\n",
       "      <td>0.00%</td>\n",
       "    </tr>\n",
       "    <tr>\n",
       "      <td>m1233</td>\n",
       "      <td>r1169</td>\n",
       "      <td>0.0003478</td>\n",
       "      <td>0</td>\n",
       "      <td>0.00%</td>\n",
       "    </tr>\n",
       "    <tr>\n",
       "      <td>e_methane</td>\n",
       "      <td>r_uptake_methane</td>\n",
       "      <td>4.444</td>\n",
       "      <td>1</td>\n",
       "      <td>100.00%</td>\n",
       "    </tr>\n",
       "  </tbody>\n",
       "</table><h4>Secretion</h4><table border=\"1\" class=\"dataframe\">\n",
       "  <thead>\n",
       "    <tr style=\"text-align: right;\">\n",
       "      <th>Metabolite</th>\n",
       "      <th>Reaction</th>\n",
       "      <th>Flux</th>\n",
       "      <th>C-Number</th>\n",
       "      <th>C-Flux</th>\n",
       "    </tr>\n",
       "  </thead>\n",
       "  <tbody>\n",
       "    <tr>\n",
       "      <td>hemo_e</td>\n",
       "      <td>EX_hemo</td>\n",
       "      <td>-0.005415</td>\n",
       "      <td>0</td>\n",
       "      <td>0.00%</td>\n",
       "    </tr>\n",
       "    <tr>\n",
       "      <td>m1244</td>\n",
       "      <td>r1137</td>\n",
       "      <td>-4.197</td>\n",
       "      <td>0</td>\n",
       "      <td>0.00%</td>\n",
       "    </tr>\n",
       "    <tr>\n",
       "      <td>m30</td>\n",
       "      <td>r1150</td>\n",
       "      <td>-15.67</td>\n",
       "      <td>0</td>\n",
       "      <td>0.00%</td>\n",
       "    </tr>\n",
       "  </tbody>\n",
       "</table>"
      ],
      "text/plain": [
       "<cobra.summary.model_summary.ModelSummary at 0x1dce3c3a988>"
      ]
     },
     "execution_count": 170,
     "metadata": {},
     "output_type": "execute_result"
    }
   ],
   "source": [
    "pheast.reactions.r_uptake_methane.bounds = 4.444, 4.444\n",
    "pheast.reactions.r1160.bounds = 12, 12\n",
    "print(pheast.optimize().objective_value)\n",
    "pheast.summary()\n"
   ]
  },
  {
   "cell_type": "code",
   "execution_count": 147,
   "metadata": {},
   "outputs": [],
   "source": [
    "precision = 10\n",
    "met_max_uptake = 5\n",
    "ox_max_uptake = 20\n",
    "plot = np.zeros([precision, precision])\n",
    "#conc_vec = np.linspace(0, max_uptake, precision)\n",
    "methane_vec = np.linspace(0,met_max_uptake,precision)\n",
    "oxygen_vec = np.linspace(0,ox_max_uptake,precision)\n",
    "for count_met, met in enumerate(methane_vec):\n",
    "    for count_ox, oxygen in enumerate(oxygen_vec):\n",
    "        pheast.reactions.uptake_methane.bounds = met, met\n",
    "        pheast.reactions.r1160.bounds = oxygen, oxygen\n",
    "        pheast.objective = pheast.problem.Objective(pheast.reactions.r1339.flux_expression)\n",
    "        pheast.reactions.r1339.bounds = pheast.optimize().objective_value, pheast.optimize().objective_value\n",
    "        pheast.objective = pheast.problem.Objective(pheast.reactions.hemo_Biosynthesis.flux_expression)\n",
    "        plot[count_met, count_ox] = pheast.optimize().objective_value"
   ]
  },
  {
   "cell_type": "code",
   "execution_count": null,
   "metadata": {},
   "outputs": [],
   "source": []
  }
 ],
 "metadata": {
  "kernelspec": {
   "display_name": "Python 3",
   "language": "python",
   "name": "python3"
  },
  "language_info": {
   "codemirror_mode": {
    "name": "ipython",
    "version": 3
   },
   "file_extension": ".py",
   "mimetype": "text/x-python",
   "name": "python",
   "nbconvert_exporter": "python",
   "pygments_lexer": "ipython3",
   "version": "3.7.4"
  }
 },
 "nbformat": 4,
 "nbformat_minor": 5
}
