{
 "cells": [
  {
   "cell_type": "code",
   "execution_count": 154,
   "id": "a05862fa",
   "metadata": {},
   "outputs": [],
   "source": [
    "# load model\n",
    "\n",
    "import cobra\n",
    "\n",
    "# model originally from:\n",
    "# Caspeta L, Shoaie S, Agren R, et al (2012) Genome-scale metabolic reconstructions of Pichia stipitis and Pichia pastoris and in silico evaluation of their potentials. BMC Syst Biol 6:24. doi: 10.1186/1752-0509-6-24.\n",
    "\n",
    "# model with heterologous protein production was used as starting point for our simulation:\n",
    "# Irani ZA, Kerkhoven EJ, Shojaosadati SA, Nielsen J (2016) Genome-scale metabolic model of Pichia pastoris with native and humanized glycosylation of recombinant proteins. Biotechnol Bioeng 113:961–969. doi: 10.1002/bit.25863.\n",
    "\n",
    "# it is common for these models to give some warnings when uploaded for the first time, so in order to avoid them, it is just required to rewrite the model as follows\n",
    "\n",
    "#pheast = cobra.io.read_sbml_model(\"./data/ihGlycopastoris.xml\")\n",
    "#cobra.io.write_sbml_model(pheast,\"./data/ihGlycopastoris_rewritten.xml\")\n",
    "\n",
    "pheast = cobra.io.read_sbml_model(\"./data/ihGlycopastoris_rewritten.xml\")"
   ]
  },
  {
   "cell_type": "code",
   "execution_count": 151,
   "id": "47a6b51a",
   "metadata": {},
   "outputs": [
    {
     "data": {
      "text/plain": [
       "[<Reaction r1338 at 0x26bcb3682e8>,\n",
       " <Reaction r1337 at 0x26bcb389cc0>,\n",
       " <Reaction r1100 at 0x26bcb398d68>,\n",
       " <Reaction r1101 at 0x26bcb398ef0>,\n",
       " <Reaction r1102 at 0x26bcb3a6fd0>,\n",
       " <Reaction r1103 at 0x26bcb398f28>]"
      ]
     },
     "execution_count": 151,
     "metadata": {},
     "output_type": "execute_result"
    }
   ],
   "source": [
    "# In the original model the production of FAB protein was included, but we want to remove its reactions\n",
    "# those will be include protein transport and protein production (dna, rna, amino acid sequence and protein)\n",
    "pheast.reactions.query(\"FAB\", \"name\")"
   ]
  },
  {
   "cell_type": "code",
   "execution_count": 152,
   "id": "35002d13",
   "metadata": {},
   "outputs": [
    {
     "data": {
      "text/plain": [
       "[<Metabolite m1360 at 0x26bc9cca860>,\n",
       " <Metabolite m1361 at 0x26bc9cca908>,\n",
       " <Metabolite m1362 at 0x26bc9cca9b0>,\n",
       " <Metabolite m1363 at 0x26bc9ccaa90>,\n",
       " <Metabolite m1364 at 0x26bc9ccab70>]"
      ]
     },
     "execution_count": 152,
     "metadata": {},
     "output_type": "execute_result"
    }
   ],
   "source": [
    "# we also remove the metabolites related to FAB, which will be those related to dna, rna and amino acid sequence, as well as the protein in different compartments\n",
    "pheast.metabolites.query(\"FAB\", \"name\")"
   ]
  },
  {
   "cell_type": "code",
   "execution_count": 155,
   "id": "703b3db6",
   "metadata": {},
   "outputs": [],
   "source": [
    "# first remove the heterologous protein production reactions from the paper\n",
    "\n",
    "pheast.remove_reactions([pheast.reactions.r1337,\n",
    "                        pheast.reactions.r1338,\n",
    "                        pheast.reactions.r1100,\n",
    "                        pheast.reactions.r1101,\n",
    "                        pheast.reactions.r1102,\n",
    "                        pheast.reactions.r1103])\n",
    "\n",
    "# and all the species related to the protein (dna, rna, aa and the protein on different compartments)\n",
    "\n",
    "pheast.remove_metabolites([pheast.metabolites.m1360,\n",
    "                          pheast.metabolites.m1361,\n",
    "                          pheast.metabolites.m1362,\n",
    "                          pheast.metabolites.m1363,\n",
    "                          pheast.metabolites.m1364])"
   ]
  },
  {
   "cell_type": "code",
   "execution_count": 8,
   "id": "55996075",
   "metadata": {
    "scrolled": false
   },
   "outputs": [
    {
     "data": {
      "text/html": [
       "<h3>Objective</h3><p>1.0 r1339 = 0.08024107232294864</p><h4>Uptake</h4><table border=\"1\" class=\"dataframe\">\n",
       "  <thead>\n",
       "    <tr style=\"text-align: right;\">\n",
       "      <th>Metabolite</th>\n",
       "      <th>Reaction</th>\n",
       "      <th>Flux</th>\n",
       "      <th>C-Number</th>\n",
       "      <th>C-Flux</th>\n",
       "    </tr>\n",
       "  </thead>\n",
       "  <tbody>\n",
       "    <tr>\n",
       "      <td>m2</td>\n",
       "      <td>r1145</td>\n",
       "      <td>1</td>\n",
       "      <td>0</td>\n",
       "      <td>0.00%</td>\n",
       "    </tr>\n",
       "    <tr>\n",
       "      <td>m1231</td>\n",
       "      <td>r1159</td>\n",
       "      <td>0.4626</td>\n",
       "      <td>0</td>\n",
       "      <td>0.00%</td>\n",
       "    </tr>\n",
       "    <tr>\n",
       "      <td>m1232</td>\n",
       "      <td>r1160</td>\n",
       "      <td>0.7967</td>\n",
       "      <td>0</td>\n",
       "      <td>0.00%</td>\n",
       "    </tr>\n",
       "    <tr>\n",
       "      <td>m1224</td>\n",
       "      <td>r1164</td>\n",
       "      <td>0.03312</td>\n",
       "      <td>0</td>\n",
       "      <td>0.00%</td>\n",
       "    </tr>\n",
       "    <tr>\n",
       "      <td>m1233</td>\n",
       "      <td>r1169</td>\n",
       "      <td>0.002458</td>\n",
       "      <td>0</td>\n",
       "      <td>0.00%</td>\n",
       "    </tr>\n",
       "  </tbody>\n",
       "</table><h4>Secretion</h4><table border=\"1\" class=\"dataframe\">\n",
       "  <thead>\n",
       "    <tr style=\"text-align: right;\">\n",
       "      <th>Metabolite</th>\n",
       "      <th>Reaction</th>\n",
       "      <th>Flux</th>\n",
       "      <th>C-Number</th>\n",
       "      <th>C-Flux</th>\n",
       "    </tr>\n",
       "  </thead>\n",
       "  <tbody>\n",
       "    <tr>\n",
       "      <td>m1226</td>\n",
       "      <td>r1133</td>\n",
       "      <td>-0.08024</td>\n",
       "      <td>0</td>\n",
       "      <td>0.00%</td>\n",
       "    </tr>\n",
       "    <tr>\n",
       "      <td>m1244</td>\n",
       "      <td>r1137</td>\n",
       "      <td>-1.597</td>\n",
       "      <td>0</td>\n",
       "      <td>0.00%</td>\n",
       "    </tr>\n",
       "    <tr>\n",
       "      <td>m30</td>\n",
       "      <td>r1150</td>\n",
       "      <td>-3.43</td>\n",
       "      <td>0</td>\n",
       "      <td>0.00%</td>\n",
       "    </tr>\n",
       "  </tbody>\n",
       "</table>"
      ],
      "text/plain": [
       "<cobra.summary.model_summary.ModelSummary at 0x1fcbd6c1b70>"
      ]
     },
     "execution_count": 8,
     "metadata": {},
     "output_type": "execute_result"
    }
   ],
   "source": [
    "# run the model/optimizes for cell growth\n",
    "# the usual approach for these models is to optimize cell growth/biomass production, which is also done here (reaction r1339 in this model)\n",
    "# one can always choose other reactions to be optimized, as will be seen later on\n",
    "\n",
    "pheast.summary()\n",
    "\n",
    "# comment: I think for documentation is nice to specify why these two different functions (it is not required to run optimize before summary)\n",
    "# optimize() and summary() methods run the same process, but as the name indicates, summary outputs some information for uptake and secretion besides the optimization result, offered by optimize() method"
   ]
  },
  {
   "cell_type": "code",
   "execution_count": 6,
   "id": "367bfc7b",
   "metadata": {},
   "outputs": [
    {
     "data": {
      "text/html": [
       "\n",
       "        <table>\n",
       "            <tr>\n",
       "                <td><strong>Metabolite identifier</strong></td><td>m2</td>\n",
       "            </tr><tr>\n",
       "                <td><strong>Name</strong></td><td>alpha-D-Glucose_C6H12O6</td>\n",
       "            </tr><tr>\n",
       "                <td><strong>Memory address</strong></td>\n",
       "                <td>0x020958da8240</td>\n",
       "            </tr><tr>\n",
       "                <td><strong>Formula</strong></td><td></td>\n",
       "            </tr><tr>\n",
       "                <td><strong>Compartment</strong></td><td>C_e</td>\n",
       "            </tr><tr>\n",
       "                <td><strong>In 3 reaction(s)</strong></td><td>\n",
       "                    r764, r1145, r552</td>\n",
       "            </tr>\n",
       "        </table>"
      ],
      "text/plain": [
       "<Metabolite m2 at 0x20958da8240>"
      ]
     },
     "execution_count": 6,
     "metadata": {},
     "output_type": "execute_result"
    }
   ],
   "source": [
    "# comment: I would introduce how we know m1293 is glucose, and with this simple command we find all the info about reactions and what it is\n",
    "# one metabolite is uptaken with a rate of 1 mmol gDW^-1 h^-1 (classic GSM models units)\n",
    "pheast.metabolites.m2"
   ]
  },
  {
   "cell_type": "code",
   "execution_count": 14,
   "id": "45b3b29a",
   "metadata": {},
   "outputs": [
    {
     "data": {
      "text/html": [
       "\n",
       "        <table>\n",
       "            <tr>\n",
       "                <td><strong>Reaction identifier</strong></td><td>r764</td>\n",
       "            </tr><tr>\n",
       "                <td><strong>Name</strong></td><td>alpha,alpha-trehalose glucohydrolase</td>\n",
       "            </tr><tr>\n",
       "                <td><strong>Memory address</strong></td>\n",
       "                <td>0x0238bbea3b38</td>\n",
       "            </tr><tr>\n",
       "                <td><strong>Stoichiometry</strong></td>\n",
       "                <td>\n",
       "                    <p style='text-align:right'>m29 + m30 --> 2.0 m2</p>\n",
       "                    <p style='text-align:right'>alpha,alpha-Trehalose_C12H22O11 + H2O_H2O --> 2.0 alpha-D-Glucose_C6H12O6</p>\n",
       "                </td>\n",
       "            </tr><tr>\n",
       "                <td><strong>GPR</strong></td><td>PAS_chr4_0342</td>\n",
       "            </tr><tr>\n",
       "                <td><strong>Lower bound</strong></td><td>0.0</td>\n",
       "            </tr><tr>\n",
       "                <td><strong>Upper bound</strong></td><td>1000.0</td>\n",
       "            </tr>\n",
       "        </table>\n",
       "        "
      ],
      "text/plain": [
       "<Reaction r764 at 0x238bbea3b38>"
      ]
     },
     "execution_count": 14,
     "metadata": {},
     "output_type": "execute_result"
    }
   ],
   "source": [
    "# there is one secretion reaction\n",
    "pheast.reactions.r764"
   ]
  },
  {
   "cell_type": "code",
   "execution_count": 21,
   "id": "a5ca02f1",
   "metadata": {},
   "outputs": [
    {
     "data": {
      "text/html": [
       "\n",
       "        <table>\n",
       "            <tr>\n",
       "                <td><strong>Reaction identifier</strong></td><td>r1145</td>\n",
       "            </tr><tr>\n",
       "                <td><strong>Name</strong></td><td>Uptake of alpha-D-Glucose</td>\n",
       "            </tr><tr>\n",
       "                <td><strong>Memory address</strong></td>\n",
       "                <td>0x0238bb7735c0</td>\n",
       "            </tr><tr>\n",
       "                <td><strong>Stoichiometry</strong></td>\n",
       "                <td>\n",
       "                    <p style='text-align:right'>--> m2</p>\n",
       "                    <p style='text-align:right'>--> alpha-D-Glucose_C6H12O6</p>\n",
       "                </td>\n",
       "            </tr><tr>\n",
       "                <td><strong>GPR</strong></td><td></td>\n",
       "            </tr><tr>\n",
       "                <td><strong>Lower bound</strong></td><td>0.0</td>\n",
       "            </tr><tr>\n",
       "                <td><strong>Upper bound</strong></td><td>1.0</td>\n",
       "            </tr>\n",
       "        </table>\n",
       "        "
      ],
      "text/plain": [
       "<Reaction r1145 at 0x238bb7735c0>"
      ]
     },
     "execution_count": 21,
     "metadata": {},
     "output_type": "execute_result"
    }
   ],
   "source": [
    "# this is the glucose uptake reaction, and here is where the uptake constraints are defined\n",
    "# it is seen that glucose is limited to an uptake of a rate of 1 mmol gDW^-1 h^-1 (classic GSM models units)\n",
    "pheast.reactions.r1145"
   ]
  },
  {
   "cell_type": "code",
   "execution_count": 19,
   "id": "7da152b5",
   "metadata": {},
   "outputs": [
    {
     "data": {
      "text/html": [
       "\n",
       "        <table>\n",
       "            <tr>\n",
       "                <td><strong>Reaction identifier</strong></td><td>r552</td>\n",
       "            </tr><tr>\n",
       "                <td><strong>Name</strong></td><td>ATP:alpha-D-glucose 6-phosphotransferase</td>\n",
       "            </tr><tr>\n",
       "                <td><strong>Memory address</strong></td>\n",
       "                <td>0x0238bb6e62e8</td>\n",
       "            </tr><tr>\n",
       "                <td><strong>Stoichiometry</strong></td>\n",
       "                <td>\n",
       "                    <p style='text-align:right'>m1 + m2 --> m3 + m4</p>\n",
       "                    <p style='text-align:right'>ATP_C10H16N5O13P3 + alpha-D-Glucose_C6H12O6 --> ADP_C10H15N5O10P2 + alpha-D-Glucose 6-phosphate_C6H13O9P</p>\n",
       "                </td>\n",
       "            </tr><tr>\n",
       "                <td><strong>GPR</strong></td><td>PAS_chr3_1192 or PAS_chr4_0624 or PAS_chr1-4_0447 or PAS_chr1-4_0561</td>\n",
       "            </tr><tr>\n",
       "                <td><strong>Lower bound</strong></td><td>0.0</td>\n",
       "            </tr><tr>\n",
       "                <td><strong>Upper bound</strong></td><td>1000.0</td>\n",
       "            </tr>\n",
       "        </table>\n",
       "        "
      ],
      "text/plain": [
       "<Reaction r552 at 0x238bb6e62e8>"
      ]
     },
     "execution_count": 19,
     "metadata": {},
     "output_type": "execute_result"
    }
   ],
   "source": [
    "# and this reaction is the insertion of glucose into the cytosol by using ATP \n",
    "pheast.reactions.r552"
   ]
  },
  {
   "cell_type": "code",
   "execution_count": 9,
   "id": "62306539",
   "metadata": {
    "scrolled": true
   },
   "outputs": [
    {
     "data": {
      "text/plain": [
       "[<Reaction r1158 at 0x2096bd23128>]"
      ]
     },
     "execution_count": 9,
     "metadata": {},
     "output_type": "execute_result"
    }
   ],
   "source": [
    "# first, it was wanted to see how phaffii grew on methanol --> look for methanol reactions (there are more reactions for methanol, but the name starts with capital letter \"Methanol\")\n",
    "# comment: Should we try also to document the reactions with \"Methanol\" to document the MUT pathway?\n",
    "pheast.reactions.query(\"methanol\", \"name\")"
   ]
  },
  {
   "cell_type": "code",
   "execution_count": 10,
   "id": "313f73ab",
   "metadata": {},
   "outputs": [
    {
     "data": {
      "text/html": [
       "\n",
       "        <table>\n",
       "            <tr>\n",
       "                <td><strong>Reaction identifier</strong></td><td>r1158</td>\n",
       "            </tr><tr>\n",
       "                <td><strong>Name</strong></td><td>uptake of methanol</td>\n",
       "            </tr><tr>\n",
       "                <td><strong>Memory address</strong></td>\n",
       "                <td>0x02096bd23128</td>\n",
       "            </tr><tr>\n",
       "                <td><strong>Stoichiometry</strong></td>\n",
       "                <td>\n",
       "                    <p style='text-align:right'>--> m1219</p>\n",
       "                    <p style='text-align:right'>--> Methanol_CH4O</p>\n",
       "                </td>\n",
       "            </tr><tr>\n",
       "                <td><strong>GPR</strong></td><td></td>\n",
       "            </tr><tr>\n",
       "                <td><strong>Lower bound</strong></td><td>0.0</td>\n",
       "            </tr><tr>\n",
       "                <td><strong>Upper bound</strong></td><td>0.0</td>\n",
       "            </tr>\n",
       "        </table>\n",
       "        "
      ],
      "text/plain": [
       "<Reaction r1158 at 0x2096bd23128>"
      ]
     },
     "execution_count": 10,
     "metadata": {},
     "output_type": "execute_result"
    }
   ],
   "source": [
    "# this is methanol uptake\n",
    "pheast.reactions.r1158"
   ]
  },
  {
   "cell_type": "code",
   "execution_count": 156,
   "id": "8840057c",
   "metadata": {},
   "outputs": [],
   "source": [
    "# right now the carbon source is glucose --> this is changed to methanol (Methanol_CH4O) instead\n",
    "pheast.reactions.r1145.bounds = 0, 0  # no glucose \n",
    "pheast.reactions.r1158.bounds = 0, 1  # methanol at 1 mmol gDW^-1 h^-1"
   ]
  },
  {
   "cell_type": "code",
   "execution_count": 10,
   "id": "757f94b1",
   "metadata": {},
   "outputs": [
    {
     "data": {
      "text/html": [
       "<h3>Objective</h3><p>1.0 r1339 = 0.011445308121733791</p><h4>Uptake</h4><table border=\"1\" class=\"dataframe\">\n",
       "  <thead>\n",
       "    <tr style=\"text-align: right;\">\n",
       "      <th>Metabolite</th>\n",
       "      <th>Reaction</th>\n",
       "      <th>Flux</th>\n",
       "      <th>C-Number</th>\n",
       "      <th>C-Flux</th>\n",
       "    </tr>\n",
       "  </thead>\n",
       "  <tbody>\n",
       "    <tr>\n",
       "      <td>m1219</td>\n",
       "      <td>r1158</td>\n",
       "      <td>1</td>\n",
       "      <td>0</td>\n",
       "      <td>0.00%</td>\n",
       "    </tr>\n",
       "    <tr>\n",
       "      <td>m1231</td>\n",
       "      <td>r1159</td>\n",
       "      <td>0.06599</td>\n",
       "      <td>0</td>\n",
       "      <td>0.00%</td>\n",
       "    </tr>\n",
       "    <tr>\n",
       "      <td>m1232</td>\n",
       "      <td>r1160</td>\n",
       "      <td>1.258</td>\n",
       "      <td>0</td>\n",
       "      <td>0.00%</td>\n",
       "    </tr>\n",
       "    <tr>\n",
       "      <td>m1224</td>\n",
       "      <td>r1164</td>\n",
       "      <td>0.004724</td>\n",
       "      <td>0</td>\n",
       "      <td>0.00%</td>\n",
       "    </tr>\n",
       "    <tr>\n",
       "      <td>m1233</td>\n",
       "      <td>r1169</td>\n",
       "      <td>0.0003506</td>\n",
       "      <td>0</td>\n",
       "      <td>0.00%</td>\n",
       "    </tr>\n",
       "  </tbody>\n",
       "</table><h4>Secretion</h4><table border=\"1\" class=\"dataframe\">\n",
       "  <thead>\n",
       "    <tr style=\"text-align: right;\">\n",
       "      <th>Metabolite</th>\n",
       "      <th>Reaction</th>\n",
       "      <th>Flux</th>\n",
       "      <th>C-Number</th>\n",
       "      <th>C-Flux</th>\n",
       "    </tr>\n",
       "  </thead>\n",
       "  <tbody>\n",
       "    <tr>\n",
       "      <td>m1226</td>\n",
       "      <td>r1133</td>\n",
       "      <td>-0.01145</td>\n",
       "      <td>0</td>\n",
       "      <td>0.00%</td>\n",
       "    </tr>\n",
       "    <tr>\n",
       "      <td>m1244</td>\n",
       "      <td>r1137</td>\n",
       "      <td>-0.372</td>\n",
       "      <td>0</td>\n",
       "      <td>0.00%</td>\n",
       "    </tr>\n",
       "    <tr>\n",
       "      <td>m30</td>\n",
       "      <td>r1150</td>\n",
       "      <td>-1.643</td>\n",
       "      <td>0</td>\n",
       "      <td>0.00%</td>\n",
       "    </tr>\n",
       "  </tbody>\n",
       "</table>"
      ],
      "text/plain": [
       "<cobra.summary.model_summary.ModelSummary at 0x1fcbf2ec160>"
      ]
     },
     "execution_count": 10,
     "metadata": {},
     "output_type": "execute_result"
    }
   ],
   "source": [
    "# now it grows on methanol (slower than in glucose)\n",
    "pheast.summary()"
   ]
  },
  {
   "cell_type": "code",
   "execution_count": 13,
   "id": "32cf5ca6",
   "metadata": {},
   "outputs": [
    {
     "data": {
      "text/plain": [
       "[]"
      ]
     },
     "execution_count": 13,
     "metadata": {},
     "output_type": "execute_result"
    }
   ],
   "source": [
    "# no methane yet in the model\n",
    "pheast.metabolites.query(\"methane\", \"name\")"
   ]
  },
  {
   "cell_type": "markdown",
   "id": "a61d019f",
   "metadata": {},
   "source": [
    "There are already some predefined compartments in the model, that are required to specify new species: \n",
    "\n",
    "- compartment \"C_c\" name=\"cytosol\"\n",
    "- compartment \"C_e\" name=\"extracellular\" \n",
    "- compartment \"C_m\" name=\"mitochondrion\"\n",
    "- compartment \"C_p\" name=\"peroxisome\" \n",
    "- compartment \"C_v\" name=\"vacuole\" \n",
    "- compartment \"C_g\" name=\"golgi\" \n",
    "- compartment \"C_r\" name=\"ER\" "
   ]
  },
  {
   "cell_type": "code",
   "execution_count": 157,
   "id": "b555ca89",
   "metadata": {},
   "outputs": [],
   "source": [
    "# we add methane on the extracellular compartment\n",
    "\n",
    "e_methane = cobra.Metabolite(\n",
    "    'e_methane',\n",
    "    formula='CH4',\n",
    "    name='extracellular_methane',\n",
    "    compartment='C_e')\n",
    "\n",
    "pheast.add_metabolites([e_methane])"
   ]
  },
  {
   "cell_type": "code",
   "execution_count": 158,
   "id": "387e915c",
   "metadata": {},
   "outputs": [],
   "source": [
    "# make reactions\n",
    "\n",
    "uptake_methane = cobra.Reaction(\n",
    "            'uptake_methane',\n",
    "            name = 'Methane Uptake from Environment',\n",
    "            lower_bound = 0,\n",
    "            upper_bound = 1.0\n",
    "        )\n",
    "\n",
    "methane_oxidation = cobra.Reaction(\n",
    "            'methane_oxidation',\n",
    "            name = 'Methane Oxidation',\n",
    "            lower_bound = 0,\n",
    "            upper_bound = 1000.0\n",
    "    )\n",
    "\n",
    "# add involved metabolites and stoichiometry\n",
    "\n",
    "uptake_methane.add_metabolites(\n",
    "    {\n",
    "        pheast.metabolites.e_methane: 1.0\n",
    "    }\n",
    ")\n",
    "\n",
    "# pMMO reaction without redox coenzyme (in literature mostly ubiquinol is mentioned but neither is there\n",
    "# cytosolic ubiquinol in this model (only in mitochondria), nor does the literature agree on what its role may be exactly )\n",
    "\n",
    "methane_oxidation.add_metabolites(\n",
    "    {\n",
    "        pheast.metabolites.e_methane: -1.0,\n",
    "        pheast.metabolites.m1232: -1.0,\n",
    "        pheast.metabolites.m1215: 1.0,\n",
    "        pheast.metabolites.m139: 1.0,\n",
    "    }\n",
    ")\n",
    "\n",
    "# add gene dependency for pMMO reaction\n",
    "\n",
    "methane_oxidation.gene_reaction_rule = '( pMMO_A and pMMO_B and pMMO_C )'\n",
    "\n",
    "# add reactions to pheast\n",
    "\n",
    "pheast.add_reactions([uptake_methane, methane_oxidation])"
   ]
  },
  {
   "cell_type": "code",
   "execution_count": 159,
   "id": "8395b8d8",
   "metadata": {},
   "outputs": [],
   "source": [
    "pheast.reactions.r1158.bounds = 0, 0  # set methanol uptake to 0 and try if it grows on methane"
   ]
  },
  {
   "cell_type": "code",
   "execution_count": 19,
   "id": "9a760e26",
   "metadata": {},
   "outputs": [
    {
     "data": {
      "text/html": [
       "<h3>Objective</h3><p>1.0 r1339 = 0.0057226540608668</p><h4>Uptake</h4><table border=\"1\" class=\"dataframe\">\n",
       "  <thead>\n",
       "    <tr style=\"text-align: right;\">\n",
       "      <th>Metabolite</th>\n",
       "      <th>Reaction</th>\n",
       "      <th>Flux</th>\n",
       "      <th>C-Number</th>\n",
       "      <th>C-Flux</th>\n",
       "    </tr>\n",
       "  </thead>\n",
       "  <tbody>\n",
       "    <tr>\n",
       "      <td>m1231</td>\n",
       "      <td>r1159</td>\n",
       "      <td>0.03299</td>\n",
       "      <td>0</td>\n",
       "      <td>0.00%</td>\n",
       "    </tr>\n",
       "    <tr>\n",
       "      <td>m1232</td>\n",
       "      <td>r1160</td>\n",
       "      <td>2.11</td>\n",
       "      <td>0</td>\n",
       "      <td>0.00%</td>\n",
       "    </tr>\n",
       "    <tr>\n",
       "      <td>m1224</td>\n",
       "      <td>r1164</td>\n",
       "      <td>0.002362</td>\n",
       "      <td>0</td>\n",
       "      <td>0.00%</td>\n",
       "    </tr>\n",
       "    <tr>\n",
       "      <td>m1233</td>\n",
       "      <td>r1169</td>\n",
       "      <td>0.0001753</td>\n",
       "      <td>0</td>\n",
       "      <td>0.00%</td>\n",
       "    </tr>\n",
       "    <tr>\n",
       "      <td>e_methane</td>\n",
       "      <td>uptake_methane</td>\n",
       "      <td>1</td>\n",
       "      <td>1</td>\n",
       "      <td>100.00%</td>\n",
       "    </tr>\n",
       "  </tbody>\n",
       "</table><h4>Secretion</h4><table border=\"1\" class=\"dataframe\">\n",
       "  <thead>\n",
       "    <tr style=\"text-align: right;\">\n",
       "      <th>Metabolite</th>\n",
       "      <th>Reaction</th>\n",
       "      <th>Flux</th>\n",
       "      <th>C-Number</th>\n",
       "      <th>C-Flux</th>\n",
       "    </tr>\n",
       "  </thead>\n",
       "  <tbody>\n",
       "    <tr>\n",
       "      <td>m1226</td>\n",
       "      <td>r1133</td>\n",
       "      <td>-0.005723</td>\n",
       "      <td>0</td>\n",
       "      <td>0.00%</td>\n",
       "    </tr>\n",
       "    <tr>\n",
       "      <td>m1244</td>\n",
       "      <td>r1137</td>\n",
       "      <td>-0.686</td>\n",
       "      <td>0</td>\n",
       "      <td>0.00%</td>\n",
       "    </tr>\n",
       "    <tr>\n",
       "      <td>m30</td>\n",
       "      <td>r1150</td>\n",
       "      <td>-2.784</td>\n",
       "      <td>0</td>\n",
       "      <td>0.00%</td>\n",
       "    </tr>\n",
       "  </tbody>\n",
       "</table>"
      ],
      "text/plain": [
       "<cobra.summary.model_summary.ModelSummary at 0x26bc42b2160>"
      ]
     },
     "execution_count": 19,
     "metadata": {},
     "output_type": "execute_result"
    }
   ],
   "source": [
    "# it grows on methane\n",
    "pheast.summary()"
   ]
  },
  {
   "cell_type": "code",
   "execution_count": 27,
   "id": "91a3cace",
   "metadata": {},
   "outputs": [
    {
     "data": {
      "text/html": [
       "<h3>Objective</h3><p>1.0 r1339 = 0.0</p><h4>Uptake</h4><table border=\"1\" class=\"dataframe\">\n",
       "  <thead>\n",
       "    <tr style=\"text-align: right;\">\n",
       "      <th>Metabolite</th>\n",
       "      <th>Reaction</th>\n",
       "      <th>Flux</th>\n",
       "      <th>C-Number</th>\n",
       "      <th>C-Flux</th>\n",
       "    </tr>\n",
       "  </thead>\n",
       "  <tbody>\n",
       "  </tbody>\n",
       "</table><h4>Secretion</h4><table border=\"1\" class=\"dataframe\">\n",
       "  <thead>\n",
       "    <tr style=\"text-align: right;\">\n",
       "      <th>Metabolite</th>\n",
       "      <th>Reaction</th>\n",
       "      <th>Flux</th>\n",
       "      <th>C-Number</th>\n",
       "      <th>C-Flux</th>\n",
       "    </tr>\n",
       "  </thead>\n",
       "  <tbody>\n",
       "  </tbody>\n",
       "</table>"
      ],
      "text/plain": [
       "<cobra.summary.model_summary.ModelSummary at 0x1fcc0f10ba8>"
      ]
     },
     "execution_count": 27,
     "metadata": {},
     "output_type": "execute_result"
    }
   ],
   "source": [
    "# we can copy the model to not modify the original one and knock-out one of the genes involved in pMMO, then it won't grow\n",
    "pheast_knock_out = pheast.copy()\n",
    "pheast_knock_out.genes.pMMO_C.knock_out()\n",
    "pheast_knock_out.summary()"
   ]
  },
  {
   "cell_type": "code",
   "execution_count": 88,
   "id": "ad7680b8",
   "metadata": {
    "scrolled": true
   },
   "outputs": [
    {
     "data": {
      "text/plain": [
       "[<Metabolite m118 at 0x238a87f41d0>,\n",
       " <Metabolite m139 at 0x238a87fa0b8>,\n",
       " <Metabolite m140 at 0x238a87fa160>,\n",
       " <Metabolite m713 at 0x238bb4befd0>,\n",
       " <Metabolite m1179 at 0x238bb5405c0>]"
      ]
     },
     "execution_count": 88,
     "metadata": {},
     "output_type": "execute_result"
    }
   ],
   "source": [
    "# we will now introduce our heterologous protein: leghemoglobin\n",
    "# we look at the detoxification pathway as there is a heme group in both catalase and hemoglobin which could\n",
    "# influence our system in general and the reaction introduced for production of (leg)hemoglobin\n",
    "\n",
    "pheast.metabolites.query(\"H2O2\",\"name\")"
   ]
  },
  {
   "cell_type": "code",
   "execution_count": 89,
   "id": "b8f30a78",
   "metadata": {},
   "outputs": [
    {
     "data": {
      "text/html": [
       "\n",
       "        <table>\n",
       "            <tr>\n",
       "                <td><strong>Metabolite identifier</strong></td><td>m713</td>\n",
       "            </tr><tr>\n",
       "                <td><strong>Name</strong></td><td>H2O2_H2O2</td>\n",
       "            </tr><tr>\n",
       "                <td><strong>Memory address</strong></td>\n",
       "                <td>0x0238bb4befd0</td>\n",
       "            </tr><tr>\n",
       "                <td><strong>Formula</strong></td><td></td>\n",
       "            </tr><tr>\n",
       "                <td><strong>Compartment</strong></td><td>C_p</td>\n",
       "            </tr><tr>\n",
       "                <td><strong>In 16 reaction(s)</strong></td><td>\n",
       "                    r216, r221, r224, r219, r134, r222, r217, r218, r225, r220, r1088, r91, r99, r215, r223, r226</td>\n",
       "            </tr>\n",
       "        </table>"
      ],
      "text/plain": [
       "<Metabolite m713 at 0x238bb4befd0>"
      ]
     },
     "execution_count": 89,
     "metadata": {},
     "output_type": "execute_result"
    }
   ],
   "source": [
    "# this is the peroxisomal H2O2\n",
    "\n",
    "pheast.metabolites.m713"
   ]
  },
  {
   "cell_type": "code",
   "execution_count": 90,
   "id": "45dfad38",
   "metadata": {},
   "outputs": [
    {
     "data": {
      "text/html": [
       "\n",
       "        <table>\n",
       "            <tr>\n",
       "                <td><strong>Reaction identifier</strong></td><td>r99</td>\n",
       "            </tr><tr>\n",
       "                <td><strong>Name</strong></td><td>hydrogen-peroxide:hydrogen-peroxide oxidoreductase</td>\n",
       "            </tr><tr>\n",
       "                <td><strong>Memory address</strong></td>\n",
       "                <td>0x0238bbe84e80</td>\n",
       "            </tr><tr>\n",
       "                <td><strong>Stoichiometry</strong></td>\n",
       "                <td>\n",
       "                    <p style='text-align:right'>2.0 m713 --> 2.0 m65</p>\n",
       "                    <p style='text-align:right'>2.0 H2O2_H2O2 --> 2.0 H2O_H2O</p>\n",
       "                </td>\n",
       "            </tr><tr>\n",
       "                <td><strong>GPR</strong></td><td>PAS_chr2-2_0131</td>\n",
       "            </tr><tr>\n",
       "                <td><strong>Lower bound</strong></td><td>0.0</td>\n",
       "            </tr><tr>\n",
       "                <td><strong>Upper bound</strong></td><td>1000.0</td>\n",
       "            </tr>\n",
       "        </table>\n",
       "        "
      ],
      "text/plain": [
       "<Reaction r99 at 0x238bbe84e80>"
      ]
     },
     "execution_count": 90,
     "metadata": {},
     "output_type": "execute_result"
    }
   ],
   "source": [
    "# this is the catalase reaction, heme is not considered\n",
    "\n",
    "pheast.reactions.r99"
   ]
  },
  {
   "cell_type": "code",
   "execution_count": 91,
   "id": "b1db1e26",
   "metadata": {},
   "outputs": [
    {
     "data": {
      "text/plain": [
       "[<Metabolite m1051 at 0x238bb51e160>,\n",
       " <Metabolite m1059 at 0x238bb51e6d8>,\n",
       " <Metabolite m1060 at 0x238bb51e780>]"
      ]
     },
     "execution_count": 91,
     "metadata": {},
     "output_type": "execute_result"
    }
   ],
   "source": [
    "# we find there is a heme metabolite\n",
    "\n",
    "pheast.metabolites.query(\"Heme\",\"name\")"
   ]
  },
  {
   "cell_type": "code",
   "execution_count": 289,
   "id": "ed391a92",
   "metadata": {},
   "outputs": [
    {
     "data": {
      "text/html": [
       "\n",
       "        <table>\n",
       "            <tr>\n",
       "                <td><strong>Metabolite identifier</strong></td><td>m1056</td>\n",
       "            </tr><tr>\n",
       "                <td><strong>Name</strong></td><td>Coproporphyrinogen I_C36H44N4O8</td>\n",
       "            </tr><tr>\n",
       "                <td><strong>Memory address</strong></td>\n",
       "                <td>0x07fb6a65f87f0</td>\n",
       "            </tr><tr>\n",
       "                <td><strong>Formula</strong></td><td></td>\n",
       "            </tr><tr>\n",
       "                <td><strong>Compartment</strong></td><td>C_c</td>\n",
       "            </tr><tr>\n",
       "                <td><strong>In 1 reaction(s)</strong></td><td>\n",
       "                    r860</td>\n",
       "            </tr>\n",
       "        </table>"
      ],
      "text/plain": [
       "<Metabolite m1056 at 0x7fb6a65f87f0>"
      ]
     },
     "execution_count": 289,
     "metadata": {},
     "output_type": "execute_result"
    }
   ],
   "source": [
    "# it is siroheme\n",
    "\n",
    "pheast.metabolites.m1056"
   ]
  },
  {
   "cell_type": "code",
   "execution_count": 258,
   "id": "cef337b4",
   "metadata": {},
   "outputs": [
    {
     "data": {
      "text/html": [
       "\n",
       "        <table>\n",
       "            <tr>\n",
       "                <td><strong>Reaction identifier</strong></td><td>r973</td>\n",
       "            </tr><tr>\n",
       "                <td><strong>Name</strong></td><td>S-Adenosyl-L-methionine:uroporphyrin-III C-methyltransferase</td>\n",
       "            </tr><tr>\n",
       "                <td><strong>Memory address</strong></td>\n",
       "                <td>0x07fb6a5e67a60</td>\n",
       "            </tr><tr>\n",
       "                <td><strong>Stoichiometry</strong></td>\n",
       "                <td>\n",
       "                    <p style='text-align:right'>m1052 + m564 --> m1053 + 2.0 m16</p>\n",
       "                    <p style='text-align:right'>Sirohydrochlorin_C42H46N4O16 + Fe2+_Fe --> Siroheme_C42H44FeN4O16 + 2.0 H+_H</p>\n",
       "                </td>\n",
       "            </tr><tr>\n",
       "                <td><strong>GPR</strong></td><td>PAS_chr1-4_0222</td>\n",
       "            </tr><tr>\n",
       "                <td><strong>Lower bound</strong></td><td>0.0</td>\n",
       "            </tr><tr>\n",
       "                <td><strong>Upper bound</strong></td><td>1000.0</td>\n",
       "            </tr>\n",
       "        </table>\n",
       "        "
      ],
      "text/plain": [
       "<Reaction r973 at 0x7fb6a5e67a60>"
      ]
     },
     "execution_count": 258,
     "metadata": {},
     "output_type": "execute_result"
    }
   ],
   "source": [
    "# only involved in this reaction; it is also specifically a species of heme different from the one in catalse\n",
    "# and hemoglobin, so we should not take this one\n",
    "pheast.reactions.r973"
   ]
  },
  {
   "cell_type": "code",
   "execution_count": 83,
   "id": "75e92321",
   "metadata": {},
   "outputs": [
    {
     "data": {
      "text/plain": [
       "[<Metabolite m1045 at 0x238bb517d30>,\n",
       " <Metabolite m1046 at 0x238bb517dd8>,\n",
       " <Metabolite m1047 at 0x238bb517e80>,\n",
       " <Metabolite m1048 at 0x238bb517f28>,\n",
       " <Metabolite m1049 at 0x238bb517fd0>,\n",
       " <Metabolite m1055 at 0x238bb51e438>,\n",
       " <Metabolite m1056 at 0x238bb51e4e0>,\n",
       " <Metabolite m1185 at 0x238bb540a58>]"
      ]
     },
     "execution_count": 83,
     "metadata": {},
     "output_type": "execute_result"
    }
   ],
   "source": [
    "# there are also a bunch of porypherin metabolites which are similar to the hemoglobin\n",
    "\n",
    "pheast.metabolites.query(\"porphyrin\",\"name\")\n",
    "\n",
    "#    A. Díaz, P.C. Loewen, I. Fita, X. Carpena\n",
    "#    Thirty years of heme catalases structural biology\n",
    "#    Arch. Biochem. Biophys., 525 (2012), pp. 102-110\n",
    "\n",
    "# According to the source above C34-heme b is the most abundant, so we could go for that (there are some C34\n",
    "# poryphyrins) and introduce it in the catalase and later hemoglobin reaction but none are in the peroxisome"
   ]
  },
  {
   "cell_type": "code",
   "execution_count": 160,
   "id": "22dbd55d",
   "metadata": {},
   "outputs": [],
   "source": [
    "# now we will introduce the heterologous proteins, pMMO and leghemoglobin, with reactions for dna replication,\n",
    "# transcription and translation\n",
    "# as the sequences are long, we calculate the stoichiometry with a script which is on the github repo and\n",
    "# based on the logic behind introduction of heterologous protein production in the paper:\n",
    "# Irani ZA, Kerkhoven EJ, Shojaosadati SA, Nielsen J (2016) Genome-scale metabolic model of Pichia pastoris with native and humanized glycosylation of recombinant proteins. Biotechnol Bioeng 113:961–969. doi: 10.1002/bit.25863.\n",
    "\n",
    "# make new reactions\n",
    "\n",
    "pMMO_DNA_reaction = cobra.Reaction(\n",
    "            'pMMO_DNA_r',\n",
    "            name = 'pMMO DNA replication',\n",
    "            lower_bound = 0.0,\n",
    "            upper_bound = 1000,\n",
    "        )\n",
    "\n",
    "pMMO_RNA_reaction = cobra.Reaction(\n",
    "            'pMMO_RNA_r',\n",
    "            name = 'pMMO transcription',\n",
    "            lower_bound = 0.0,\n",
    "            upper_bound = 1000.0\n",
    "        )\n",
    "\n",
    "pMMO_AA_reaction = cobra.Reaction(\n",
    "            'pMMO_protein_r',\n",
    "            name = 'pMMO translation',\n",
    "            lower_bound = 0.0,\n",
    "            upper_bound = 1000.0\n",
    "    )\n",
    "\n",
    "hemo_DNA_reaction = cobra.Reaction(\n",
    "            'hemo_DNA_r',\n",
    "            name = 'hemoglobin DNA replication',\n",
    "            lower_bound = 0.0,\n",
    "            upper_bound = 1000.0\n",
    "        )\n",
    "\n",
    "hemo_RNA_reaction = cobra.Reaction(\n",
    "            'hemo_RNA_r',\n",
    "            name = 'hemoglobin transcription',\n",
    "            lower_bound = 0.0,\n",
    "            upper_bound = 1000.0\n",
    "        )\n",
    "\n",
    "hemo_AA_reaction = cobra.Reaction(\n",
    "            'hemo_AA_r',\n",
    "            name = 'hemoglobin translation',\n",
    "            lower_bound = 0.0,\n",
    "            upper_bound = 1000.0\n",
    ")\n",
    "\n",
    "\n",
    "# add the metabolites to be produced by these reactions\n",
    "\n",
    "pMMO_DNA = cobra.Metabolite(\n",
    "    'pMMO_DNA',\n",
    "    name='pMMO_DNA',\n",
    "    compartment='C_c')\n",
    "\n",
    "pMMO_RNA = cobra.Metabolite(\n",
    "    'pMMO_RNA',\n",
    "    name='pMMO_RNA',\n",
    "    compartment='C_c')\n",
    "\n",
    "pMMO_AA = cobra.Metabolite(\n",
    "    'pMMO_AA',\n",
    "    name='pMMO_AA',\n",
    "    compartment='C_c')\n",
    "\n",
    "hemo_DNA = cobra.Metabolite(\n",
    "    'hemo_DNA',\n",
    "    name='Hemo_DNA',\n",
    "    compartment='C_c')\n",
    "\n",
    "hemo_RNA = cobra.Metabolite(\n",
    "    'hemo_RNA',\n",
    "    name='Hemo_RNA',\n",
    "    compartment='C_c')\n",
    "\n",
    "hemo_AA = cobra.Metabolite(\n",
    "    'hemo_AA',\n",
    "    name='Leghemoglobin',\n",
    "    compartment='C_c')\n",
    "\n",
    "\n",
    "pheast.add_metabolites([pMMO_DNA,\n",
    "                       pMMO_RNA,\n",
    "                       pMMO_AA,\n",
    "                       hemo_DNA,\n",
    "                       hemo_RNA,\n",
    "                       hemo_AA])\n",
    "\n",
    "\n",
    "# add involved metabolites and stoichiometry\n",
    "\n",
    "pMMO_DNA_reaction.add_metabolites(\n",
    "    {\n",
    "        ### deoxynucleotides\n",
    "        # A\n",
    "        pheast.metabolites.m404: -0.97513,\n",
    "        # T\n",
    "        pheast.metabolites.m437: -0.97513,\n",
    "        # C\n",
    "        pheast.metabolites.m431: -0.64352,\n",
    "        # G\n",
    "        pheast.metabolites.m389: -0.64352,\n",
    "        # ATP\n",
    "        pheast.metabolites.m1: -11.00682,\n",
    "        # H2O\n",
    "        pheast.metabolites.m5: -11.00682,\n",
    "        # pMMO_DNA\n",
    "        pheast.metabolites.pMMO_DNA: 1.0,\n",
    "        # ADP\n",
    "        pheast.metabolites.m3: 11.00682,\n",
    "        # Phosphate\n",
    "        pheast.metabolites.m7: 11.00682\n",
    "    }\n",
    ")\n",
    "\n",
    "pMMO_RNA_reaction.add_metabolites(\n",
    "    {\n",
    "        ### RNA nucleotides\n",
    "        # A\n",
    "        pheast.metabolites.m94: -1.11694,\n",
    "        # U\n",
    "        pheast.metabolites.m418: -0.72523,\n",
    "        # C\n",
    "        pheast.metabolites.m423: -0.74,\n",
    "        # G\n",
    "        pheast.metabolites.m384: -0.53415,\n",
    "        # ATP\n",
    "        pheast.metabolites.m1: -7.47917,\n",
    "        # H2O\n",
    "        pheast.metabolites.m5: -7.47917,\n",
    "        # pMMO_RNA\n",
    "        pheast.metabolites.pMMO_RNA: 1.0,\n",
    "        # ADP\n",
    "        pheast.metabolites.m3: 7.47917,\n",
    "        # Phosphate\n",
    "        pheast.metabolites.m7: 7.47917\n",
    "    }\n",
    ")\n",
    "\n",
    "pMMO_AA_reaction.add_metabolites(\n",
    "    {\n",
    "        ### Amino Acids\n",
    "        # A\n",
    "        pheast.metabolites.m153: -0.73616,\n",
    "        # C\n",
    "        pheast.metabolites.m331: -0.02974,\n",
    "        # H\n",
    "        pheast.metabolites.m490: -0.19333,\n",
    "        # M\n",
    "        pheast.metabolites.m343: -0.29,\n",
    "        # T\n",
    "        pheast.metabolites.m305: -0.59487,\n",
    "        # R\n",
    "        pheast.metabolites.m158: -0.38667,\n",
    "        # E\n",
    "        pheast.metabolites.m154: -0.43872,\n",
    "        # I\n",
    "        pheast.metabolites.m239: -0.54282,\n",
    "        # F\n",
    "        pheast.metabolites.m272: -0.53539,\n",
    "        # W\n",
    "        pheast.metabolites.m280: -0.29744,\n",
    "        # N\n",
    "        pheast.metabolites.m161: -0.28256,\n",
    "        # Q\n",
    "        pheast.metabolites.m163: -0.1859,\n",
    "        # L\n",
    "        pheast.metabolites.m227: -0.84769,\n",
    "        # P\n",
    "        pheast.metabolites.m185: -0.43872,\n",
    "        # Y\n",
    "        pheast.metabolites.m274: -0.40154,\n",
    "        # D\n",
    "        pheast.metabolites.m156: -0.42385,\n",
    "        # G\n",
    "        pheast.metabolites.m210: -0.69898,\n",
    "        # K\n",
    "        pheast.metabolites.m203: -0.3941,\n",
    "        # S\n",
    "        pheast.metabolites.m279: -0.43872,\n",
    "        # V\n",
    "        pheast.metabolites.m222: -0.70641,\n",
    "        # ATP\n",
    "        pheast.metabolites.m1: -38.11352,\n",
    "        # H2O\n",
    "        pheast.metabolites.m5: -38.11352,\n",
    "        # pMMO\n",
    "        pheast.metabolites.pMMO_AA: 1.0,\n",
    "        # ADP\n",
    "        pheast.metabolites.m3: 38.11352,\n",
    "        # Phosphate\n",
    "        pheast.metabolites.m7: 38.11352\n",
    "    }\n",
    ")\n",
    "\n",
    "hemo_DNA_reaction.add_metabolites(\n",
    "    {\n",
    "        ### deoxynucleotides\n",
    "        # A\n",
    "        pheast.metabolites.m404: -1.0424,\n",
    "        # T\n",
    "        pheast.metabolites.m437: -1.0424,\n",
    "        # C\n",
    "        pheast.metabolites.m431: -0.57636,\n",
    "        # G\n",
    "        pheast.metabolites.m389: -0.57636,\n",
    "        # ATP\n",
    "        pheast.metabolites.m1: -11.00757,\n",
    "        # H2O\n",
    "        pheast.metabolites.m5: -11.00757,\n",
    "        # Hemo_DNA\n",
    "        pheast.metabolites.hemo_DNA: 1.0,\n",
    "        # ADP\n",
    "        pheast.metabolites.m3: 11.00757,\n",
    "        # Phosphate\n",
    "        pheast.metabolites.m7: 11.00757\n",
    "    }\n",
    ")\n",
    "\n",
    "hemo_RNA_reaction.add_metabolites(\n",
    "    {\n",
    "        ### RNA nucleotides\n",
    "        # A\n",
    "        pheast.metabolites.m94: -1.2408,\n",
    "        # U\n",
    "        pheast.metabolites.m418: -0.80329,\n",
    "        # C\n",
    "        pheast.metabolites.m423: -0.6455,\n",
    "        # G\n",
    "        pheast.metabolites.m384: -0.43034,\n",
    "        # ATP\n",
    "        pheast.metabolites.m1: -7.48783,\n",
    "        # H2O\n",
    "        pheast.metabolites.m5: -7.48783,\n",
    "        # Hemo_RNA\n",
    "        pheast.metabolites.hemo_RNA: 1.0,\n",
    "        # ADP\n",
    "        pheast.metabolites.m3: 7.48783,\n",
    "        # Phosphate\n",
    "        pheast.metabolites.m7: 7.48783\n",
    "    }\n",
    ")\n",
    "\n",
    "hemo_AA_reaction.add_metabolites(\n",
    "    {\n",
    "        ### Amino Acids\n",
    "        # A\n",
    "        pheast.metabolites.m153: -1.48373,\n",
    "        # C, no Cystein in leghemoglobin\n",
    "        # pheast.metabolites.m331:,\n",
    "        # H\n",
    "        pheast.metabolites.m490: -0.12902,\n",
    "        # M\n",
    "        pheast.metabolites.m343: -0.06451,\n",
    "        # T\n",
    "        pheast.metabolites.m305: -0.38706,\n",
    "        # R\n",
    "        pheast.metabolites.m158: -0.06451,\n",
    "        # E\n",
    "        pheast.metabolites.m154: -0.6451,\n",
    "        # I\n",
    "        pheast.metabolites.m239: -0.38706,\n",
    "        # F\n",
    "        pheast.metabolites.m272: -0.58059,\n",
    "        # W\n",
    "        pheast.metabolites.m280: -0.12902,\n",
    "        # N\n",
    "        pheast.metabolites.m161: -0.25804,\n",
    "        # Q\n",
    "        pheast.metabolites.m163: -0.32255,\n",
    "        # L\n",
    "        pheast.metabolites.m227: -0.83863,\n",
    "        # P\n",
    "        pheast.metabolites.m185: -0.32255,\n",
    "        # Y\n",
    "        pheast.metabolites.m274: -0.19353,\n",
    "        # D\n",
    "        pheast.metabolites.m156: -0.51608,\n",
    "        # G\n",
    "        pheast.metabolites.m210: -0.51608,\n",
    "        # K\n",
    "        pheast.metabolites.m203: -0.90314,\n",
    "        # S\n",
    "        pheast.metabolites.m279: -0.83863,\n",
    "        # V\n",
    "        pheast.metabolites.m222: -0.77412,\n",
    "        # ATP\n",
    "        pheast.metabolites.m1: -40.22199,\n",
    "        # H2O\n",
    "        pheast.metabolites.m5: -40.22199,\n",
    "        # Leghemoglobin\n",
    "        pheast.metabolites.hemo_AA: 1.0,\n",
    "        # ADP\n",
    "        pheast.metabolites.m3: 40.22199,\n",
    "        # Phosphate\n",
    "        pheast.metabolites.m7: 40.22199\n",
    "\n",
    "    }\n",
    ")\n",
    "\n",
    "\n",
    "# add reactions to pheast\n",
    "\n",
    "pheast.add_reactions([pMMO_DNA_reaction,\n",
    "                     pMMO_RNA_reaction,\n",
    "                     pMMO_AA_reaction,\n",
    "                     hemo_DNA_reaction,\n",
    "                     hemo_RNA_reaction,\n",
    "                     hemo_AA_reaction])"
   ]
  },
  {
   "cell_type": "code",
   "execution_count": 163,
   "id": "e58e2302",
   "metadata": {},
   "outputs": [],
   "source": [
    "# also add transport to extracellular and boundary proteins as well as \"Biosynthesis\" reactions\n",
    "# this was all done in the paper\n",
    "\n",
    "pMMO_c = cobra.Metabolite(\n",
    "    'pMMO_c',\n",
    "    formula='',\n",
    "    name='pMMO_c',\n",
    "    compartment='C_c')\n",
    "\n",
    "pMMO_e = cobra.Metabolite(\n",
    "    'pMMO_e',\n",
    "    formula='',\n",
    "    name='pMMO_e',\n",
    "    compartment='C_e')\n",
    "\n",
    "hemo_c = cobra.Metabolite(\n",
    "    'hemo_c',\n",
    "    formula='',\n",
    "    name='hemo_c',\n",
    "    compartment='C_c')\n",
    "\n",
    "hemo_e = cobra.Metabolite(\n",
    "    'hemo_e',\n",
    "    formula='',\n",
    "    name='hemo_e',\n",
    "    compartment='C_e')\n",
    "\n",
    "pheast.add_metabolites([pMMO_c,pMMO_e,\n",
    "                      hemo_c,hemo_e])\n",
    "\n",
    "\n",
    "pMMO_Biosynthesis = cobra.Reaction(\n",
    "            'pMMO_Biosynthesis',\n",
    "            name = 'pMMO Biosynthesis',\n",
    "            lower_bound = 0.0,\n",
    "            upper_bound = 1000.0\n",
    ")\n",
    "\n",
    "hemo_Biosynthesis = cobra.Reaction(\n",
    "            'hemo_Biosynthesis',\n",
    "            name = 'LeghemoglobinBiosynthesis',\n",
    "            lower_bound = 0.0,\n",
    "            upper_bound = 1000.0\n",
    ")\n",
    "\n",
    "extrac_pMMO = cobra.Reaction(\n",
    "            'c_pMMO_e',\n",
    "            name = 'extracellular transport pMMO',\n",
    "            lower_bound = 0,\n",
    "            upper_bound = 1000.0\n",
    ")\n",
    "\n",
    "extrac_Hemo = cobra.Reaction(\n",
    "            'c_Hemo_e',\n",
    "            name = 'extracellular transport Leghemoglobin',\n",
    "            lower_bound = 0,\n",
    "            upper_bound = 1000.0\n",
    ")\n",
    "\n",
    "EX_hemo = cobra.Reaction(\n",
    "            'EX_hemo',\n",
    "            name = 'hemoglobin exchange reaction',\n",
    "            lower_bound = -1000.0,\n",
    "            upper_bound = 1000.0\n",
    ")\n",
    "\n",
    "EX_pMMO = cobra.Reaction(\n",
    "            'EX_pMMO',\n",
    "            name = 'pMMO exchange reaction',\n",
    "            lower_bound = -1000.0,\n",
    "            upper_bound = 1000.0\n",
    ")\n",
    "\n",
    "\n",
    "\n",
    "hemo_Biosynthesis.add_metabolites(\n",
    "    {\n",
    "        pheast.metabolites.hemo_DNA: -2.8e-05,\n",
    "        \n",
    "        pheast.metabolites.hemo_RNA: -0.0029,\n",
    "        \n",
    "        pheast.metabolites.hemo_AA: -0.997,\n",
    "\n",
    "        pheast.metabolites.hemo_c: 1.0,\n",
    "    }\n",
    ")\n",
    "\n",
    "pMMO_Biosynthesis.add_metabolites(\n",
    "    {       \n",
    "        pheast.metabolites.pMMO_DNA: -2.8e-05,\n",
    "        \n",
    "        pheast.metabolites.pMMO_RNA: -0.0029,\n",
    "        \n",
    "        pheast.metabolites.pMMO_AA: -0.997,\n",
    "\n",
    "        pheast.metabolites.pMMO_c: 1.0,\n",
    "    }\n",
    ")\n",
    "\n",
    "\n",
    "extrac_pMMO.add_metabolites(\n",
    "    {\n",
    "        pheast.metabolites.pMMO_c: -1.0,   \n",
    "        \n",
    "        pheast.metabolites.pMMO_e: 1.0\n",
    "    }\n",
    ")\n",
    "\n",
    "extrac_Hemo.add_metabolites(\n",
    "    {\n",
    "        pheast.metabolites.hemo_c: -1.0,   \n",
    "        \n",
    "        pheast.metabolites.hemo_e: 1.0\n",
    "    }\n",
    ")\n",
    "\n",
    "EX_pMMO.add_metabolites(\n",
    "    {\n",
    "        pheast.metabolites.pMMO_e: -1.0\n",
    "    }\n",
    ")\n",
    "\n",
    "EX_hemo.add_metabolites(\n",
    "    {\n",
    "        pheast.metabolites.hemo_e: -1.0\n",
    "    }\n",
    ")\n",
    "\n",
    "pheast.add_reactions([extrac_pMMO,\n",
    "                    extrac_Hemo,\n",
    "                    pMMO_Biosynthesis,\n",
    "                    hemo_Biosynthesis,\n",
    "                    EX_hemo,\n",
    "                    EX_pMMO])"
   ]
  },
  {
   "cell_type": "code",
   "execution_count": 171,
   "id": "61567e9d",
   "metadata": {},
   "outputs": [],
   "source": [
    "# In order to optimize the protein production, the followed procedure is to first optimize for the growth, and then use this value\n",
    "# as constrain in the next optimization for the protein production\n",
    "\n",
    "pheast.reactions.r1339.bounds = pheast.optimize().objective_value, pheast.optimize().objective_value"
   ]
  },
  {
   "cell_type": "code",
   "execution_count": 172,
   "id": "fdb4d327",
   "metadata": {},
   "outputs": [],
   "source": [
    "pheast.objective = pheast.problem.Objective(pheast.reactions.hemo_Biosynthesis.flux_expression)"
   ]
  },
  {
   "cell_type": "code",
   "execution_count": 173,
   "id": "60b884de",
   "metadata": {},
   "outputs": [
    {
     "data": {
      "text/html": [
       "<h3>Objective</h3><p>1.0 hemo_Biosynthesis = 3.819077053886344e-14</p><h4>Uptake</h4><table border=\"1\" class=\"dataframe\">\n",
       "  <thead>\n",
       "    <tr style=\"text-align: right;\">\n",
       "      <th>Metabolite</th>\n",
       "      <th>Reaction</th>\n",
       "      <th>Flux</th>\n",
       "      <th>C-Number</th>\n",
       "      <th>C-Flux</th>\n",
       "    </tr>\n",
       "  </thead>\n",
       "  <tbody>\n",
       "    <tr>\n",
       "      <td>m1231</td>\n",
       "      <td>r1159</td>\n",
       "      <td>0.03299</td>\n",
       "      <td>0</td>\n",
       "      <td>0.00%</td>\n",
       "    </tr>\n",
       "    <tr>\n",
       "      <td>m1232</td>\n",
       "      <td>r1160</td>\n",
       "      <td>2.11</td>\n",
       "      <td>0</td>\n",
       "      <td>0.00%</td>\n",
       "    </tr>\n",
       "    <tr>\n",
       "      <td>m1224</td>\n",
       "      <td>r1164</td>\n",
       "      <td>0.002362</td>\n",
       "      <td>0</td>\n",
       "      <td>0.00%</td>\n",
       "    </tr>\n",
       "    <tr>\n",
       "      <td>m1233</td>\n",
       "      <td>r1169</td>\n",
       "      <td>0.0001753</td>\n",
       "      <td>0</td>\n",
       "      <td>0.00%</td>\n",
       "    </tr>\n",
       "    <tr>\n",
       "      <td>e_methane</td>\n",
       "      <td>uptake_methane</td>\n",
       "      <td>1</td>\n",
       "      <td>1</td>\n",
       "      <td>100.00%</td>\n",
       "    </tr>\n",
       "  </tbody>\n",
       "</table><h4>Secretion</h4><table border=\"1\" class=\"dataframe\">\n",
       "  <thead>\n",
       "    <tr style=\"text-align: right;\">\n",
       "      <th>Metabolite</th>\n",
       "      <th>Reaction</th>\n",
       "      <th>Flux</th>\n",
       "      <th>C-Number</th>\n",
       "      <th>C-Flux</th>\n",
       "    </tr>\n",
       "  </thead>\n",
       "  <tbody>\n",
       "    <tr>\n",
       "      <td>m1226</td>\n",
       "      <td>r1133</td>\n",
       "      <td>-0.005723</td>\n",
       "      <td>0</td>\n",
       "      <td>0.00%</td>\n",
       "    </tr>\n",
       "    <tr>\n",
       "      <td>m1244</td>\n",
       "      <td>r1137</td>\n",
       "      <td>-0.686</td>\n",
       "      <td>0</td>\n",
       "      <td>0.00%</td>\n",
       "    </tr>\n",
       "    <tr>\n",
       "      <td>m30</td>\n",
       "      <td>r1150</td>\n",
       "      <td>-2.784</td>\n",
       "      <td>0</td>\n",
       "      <td>0.00%</td>\n",
       "    </tr>\n",
       "  </tbody>\n",
       "</table>"
      ],
      "text/plain": [
       "<cobra.summary.model_summary.ModelSummary at 0x26bc95d12b0>"
      ]
     },
     "execution_count": 173,
     "metadata": {},
     "output_type": "execute_result"
    }
   ],
   "source": [
    "# final biomass production of pheast\n",
    "pheast.summary()"
   ]
  },
  {
   "cell_type": "code",
   "execution_count": 46,
   "id": "575ddc78",
   "metadata": {},
   "outputs": [
    {
     "data": {
      "text/html": [
       "\n",
       "        <table>\n",
       "            <tr>\n",
       "                <td><strong>Metabolite identifier</strong></td><td>hemo_c</td>\n",
       "            </tr><tr>\n",
       "                <td><strong>Name</strong></td><td>hemo_c</td>\n",
       "            </tr><tr>\n",
       "                <td><strong>Memory address</strong></td>\n",
       "                <td>0x026bc44e1320</td>\n",
       "            </tr><tr>\n",
       "                <td><strong>Formula</strong></td><td></td>\n",
       "            </tr><tr>\n",
       "                <td><strong>Compartment</strong></td><td>C_c</td>\n",
       "            </tr><tr>\n",
       "                <td><strong>In 2 reaction(s)</strong></td><td>\n",
       "                    c_Hemo_e, hemo_Biosynthesis</td>\n",
       "            </tr>\n",
       "        </table>"
      ],
      "text/plain": [
       "<Metabolite hemo_c at 0x26bc44e1320>"
      ]
     },
     "execution_count": 46,
     "metadata": {},
     "output_type": "execute_result"
    }
   ],
   "source": [
    "pheast.metabolites.hemo_c"
   ]
  },
  {
   "cell_type": "code",
   "execution_count": 47,
   "id": "a91d0cca",
   "metadata": {},
   "outputs": [
    {
     "data": {
      "text/html": [
       "<h3>hemo_c</h3><p></p><h4>Producing Reactions</h4><table border=\"1\" class=\"dataframe\">\n",
       "  <thead>\n",
       "    <tr style=\"text-align: right;\">\n",
       "      <th>Percent</th>\n",
       "      <th>Flux</th>\n",
       "      <th>Reaction</th>\n",
       "      <th>Definition</th>\n",
       "    </tr>\n",
       "  </thead>\n",
       "  <tbody>\n",
       "    <tr>\n",
       "      <td>100.00%</td>\n",
       "      <td>0.007661</td>\n",
       "      <td>hemo_Biosynthesis</td>\n",
       "      <td>0.997 hemo_AA + 2.8e-05 hemo_DNA + 0.0029 hemo_RNA --&gt; hemo_c</td>\n",
       "    </tr>\n",
       "  </tbody>\n",
       "</table><h4>Consuming Reactions</h4><table border=\"1\" class=\"dataframe\">\n",
       "  <thead>\n",
       "    <tr style=\"text-align: right;\">\n",
       "      <th>Percent</th>\n",
       "      <th>Flux</th>\n",
       "      <th>Reaction</th>\n",
       "      <th>Definition</th>\n",
       "    </tr>\n",
       "  </thead>\n",
       "  <tbody>\n",
       "    <tr>\n",
       "      <td>100.00%</td>\n",
       "      <td>-0.007661</td>\n",
       "      <td>c_Hemo_e</td>\n",
       "      <td>hemo_c &lt;=&gt; hemo_e</td>\n",
       "    </tr>\n",
       "  </tbody>\n",
       "</table>"
      ],
      "text/plain": [
       "<cobra.summary.metabolite_summary.MetaboliteSummary at 0x26bc6031f98>"
      ]
     },
     "execution_count": 47,
     "metadata": {},
     "output_type": "execute_result"
    }
   ],
   "source": [
    "cobra.summary.MetaboliteSummary(metabolite= pheast.metabolites.hemo_c, model=pheast)"
   ]
  },
  {
   "cell_type": "code",
   "execution_count": 48,
   "id": "266d9761",
   "metadata": {},
   "outputs": [
    {
     "data": {
      "text/html": [
       "<h3>hemo_Biosynthesis</h3><p>0.997 hemo_AA + 2.8e-05 hemo_DNA + 0.0029 hemo_RNA --> hemo_c</p><p>Bounds: 0.0, 1000.0</p><p>Flux: 0.007661</p>"
      ],
      "text/plain": [
       "<cobra.summary.reaction_summary.ReactionSummary at 0x26bc5faedd8>"
      ]
     },
     "execution_count": 48,
     "metadata": {},
     "output_type": "execute_result"
    }
   ],
   "source": [
    "cobra.summary.reaction_summary.ReactionSummary(reaction = pheast.reactions.hemo_Biosynthesis, model = pheast)"
   ]
  },
  {
   "cell_type": "markdown",
   "id": "8443087d",
   "metadata": {},
   "source": [
    "## Plotting image plots"
   ]
  },
  {
   "cell_type": "code",
   "execution_count": 49,
   "id": "93405cc1",
   "metadata": {},
   "outputs": [],
   "source": [
    "import numpy as np\n",
    "import matplotlib.pyplot as plt"
   ]
  },
  {
   "cell_type": "code",
   "execution_count": 107,
   "id": "61866020",
   "metadata": {},
   "outputs": [],
   "source": [
    "precision = 50\n",
    "plot = np.zeros([precision, precision])\n",
    "methane_vec = np.linspace(0,5,precision)\n",
    "oxygen_vec = np.linspace(0,5,precision)\n",
    "for count_met, met in enumerate(methane_vec):\n",
    "    for count_ox, oxygen in enumerate(oxygen_vec):\n",
    "        pheast.reactions.uptake_methane.bounds = met, met\n",
    "        pheast.reactions.r1160.bounds = oxygen, oxygen\n",
    "        plot[(precision-1 - count_met), count_ox] = pheast.optimize().objective_value\n",
    "        "
   ]
  },
  {
   "cell_type": "code",
   "execution_count": 54,
   "id": "fa7aafed",
   "metadata": {},
   "outputs": [
    {
     "data": {
      "text/plain": [
       "<matplotlib.colorbar.Colorbar at 0x26bc93226d8>"
      ]
     },
     "execution_count": 54,
     "metadata": {},
     "output_type": "execute_result"
    },
    {
     "data": {
      "image/png": "[encoded data removed]",
      "text/plain": [
       "<Figure size 432x288 with 2 Axes>"
      ]
     },
     "metadata": {
      "needs_background": "light"
     },
     "output_type": "display_data"
    }
   ],
   "source": [
    "imgplot = plt.imshow(plot)\n",
    "plt.colorbar()"
   ]
  },
  {
   "cell_type": "code",
   "execution_count": null,
   "id": "f6a5820d",
   "metadata": {},
   "outputs": [],
   "source": [
    "imgplot = plt.imshow(plot)\n",
    "plt.colorbar()"
   ]
  },
  {
   "cell_type": "code",
   "execution_count": 147,
   "id": "d5d11a0e",
   "metadata": {},
   "outputs": [],
   "source": [
    "precision = 10\n",
    "met_max_uptake = 5\n",
    "ox_max_uptake = 20\n",
    "plot = np.zeros([precision, precision])\n",
    "#conc_vec = np.linspace(0, max_uptake, precision)\n",
    "methane_vec = np.linspace(0,met_max_uptake,precision)\n",
    "oxygen_vec = np.linspace(0,ox_max_uptake,precision)\n",
    "for count_met, met in enumerate(methane_vec):\n",
    "    for count_ox, oxygen in enumerate(oxygen_vec):\n",
    "        pheast.reactions.uptake_methane.bounds = met, met\n",
    "        pheast.reactions.r1160.bounds = oxygen, oxygen\n",
    "        pheast.objective = pheast.problem.Objective(pheast.reactions.r1339.flux_expression)\n",
    "        pheast.reactions.r1339.bounds = pheast.optimize().objective_value, pheast.optimize().objective_value\n",
    "        pheast.objective = pheast.problem.Objective(pheast.reactions.hemo_Biosynthesis.flux_expression)\n",
    "        plot[count_met, count_ox] = pheast.optimize().objective_value"
   ]
  },
  {
   "cell_type": "code",
   "execution_count": 148,
   "id": "53a77465",
   "metadata": {},
   "outputs": [
    {
     "data": {
      "image/png": "[encoded data removed]",
      "text/plain": [
       "<Figure size 432x288 with 2 Axes>"
      ]
     },
     "metadata": {
      "needs_background": "light"
     },
     "output_type": "display_data"
    }
   ],
   "source": [
    "label_met = np.round(np.linspace(0, met_max_uptake, 6),1)\n",
    "label_ox = np.round(np.linspace(0, ox_max_uptake, 6),1)\n",
    "ticks = np.linspace(0, precision, 6)\n",
    "imgplot = plt.imshow(plot)\n",
    "plt.colorbar()\n",
    "plt.title(\"Optimization of protein production on different environment uptake\")\n",
    "plt.xlabel(\"Methane uptake\")\n",
    "plt.ylabel(\"Oxygen uptake\")\n",
    "plt.gca().invert_yaxis()\n",
    "plt.xticks(ticks, label_met)\n",
    "plt.yticks(ticks, label_ox)\n",
    "#plt.xticks(np.arange(precision),methane_vec)\n",
    "plt.grid()"
   ]
  },
  {
   "cell_type": "code",
   "execution_count": 149,
   "id": "a9a22b9f",
   "metadata": {},
   "outputs": [
    {
     "data": {
      "text/plain": [
       "array([[ 0.        ,  0.        ,  0.        ,  0.        ,  0.        ,\n",
       "         0.        ,  0.        ,  0.        ,  0.        ,  0.        ],\n",
       "       [ 0.        ,  0.        ,  0.        ,  0.        ,  0.        ,\n",
       "         0.        ,  0.        ,  0.        ,  0.        ,  0.        ],\n",
       "       [ 0.        ,  0.00851179,  0.        ,  0.        ,  0.        ,\n",
       "         0.        ,  0.        ,  0.        ,  0.        ,  0.        ],\n",
       "       [ 0.        ,  0.01120015,  0.00266613, -0.0372538 , -0.07891396,\n",
       "        -0.12057412, -0.16223428, -0.20389445, -0.24555461, -0.28721477],\n",
       "       [ 0.        ,  0.00407415,  0.01702363,  0.        ,  0.        ,\n",
       "         0.        ,  0.        ,  0.        ,  0.        ,  0.        ],\n",
       "       [ 0.        ,  0.        ,  0.02119629,  0.01284274, -0.0204295 ,\n",
       "        -0.06208966, -0.10374983, -0.14540999, -0.18707015, -0.22873031],\n",
       "       [ 0.        ,  0.        ,  0.0224003 ,  0.02553537,  0.00533095,\n",
       "        -0.03284744, -0.0745076 , -0.11616776, -0.15782792, -0.19948808],\n",
       "       [ 0.        ,  0.        ,  0.01527802,  0.02979126,  0.02302001,\n",
       "        -0.00280044,  0.        ,  0.        ,  0.        ,  0.        ],\n",
       "       [ 0.        ,  0.        ,  0.0081483 ,  0.03260928,  0.03404716,\n",
       "         0.01550822, -0.01602313, -0.0576833 , -0.09934346, -0.14100362],\n",
       "       [ 0.        ,  0.        ,  0.        ,  0.03360045,  0.03830316,\n",
       "         0.0331971 ,  0.00799642, -0.02844107, -0.07010123, -0.1117614 ]])"
      ]
     },
     "execution_count": 149,
     "metadata": {},
     "output_type": "execute_result"
    }
   ],
   "source": [
    "plot"
   ]
  },
  {
   "cell_type": "code",
   "execution_count": 141,
   "id": "3f9a4550",
   "metadata": {},
   "outputs": [
    {
     "data": {
      "text/plain": [
       "array([0. , 0.6, 1.2, 1.8, 2.4, 3. ])"
      ]
     },
     "execution_count": 141,
     "metadata": {},
     "output_type": "execute_result"
    }
   ],
   "source": [
    "np.linspace(0, max_uptake, 6)"
   ]
  },
  {
   "cell_type": "code",
   "execution_count": 135,
   "id": "169162d7",
   "metadata": {},
   "outputs": [
    {
     "data": {
      "text/plain": [
       "array([ 0.,  2.,  4.,  6.,  8., 10.])"
      ]
     },
     "execution_count": 135,
     "metadata": {},
     "output_type": "execute_result"
    }
   ],
   "source": [
    "ticks"
   ]
  },
  {
   "cell_type": "code",
   "execution_count": 127,
   "id": "3db05732",
   "metadata": {},
   "outputs": [
    {
     "data": {
      "text/plain": [
       "array([0.        , 0.55555556, 1.11111111, 1.66666667, 2.22222222,\n",
       "       2.77777778, 3.33333333, 3.88888889, 4.44444444, 5.        ])"
      ]
     },
     "execution_count": 127,
     "metadata": {},
     "output_type": "execute_result"
    }
   ],
   "source": [
    "conc_vec"
   ]
  },
  {
   "cell_type": "code",
   "execution_count": null,
   "id": "8e2d9bf4",
   "metadata": {},
   "outputs": [],
   "source": [
    "idx = np.round(np.linspace(0, len(arr) - 1, numElems)).astype(int)\n",
    "idx = np.linspace(0, len(arr) - 1, numElems, dtype='int')"
   ]
  },
  {
   "cell_type": "code",
   "execution_count": 131,
   "id": "fe4de36a",
   "metadata": {},
   "outputs": [
    {
     "data": {
      "text/plain": [
       "array([0, 1, 2, 3, 4, 5])"
      ]
     },
     "execution_count": 131,
     "metadata": {},
     "output_type": "execute_result"
    }
   ],
   "source": [
    "np.round(np.linspace(0, max_uptake, 6)).astype(int)"
   ]
  },
  {
   "cell_type": "code",
   "execution_count": null,
   "id": "d7e8ef47",
   "metadata": {},
   "outputs": [],
   "source": []
  }
 ],
 "metadata": {
  "kernelspec": {
   "display_name": "Python 3",
   "language": "python",
   "name": "python3"
  },
  "language_info": {
   "codemirror_mode": {
    "name": "ipython",
    "version": 3
   },
   "file_extension": ".py",
   "mimetype": "text/x-python",
   "name": "python",
   "nbconvert_exporter": "python",
   "pygments_lexer": "ipython3",
   "version": "3.7.0"
  }
 },
 "nbformat": 4,
 "nbformat_minor": 5
}
